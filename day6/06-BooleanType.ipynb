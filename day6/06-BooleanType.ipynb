{
 "cells": [
  {
   "cell_type": "markdown",
   "id": "1efaf750-60b6-4ef6-9d82-8c5de42f0170",
   "metadata": {},
   "source": [
    "**Python Boolean Type**\n",
    "-->Has two possible valued: True or False.\n",
    "-->Used mainly in conditional statement.\n"
   ]
  },
  {
   "cell_type": "code",
   "execution_count": 1,
   "id": "bcfbb8d7-f343-4101-b67a-c6c5d633cfde",
   "metadata": {},
   "outputs": [],
   "source": [
    "a=5\n",
    "b=6\n",
    "c = a > b"
   ]
  },
  {
   "cell_type": "code",
   "execution_count": 2,
   "id": "7ee56453-a90f-4062-ac4b-6c52a9bddadb",
   "metadata": {},
   "outputs": [
    {
     "data": {
      "text/plain": [
       "False"
      ]
     },
     "execution_count": 2,
     "metadata": {},
     "output_type": "execute_result"
    }
   ],
   "source": [
    "c\n"
   ]
  },
  {
   "cell_type": "code",
   "execution_count": 3,
   "id": "d1d7e8b5-b5ed-4782-9554-52ec8e644e85",
   "metadata": {},
   "outputs": [
    {
     "data": {
      "text/plain": [
       "bool"
      ]
     },
     "execution_count": 3,
     "metadata": {},
     "output_type": "execute_result"
    }
   ],
   "source": [
    "type(c)"
   ]
  },
  {
   "cell_type": "code",
   "execution_count": 4,
   "id": "aa2e83bc-70af-4318-9e12-0c8c84d8b933",
   "metadata": {},
   "outputs": [],
   "source": [
    "#Assigning boolean value\n",
    "d = True"
   ]
  },
  {
   "cell_type": "code",
   "execution_count": 5,
   "id": "18b7a5a0-9fba-41cb-a5e4-4425e702c457",
   "metadata": {},
   "outputs": [
    {
     "data": {
      "text/plain": [
       "True"
      ]
     },
     "execution_count": 5,
     "metadata": {},
     "output_type": "execute_result"
    }
   ],
   "source": [
    "d"
   ]
  },
  {
   "cell_type": "markdown",
   "id": "6184ae75-bb1d-4880-8a0f-813254d4ebeb",
   "metadata": {},
   "source": [
    "**Logical Operators in Boolean values**\n",
    "-and\n",
    "-or\n",
    "-not"
   ]
  },
  {
   "cell_type": "code",
   "execution_count": 6,
   "id": "a35c34c9-656a-43c6-9c24-ae3cb14344d8",
   "metadata": {},
   "outputs": [],
   "source": [
    "e = False\n"
   ]
  },
  {
   "cell_type": "code",
   "execution_count": 7,
   "id": "20752f1d-93ac-4de7-920d-9d8e83ed3228",
   "metadata": {},
   "outputs": [
    {
     "data": {
      "text/plain": [
       "False"
      ]
     },
     "execution_count": 7,
     "metadata": {},
     "output_type": "execute_result"
    }
   ],
   "source": [
    "d and e"
   ]
  },
  {
   "cell_type": "code",
   "execution_count": 8,
   "id": "fba752df-0edd-4949-b669-d725f5994ec0",
   "metadata": {},
   "outputs": [
    {
     "data": {
      "text/plain": [
       "True"
      ]
     },
     "execution_count": 8,
     "metadata": {},
     "output_type": "execute_result"
    }
   ],
   "source": [
    "d or e"
   ]
  },
  {
   "cell_type": "code",
   "execution_count": 9,
   "id": "6dcd9e76-280d-4b11-bb37-9a2ff59ec0df",
   "metadata": {},
   "outputs": [
    {
     "data": {
      "text/plain": [
       "False"
      ]
     },
     "execution_count": 9,
     "metadata": {},
     "output_type": "execute_result"
    }
   ],
   "source": [
    "not d"
   ]
  },
  {
   "cell_type": "code",
   "execution_count": 10,
   "id": "cab2c170-6f4d-4414-b347-e93118d93438",
   "metadata": {},
   "outputs": [
    {
     "data": {
      "text/plain": [
       "True"
      ]
     },
     "execution_count": 10,
     "metadata": {},
     "output_type": "execute_result"
    }
   ],
   "source": [
    "not e"
   ]
  },
  {
   "cell_type": "markdown",
   "id": "6a031430-101f-4584-b68d-cd3fed0a2639",
   "metadata": {},
   "source": [
    "Zero number, empty string, list ,tuples, dict, none are considered  False otherwise if non empty gives True.\n",
    "Thus, boolean can be used to find out if certain variable is empty or not."
   ]
  },
  {
   "cell_type": "code",
   "execution_count": 11,
   "id": "04ab2703-8fc8-4cbd-b19d-0668b749d679",
   "metadata": {},
   "outputs": [],
   "source": [
    "name = \" \" "
   ]
  },
  {
   "cell_type": "code",
   "execution_count": 13,
   "id": "4b76ff39-f5e7-43f4-9c0a-a1536641fb36",
   "metadata": {},
   "outputs": [
    {
     "name": "stdout",
     "output_type": "stream",
     "text": [
      "True\n"
     ]
    }
   ],
   "source": [
    "#true cuz space is a character and thus is a string.\n",
    "\n",
    "print(bool(name))"
   ]
  },
  {
   "cell_type": "code",
   "execution_count": 14,
   "id": "f3bf68e7-1b30-45f3-a8f6-b106ccf99ebc",
   "metadata": {},
   "outputs": [
    {
     "data": {
      "text/plain": [
       "str"
      ]
     },
     "execution_count": 14,
     "metadata": {},
     "output_type": "execute_result"
    }
   ],
   "source": [
    "type (name)"
   ]
  },
  {
   "cell_type": "code",
   "execution_count": 18,
   "id": "cac911cf-0ae1-483e-834d-ddf72f03ae7b",
   "metadata": {},
   "outputs": [],
   "source": [
    "lst=[ 1, 3, \"apple\" ]"
   ]
  },
  {
   "cell_type": "code",
   "execution_count": 19,
   "id": "991e37bc-dad8-4be2-848c-18a8b18cdc38",
   "metadata": {},
   "outputs": [
    {
     "name": "stdout",
     "output_type": "stream",
     "text": [
      "True\n"
     ]
    }
   ],
   "source": [
    "print(bool(lst))"
   ]
  },
  {
   "cell_type": "code",
   "execution_count": 20,
   "id": "ea903a0e-b8d0-4968-97f6-862e2c2d978d",
   "metadata": {},
   "outputs": [],
   "source": [
    "lst1 = [ ]"
   ]
  },
  {
   "cell_type": "code",
   "execution_count": 21,
   "id": "8abc0dfa-8f27-4c5a-9631-f27f8644cb86",
   "metadata": {},
   "outputs": [
    {
     "name": "stdout",
     "output_type": "stream",
     "text": [
      "False\n"
     ]
    }
   ],
   "source": [
    "print(bool(lst1))"
   ]
  },
  {
   "cell_type": "code",
   "execution_count": 25,
   "id": "3bb5a4ee-9569-4777-b877-e8c221ab6289",
   "metadata": {},
   "outputs": [],
   "source": [
    "s = None"
   ]
  },
  {
   "cell_type": "code",
   "execution_count": 26,
   "id": "e516acd0-134a-400e-8795-3a7d93deda32",
   "metadata": {},
   "outputs": [],
   "source": [
    "t = \"ram\".startswith(\"a\")"
   ]
  },
  {
   "cell_type": "code",
   "execution_count": 27,
   "id": "571d7f13-dda1-404d-b15c-263f31699e43",
   "metadata": {},
   "outputs": [
    {
     "name": "stdout",
     "output_type": "stream",
     "text": [
      "False\n"
     ]
    }
   ],
   "source": [
    "print(t)"
   ]
  },
  {
   "cell_type": "code",
   "execution_count": 30,
   "id": "6d102de9-c820-4c8b-899f-b645643e648e",
   "metadata": {},
   "outputs": [
    {
     "name": "stdout",
     "output_type": "stream",
     "text": [
      "False\n"
     ]
    }
   ],
   "source": [
    "#None means empty, thus, gives false.\n",
    "print(bool(s))"
   ]
  },
  {
   "cell_type": "code",
   "execution_count": null,
   "id": "218dafd7-3494-4826-9caf-51933ff75ef8",
   "metadata": {},
   "outputs": [],
   "source": []
  }
 ],
 "metadata": {
  "kernelspec": {
   "display_name": "Python 3 (ipykernel)",
   "language": "python",
   "name": "python3"
  },
  "language_info": {
   "codemirror_mode": {
    "name": "ipython",
    "version": 3
   },
   "file_extension": ".py",
   "mimetype": "text/x-python",
   "name": "python",
   "nbconvert_exporter": "python",
   "pygments_lexer": "ipython3",
   "version": "3.13.1"
  }
 },
 "nbformat": 4,
 "nbformat_minor": 5
}
