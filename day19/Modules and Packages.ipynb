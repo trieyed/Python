{
 "cells": [
  {
   "cell_type": "markdown",
   "id": "53de6308-05f3-4f87-bd89-ed64ee24f365",
   "metadata": {},
   "source": [
    "**Modules And Packages**\n",
    "-\n",
    "A module is a file containing Python definitions and statements which can be used in other Python scripts.  \n",
    "Package is a way of organizing modules."
   ]
  },
  {
   "cell_type": "markdown",
   "id": "e2e41a4f-5e19-4dba-9a7e-d82970bc62c8",
   "metadata": {},
   "source": [
    "**Date And Time Module**\n",
    "--\n",
    ">1.datetime  \n",
    ">2.time\n"
   ]
  },
  {
   "cell_type": "code",
   "execution_count": null,
   "id": "d578e0a2-3424-4511-aec3-06f6e0b1d367",
   "metadata": {},
   "outputs": [],
   "source": []
  },
  {
   "cell_type": "code",
   "execution_count": 1,
   "id": "5c9f85df-a8bb-4e34-9143-4f94b74b8c40",
   "metadata": {},
   "outputs": [],
   "source": [
    "import datetime"
   ]
  },
  {
   "cell_type": "code",
   "execution_count": 5,
   "id": "7df1651e-7a57-416b-ab92-07b3296e2048",
   "metadata": {},
   "outputs": [],
   "source": [
    "date1 = datetime.date(2025,1,29)   #date is defined"
   ]
  },
  {
   "cell_type": "code",
   "execution_count": 10,
   "id": "69642871-6227-49c2-9533-e6259c67f9da",
   "metadata": {},
   "outputs": [
    {
     "data": {
      "text/plain": [
       "datetime.date(2025, 1, 29)"
      ]
     },
     "execution_count": 10,
     "metadata": {},
     "output_type": "execute_result"
    }
   ],
   "source": [
    "date1 #returns datetime.date(2025, 1, 29) cuz of __repr__"
   ]
  },
  {
   "cell_type": "code",
   "execution_count": 11,
   "id": "e7d7a3d9-e139-4aef-b463-db306ff2d2ad",
   "metadata": {},
   "outputs": [
    {
     "name": "stdout",
     "output_type": "stream",
     "text": [
      "2025-01-29\n"
     ]
    }
   ],
   "source": [
    "print(date1)"
   ]
  },
  {
   "cell_type": "code",
   "execution_count": 13,
   "id": "27f07f03-ff3c-4a38-80e3-7ac72fdc50fd",
   "metadata": {},
   "outputs": [],
   "source": [
    "date2 = datetime.date(2025,2,25)"
   ]
  },
  {
   "cell_type": "code",
   "execution_count": 14,
   "id": "860bbac8-a647-490a-898d-4d2f86626506",
   "metadata": {},
   "outputs": [
    {
     "data": {
      "text/plain": [
       "['MAXYEAR',\n",
       " 'MINYEAR',\n",
       " 'UTC',\n",
       " '__all__',\n",
       " '__builtins__',\n",
       " '__cached__',\n",
       " '__doc__',\n",
       " '__file__',\n",
       " '__loader__',\n",
       " '__name__',\n",
       " '__package__',\n",
       " '__spec__',\n",
       " 'date',\n",
       " 'datetime',\n",
       " 'datetime_CAPI',\n",
       " 'time',\n",
       " 'timedelta',\n",
       " 'timezone',\n",
       " 'tzinfo']"
      ]
     },
     "execution_count": 14,
     "metadata": {},
     "output_type": "execute_result"
    }
   ],
   "source": [
    "dir(datetime)"
   ]
  },
  {
   "cell_type": "code",
   "execution_count": 17,
   "id": "8cdf4cba-26f0-46dc-a7dc-b05be04283ba",
   "metadata": {},
   "outputs": [
    {
     "data": {
      "text/plain": [
       "datetime.date(2025, 1, 29)"
      ]
     },
     "execution_count": 17,
     "metadata": {},
     "output_type": "execute_result"
    }
   ],
   "source": [
    "date1.today()"
   ]
  },
  {
   "cell_type": "code",
   "execution_count": 18,
   "id": "460dc97f-7b00-4a4b-b284-a79ff56569e4",
   "metadata": {},
   "outputs": [
    {
     "data": {
      "text/plain": [
       "datetime.date(2025, 1, 29)"
      ]
     },
     "execution_count": 18,
     "metadata": {},
     "output_type": "execute_result"
    }
   ],
   "source": [
    "date2.today()"
   ]
  },
  {
   "cell_type": "code",
   "execution_count": 19,
   "id": "c04bd0b8-f943-40b3-a007-09744dcf6f4a",
   "metadata": {},
   "outputs": [
    {
     "data": {
      "text/plain": [
       "datetime.date(2025, 1, 29)"
      ]
     },
     "execution_count": 19,
     "metadata": {},
     "output_type": "execute_result"
    }
   ],
   "source": [
    "datetime.date.today()"
   ]
  },
  {
   "cell_type": "code",
   "execution_count": 26,
   "id": "d1943548-727a-48fb-a78d-f3f84da4c16c",
   "metadata": {},
   "outputs": [
    {
     "data": {
      "text/plain": [
       "True"
      ]
     },
     "execution_count": 26,
     "metadata": {},
     "output_type": "execute_result"
    }
   ],
   "source": [
    "date1==date2"
   ]
  },
  {
   "cell_type": "code",
   "execution_count": 33,
   "id": "80e61ad5-8512-48e5-ad88-b671db5140e8",
   "metadata": {},
   "outputs": [
    {
     "data": {
      "text/plain": [
       "'2025'"
      ]
     },
     "execution_count": 33,
     "metadata": {},
     "output_type": "execute_result"
    }
   ],
   "source": [
    "date1.strftime(\"%Y\")  #\"%Y  returns the year part of the date\""
   ]
  },
  {
   "cell_type": "code",
   "execution_count": 34,
   "id": "1f875e26-8d1c-4da4-9193-03972bc23db1",
   "metadata": {},
   "outputs": [
    {
     "data": {
      "text/plain": [
       "1"
      ]
     },
     "execution_count": 34,
     "metadata": {},
     "output_type": "execute_result"
    }
   ],
   "source": [
    "date1.weekday()"
   ]
  },
  {
   "cell_type": "code",
   "execution_count": 111,
   "id": "775f022d-b510-408c-8b39-02b1cb45db0e",
   "metadata": {},
   "outputs": [],
   "source": [
    "date = datetime.date.today()"
   ]
  },
  {
   "cell_type": "code",
   "execution_count": 112,
   "id": "bc69fc05-7728-4f29-9fc1-55d8356bbef7",
   "metadata": {},
   "outputs": [
    {
     "data": {
      "text/plain": [
       "2"
      ]
     },
     "execution_count": 112,
     "metadata": {},
     "output_type": "execute_result"
    }
   ],
   "source": [
    "date.weekday()"
   ]
  },
  {
   "cell_type": "code",
   "execution_count": 113,
   "id": "ed92889e-45cd-4b0b-8b27-0126b5fc56f8",
   "metadata": {},
   "outputs": [
    {
     "data": {
      "text/plain": [
       "datetime.timedelta(0)"
      ]
     },
     "execution_count": 113,
     "metadata": {},
     "output_type": "execute_result"
    }
   ],
   "source": [
    "date1-date2"
   ]
  },
  {
   "cell_type": "code",
   "execution_count": 114,
   "id": "123f06a6-428c-41e4-9fd2-57604c3cad24",
   "metadata": {},
   "outputs": [],
   "source": [
    "time = datetime.time(8,44,57)"
   ]
  },
  {
   "cell_type": "code",
   "execution_count": 115,
   "id": "6a5b3784-daaa-4687-82fe-89b74fb54630",
   "metadata": {},
   "outputs": [
    {
     "name": "stdout",
     "output_type": "stream",
     "text": [
      "08:44:57\n"
     ]
    }
   ],
   "source": [
    "print(time)"
   ]
  },
  {
   "cell_type": "code",
   "execution_count": 116,
   "id": "0f8ea562-dc84-4b47-becb-db02c0b91623",
   "metadata": {},
   "outputs": [
    {
     "data": {
      "text/plain": [
       "datetime.time"
      ]
     },
     "execution_count": 116,
     "metadata": {},
     "output_type": "execute_result"
    }
   ],
   "source": [
    "datetime.time"
   ]
  },
  {
   "cell_type": "code",
   "execution_count": 117,
   "id": "20210ce7-5d06-4923-80d1-55bb13555250",
   "metadata": {},
   "outputs": [
    {
     "name": "stdout",
     "output_type": "stream",
     "text": [
      "<class 'datetime.time'>\n"
     ]
    }
   ],
   "source": [
    "print(datetime.time)"
   ]
  },
  {
   "cell_type": "code",
   "execution_count": 118,
   "id": "05929c36-69d0-46db-b286-8a24a1e3a3d3",
   "metadata": {},
   "outputs": [],
   "source": [
    "time.tzinfo"
   ]
  },
  {
   "cell_type": "code",
   "execution_count": 119,
   "id": "58f63590-abc3-4712-9901-754a773dc195",
   "metadata": {},
   "outputs": [
    {
     "name": "stdout",
     "output_type": "stream",
     "text": [
      "None\n"
     ]
    }
   ],
   "source": [
    "print(time.tzinfo)"
   ]
  },
  {
   "cell_type": "code",
   "execution_count": 120,
   "id": "c2c53de7-4ccd-4d43-8f90-af20dcf50ab7",
   "metadata": {},
   "outputs": [
    {
     "data": {
      "text/plain": [
       "'1900 Jan 01'"
      ]
     },
     "execution_count": 120,
     "metadata": {},
     "output_type": "execute_result"
    }
   ],
   "source": [
    "time.strftime(\"%Y %h %d\")"
   ]
  },
  {
   "cell_type": "code",
   "execution_count": 121,
   "id": "6dd75773-66e6-4a4d-99af-561b512762b2",
   "metadata": {},
   "outputs": [],
   "source": [
    "time_period1 = datetime.timedelta(hours = 6)"
   ]
  },
  {
   "cell_type": "code",
   "execution_count": 122,
   "id": "6a2afb12-a183-4b35-82c5-05a0accb5597",
   "metadata": {},
   "outputs": [],
   "source": [
    "time_period = datetime.timedelta(hours = 6) #timedelta defines how much time we want to use on operation"
   ]
  },
  {
   "cell_type": "code",
   "execution_count": 123,
   "id": "c7723466-e3cb-4d2c-8dbc-b8cfe24acd21",
   "metadata": {},
   "outputs": [
    {
     "data": {
      "text/plain": [
       "datetime.date(2025, 2, 25)"
      ]
     },
     "execution_count": 123,
     "metadata": {},
     "output_type": "execute_result"
    }
   ],
   "source": [
    "date1 + time_period"
   ]
  },
  {
   "cell_type": "code",
   "execution_count": null,
   "id": "3fa81d8b-7c86-431d-adfe-aac78d3908a8",
   "metadata": {},
   "outputs": [],
   "source": []
  },
  {
   "cell_type": "code",
   "execution_count": 124,
   "id": "8acfbc9e-888e-40d0-b4b7-5cfc420fd641",
   "metadata": {},
   "outputs": [
    {
     "data": {
      "text/plain": [
       "datetime.date(2003, 9, 25)"
      ]
     },
     "execution_count": 124,
     "metadata": {},
     "output_type": "execute_result"
    }
   ],
   "source": [
    "datetime.date(2003,9,25)"
   ]
  },
  {
   "cell_type": "code",
   "execution_count": null,
   "id": "a12b0ecb-8a89-4463-b3ab-3632b0ed4154",
   "metadata": {},
   "outputs": [],
   "source": []
  },
  {
   "cell_type": "code",
   "execution_count": 125,
   "id": "d2533231-e706-4193-b33d-8f368fa2affc",
   "metadata": {},
   "outputs": [],
   "source": [
    "dae = datetime.datetime(2003,9,25,3,4,5)\n",
    "dae += time_period"
   ]
  },
  {
   "cell_type": "code",
   "execution_count": 126,
   "id": "e759470a-71e4-4bf3-9acc-39298cc114f6",
   "metadata": {},
   "outputs": [
    {
     "name": "stdout",
     "output_type": "stream",
     "text": [
      "2003-09-25 09:04:05\n"
     ]
    }
   ],
   "source": [
    "print(dae)"
   ]
  },
  {
   "cell_type": "code",
   "execution_count": 158,
   "id": "f759dfce-8e87-432a-87f7-9a102eaed3f7",
   "metadata": {},
   "outputs": [
    {
     "name": "stdout",
     "output_type": "stream",
     "text": [
      "2003-09-25 15:04:05\n"
     ]
    }
   ],
   "source": [
    "nst = datetime.timezone(datetime.timedelta(hours = 5, minutes = 45))\n",
    "actual_time = dae + time_period\n",
    "print(actual_time)"
   ]
  },
  {
   "cell_type": "code",
   "execution_count": 160,
   "id": "822d61b2-5856-409c-9087-b1bde3cbb553",
   "metadata": {},
   "outputs": [
    {
     "name": "stdout",
     "output_type": "stream",
     "text": [
      "2025-01-29 09:13:27.793644\n"
     ]
    }
   ],
   "source": [
    "print(datetime.datetime.today())"
   ]
  },
  {
   "cell_type": "code",
   "execution_count": 165,
   "id": "232f7d2e-1467-4099-8933-a180035c86c4",
   "metadata": {},
   "outputs": [
    {
     "name": "stdout",
     "output_type": "stream",
     "text": [
      "2025-01-29 09:16:53.630622\n"
     ]
    }
   ],
   "source": [
    "print(datetime.datetime.now())"
   ]
  },
  {
   "cell_type": "code",
   "execution_count": null,
   "id": "368534a3-1290-4ea9-b3db-1a3bcb9632de",
   "metadata": {},
   "outputs": [],
   "source": []
  }
 ],
 "metadata": {
  "kernelspec": {
   "display_name": "Python 3 (ipykernel)",
   "language": "python",
   "name": "python3"
  },
  "language_info": {
   "codemirror_mode": {
    "name": "ipython",
    "version": 3
   },
   "file_extension": ".py",
   "mimetype": "text/x-python",
   "name": "python",
   "nbconvert_exporter": "python",
   "pygments_lexer": "ipython3",
   "version": "3.13.1"
  }
 },
 "nbformat": 4,
 "nbformat_minor": 5
}
