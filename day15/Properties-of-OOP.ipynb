{
 "cells": [
  {
   "cell_type": "markdown",
   "id": "8611702c-8f81-4574-964b-58ae0c978c03",
   "metadata": {},
   "source": [
    "**Method Overloading**\n",
    "-\n",
    "\n",
    "Concept in OOP where a class can have multiple metods with the same name but with different parameters or argument types."
   ]
  },
  {
   "cell_type": "code",
   "execution_count": 14,
   "id": "a62fcd37-dadc-4e8d-8710-420d25531f7c",
   "metadata": {},
   "outputs": [],
   "source": [
    "class Example :\n",
    "    def add(self, a, b=0, c=0):  #can send only one or two or three arguments as needed.\n",
    "        return a+b+c"
   ]
  },
  {
   "cell_type": "code",
   "execution_count": 15,
   "id": "c1635cc4-2e64-493b-90bf-0bdae56f66b7",
   "metadata": {},
   "outputs": [
    {
     "data": {
      "text/plain": [
       "1"
      ]
     },
     "execution_count": 15,
     "metadata": {},
     "output_type": "execute_result"
    }
   ],
   "source": [
    "ex = Example()\n",
    "ex.add(1)"
   ]
  },
  {
   "cell_type": "code",
   "execution_count": 16,
   "id": "e9c76c57-70cd-4bcf-bae1-8944f12abf28",
   "metadata": {},
   "outputs": [],
   "source": [
    "class Example:\n",
    "    def add(self,*args):\n",
    "        if len(args) ==1:\n",
    "            return args[0]\n",
    "        elif len(args)==2:\n",
    "            return args[0]+args[1]\n",
    "        else:\n",
    "            return \"Length Mismatch\""
   ]
  },
  {
   "cell_type": "code",
   "execution_count": 17,
   "id": "5fba8ecb-49f0-489e-9895-4188b563e6a7",
   "metadata": {},
   "outputs": [
    {
     "data": {
      "text/plain": [
       "'Length Mismatch'"
      ]
     },
     "execution_count": 17,
     "metadata": {},
     "output_type": "execute_result"
    }
   ],
   "source": [
    "ex = Example()\n",
    "ex.add(1,2,3,4,5)"
   ]
  },
  {
   "cell_type": "code",
   "execution_count": null,
   "id": "818c2127-a793-4f28-8582-57b330ea6d4a",
   "metadata": {},
   "outputs": [],
   "source": []
  },
  {
   "cell_type": "code",
   "execution_count": null,
   "id": "56b40f6d-b414-4ab2-99bd-576b21ce6f56",
   "metadata": {},
   "outputs": [],
   "source": []
  },
  {
   "cell_type": "markdown",
   "id": "9f7a9c28-df67-4c7f-8423-5cf43ff4ede3",
   "metadata": {},
   "source": [
    "Write a Python program that simulates a **number guessing game**:\n",
    "1. The program should generate a random number between 1 and 100 and give the user 7 attempts to guess it.\n",
    "2. After each wrong guess, the program should provide a hint whether the guess was too high or too low.\n",
    "3. If the user fails to guess the number within the attempts, the program should reveal the number and ask if they would like to play again.\n",
    " "
   ]
  },
  {
   "cell_type": "code",
   "execution_count": null,
   "id": "2a0384f5-d202-44f9-bab8-f31128a33308",
   "metadata": {},
   "outputs": [],
   "source": []
  },
  {
   "cell_type": "code",
   "execution_count": 36,
   "id": "312bf41f-523f-43bc-82fc-c28e45dab5db",
   "metadata": {},
   "outputs": [
    {
     "name": "stdin",
     "output_type": "stream",
     "text": [
      "Enter your number: 50\n"
     ]
    },
    {
     "name": "stdout",
     "output_type": "stream",
     "text": [
      "Wrong number. Try a lower number.\n"
     ]
    },
    {
     "name": "stdin",
     "output_type": "stream",
     "text": [
      "Enter your number: 25\n"
     ]
    },
    {
     "name": "stdout",
     "output_type": "stream",
     "text": [
      "Wrong number. Try a higher number.\n"
     ]
    },
    {
     "name": "stdin",
     "output_type": "stream",
     "text": [
      "Enter your number: 37\n"
     ]
    },
    {
     "name": "stdout",
     "output_type": "stream",
     "text": [
      "Wrong number. Try a higher number.\n"
     ]
    },
    {
     "name": "stdin",
     "output_type": "stream",
     "text": [
      "Enter your number: 43\n"
     ]
    },
    {
     "name": "stdout",
     "output_type": "stream",
     "text": [
      "Wrong number. Try a higher number.\n"
     ]
    },
    {
     "name": "stdin",
     "output_type": "stream",
     "text": [
      "Enter your number: 44\n"
     ]
    },
    {
     "name": "stdout",
     "output_type": "stream",
     "text": [
      "Wrong number. Try a higher number.\n"
     ]
    },
    {
     "name": "stdin",
     "output_type": "stream",
     "text": [
      "Enter your number: 47\n"
     ]
    },
    {
     "name": "stdout",
     "output_type": "stream",
     "text": [
      "Congrats you guessed it.The correct number was indeed 47.You guessed it in 6 attempts.\n"
     ]
    },
    {
     "name": "stdin",
     "output_type": "stream",
     "text": [
      "Would you like to play again ? Yes or no ? yes\n",
      "Enter your number: 55\n"
     ]
    },
    {
     "name": "stdout",
     "output_type": "stream",
     "text": [
      "Wrong number. Try a lower number.\n"
     ]
    },
    {
     "name": "stdin",
     "output_type": "stream",
     "text": [
      "Enter your number: 22\n"
     ]
    },
    {
     "name": "stdout",
     "output_type": "stream",
     "text": [
      "Wrong number. Try a lower number.\n"
     ]
    },
    {
     "name": "stdin",
     "output_type": "stream",
     "text": [
      "Enter your number: 44\n"
     ]
    },
    {
     "name": "stdout",
     "output_type": "stream",
     "text": [
      "Wrong number. Try a lower number.\n"
     ]
    },
    {
     "name": "stdin",
     "output_type": "stream",
     "text": [
      "Enter your number: 11\n"
     ]
    },
    {
     "name": "stdout",
     "output_type": "stream",
     "text": [
      "Wrong number. Try a higher number.\n"
     ]
    },
    {
     "name": "stdin",
     "output_type": "stream",
     "text": [
      "Enter your number: 18\n"
     ]
    },
    {
     "name": "stdout",
     "output_type": "stream",
     "text": [
      "Wrong number. Try a lower number.\n"
     ]
    },
    {
     "name": "stdin",
     "output_type": "stream",
     "text": [
      "Enter your number: 19\n"
     ]
    },
    {
     "name": "stdout",
     "output_type": "stream",
     "text": [
      "Wrong number. Try a lower number.\n"
     ]
    },
    {
     "name": "stdin",
     "output_type": "stream",
     "text": [
      "Enter your number: 17\n"
     ]
    },
    {
     "name": "stdout",
     "output_type": "stream",
     "text": [
      "Congrats you guessed it.The correct number was indeed 17.You guessed it in 7 attempts.\n"
     ]
    },
    {
     "name": "stdin",
     "output_type": "stream",
     "text": [
      "Would you like to play again ? Yes or no ? mm\n"
     ]
    }
   ],
   "source": [
    "while True:\n",
    "    from random import randint\n",
    "    secret_num= randint(1,100)\n",
    "    \n",
    "    \n",
    "    def game():\n",
    "                for i in range(0,7):\n",
    "                    guess= int(input(\"Enter your number:\"))\n",
    "                    if (guess==secret_num):\n",
    "                        print(f\"Congrats you guessed it.The correct number was indeed {secret_num}.You guessed it in {i+1} attempts.\")\n",
    "                        break\n",
    "                    elif(guess<secret_num):\n",
    "                        print(\"Wrong number. Try a higher number.\")\n",
    "                    else:\n",
    "                        print(\"Wrong number. Try a lower number.\")\n",
    "                else:\n",
    "                    print(f\"You used all your attempts.The correct number was {secret_num}.\")\n",
    "                    \n",
    "    game()\n",
    "    \n",
    "    again = str(input(\"Would you like to play again ? Yes or no ?\"))\n",
    "    if (again.strip().lower() != \"yes\" ):\n",
    "        break  \n"
   ]
  },
  {
   "cell_type": "code",
   "execution_count": null,
   "id": "7f4e7668-f3a4-4838-bbb9-5b430284512b",
   "metadata": {},
   "outputs": [],
   "source": []
  },
  {
   "cell_type": "code",
   "execution_count": null,
   "id": "da63fd29-abc6-4280-b7bb-23efef439507",
   "metadata": {},
   "outputs": [],
   "source": []
  }
 ],
 "metadata": {
  "kernelspec": {
   "display_name": "Python 3 (ipykernel)",
   "language": "python",
   "name": "python3"
  },
  "language_info": {
   "codemirror_mode": {
    "name": "ipython",
    "version": 3
   },
   "file_extension": ".py",
   "mimetype": "text/x-python",
   "name": "python",
   "nbconvert_exporter": "python",
   "pygments_lexer": "ipython3",
   "version": "3.13.1"
  }
 },
 "nbformat": 4,
 "nbformat_minor": 5
}
