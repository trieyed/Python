{
 "cells": [
  {
   "cell_type": "markdown",
   "metadata": {},
   "source": [
    "### Question : Check for Palindrome\n",
    "Write a Python program using a lambda function to check if a given string is a palindrome.\n",
    "\n",
    "Example:\n",
    "\n",
    "Input: `\"level\"`\n",
    "\n",
    "Output: `True`"
   ]
  },
  {
   "cell_type": "code",
   "execution_count": 44,
   "metadata": {},
   "outputs": [
    {
     "name": "stdout",
     "output_type": "stream",
     "text": [
      "True\n"
     ]
    }
   ],
   "source": [
    "# Your Solution Here\n",
    "word = str(input(\"Enter a word which you wish to check:\"))\n",
    "pal = lambda word: word == word[::-1]\n",
    "\n",
    "if pal(word.lower()):\n",
    "    print(\"True\")\n",
    "else:\n",
    "    print(\"False\")"
   ]
  },
  {
   "cell_type": "markdown",
   "metadata": {},
   "source": [
    "### Question: \n",
    "Write a Python program to check whether a given number is an Armstrong number or not.\n",
    "\n",
    "**Definition:**\n",
    "An **Armstrong number** (also known as a **narcissistic number**) is a number that is equal to the sum of its own digits each raised to the power of the number of digits. For example:\n",
    "- 153 is an Armstrong number because \\( 1^3 + 5^3 + 3^3 = 153 \\).\n",
    "- 9474 is an Armstrong number because \\( 9^4 + 4^4 + 7^4 + 4^4 = 9474 \\).\n",
    "\n",
    "**Input:**  \n",
    "An integer (e.g., 153).\n",
    "\n",
    "**Output:**  \n",
    "Output \"Yes, it's an Armstrong number.\" if the number is an Armstrong number. Otherwise, output \"No, it's not an Armstrong number.\"\n",
    "\n",
    "**Constraints:**  \n",
    "- The input should be a positive integer.  \n"
   ]
  },
  {
   "cell_type": "code",
   "execution_count": 45,
   "metadata": {},
   "outputs": [
    {
     "name": "stdout",
     "output_type": "stream",
     "text": [
      "Yes, it's an Armstrong number.\n"
     ]
    }
   ],
   "source": [
    "def is_armstrong(num):\n",
    "    digits = int(num)\n",
    "    length = len(num)\n",
    "    sum = 0\n",
    "    for num in num:\n",
    "        sum = sum + int(num)**length\n",
    "\n",
    "    if digits == sum:\n",
    "        print(\"Yes, it's an Armstrong number.\")\n",
    "    else:\n",
    "        print(\"No, it's not an Armstrong number.\")\n",
    "\n",
    "num = input(\"Enter a number:\") #num is a string\n",
    "is_armstrong(num)"
   ]
  },
  {
   "cell_type": "markdown",
   "metadata": {},
   "source": [
    "### Question: File Read and Write\n",
    "**Write a Program that Uses Functions `write_to_file` and `read_from_file`**:\n",
    "- `write_to_file(filename, content)`: Writes `content` to a file named `filename`. If the file doesn't exist, it should be created.\n",
    "- `read_from_file(filename)`: Reads and prints the content of a file named `filename`.\n",
    "Call `write_to_file` to write \"Hello, Python!\" to a file named \"greetings.txt\", then call `read_from_file` to read and print the content of this file."
   ]
  },
  {
   "cell_type": "code",
   "execution_count": 3,
   "metadata": {},
   "outputs": [],
   "source": [
    "# Your Solution Here\n",
    "def write_to_file(filename, content):\n",
    "    with open(filename, mode =\"w\") as file:\n",
    "        file.write(content)\n",
    "        file.close()\n",
    "\n",
    "\n",
    "def read_from_file(filename):\n",
    "\n",
    "        with open(filename, mode = \"r\") as file:\n",
    "            print(file.read())\n",
    "\n",
    "\n",
    "write_to_file(\"greetings.txt\", \"Hello, Python!\")\n"
   ]
  },
  {
   "cell_type": "code",
   "execution_count": 12,
   "metadata": {},
   "outputs": [
    {
     "name": "stdout",
     "output_type": "stream",
     "text": [
      "Hello, Python!\n"
     ]
    }
   ],
   "source": [
    "# Your Solution Here\n",
    "read_from_file(\"greetings.txt\")\n"
   ]
  },
  {
   "cell_type": "markdown",
   "metadata": {},
   "source": [
    "### Scenario:\n",
    "\n",
    "You are tasked with designing a system for a **vehicle rental company**. The company rents out various types of vehicles like **Cars** and **Bikes**, and each vehicle has some shared characteristics but also some distinct ones. \n",
    "\n",
    "### Requirements:\n",
    "1. Each **Vehicle** has attributes such as:\n",
    "   - `vehicle_id`: A unique identifier for the vehicle.\n",
    "   - `brand`: The brand of the vehicle.\n",
    "   - `rental_price`: Price per day to rent the vehicle.\n",
    "\n",
    "2. Both **Car** and **Bike** are types of **Vehicles**.  \n",
    "   - A **Car** has an additional attribute: `number_of_doors`.  \n",
    "   - A **Bike** has an additional attribute: `bike_type` (e.g., mountain bike, racing bike).\n",
    "\n",
    "3. You should provide methods to:\n",
    "   - **Calculate total rental cost**: Given the number of rental days, calculate the total cost for any vehicle.\n",
    "   - **Display vehicle details**: For both cars and bikes, display details including the unique attributes (e.g., `number_of_doors` for cars, `bike_type` for bikes).\n",
    "\n",
    "4. Implement the following OOP concepts:\n",
    "   - **Abstraction**: Provide a clean interface for calculating the total rental cost and displaying vehicle details, hiding the internal logic.\n",
    "   - **Inheritance**: Both **Car** and **Bike** should inherit common functionality from the **Vehicle** class.\n",
    "   - **Polymorphism**: Use method overriding so that the method for displaying vehicle details works differently for cars and bikes.\n",
    "\n",
    "---\n",
    "\n",
    "### Task:\n",
    "\n",
    "1. **Define a `Vehicle` base class** that implements the common attributes and methods.\n",
    "2. **Define two subclasses `Car` and `Bike`** that inherit from `Vehicle` and implement their specific attributes.\n",
    "3. Use encapsulation by making attributes private and providing public methods to interact with them.\n",
    "4. Use polymorphism to create a `display_details` method that behaves differently for `Car` and `Bike`.\n"
   ]
  },
  {
   "cell_type": "code",
   "execution_count": 47,
   "metadata": {},
   "outputs": [
    {
     "name": "stdout",
     "output_type": "stream",
     "text": [
      "Vehicle ID: 1\n",
      "Brand: Tata\n",
      "Rental Price: Rs.15000\n",
      "Rental Cost for 5 days: Rs.75000\n",
      "\n",
      "Vehicle ID: 2\n",
      "Brand: Deepal\n",
      "Rental Price: Rs.18000\n",
      "Number of doors: 4\n",
      "Rental Cost for 5 days: Rs.90000\n",
      "\n",
      "Vehicle ID: 3\n",
      "Brand: Ninja\n",
      "Rental Price: Rs.8000\n",
      "Type: Sports\n",
      "Rental Cost for 5 days: Rs.40000\n",
      "\n"
     ]
    }
   ],
   "source": [
    "# Your Solution Here\n",
    "class Vehicle:\n",
    "    def __init__(self,vehicle_id,brand:str,rental_price):\n",
    "        self.vehicle_id = vehicle_id\n",
    "        self.brand = brand\n",
    "        self.rental_price = rental_price\n",
    "\n",
    "    def rental_cost(self,rental_days):\n",
    "        print(f\"Rental Cost for {rental_days} days: Rs.{self.rental_price*rental_days}\\n\")\n",
    "\n",
    "    def display_details(self):\n",
    "        print(f\"Vehicle ID: {self.vehicle_id}\\nBrand: {self.brand}\\nRental Price: Rs.{self.rental_price}\")\n",
    "\n",
    "\n",
    "\n",
    "class Car(Vehicle):\n",
    "    def __init__(self,vehicle_id,brand:str,rental_price,door_number):\n",
    "        super().__init__(vehicle_id,brand,rental_price)\n",
    "        self.door_number = door_number\n",
    "\n",
    "    def display_details(self):\n",
    "        super().display_details()\n",
    "        print(f\"Number of doors: {self.door_number}\")\n",
    "\n",
    "\n",
    "class Bike(Vehicle):\n",
    "    def __init__(self,vehicle_id,brand:str,rental_price,bike_type:str):\n",
    "        super().__init__(vehicle_id, brand, rental_price)\n",
    "        self.bike_type = bike_type\n",
    "\n",
    "    def display_details(self):\n",
    "        super().display_details()\n",
    "        print(f\"Type: {self.bike_type}\")\n",
    "\n",
    "\n",
    "\n",
    "bus = Vehicle(1,\"Tata\",15000)\n",
    "bus.display_details()\n",
    "bus.rental_cost(5)\n",
    "\n",
    "car = Car(2,\"Deepal\",18000,4)\n",
    "car.display_details()\n",
    "car.rental_cost(5)\n",
    "\n",
    "bike = Bike(3,\"Ninja\",8000,\"Sports\")\n",
    "bike.display_details()\n",
    "bike.rental_cost(5)"
   ]
  }
 ],
 "metadata": {
  "kernelspec": {
   "display_name": "Python 3 (ipykernel)",
   "language": "python",
   "name": "python3"
  },
  "language_info": {
   "codemirror_mode": {
    "name": "ipython",
    "version": 3
   },
   "file_extension": ".py",
   "mimetype": "text/x-python",
   "name": "python",
   "nbconvert_exporter": "python",
   "pygments_lexer": "ipython3",
   "version": "3.13.1"
  }
 },
 "nbformat": 4,
 "nbformat_minor": 4
}
