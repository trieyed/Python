{
 "cells": [
  {
   "cell_type": "markdown",
   "id": "25cae8b3-0131-49bc-ad64-65ff0efbd3b4",
   "metadata": {},
   "source": [
    "**Method Overriding**\n",
    "-\n",
    "\n",
    "Ability of the subclass to change implementation of the method or function from base class with same name in itself."
   ]
  },
  {
   "cell_type": "code",
   "execution_count": 19,
   "id": "864702f1-310c-4866-a72e-b757d98d79ac",
   "metadata": {},
   "outputs": [
    {
     "name": "stdout",
     "output_type": "stream",
     "text": [
      "Woof\n",
      "Making Animal Sound\n"
     ]
    }
   ],
   "source": [
    "class Animal:\n",
    "    def sound(self):   #self initializes without any instalizer.\n",
    "        print(\"Making Animal Sound\")\n",
    "\n",
    "\n",
    "class Dog(Animal):\n",
    "    def sound(self):   #this method with same name overrides the \"sound\" method inherited from Animal class.\n",
    "        print(\"Woof\")\n",
    "\n",
    "\n",
    "class Cat(Animal):\n",
    "    def name(self):\n",
    "        print(\"abc\")\n",
    "\n",
    "Jacky = Dog()\n",
    "Jacky.sound()\n",
    "\n",
    "Candy = Cat()\n",
    "Candy.sound()    #runs from parent class as there is no method that overrides the method from parent class\n",
    "    "
   ]
  },
  {
   "cell_type": "code",
   "execution_count": null,
   "id": "9b2af334-3deb-402e-97bf-1bd22074d34f",
   "metadata": {},
   "outputs": [],
   "source": []
  },
  {
   "cell_type": "markdown",
   "id": "fae65a00-cd88-49d0-9cdf-5d8e35be747e",
   "metadata": {},
   "source": [
    "**Runs both methods from base and derived class also while overriding**\n"
   ]
  },
  {
   "cell_type": "code",
   "execution_count": 24,
   "id": "fa08008d-5bed-4964-a875-ddc8c6e72aa7",
   "metadata": {},
   "outputs": [
    {
     "name": "stdout",
     "output_type": "stream",
     "text": [
      "Making Animal Sound\n",
      "Woof\n",
      "Making Animal Sound\n"
     ]
    }
   ],
   "source": [
    "class Animal:\n",
    "    def sound(self):   #self initializes without any instalizer.\n",
    "        print(\"Making Animal Sound\")\n",
    "\n",
    "\n",
    "class Dog(Animal):\n",
    "   \n",
    "    def sound(self):   #this method with same name overrides the \"sound\" method inherited from Animal class.\n",
    "        super().sound()  #super().<method_name> is used to access and run from base class too.\n",
    "        print(\"Woof\")\n",
    "\n",
    "\n",
    "class Cat(Animal):\n",
    "    def name(self):\n",
    "        print(\"abc\")\n",
    "\n",
    "Jacky = Dog()\n",
    "Jacky.sound()\n",
    "\n",
    "Candy = Cat()\n",
    "Candy.sound()    #runs from parent class as there is no method that overrides the method from parent class"
   ]
  },
  {
   "cell_type": "code",
   "execution_count": null,
   "id": "7153a6b6-e2f0-41d2-84bf-56c12ed6288d",
   "metadata": {},
   "outputs": [],
   "source": []
  },
  {
   "cell_type": "code",
   "execution_count": null,
   "id": "3f3f46fe-0c20-420b-9177-70c15071475b",
   "metadata": {},
   "outputs": [],
   "source": []
  },
  {
   "cell_type": "code",
   "execution_count": null,
   "id": "0719b782-8548-4ceb-a76b-2eb54ade6ab8",
   "metadata": {},
   "outputs": [],
   "source": []
  },
  {
   "cell_type": "code",
   "execution_count": null,
   "id": "433ee9d3-5e7e-4be2-9f12-f42547e62e0e",
   "metadata": {},
   "outputs": [],
   "source": []
  }
 ],
 "metadata": {
  "kernelspec": {
   "display_name": "Python 3 (ipykernel)",
   "language": "python",
   "name": "python3"
  },
  "language_info": {
   "codemirror_mode": {
    "name": "ipython",
    "version": 3
   },
   "file_extension": ".py",
   "mimetype": "text/x-python",
   "name": "python",
   "nbconvert_exporter": "python",
   "pygments_lexer": "ipython3",
   "version": "3.13.1"
  }
 },
 "nbformat": 4,
 "nbformat_minor": 5
}
