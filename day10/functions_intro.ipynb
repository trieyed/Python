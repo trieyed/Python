{
 "cells": [
  {
   "cell_type": "markdown",
   "id": "eba15795-5d84-4f14-a2a2-fd80c971fd97",
   "metadata": {},
   "source": [
    "**Python Functions**\n",
    "---\n",
    "\n",
    "Block of code that performs a specific task and can be reused throughout a program.\n",
    "\n",
    "\n",
    "Functions are defined using the `def` keyword in python, followed by the function name and any parameters the function takes.\n",
    "\n",
    "\n",
    "\n",
    "def < function_name > (parameters):\n",
    "     do something\n",
    "\n",
    "    .\n",
    "    .\n",
    "    .\n",
    "    return<result>\n",
    "\n"
   ]
  },
  {
   "cell_type": "code",
   "execution_count": 1,
   "id": "19a6d9fd-e2b8-4359-9cea-cd00f1937723",
   "metadata": {},
   "outputs": [],
   "source": [
    "def calculate_sum (num1 , num2):\n",
    "    summation = num1 + num2\n",
    "    return summation"
   ]
  },
  {
   "cell_type": "code",
   "execution_count": 2,
   "id": "aeb56c05-3038-4128-bc2b-ab3f43ba5053",
   "metadata": {},
   "outputs": [],
   "source": [
    "value = calculate_sum(num1 = 20, num2 = 30)"
   ]
  },
  {
   "cell_type": "code",
   "execution_count": 3,
   "id": "c4dd87b5-da2a-41b2-8a69-dfe60ccd70b0",
   "metadata": {},
   "outputs": [
    {
     "name": "stdout",
     "output_type": "stream",
     "text": [
      "50\n"
     ]
    }
   ],
   "source": [
    "print(value)"
   ]
  },
  {
   "cell_type": "code",
   "execution_count": 4,
   "id": "863e91af-2232-4273-88b7-f18a2f67eb79",
   "metadata": {},
   "outputs": [],
   "source": [
    "from math import sqrt"
   ]
  },
  {
   "cell_type": "code",
   "execution_count": 5,
   "id": "9d9aa89d-c985-4cd5-bc70-573376292cbe",
   "metadata": {},
   "outputs": [],
   "source": [
    "from math import sqrt\n",
    "def square_root(num):\n",
    "    root = sqrt(num)\n",
    "    return root"
   ]
  },
  {
   "cell_type": "code",
   "execution_count": 6,
   "id": "10db1051-5741-42eb-8c29-88fbe6e18008",
   "metadata": {},
   "outputs": [
    {
     "data": {
      "text/plain": [
       "3.0"
      ]
     },
     "execution_count": 6,
     "metadata": {},
     "output_type": "execute_result"
    }
   ],
   "source": [
    "square_root(9)"
   ]
  },
  {
   "cell_type": "code",
   "execution_count": null,
   "id": "630750e2-66d8-447f-b8b8-f0b3497f40c3",
   "metadata": {},
   "outputs": [],
   "source": [
    "\n",
    "\n"
   ]
  },
  {
   "cell_type": "markdown",
   "id": "09f2ecbf-919f-49e0-a190-8fb98c12e488",
   "metadata": {},
   "source": [
    "**Python Built-In Function**\n",
    "---\n",
    "\n",
    "Functions available with python without creating one.\n",
    "\n",
    "Some of them are:\n",
    "\n"
   ]
  },
  {
   "cell_type": "markdown",
   "id": "9e8b426f-debc-41a9-afbc-1e026814a1e6",
   "metadata": {},
   "source": [
    "**print()**\n",
    "-\n",
    "\n",
    "Used to output text or values to the console.\n",
    "\n",
    "\n",
    "Arguments in print() are:\n",
    "\n",
    "sep: used to specify separator\n",
    "\n",
    "\n",
    "*objects: used to insert any number of objects\n",
    "end: used to specify the string that should be peinted at the end of the line. Default is :\"\\n\" i.e. new line\n"
   ]
  },
  {
   "cell_type": "code",
   "execution_count": 7,
   "id": "bbd82d8f-dc0e-4bba-afb5-6f3d08f670e2",
   "metadata": {},
   "outputs": [],
   "source": [
    "x = 5\n",
    "y = x + 5"
   ]
  },
  {
   "cell_type": "code",
   "execution_count": 8,
   "id": "38f19456-2fe7-4e76-a904-e98f243560fd",
   "metadata": {},
   "outputs": [
    {
     "name": "stdout",
     "output_type": "stream",
     "text": [
      "The value of y is : 10\n"
     ]
    }
   ],
   "source": [
    "print(\"The value of y is :\",y)"
   ]
  },
  {
   "cell_type": "code",
   "execution_count": 9,
   "id": "0c377c67-f0f3-4451-8f5e-930f21bbfa1a",
   "metadata": {},
   "outputs": [
    {
     "name": "stdout",
     "output_type": "stream",
     "text": [
      "x is  5 and y is 10\n"
     ]
    }
   ],
   "source": [
    "print(\"x is \" , x,\"and y is\" ,y) #printing multiple items using comas to separate them."
   ]
  },
  {
   "cell_type": "code",
   "execution_count": 10,
   "id": "567ab0b1-77f3-444f-bec9-b7312331e858",
   "metadata": {},
   "outputs": [
    {
     "name": "stdout",
     "output_type": "stream",
     "text": [
      "Hello-world\n"
     ]
    }
   ],
   "source": [
    "print(\"Hello\",\"world\",sep=\"-\") #using separator\n"
   ]
  },
  {
   "cell_type": "code",
   "execution_count": 11,
   "id": "06c22a8e-35a9-4f60-b1d1-d5df5c87f74f",
   "metadata": {},
   "outputs": [
    {
     "name": "stdout",
     "output_type": "stream",
     "text": [
      "Hello_world.Hello_world\n",
      "Hello_world\n",
      "Hello_world\n"
     ]
    }
   ],
   "source": [
    "print(\"Hello\",\"world\" , sep=\"_\",end = \".\") # default is new line i.e.\\n \n",
    "print(\"Hello\",\"world\" , sep=\"_\",end = \"\\n\")\n",
    "print(\"Hello\",\"world\" , sep=\"_\")\n",
    "print(\"Hello\",\"world\" , sep=\"_\")"
   ]
  },
  {
   "cell_type": "code",
   "execution_count": null,
   "id": "2abc84fc-5be1-4823-b306-19d2a7a4cd30",
   "metadata": {},
   "outputs": [],
   "source": [
    "\n",
    "\n"
   ]
  },
  {
   "cell_type": "markdown",
   "id": "df6ebdb4-6017-4d72-957d-d0020dca981b",
   "metadata": {},
   "source": [
    "**type()**\n",
    "-\n",
    "returns the type of the given variable"
   ]
  },
  {
   "cell_type": "code",
   "execution_count": 12,
   "id": "774be72b-8966-421a-b7e1-b6aeec919073",
   "metadata": {},
   "outputs": [
    {
     "data": {
      "text/plain": [
       "float"
      ]
     },
     "execution_count": 12,
     "metadata": {},
     "output_type": "execute_result"
    }
   ],
   "source": [
    "type(66.7)"
   ]
  },
  {
   "cell_type": "code",
   "execution_count": 13,
   "id": "d3c8ebf3-562a-4adf-885e-f6f22c30555d",
   "metadata": {},
   "outputs": [
    {
     "data": {
      "text/plain": [
       "int"
      ]
     },
     "execution_count": 13,
     "metadata": {},
     "output_type": "execute_result"
    }
   ],
   "source": [
    "type(1_0_1_1*4_4_4) "
   ]
  },
  {
   "cell_type": "code",
   "execution_count": 14,
   "id": "28a661e0-a6f0-46db-9816-6369c2b32e4a",
   "metadata": {},
   "outputs": [
    {
     "data": {
      "text/plain": [
       "bool"
      ]
     },
     "execution_count": 14,
     "metadata": {},
     "output_type": "execute_result"
    }
   ],
   "source": [
    "type(True)"
   ]
  },
  {
   "cell_type": "code",
   "execution_count": 15,
   "id": "cf0611fb-d286-4dd1-8936-59bb94eb45ba",
   "metadata": {},
   "outputs": [],
   "source": [
    "a = 1_0_1_1*4_4_4"
   ]
  },
  {
   "cell_type": "code",
   "execution_count": 16,
   "id": "867521f4-da44-467f-a7fd-0a77b093f138",
   "metadata": {},
   "outputs": [
    {
     "name": "stdout",
     "output_type": "stream",
     "text": [
      "448884\n"
     ]
    }
   ],
   "source": [
    "print(a)\n"
   ]
  },
  {
   "cell_type": "code",
   "execution_count": 17,
   "id": "f7038352-423a-4c7d-84bb-f62f8d89bcd1",
   "metadata": {},
   "outputs": [
    {
     "data": {
      "text/plain": [
       "int"
      ]
     },
     "execution_count": 17,
     "metadata": {},
     "output_type": "execute_result"
    }
   ],
   "source": [
    "type(a)"
   ]
  },
  {
   "cell_type": "code",
   "execution_count": null,
   "id": "2cba9986-54fc-4094-a468-4e6299fd5261",
   "metadata": {},
   "outputs": [],
   "source": [
    "\n"
   ]
  },
  {
   "cell_type": "code",
   "execution_count": null,
   "id": "e488ab48-d8f7-4f4b-883c-7e9c3e41cb90",
   "metadata": {},
   "outputs": [],
   "source": []
  },
  {
   "cell_type": "markdown",
   "id": "81dc2102-dcbf-4f66-af8d-55ce963d549a",
   "metadata": {},
   "source": [
    "**input()**\n",
    "---\n",
    "\n",
    "used to accept the unput from user and returns the entered value as string."
   ]
  },
  {
   "cell_type": "code",
   "execution_count": 18,
   "id": "264c11ab-e6c6-4841-b7e7-58809f0621da",
   "metadata": {},
   "outputs": [
    {
     "name": "stdin",
     "output_type": "stream",
     "text": [
      "What is your name ? Laxman\n"
     ]
    }
   ],
   "source": [
    "name = input(\"What is your name ?\")"
   ]
  },
  {
   "cell_type": "code",
   "execution_count": 19,
   "id": "9b0f3e7f-ac2f-4f65-bbcf-642591abde9a",
   "metadata": {},
   "outputs": [
    {
     "name": "stdout",
     "output_type": "stream",
     "text": [
      "Laxman\n"
     ]
    }
   ],
   "source": [
    "print(name)"
   ]
  },
  {
   "cell_type": "code",
   "execution_count": 20,
   "id": "0a7f4b46-d7fd-414d-8788-4fd1bdfa824f",
   "metadata": {},
   "outputs": [
    {
     "name": "stdin",
     "output_type": "stream",
     "text": [
      "Enter your age: 22\n"
     ]
    }
   ],
   "source": [
    "age = int(input(\"Enter your age:\")) #Default type is string so we convert to intger when needed."
   ]
  },
  {
   "cell_type": "code",
   "execution_count": 21,
   "id": "7fc86931-e7f4-4147-9c85-f7fcd3ada320",
   "metadata": {},
   "outputs": [
    {
     "name": "stdout",
     "output_type": "stream",
     "text": [
      "22\n"
     ]
    }
   ],
   "source": [
    "print(age)"
   ]
  },
  {
   "cell_type": "code",
   "execution_count": 22,
   "id": "fff9bb8c-2eb0-4a18-9d26-b197df37f1c0",
   "metadata": {},
   "outputs": [
    {
     "data": {
      "text/plain": [
       "int"
      ]
     },
     "execution_count": 22,
     "metadata": {},
     "output_type": "execute_result"
    }
   ],
   "source": [
    "type(age)"
   ]
  },
  {
   "cell_type": "code",
   "execution_count": null,
   "id": "1f7feea1-8461-44dc-89ad-821d9bb57446",
   "metadata": {},
   "outputs": [],
   "source": [
    "\n",
    "\n"
   ]
  },
  {
   "cell_type": "markdown",
   "id": "0ed9917d-e6c3-4c21-86f5-842bd890b816",
   "metadata": {},
   "source": [
    "**len()**\n",
    "---"
   ]
  },
  {
   "cell_type": "markdown",
   "id": "4b735b9a-a9af-49d1-a72a-8ae5fe4e692a",
   "metadata": {},
   "source": [
    "In Python, len() is used to get the length of the sequence or collection such as a str list tuple or dict.\n"
   ]
  },
  {
   "cell_type": "code",
   "execution_count": 23,
   "id": "407a036c-c0e9-4f27-b2ca-91169df013b2",
   "metadata": {},
   "outputs": [
    {
     "data": {
      "text/plain": [
       "5"
      ]
     },
     "execution_count": 23,
     "metadata": {},
     "output_type": "execute_result"
    }
   ],
   "source": [
    "len(\"Hello\") #str"
   ]
  },
  {
   "cell_type": "code",
   "execution_count": 24,
   "id": "c69f01cd-facc-4e1d-bbe8-01d71ef88783",
   "metadata": {},
   "outputs": [
    {
     "data": {
      "text/plain": [
       "3"
      ]
     },
     "execution_count": 24,
     "metadata": {},
     "output_type": "execute_result"
    }
   ],
   "source": [
    "len((1,2,3)) #list"
   ]
  },
  {
   "cell_type": "code",
   "execution_count": 25,
   "id": "25445140-f7e9-45c9-8a67-19bdca21693c",
   "metadata": {},
   "outputs": [
    {
     "data": {
      "text/plain": [
       "2"
      ]
     },
     "execution_count": 25,
     "metadata": {},
     "output_type": "execute_result"
    }
   ],
   "source": [
    "len({1:\"apple\" , 2:\"banana\"}) #dict len = no. of key value pair"
   ]
  },
  {
   "cell_type": "code",
   "execution_count": null,
   "id": "c3d7f5ce-8b35-4db1-851a-87362dcdc30b",
   "metadata": {},
   "outputs": [],
   "source": [
    "\n",
    "\n"
   ]
  },
  {
   "cell_type": "markdown",
   "id": "24c9059d-cb04-4445-a34a-9cbb56a4197a",
   "metadata": {},
   "source": [
    "**open()**\n",
    "---\n",
    "Used to open a file and returns file object.\n",
    "\n",
    "`file = open(file = \"file_name\",mode = r)` #mode = r for reading "
   ]
  },
  {
   "cell_type": "code",
   "execution_count": 26,
   "id": "6348453a-d8be-4119-ba87-152bad3fe09e",
   "metadata": {},
   "outputs": [
    {
     "name": "stdout",
     "output_type": "stream",
     "text": [
      "Text inside log.txt file.\n"
     ]
    }
   ],
   "source": [
    "file = open(file = \"log.txt\",mode = 'r') #open file log.txt for reading\n",
    "print(file.read())"
   ]
  },
  {
   "cell_type": "code",
   "execution_count": 27,
   "id": "7a91a528-5c7a-4f67-972e-510ed47e45d9",
   "metadata": {},
   "outputs": [],
   "source": [
    "file.close() #close the file"
   ]
  },
  {
   "cell_type": "code",
   "execution_count": 28,
   "id": "ab79f6a8-ded1-4004-8f17-9a57b2543ffa",
   "metadata": {},
   "outputs": [],
   "source": [
    "file = open(\"message.txt\" , mode = 'w')#opens the file if present else create it since it is in w mode\n",
    "file.write(\"This text is being written inside the file message.txt\")#writes the text inside the file\n",
    "file.close() #closes the file"
   ]
  },
  {
   "cell_type": "code",
   "execution_count": 29,
   "id": "5e58f16c-e6a0-4f58-8882-b09f66fe8294",
   "metadata": {},
   "outputs": [],
   "source": [
    "#Context manager\n",
    "with open(\"message.txt\" , mode =\"a\") as file: #'a' mode means append which adds the text to the end of the file.\n",
    "    file .write(\"This is second message written using context manager\")  #context manager closes the file automatically once writing is finished."
   ]
  },
  {
   "cell_type": "code",
   "execution_count": 30,
   "id": "7c4d2a26-51e8-42cd-bc67-b7280aa29a83",
   "metadata": {},
   "outputs": [
    {
     "name": "stdout",
     "output_type": "stream",
     "text": [
      "This text is being written inside the file message.txtThis is second message written using context manager\n"
     ]
    }
   ],
   "source": [
    "file = open(file = \"message.txt\",mode = 'r') #open file log.txt for reading\n",
    "print(file.read())"
   ]
  },
  {
   "cell_type": "code",
   "execution_count": null,
   "id": "d50932d1-9244-46a7-8f19-564aa53e2c96",
   "metadata": {},
   "outputs": [],
   "source": [
    "\n"
   ]
  },
  {
   "cell_type": "code",
   "execution_count": 31,
   "id": "eebe3373-9483-4aed-8132-bbad5f393115",
   "metadata": {},
   "outputs": [],
   "source": [
    "file = open(\"file3.txt\" , mode = 'w')\n",
    "file.write(\"Writing this text inside the file3.\")\n",
    "with open(\"file3.txt\" , mode = \"a\") as file:\n",
    "    file.write(\"Writing this message inside file3.txt using with open as file\")\n"
   ]
  },
  {
   "cell_type": "markdown",
   "id": "9ec910b1-1c81-48da-ad93-c5d7d5eeb818",
   "metadata": {},
   "source": [
    "**dir()**\n",
    "--\n",
    "used to list all the attributes and methods of an object, Returns the sorted list of names in the given object."
   ]
  },
  {
   "cell_type": "code",
   "execution_count": 32,
   "id": "de66c564-641a-463a-85a2-d18b572cffa1",
   "metadata": {},
   "outputs": [],
   "source": [
    "x = \"laxman\""
   ]
  },
  {
   "cell_type": "code",
   "execution_count": 33,
   "id": "a88900cc-9c8e-4aa3-9fe3-c0119c0bbf99",
   "metadata": {},
   "outputs": [
    {
     "name": "stdout",
     "output_type": "stream",
     "text": [
      "['__add__', '__class__', '__contains__', '__delattr__', '__dir__', '__doc__', '__eq__', '__format__', '__ge__', '__getattribute__', '__getitem__', '__getnewargs__', '__getstate__', '__gt__', '__hash__', '__init__', '__init_subclass__', '__iter__', '__le__', '__len__', '__lt__', '__mod__', '__mul__', '__ne__', '__new__', '__reduce__', '__reduce_ex__', '__repr__', '__rmod__', '__rmul__', '__setattr__', '__sizeof__', '__str__', '__subclasshook__', 'capitalize', 'casefold', 'center', 'count', 'encode', 'endswith', 'expandtabs', 'find', 'format', 'format_map', 'index', 'isalnum', 'isalpha', 'isascii', 'isdecimal', 'isdigit', 'isidentifier', 'islower', 'isnumeric', 'isprintable', 'isspace', 'istitle', 'isupper', 'join', 'ljust', 'lower', 'lstrip', 'maketrans', 'partition', 'removeprefix', 'removesuffix', 'replace', 'rfind', 'rindex', 'rjust', 'rpartition', 'rsplit', 'rstrip', 'split', 'splitlines', 'startswith', 'strip', 'swapcase', 'title', 'translate', 'upper', 'zfill']\n"
     ]
    }
   ],
   "source": [
    "print(dir(x))"
   ]
  },
  {
   "cell_type": "code",
   "execution_count": 34,
   "id": "8d6563e7-dbcd-414a-ad19-6947dc532808",
   "metadata": {},
   "outputs": [
    {
     "data": {
      "text/plain": [
       "'LAXMAN'"
      ]
     },
     "execution_count": 34,
     "metadata": {},
     "output_type": "execute_result"
    }
   ],
   "source": [
    "x.upper()"
   ]
  },
  {
   "cell_type": "code",
   "execution_count": null,
   "id": "a67c9363-b604-4e93-abb3-b7e065090c04",
   "metadata": {},
   "outputs": [],
   "source": []
  },
  {
   "cell_type": "markdown",
   "id": "594ee4b4-54fb-4a20-b4d9-6b0648e77e5c",
   "metadata": {},
   "source": [
    "**enumerate()**\n",
    "-\n",
    "In python the enumerate() function is used to iterate over a sequence (such as a list or tuple) and return a sequence of tuples containing the index and value of eaach element in the original sequence."
   ]
  },
  {
   "cell_type": "code",
   "execution_count": 44,
   "id": "6abe15a3-ad1a-4ce4-bca5-a0cd29a1de25",
   "metadata": {},
   "outputs": [],
   "source": [
    "names = [ 'Ram' , 'Subin' , 'Jagdiss']\n"
   ]
  },
  {
   "cell_type": "code",
   "execution_count": 45,
   "id": "86e0f45d-de9a-476e-8325-4a97a0721ac4",
   "metadata": {},
   "outputs": [
    {
     "data": {
      "text/plain": [
       "[(0, 'Ram'), (1, 'Subin'), (2, 'Jagdiss')]"
      ]
     },
     "execution_count": 45,
     "metadata": {},
     "output_type": "execute_result"
    }
   ],
   "source": [
    "list(enumerate(names)) #gives the index to each member in the iterable(in this case list)"
   ]
  },
  {
   "cell_type": "code",
   "execution_count": 46,
   "id": "45203d9b-50e5-44ed-aa80-e62b09c9b803",
   "metadata": {},
   "outputs": [
    {
     "name": "stdout",
     "output_type": "stream",
     "text": [
      "0 :  Ram\n",
      "1 :  Subin\n",
      "2 :  Jagdiss\n"
     ]
    }
   ],
   "source": [
    "for i, name in enumerate(names):\n",
    "    print(i , name , sep = \" :  \")"
   ]
  },
  {
   "cell_type": "code",
   "execution_count": 47,
   "id": "dc9c2b18-8377-4a4f-8cde-f4d9ba56ba3a",
   "metadata": {},
   "outputs": [
    {
     "name": "stdout",
     "output_type": "stream",
     "text": [
      "1 :  Ram\n",
      "2 :  Subin\n",
      "3 :  Jagdiss\n"
     ]
    }
   ],
   "source": [
    "for i, name in enumerate(names, start = 1): #start parameter can be kept to define where the indexing starts from.\n",
    "    print(i , name , sep = \" :  \")"
   ]
  },
  {
   "cell_type": "code",
   "execution_count": 48,
   "id": "182b17c7-aa3b-4b4d-939d-6929d72e5778",
   "metadata": {},
   "outputs": [],
   "source": [
    "names = [ 'Ram' , 'Subin' , 'Jagdiss']\n",
    "age = [ 21, 22 , 23 ]"
   ]
  },
  {
   "cell_type": "code",
   "execution_count": 49,
   "id": "3cd8850b-b9f1-480a-a724-2e457cc69c11",
   "metadata": {},
   "outputs": [
    {
     "data": {
      "text/plain": [
       "[('Ram', 21), ('Subin', 22), ('Jagdiss', 23)]"
      ]
     },
     "execution_count": 49,
     "metadata": {},
     "output_type": "execute_result"
    }
   ],
   "source": [
    "list(zip( names, age))"
   ]
  },
  {
   "cell_type": "code",
   "execution_count": 50,
   "id": "f00626c5-4d35-4e78-92a6-bb35e5328920",
   "metadata": {},
   "outputs": [
    {
     "name": "stdout",
     "output_type": "stream",
     "text": [
      "Age of Ram is 21 \n",
      "Age of Subin is 22 \n",
      "Age of Jagdiss is 23 \n"
     ]
    }
   ],
   "source": [
    "for name, age in zip(names , age):\n",
    "    print(f\"Age of {name} is {age} \")"
   ]
  },
  {
   "cell_type": "code",
   "execution_count": null,
   "id": "3487a135-8af8-4414-9f55-af84ba4295a4",
   "metadata": {},
   "outputs": [],
   "source": []
  },
  {
   "cell_type": "code",
   "execution_count": 53,
   "id": "541d0133-d8f3-4d46-9bce-79d83140e945",
   "metadata": {},
   "outputs": [],
   "source": [
    "name = \"Hari\"\n",
    "lis1 = [2, 4, 8]\n",
    "set1 = {\"a\",\"e\",\"i\",\"o\",\"u\"}"
   ]
  },
  {
   "cell_type": "code",
   "execution_count": 54,
   "id": "afa3ec8a-9fb5-4e65-b4fb-3f70fc1b5040",
   "metadata": {},
   "outputs": [
    {
     "name": "stdout",
     "output_type": "stream",
     "text": [
      "{'o', 'u', 'e', 'a', 'i'}\n"
     ]
    }
   ],
   "source": [
    "print(set1)"
   ]
  },
  {
   "cell_type": "code",
   "execution_count": 56,
   "id": "187a28a8-5dfe-42e6-a347-5a169b89e5f8",
   "metadata": {},
   "outputs": [
    {
     "data": {
      "text/plain": [
       "[('H', 2, 'o'), ('a', 4, 'u'), ('r', 8, 'e')]"
      ]
     },
     "execution_count": 56,
     "metadata": {},
     "output_type": "execute_result"
    }
   ],
   "source": [
    "list(zip(name, lis1, set1))"
   ]
  },
  {
   "cell_type": "code",
   "execution_count": 60,
   "id": "96849f94-6970-4ffb-866d-44cc60386d40",
   "metadata": {},
   "outputs": [
    {
     "name": "stdout",
     "output_type": "stream",
     "text": [
      "H-2-o\n",
      "a-4-u\n",
      "r-8-e\n"
     ]
    }
   ],
   "source": [
    "for n,l,s in list(zip(name, lis1, set1)): #number of member in iterable with lowest member is the number of combination it makes\n",
    "    print(n,l,s, sep =\"-\") #lis1 has only 3 members so it only made 3 combinations"
   ]
  },
  {
   "cell_type": "code",
   "execution_count": null,
   "id": "a7f4b0b4-ffe3-483a-8d7b-2908d01baece",
   "metadata": {},
   "outputs": [],
   "source": []
  },
  {
   "cell_type": "markdown",
   "id": "21c67358-b56a-403c-8b42-671fa9bc62fd",
   "metadata": {},
   "source": [
    "**map()**\n",
    "---\n",
    "syntax:\n",
    "\n",
    "map(function,iterable)"
   ]
  },
  {
   "cell_type": "code",
   "execution_count": 61,
   "id": "45f6c244-d8b7-4acc-8c2d-c385319294cb",
   "metadata": {},
   "outputs": [],
   "source": [
    "def mult(x):\n",
    "    return x * 2"
   ]
  },
  {
   "cell_type": "code",
   "execution_count": 70,
   "id": "6c68373d-a670-413f-9925-b35dfdb4af47",
   "metadata": {},
   "outputs": [],
   "source": [
    "my_list = [1,4,6,3,3]\n",
    "map_obj1 = map(mult , my_list)"
   ]
  },
  {
   "cell_type": "code",
   "execution_count": 71,
   "id": "7c8aa870-776d-4e4c-bbb4-0bf767308881",
   "metadata": {},
   "outputs": [
    {
     "data": {
      "text/plain": [
       "<map at 0x1baa298dc60>"
      ]
     },
     "execution_count": 71,
     "metadata": {},
     "output_type": "execute_result"
    }
   ],
   "source": [
    "map_obj"
   ]
  },
  {
   "cell_type": "code",
   "execution_count": 72,
   "id": "421be802-03b9-4e33-9316-5d6e6f0ab4ed",
   "metadata": {},
   "outputs": [
    {
     "data": {
      "text/plain": [
       "[2, 8, 12, 6, 6]"
      ]
     },
     "execution_count": 72,
     "metadata": {},
     "output_type": "execute_result"
    }
   ],
   "source": [
    "[a for a in map_obj1]"
   ]
  },
  {
   "cell_type": "markdown",
   "id": "90269acf-77a1-46b3-8b14-08df9cba2f76",
   "metadata": {},
   "source": [
    "**reduce()**\n",
    "---\n",
    "syntax:\n",
    "\n",
    "reduce ( function , iterable )"
   ]
  },
  {
   "cell_type": "code",
   "execution_count": 73,
   "id": "b36c44d0-2ef8-48e9-a739-e26a2adf792f",
   "metadata": {},
   "outputs": [],
   "source": [
    "from functools import reduce"
   ]
  },
  {
   "cell_type": "code",
   "execution_count": 77,
   "id": "4960acc7-ddeb-4217-aa0e-a64bc4aba93e",
   "metadata": {},
   "outputs": [],
   "source": [
    "reduce_obj = reduce(lambda x,y:x+y , my_list)"
   ]
  },
  {
   "cell_type": "code",
   "execution_count": 78,
   "id": "ef985dd1-679d-4256-99fc-052bb701ea3c",
   "metadata": {},
   "outputs": [
    {
     "data": {
      "text/plain": [
       "17"
      ]
     },
     "execution_count": 78,
     "metadata": {},
     "output_type": "execute_result"
    }
   ],
   "source": [
    "reduce_obj # works like this ((((2+8)+12)+6)+6)"
   ]
  },
  {
   "cell_type": "code",
   "execution_count": null,
   "id": "675d9454-2834-48ac-afb5-280d29e2cfdb",
   "metadata": {},
   "outputs": [],
   "source": []
  },
  {
   "cell_type": "markdown",
   "id": "3fd115b2-6411-4553-8408-31d7f4950b20",
   "metadata": {},
   "source": [
    "**filter()**\n",
    "---\n",
    "\n",
    "\n",
    "\n",
    "syntax:\n",
    "\n",
    "filter ( function , iterable )\n"
   ]
  },
  {
   "cell_type": "code",
   "execution_count": 79,
   "id": "62aedb01-20a9-4e3b-96f3-56542b844e1c",
   "metadata": {},
   "outputs": [],
   "source": [
    "filter_obj = filter (lambda x:x%2==0, range(1,20))"
   ]
  },
  {
   "cell_type": "code",
   "execution_count": 80,
   "id": "0f373294-1a74-4818-b3fc-eff69ef3de10",
   "metadata": {},
   "outputs": [
    {
     "data": {
      "text/plain": [
       "[2, 4, 6, 8, 10, 12, 14, 16, 18]"
      ]
     },
     "execution_count": 80,
     "metadata": {},
     "output_type": "execute_result"
    }
   ],
   "source": [
    "list (filter_obj)"
   ]
  },
  {
   "cell_type": "code",
   "execution_count": null,
   "id": "409ec635-0ff9-4f14-b1cd-f93ad7bef7de",
   "metadata": {},
   "outputs": [],
   "source": []
  },
  {
   "cell_type": "code",
   "execution_count": 88,
   "id": "016b1ea7-cc1a-42b1-a4ed-9421c5058dcd",
   "metadata": {},
   "outputs": [],
   "source": [
    "mylist1 = [\"\",\"egg\",\"\",\"milk\"]\n",
    "\n",
    "filter_obj1 = filter (lambda x:len(x)>0, mylist1)"
   ]
  },
  {
   "cell_type": "code",
   "execution_count": 89,
   "id": "f3fc06a4-fb60-487c-9f9f-1885bf96702e",
   "metadata": {},
   "outputs": [
    {
     "data": {
      "text/plain": [
       "['egg', 'milk']"
      ]
     },
     "execution_count": 89,
     "metadata": {},
     "output_type": "execute_result"
    }
   ],
   "source": [
    "list(filter_obj1)"
   ]
  },
  {
   "cell_type": "code",
   "execution_count": null,
   "id": "21c5add7-c26a-4e3c-9260-90a9eb5d3ce7",
   "metadata": {},
   "outputs": [],
   "source": []
  }
 ],
 "metadata": {
  "kernelspec": {
   "display_name": "Python 3 (ipykernel)",
   "language": "python",
   "name": "python3"
  },
  "language_info": {
   "codemirror_mode": {
    "name": "ipython",
    "version": 3
   },
   "file_extension": ".py",
   "mimetype": "text/x-python",
   "name": "python",
   "nbconvert_exporter": "python",
   "pygments_lexer": "ipython3",
   "version": "3.13.1"
  }
 },
 "nbformat": 4,
 "nbformat_minor": 5
}
