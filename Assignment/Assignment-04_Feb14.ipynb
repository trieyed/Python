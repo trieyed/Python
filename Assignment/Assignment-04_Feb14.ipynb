{
 "cells": [
  {
   "cell_type": "markdown",
   "metadata": {},
   "source": [
    "### **Assignment: Introduction to Linear Algebra and NumPy**\n",
    "\n",
    "#### **Objective:**\n",
    "This assignment will help you build a solid understanding of basic Linear Algebra concepts using Python and the NumPy library. You'll learn to create and manipulate arrays, perform mathematical operations, and explore properties and methods of arrays."
   ]
  },
  {
   "cell_type": "markdown",
   "metadata": {},
   "source": [
    "\n",
    "### **Working with NumPy**\n",
    "\n",
    "NumPy is a powerful Python library for numerical computations, which allows easy manipulation of arrays and matrices."
   ]
  },
  {
   "cell_type": "markdown",
   "metadata": {},
   "source": [
    "**Task 1:** \n",
    "- Import the `numpy` library and check its version.\n"
   ]
  },
  {
   "cell_type": "code",
   "execution_count": 87,
   "metadata": {},
   "outputs": [
    {
     "name": "stdout",
     "output_type": "stream",
     "text": [
      "2.2.2\n"
     ]
    }
   ],
   "source": [
    "import numpy as np\n",
    "print(np.__version__)"
   ]
  },
  {
   "cell_type": "markdown",
   "metadata": {},
   "source": [
    "\n",
    "### **Creating a NumPy Array:**\n",
    "\n",
    "NumPy arrays are a powerful way to store and process large datasets. In this section, you will learn to create arrays.\n",
    "\n",
    "**Task 2:**\n",
    "- Create a 1D NumPy array from a Python list of numbers: `[1, 2, 3, 4, 5]`.\n",
    "- Create a 2D NumPy array of shape (3x3) using the numbers from 1 to 9.\n",
    "- Generate an array of 10 evenly spaced values between 0 and 5."
   ]
  },
  {
   "cell_type": "code",
   "execution_count": 88,
   "metadata": {},
   "outputs": [
    {
     "data": {
      "text/plain": [
       "array([1, 2, 3, 4, 5])"
      ]
     },
     "execution_count": 88,
     "metadata": {},
     "output_type": "execute_result"
    }
   ],
   "source": [
    "# Create a 1D NumPy array from a Python list of numbers: [1, 2, 3, 4, 5]\n",
    "lst = [1, 2, 3, 4, 5]\n",
    "arr1 = np.array(lst)\n",
    "arr1"
   ]
  },
  {
   "cell_type": "code",
   "execution_count": 89,
   "metadata": {},
   "outputs": [
    {
     "data": {
      "text/plain": [
       "array([[5, 3, 3],\n",
       "       [5, 4, 8],\n",
       "       [1, 6, 2]], dtype=int32)"
      ]
     },
     "execution_count": 89,
     "metadata": {},
     "output_type": "execute_result"
    }
   ],
   "source": [
    "# Create a 2D NumPy array of shape (3x3) using the numbers from 1 to 9.\n",
    "arr2 = np.random.randint(low = 1, high = 9, size = (3,3))\n",
    "arr2"
   ]
  },
  {
   "cell_type": "code",
   "execution_count": 90,
   "metadata": {},
   "outputs": [
    {
     "data": {
      "text/plain": [
       "array([0.        , 0.55555556, 1.11111111, 1.66666667, 2.22222222,\n",
       "       2.77777778, 3.33333333, 3.88888889, 4.44444444, 5.        ])"
      ]
     },
     "execution_count": 90,
     "metadata": {},
     "output_type": "execute_result"
    }
   ],
   "source": [
    "# Generate an array of 10 evenly spaced values between 0 and 5.\n",
    "np.linspace(start = 0, stop = 5, num=10)"
   ]
  },
  {
   "cell_type": "markdown",
   "metadata": {},
   "source": [
    "### **Indexing and Slicing Arrays:**\n",
    "\n",
    "Indexing and slicing allow you to access and modify specific elements of an array.\n",
    "\n",
    "**Task 3:**\n",
    "- Access the element in the second row, third column of the 2D array you created above.\n",
    "- Slice the first two rows and the first two columns from the same array.\n",
    "- Modify the value in the last row and first column to 100.\n"
   ]
  },
  {
   "cell_type": "code",
   "execution_count": 91,
   "metadata": {},
   "outputs": [
    {
     "data": {
      "text/plain": [
       "np.int32(8)"
      ]
     },
     "execution_count": 91,
     "metadata": {},
     "output_type": "execute_result"
    }
   ],
   "source": [
    "# Access the element in the second row, third column of the 2D array you created above.\n",
    "arr2[1][2]"
   ]
  },
  {
   "cell_type": "code",
   "execution_count": 92,
   "metadata": {},
   "outputs": [
    {
     "name": "stdout",
     "output_type": "stream",
     "text": [
      "[[5 3]\n",
      " [5 4]]\n"
     ]
    }
   ],
   "source": [
    "#Slice the first two rows and the first two columns from the same array.\n",
    "slice = arr2[:2,:2]\n",
    "print(slice)"
   ]
  },
  {
   "cell_type": "code",
   "execution_count": 93,
   "metadata": {},
   "outputs": [
    {
     "name": "stdout",
     "output_type": "stream",
     "text": [
      "[[  5   3   3]\n",
      " [  5   4   8]\n",
      " [100   6   2]]\n"
     ]
    }
   ],
   "source": [
    "#Modify the value in the last row and first column to 100.\n",
    "arr2[2,0]=100\n",
    "print(arr2)"
   ]
  },
  {
   "cell_type": "markdown",
   "metadata": {},
   "source": [
    "### **Properties and Methods of NumPy Arrays**\n",
    "\n",
    "NumPy arrays have several useful properties and methods.\n",
    "\n",
    "**Task 4:**\n",
    "- Find the shape, size, and data type of the 2D array.\n",
    "- Change the 1D array into a 2D array of shape (5,1).\n",
    "- Flatten a multi-dimensional array back into a 1D array."
   ]
  },
  {
   "cell_type": "code",
   "execution_count": 94,
   "metadata": {},
   "outputs": [
    {
     "name": "stdout",
     "output_type": "stream",
     "text": [
      "[[  5   3   3]\n",
      " [  5   4   8]\n",
      " [100   6   2]]\n",
      "\n",
      "shape: (3, 3)\n",
      "size: 9\n",
      "datatype: int32\n"
     ]
    }
   ],
   "source": [
    "# Find the shape, size, and data type of the 2D array.\n",
    "print(arr2)\n",
    "print(\"\\nshape:\",arr2.shape)\n",
    "print(\"size:\",arr2.size)\n",
    "print(\"datatype:\",arr2.dtype)"
   ]
  },
  {
   "cell_type": "code",
   "execution_count": 95,
   "metadata": {},
   "outputs": [
    {
     "name": "stdout",
     "output_type": "stream",
     "text": [
      "1D array:\n",
      " [5 2 7 3 8]\n",
      "2D array:\n",
      " [[5]\n",
      " [2]\n",
      " [7]\n",
      " [3]\n",
      " [8]]\n",
      "shape: (5, 1)\n"
     ]
    }
   ],
   "source": [
    "#Change the 1D array into a 2D array of shape (5,1).\n",
    "arr1=np.random.randint(1,10,size = 5)\n",
    "print(\"1D array:\\n\",arr1)\n",
    "\n",
    "reshaped= arr1.reshape(5,1)\n",
    "print(\"2D array:\\n\",reshaped)\n",
    "print(\"shape:\",reshaped.shape)"
   ]
  },
  {
   "cell_type": "code",
   "execution_count": 96,
   "metadata": {},
   "outputs": [
    {
     "name": "stdout",
     "output_type": "stream",
     "text": [
      "Multi dimensional array:\n",
      " [[[41 20 44]\n",
      "  [25 17 15]\n",
      "  [43  7 14]]\n",
      "\n",
      " [[14 44 18]\n",
      "  [49 39 20]\n",
      "  [44 24 22]]\n",
      "\n",
      " [[44  4 26]\n",
      "  [ 7  1 46]\n",
      "  [21  6 24]]\n",
      "\n",
      " [[21 37 40]\n",
      "  [44 28 47]\n",
      "  [48 26 33]]\n",
      "\n",
      " [[46 27  2]\n",
      "  [ 7  3 49]\n",
      "  [20  3 28]]\n",
      "\n",
      " [[15 41  4]\n",
      "  [17 28 34]\n",
      "  [49 40 31]]\n",
      "\n",
      " [[35 32 22]\n",
      "  [25 34 48]\n",
      "  [23 44 11]]\n",
      "\n",
      " [[35  0  7]\n",
      "  [10  8 15]\n",
      "  [35 25 43]]]\n"
     ]
    }
   ],
   "source": [
    "#Flatten a multi-dimensional array back into a 1D array.\n",
    "arr3 = np.random.randint(low = 0, high = 50,size = (8,3,3))\n",
    "print(\"Multi dimensional array:\\n\",arr3)"
   ]
  },
  {
   "cell_type": "code",
   "execution_count": 97,
   "metadata": {},
   "outputs": [
    {
     "name": "stdout",
     "output_type": "stream",
     "text": [
      "flattened array:\n",
      " [41 20 44 25 17 15 43  7 14 14 44 18 49 39 20 44 24 22 44  4 26  7  1 46\n",
      " 21  6 24 21 37 40 44 28 47 48 26 33 46 27  2  7  3 49 20  3 28 15 41  4\n",
      " 17 28 34 49 40 31 35 32 22 25 34 48 23 44 11 35  0  7 10  8 15 35 25 43]\n"
     ]
    }
   ],
   "source": [
    "flatten_array = arr3.flatten()\n",
    "print(\"flattened array:\\n\",flatten_array)"
   ]
  },
  {
   "cell_type": "markdown",
   "metadata": {},
   "source": [
    "### **Operations on NumPy Arrays**\n",
    "\n",
    "Perform operations such as addition, subtraction, multiplication, and matrix multiplication on arrays.\n",
    "\n",
    "**Task 5:**\n",
    "- Add 5 to every element in the 1D array.\n",
    "- Multiply the 2D array by 3.\n",
    "- Perform matrix multiplication between the following two arrays:  \n",
    "    ```python\n",
    "    A = np.array([[1, 2], [3, 4]])\n",
    "    B = np.array([[5, 6], [7, 8]])"
   ]
  },
  {
   "cell_type": "code",
   "execution_count": 112,
   "metadata": {},
   "outputs": [
    {
     "name": "stdout",
     "output_type": "stream",
     "text": [
      "Array of 1 dimension is:\n",
      " [5 2 7 3 8]\n",
      "Upon adding 5, we get:\n",
      " [10  7 12  8 13]\n"
     ]
    }
   ],
   "source": [
    "# Add 5 to every element in the 1D array.\n",
    "print(\"Array of 1 dimension is:\\n\",arr1)\n",
    "print(\"Upon adding 5, we get:\\n\",(arr1+5))"
   ]
  },
  {
   "cell_type": "code",
   "execution_count": 113,
   "metadata": {},
   "outputs": [
    {
     "name": "stdout",
     "output_type": "stream",
     "text": [
      "Array of 2 dimension is:\n",
      " [[  5   3   3]\n",
      " [  5   4   8]\n",
      " [100   6   2]]\n",
      "Upon muntiplying by 3 we get:\n",
      " [[ 15   9   9]\n",
      " [ 15  12  24]\n",
      " [300  18   6]]\n"
     ]
    }
   ],
   "source": [
    "# Multiply the 2D array by 3.\n",
    "print(\"Array of 2 dimension is:\\n\",arr2)\n",
    "print(\"Upon muntiplying by 3 we get:\\n\",arr2*3)"
   ]
  },
  {
   "cell_type": "code",
   "execution_count": 114,
   "metadata": {},
   "outputs": [
    {
     "name": "stdout",
     "output_type": "stream",
     "text": [
      "Product:\n",
      " [[19 22]\n",
      " [43 50]]\n"
     ]
    }
   ],
   "source": [
    "#Perform matrix multiplication between the following two arrays:\n",
    "A = np.array([[1, 2], [3, 4]])\n",
    "B = np.array([[5, 6], [7, 8]])\n",
    "arr_mun = np.dot(A,B)\n",
    "print(\"Product:\\n\",arr_mun)"
   ]
  },
  {
   "cell_type": "markdown",
   "metadata": {},
   "source": [
    "### **Understanding Broadcasting**\n",
    "\n",
    "Broadcasting allows NumPy to work with arrays of different shapes during arithmetic operations.\n",
    "\n",
    "**Task 6:**\n",
    "- Create a 3x3 matrix of ones and a 1D array of length 3.\n",
    "- Add the 1D array to each row of the matrix using broadcasting."
   ]
  },
  {
   "cell_type": "code",
   "execution_count": 115,
   "metadata": {},
   "outputs": [
    {
     "name": "stdout",
     "output_type": "stream",
     "text": [
      "Ones Array:\n",
      " [[1. 1. 1.]\n",
      " [1. 1. 1.]\n",
      " [1. 1. 1.]]\n",
      "1D Array:\n",
      " [1 2 3]\n",
      "Sum:\n",
      " [[2. 3. 4.]\n",
      " [2. 3. 4.]\n",
      " [2. 3. 4.]]\n"
     ]
    }
   ],
   "source": [
    "# Create a 3x3 matrix of ones and a 1D array of length 3.\n",
    "arr_ones = np.ones(shape = (3,3))\n",
    "print(\"Ones Array:\\n\",arr_ones)\n",
    "#Add the 1D array to each row of the matrix using broadcasting.\n",
    "arr5= np.array([1,2,3])\n",
    "print(\"1D Array:\\n\",arr5)\n",
    "arr_sum =arr5+arr_ones\n",
    "print(\"Sum:\\n\",arr_sum)\n"
   ]
  },
  {
   "cell_type": "code",
   "execution_count": null,
   "metadata": {},
   "outputs": [],
   "source": []
  }
 ],
 "metadata": {
  "kernelspec": {
   "display_name": "Python 3 (ipykernel)",
   "language": "python",
   "name": "python3"
  },
  "language_info": {
   "codemirror_mode": {
    "name": "ipython",
    "version": 3
   },
   "file_extension": ".py",
   "mimetype": "text/x-python",
   "name": "python",
   "nbconvert_exporter": "python",
   "pygments_lexer": "ipython3",
   "version": "3.13.1"
  }
 },
 "nbformat": 4,
 "nbformat_minor": 4
}
