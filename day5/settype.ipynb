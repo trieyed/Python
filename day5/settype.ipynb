{
 "cells": [
  {
   "cell_type": "markdown",
   "id": "e9ce2fd1-7d9a-4d19-a9d3-e4c6fe68a077",
   "metadata": {},
   "source": [
    "Python Set Type\n",
    "A set is unordered collection of unique elements in Python. Sets are mutable and are created ny using curly braces{} or by usint set() constructor."
   ]
  },
  {
   "cell_type": "code",
   "execution_count": 1,
   "id": "8b0937df-5669-4736-95bb-987d92395ac0",
   "metadata": {},
   "outputs": [],
   "source": [
    "#Creating a set\n",
    "my_set={1,8,9,5,7,2,3,5,8,9,5,6,7,8,90,1,2,3,0}"
   ]
  },
  {
   "cell_type": "code",
   "execution_count": 2,
   "id": "b6d1d452-c2c9-4c34-b51b-1c98bfceab5d",
   "metadata": {},
   "outputs": [
    {
     "data": {
      "text/plain": [
       "{0, 1, 2, 3, 5, 6, 7, 8, 9, 90}"
      ]
     },
     "execution_count": 2,
     "metadata": {},
     "output_type": "execute_result"
    }
   ],
   "source": [
    "my_set"
   ]
  },
  {
   "cell_type": "code",
   "execution_count": 3,
   "id": "bd6f6cbe-d251-4003-8189-28389ac5d254",
   "metadata": {},
   "outputs": [],
   "source": [
    "#Creating a set\n",
    "my_set1 = set ([ 1,8,9,5,7,2,3,0,355,24,24456,3455,128,32566,3354])"
   ]
  },
  {
   "cell_type": "code",
   "execution_count": 4,
   "id": "515b83ca-ab45-4d7e-a903-b25bdaca1411",
   "metadata": {},
   "outputs": [
    {
     "data": {
      "text/plain": [
       "{0, 1, 2, 3, 5, 7, 8, 9, 24, 128, 355, 3354, 3455, 24456, 32566}"
      ]
     },
     "execution_count": 4,
     "metadata": {},
     "output_type": "execute_result"
    }
   ],
   "source": [
    "my_set1"
   ]
  },
  {
   "cell_type": "markdown",
   "id": "62003ff7-de85-4638-958e-1cc702d95a9b",
   "metadata": {},
   "source": [
    "**SET OPERATION**"
   ]
  },
  {
   "cell_type": "code",
   "execution_count": 5,
   "id": "8880aa49-c04f-4b7e-91b8-a4ba7dd0ffea",
   "metadata": {},
   "outputs": [],
   "source": [
    "unionset = my_set.union(my_set1)"
   ]
  },
  {
   "cell_type": "code",
   "execution_count": 6,
   "id": "3218e8ce-9e55-43d1-9ff6-6a6c1fbc2875",
   "metadata": {},
   "outputs": [
    {
     "name": "stdout",
     "output_type": "stream",
     "text": [
      "{0, 1, 2, 3, 128, 5, 6, 7, 8, 9, 24456, 24, 90, 3354, 355, 32566, 3455}\n"
     ]
    }
   ],
   "source": [
    "print(unionset)"
   ]
  },
  {
   "cell_type": "code",
   "execution_count": 7,
   "id": "1e66a85a-6743-4526-8895-0a433fca6156",
   "metadata": {},
   "outputs": [],
   "source": [
    "intersection = my_set.intersection(my_set1)"
   ]
  },
  {
   "cell_type": "code",
   "execution_count": 8,
   "id": "dcc9b3ae-97ea-43bd-9563-edecb42dd69f",
   "metadata": {},
   "outputs": [
    {
     "data": {
      "text/plain": [
       "{0, 1, 2, 3, 5, 7, 8, 9}"
      ]
     },
     "execution_count": 8,
     "metadata": {},
     "output_type": "execute_result"
    }
   ],
   "source": [
    "intersection"
   ]
  },
  {
   "cell_type": "code",
   "execution_count": 9,
   "id": "ff4d444c-da71-4d56-be1b-a433d327cc5f",
   "metadata": {},
   "outputs": [
    {
     "data": {
      "text/plain": [
       "False"
      ]
     },
     "execution_count": 9,
     "metadata": {},
     "output_type": "execute_result"
    }
   ],
   "source": [
    "my_set1.isdisjoint(my_set)"
   ]
  },
  {
   "cell_type": "code",
   "execution_count": 13,
   "id": "a82ceec9-8df6-4a6d-b025-620e2eaee323",
   "metadata": {},
   "outputs": [],
   "source": [
    "set1 = my_set.difference(my_set1)"
   ]
  },
  {
   "cell_type": "code",
   "execution_count": 14,
   "id": "7174a5d3-a87a-4c08-895c-62369fb451de",
   "metadata": {},
   "outputs": [
    {
     "data": {
      "text/plain": [
       "{6, 90}"
      ]
     },
     "execution_count": 14,
     "metadata": {},
     "output_type": "execute_result"
    }
   ],
   "source": [
    "set1\n"
   ]
  },
  {
   "cell_type": "code",
   "execution_count": 15,
   "id": "06b309d1-13fc-4665-83f7-1f57a787e04e",
   "metadata": {},
   "outputs": [],
   "source": [
    "set2 = my_set1.difference(my_set)"
   ]
  },
  {
   "cell_type": "code",
   "execution_count": 16,
   "id": "9895c348-055c-4cfd-8f93-5429e136c9aa",
   "metadata": {},
   "outputs": [
    {
     "data": {
      "text/plain": [
       "{24, 128, 355, 3354, 3455, 24456, 32566}"
      ]
     },
     "execution_count": 16,
     "metadata": {},
     "output_type": "execute_result"
    }
   ],
   "source": [
    "set2"
   ]
  },
  {
   "cell_type": "code",
   "execution_count": 19,
   "id": "c5abbb5d-45bd-463a-abda-5c2e73d38405",
   "metadata": {},
   "outputs": [],
   "source": [
    "set3 = my_set.symmetric_difference(my_set1)"
   ]
  },
  {
   "cell_type": "code",
   "execution_count": 20,
   "id": "a7da94c8-7ebf-43a2-a6c6-fa28767f4685",
   "metadata": {},
   "outputs": [
    {
     "name": "stdout",
     "output_type": "stream",
     "text": [
      "{355, 128, 90, 24456, 6, 32566, 24, 3354, 3455}\n"
     ]
    }
   ],
   "source": [
    "print(set3)"
   ]
  },
  {
   "cell_type": "code",
   "execution_count": 22,
   "id": "f6803b20-a97b-4ee0-a880-c369dde37b7b",
   "metadata": {},
   "outputs": [
    {
     "data": {
      "text/plain": [
       "355"
      ]
     },
     "execution_count": 22,
     "metadata": {},
     "output_type": "execute_result"
    }
   ],
   "source": [
    "#in set pop removes and returns the first item \n",
    "set3.pop()"
   ]
  },
  {
   "cell_type": "code",
   "execution_count": 24,
   "id": "3295fd44-811a-4cc6-9668-7f29bcd740a3",
   "metadata": {},
   "outputs": [],
   "source": [
    "#removes certain chosen element\n",
    "set3.remove(90)"
   ]
  },
  {
   "cell_type": "code",
   "execution_count": 25,
   "id": "a4a1a93b-2844-4d80-8f84-1b2a020e6b48",
   "metadata": {},
   "outputs": [
    {
     "name": "stdout",
     "output_type": "stream",
     "text": [
      "{128, 24456, 6, 32566, 24, 3354, 3455}\n"
     ]
    }
   ],
   "source": [
    "print(set3)"
   ]
  },
  {
   "cell_type": "code",
   "execution_count": 26,
   "id": "a8ed1b0e-d379-4996-b23c-1323b1746c03",
   "metadata": {},
   "outputs": [],
   "source": [
    "#addas a new element\n",
    "set3.add(90)"
   ]
  },
  {
   "cell_type": "code",
   "execution_count": 27,
   "id": "0dac0e02-2ae1-4a56-8878-717bd5b2d606",
   "metadata": {},
   "outputs": [
    {
     "data": {
      "text/plain": [
       "{6, 24, 90, 128, 3354, 3455, 24456, 32566}"
      ]
     },
     "execution_count": 27,
     "metadata": {},
     "output_type": "execute_result"
    }
   ],
   "source": [
    "set3"
   ]
  },
  {
   "cell_type": "code",
   "execution_count": 28,
   "id": "b378e509-8bf6-43fa-95ca-4f2dd1188c24",
   "metadata": {},
   "outputs": [],
   "source": [
    "#removes element but doesnot prompt error if element not present\n",
    "set3.discard(200)"
   ]
  },
  {
   "cell_type": "code",
   "execution_count": 29,
   "id": "887b2719-3ca8-4ae5-9e5a-742a6e0b12d0",
   "metadata": {},
   "outputs": [
    {
     "data": {
      "text/plain": [
       "{6, 24, 90, 128, 3354, 3455, 24456, 32566}"
      ]
     },
     "execution_count": 29,
     "metadata": {},
     "output_type": "execute_result"
    }
   ],
   "source": [
    "set3"
   ]
  },
  {
   "cell_type": "code",
   "execution_count": 30,
   "id": "6baef585-e88e-40f8-8c6b-4fdae4e1b810",
   "metadata": {},
   "outputs": [],
   "source": [
    "set3.discard(90)"
   ]
  },
  {
   "cell_type": "code",
   "execution_count": 31,
   "id": "c2184f8b-d0f9-4db7-9a4c-ba6152bda27a",
   "metadata": {},
   "outputs": [
    {
     "data": {
      "text/plain": [
       "{6, 24, 128, 3354, 3455, 24456, 32566}"
      ]
     },
     "execution_count": 31,
     "metadata": {},
     "output_type": "execute_result"
    }
   ],
   "source": [
    "set3\n"
   ]
  },
  {
   "cell_type": "code",
   "execution_count": null,
   "id": "e008aeb3-9d9b-4e23-90a8-fdf773fb735a",
   "metadata": {},
   "outputs": [],
   "source": []
  }
 ],
 "metadata": {
  "kernelspec": {
   "display_name": "Python 3 (ipykernel)",
   "language": "python",
   "name": "python3"
  },
  "language_info": {
   "codemirror_mode": {
    "name": "ipython",
    "version": 3
   },
   "file_extension": ".py",
   "mimetype": "text/x-python",
   "name": "python",
   "nbconvert_exporter": "python",
   "pygments_lexer": "ipython3",
   "version": "3.13.1"
  }
 },
 "nbformat": 4,
 "nbformat_minor": 5
}
