{
 "cells": [
  {
   "cell_type": "markdown",
   "metadata": {},
   "source": [
    "### **Assignment: Introduction to Linear Algebra and NumPy**\n",
    "\n",
    "#### **Objective:**\n",
    "This assignment will help you build a solid understanding of basic Linear Algebra concepts using Python and the NumPy library. You'll learn to create and manipulate arrays, perform mathematical operations, and explore properties and methods of arrays."
   ]
  },
  {
   "cell_type": "markdown",
   "metadata": {},
   "source": [
    "\n",
    "### **Working with NumPy**\n",
    "\n",
    "NumPy is a powerful Python library for numerical computations, which allows easy manipulation of arrays and matrices."
   ]
  },
  {
   "cell_type": "markdown",
   "metadata": {},
   "source": [
    "**Task 1:** \n",
    "- Import the `numpy` library and check its version.\n"
   ]
  },
  {
   "cell_type": "code",
   "execution_count": 2,
   "metadata": {},
   "outputs": [
    {
     "name": "stdout",
     "output_type": "stream",
     "text": [
      "2.2.1\n"
     ]
    }
   ],
   "source": [
    "import numpy as np\n",
    "print(np.__version__)"
   ]
  },
  {
   "cell_type": "markdown",
   "metadata": {},
   "source": [
    "\n",
    "### **Creating a NumPy Array:**\n",
    "\n",
    "NumPy arrays are a powerful way to store and process large datasets. In this section, you will learn to create arrays.\n",
    "\n",
    "**Task 2:**\n",
    "- Create a 1D NumPy array from a Python list of numbers: `[1, 2, 3, 4, 5]`.\n",
    "- Create a 2D NumPy array of shape (3x3) using the numbers from 1 to 9.\n",
    "- Generate an array of 10 evenly spaced values between 0 and 5."
   ]
  },
  {
   "cell_type": "code",
   "execution_count": 3,
   "metadata": {},
   "outputs": [
    {
     "data": {
      "text/plain": [
       "array([1, 2, 3, 4, 5])"
      ]
     },
     "execution_count": 3,
     "metadata": {},
     "output_type": "execute_result"
    }
   ],
   "source": [
    "# Create a 1D NumPy array from a Python list of numbers: [1, 2, 3, 4, 5]\n",
    "lst = [1, 2, 3, 4, 5]\n",
    "arr1 = np.array(lst)\n",
    "arr1"
   ]
  },
  {
   "cell_type": "code",
   "execution_count": 4,
   "metadata": {},
   "outputs": [
    {
     "data": {
      "text/plain": [
       "array([[7, 8, 7],\n",
       "       [8, 5, 5],\n",
       "       [6, 6, 4]], dtype=int32)"
      ]
     },
     "execution_count": 4,
     "metadata": {},
     "output_type": "execute_result"
    }
   ],
   "source": [
    "# Create a 2D NumPy array of shape (3x3) using the numbers from 1 to 9.\n",
    "arr2 = np.random.randint(low = 1, high = 9, size = (3,3))\n",
    "arr2"
   ]
  },
  {
   "cell_type": "code",
   "execution_count": 5,
   "metadata": {},
   "outputs": [
    {
     "data": {
      "text/plain": [
       "array([0.        , 0.55555556, 1.11111111, 1.66666667, 2.22222222,\n",
       "       2.77777778, 3.33333333, 3.88888889, 4.44444444, 5.        ])"
      ]
     },
     "execution_count": 5,
     "metadata": {},
     "output_type": "execute_result"
    }
   ],
   "source": [
    "# Generate an array of 10 evenly spaced values between 0 and 5.\n",
    "np.linspace(start = 0, stop = 5, num=10)"
   ]
  },
  {
   "cell_type": "markdown",
   "metadata": {},
   "source": [
    "### **Indexing and Slicing Arrays:**\n",
    "\n",
    "Indexing and slicing allow you to access and modify specific elements of an array.\n",
    "\n",
    "**Task 3:**\n",
    "- Access the element in the second row, third column of the 2D array you created above.\n",
    "- Slice the first two rows and the first two columns from the same array.\n",
    "- Modify the value in the last row and first column to 100.\n"
   ]
  },
  {
   "cell_type": "code",
   "execution_count": 6,
   "metadata": {},
   "outputs": [
    {
     "data": {
      "text/plain": [
       "np.int32(5)"
      ]
     },
     "execution_count": 6,
     "metadata": {},
     "output_type": "execute_result"
    }
   ],
   "source": [
    "# Access the element in the second row, third column of the 2D array you created above.\n",
    "arr2[1][2]"
   ]
  },
  {
   "cell_type": "code",
   "execution_count": 7,
   "metadata": {},
   "outputs": [
    {
     "name": "stdout",
     "output_type": "stream",
     "text": [
      "[[7 8]\n",
      " [8 5]]\n"
     ]
    }
   ],
   "source": [
    "#Slice the first two rows and the first two columns from the same array.\n",
    "slice = arr2[:2,:2]\n",
    "print(slice)"
   ]
  },
  {
   "cell_type": "code",
   "execution_count": 8,
   "metadata": {},
   "outputs": [
    {
     "name": "stdout",
     "output_type": "stream",
     "text": [
      "[[  7   8   7]\n",
      " [  8   5   5]\n",
      " [100   6   4]]\n"
     ]
    }
   ],
   "source": [
    "#Modify the value in the last row and first column to 100.\n",
    "arr2[2,0]=100\n",
    "print(arr2)"
   ]
  },
  {
   "cell_type": "markdown",
   "metadata": {},
   "source": [
    "### **Properties and Methods of NumPy Arrays**\n",
    "\n",
    "NumPy arrays have several useful properties and methods.\n",
    "\n",
    "**Task 4:**\n",
    "- Find the shape, size, and data type of the 2D array.\n",
    "- Change the 1D array into a 2D array of shape (5,1).\n",
    "- Flatten a multi-dimensional array back into a 1D array."
   ]
  },
  {
   "cell_type": "code",
   "execution_count": 9,
   "metadata": {},
   "outputs": [
    {
     "name": "stdout",
     "output_type": "stream",
     "text": [
      "[[  7   8   7]\n",
      " [  8   5   5]\n",
      " [100   6   4]]\n",
      "\n",
      "shape: (3, 3)\n",
      "size: 9\n",
      "datatype: int32\n"
     ]
    }
   ],
   "source": [
    "# Find the shape, size, and data type of the 2D array.\n",
    "print(arr2)\n",
    "print(\"\\nshape:\",arr2.shape)\n",
    "print(\"size:\",arr2.size)\n",
    "print(\"datatype:\",arr2.dtype)"
   ]
  },
  {
   "cell_type": "code",
   "execution_count": 10,
   "metadata": {},
   "outputs": [
    {
     "name": "stdout",
     "output_type": "stream",
     "text": [
      "1D array:\n",
      " [2 9 9 5 1]\n",
      "2D array:\n",
      " [[2]\n",
      " [9]\n",
      " [9]\n",
      " [5]\n",
      " [1]]\n",
      "shape: (5, 1)\n"
     ]
    }
   ],
   "source": [
    "#Change the 1D array into a 2D array of shape (5,1).\n",
    "arr1=np.random.randint(1,10,size = 5)\n",
    "print(\"1D array:\\n\",arr1)\n",
    "\n",
    "reshaped= arr1.reshape(5,1)\n",
    "print(\"2D array:\\n\",reshaped)\n",
    "print(\"shape:\",reshaped.shape)"
   ]
  },
  {
   "cell_type": "code",
   "execution_count": 11,
   "metadata": {},
   "outputs": [
    {
     "name": "stdout",
     "output_type": "stream",
     "text": [
      "Multi dimensional array:\n",
      " [[[39 34 16]\n",
      "  [45 40 27]\n",
      "  [ 0 46 21]]\n",
      "\n",
      " [[23 42 40]\n",
      "  [ 3 14 35]\n",
      "  [ 9 44  1]]\n",
      "\n",
      " [[46 42 13]\n",
      "  [43 34 44]\n",
      "  [41 47 32]]\n",
      "\n",
      " [[36 15 37]\n",
      "  [44 15 32]\n",
      "  [40 23  6]]\n",
      "\n",
      " [[15 19  5]\n",
      "  [18 39 44]\n",
      "  [11  3 49]]\n",
      "\n",
      " [[16 32 24]\n",
      "  [15 22 23]\n",
      "  [27 13 33]]\n",
      "\n",
      " [[38 14 13]\n",
      "  [23  2 34]\n",
      "  [43 21  6]]\n",
      "\n",
      " [[ 8 26 48]\n",
      "  [21  8 26]\n",
      "  [41 33 22]]]\n"
     ]
    }
   ],
   "source": [
    "#Flatten a multi-dimensional array back into a 1D array.\n",
    "arr3 = np.random.randint(low = 0, high = 50,size = (8,3,3))\n",
    "print(\"Multi dimensional array:\\n\",arr3)"
   ]
  },
  {
   "cell_type": "code",
   "execution_count": 12,
   "metadata": {},
   "outputs": [
    {
     "name": "stdout",
     "output_type": "stream",
     "text": [
      "flattened array:\n",
      " [39 34 16 45 40 27  0 46 21 23 42 40  3 14 35  9 44  1 46 42 13 43 34 44\n",
      " 41 47 32 36 15 37 44 15 32 40 23  6 15 19  5 18 39 44 11  3 49 16 32 24\n",
      " 15 22 23 27 13 33 38 14 13 23  2 34 43 21  6  8 26 48 21  8 26 41 33 22]\n"
     ]
    }
   ],
   "source": [
    "flatten_array = arr3.flatten()\n",
    "print(\"flattened array:\\n\",flatten_array)"
   ]
  },
  {
   "cell_type": "markdown",
   "metadata": {},
   "source": [
    "### **Operations on NumPy Arrays**\n",
    "\n",
    "Perform operations such as addition, subtraction, multiplication, and matrix multiplication on arrays.\n",
    "\n",
    "**Task 5:**\n",
    "- Add 5 to every element in the 1D array.\n",
    "- Multiply the 2D array by 3.\n",
    "- Perform matrix multiplication between the following two arrays:  \n",
    "    ```python\n",
    "    A = np.array([[1, 2], [3, 4]])\n",
    "    B = np.array([[5, 6], [7, 8]])"
   ]
  },
  {
   "cell_type": "code",
   "execution_count": 13,
   "metadata": {},
   "outputs": [
    {
     "name": "stdout",
     "output_type": "stream",
     "text": [
      "Array of 1 dimension is:\n",
      " [2 9 9 5 1]\n",
      "Upon adding 5, we get:\n",
      " [ 7 14 14 10  6]\n"
     ]
    }
   ],
   "source": [
    "# Add 5 to every element in the 1D array.\n",
    "print(\"Array of 1 dimension is:\\n\",arr1)\n",
    "print(\"Upon adding 5, we get:\\n\",(arr1+5))"
   ]
  },
  {
   "cell_type": "code",
   "execution_count": 14,
   "metadata": {},
   "outputs": [
    {
     "name": "stdout",
     "output_type": "stream",
     "text": [
      "Array of 2 dimension is:\n",
      " [[  7   8   7]\n",
      " [  8   5   5]\n",
      " [100   6   4]]\n",
      "Upon muntiplying by 3 we get:\n",
      " [[ 21  24  21]\n",
      " [ 24  15  15]\n",
      " [300  18  12]]\n"
     ]
    }
   ],
   "source": [
    "# Multiply the 2D array by 3.\n",
    "print(\"Array of 2 dimension is:\\n\",arr2)\n",
    "print(\"Upon muntiplying by 3 we get:\\n\",arr2*3)"
   ]
  },
  {
   "cell_type": "code",
   "execution_count": 15,
   "metadata": {},
   "outputs": [
    {
     "name": "stdout",
     "output_type": "stream",
     "text": [
      "Product:\n",
      " [[19 22]\n",
      " [43 50]]\n"
     ]
    }
   ],
   "source": [
    "#Perform matrix multiplication between the following two arrays:\n",
    "A = np.array([[1, 2], [3, 4]])\n",
    "B = np.array([[5, 6], [7, 8]])\n",
    "arr_mun = np.dot(A,B)\n",
    "print(\"Product:\\n\",arr_mun)"
   ]
  },
  {
   "cell_type": "markdown",
   "metadata": {},
   "source": [
    "### **Understanding Broadcasting**\n",
    "\n",
    "Broadcasting allows NumPy to work with arrays of different shapes during arithmetic operations.\n",
    "\n",
    "**Task 6:**\n",
    "- Create a 3x3 matrix of ones and a 1D array of length 3.\n",
    "- Add the 1D array to each row of the matrix using broadcasting."
   ]
  },
  {
   "cell_type": "code",
   "execution_count": 17,
   "metadata": {},
   "outputs": [
    {
     "name": "stdout",
     "output_type": "stream",
     "text": [
      "Ones Array:\n",
      " [[1. 1. 1.]\n",
      " [1. 1. 1.]\n",
      " [1. 1. 1.]]\n",
      "1D Array:\n",
      " [5 8 0]\n",
      "Sum:\n",
      " [[6. 9. 1.]\n",
      " [6. 9. 1.]\n",
      " [6. 9. 1.]]\n"
     ]
    }
   ],
   "source": [
    "# Create a 3x3 matrix of ones and a 1D array of length 3.\n",
    "arr_ones = np.ones(shape = (3,3))\n",
    "print(\"Ones Array:\\n\",arr_ones)\n",
    "#Add the 1D array to each row of the matrix using broadcasting.\n",
    "arr5= np.array([5,8,0])\n",
    "print(\"1D Array:\\n\",arr5)\n",
    "arr_sum =arr5+arr_ones\n",
    "print(\"Sum:\\n\",arr_sum)\n"
   ]
  }
 ],
 "metadata": {
  "kernelspec": {
   "display_name": "Python 3",
   "language": "python",
   "name": "python3"
  },
  "language_info": {
   "codemirror_mode": {
    "name": "ipython",
    "version": 3
   },
   "file_extension": ".py",
   "mimetype": "text/x-python",
   "name": "python",
   "nbconvert_exporter": "python",
   "pygments_lexer": "ipython3",
   "version": "3.13.1"
  }
 },
 "nbformat": 4,
 "nbformat_minor": 4
}
