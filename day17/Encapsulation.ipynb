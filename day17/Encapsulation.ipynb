{
 "cells": [
  {
   "cell_type": "markdown",
   "id": "a1f21e3d-efc3-4de7-b939-7259e60a51bf",
   "metadata": {},
   "source": [
    "**Encapsulation**\n",
    "-"
   ]
  },
  {
   "cell_type": "code",
   "execution_count": 19,
   "id": "15e6c1a3-3752-41b0-99a2-f754745f5591",
   "metadata": {},
   "outputs": [],
   "source": [
    "class Example:\n",
    "    def __init__(self):\n",
    "        self.public = 1\n",
    "        self.__private = 2\n",
    "        self._protect = 3\n",
    "\n",
    "\n",
    "    def get_private(self):      # This method can access the private variable as it is inside the class.\n",
    "        return self.__private   \n",
    "\n",
    "    def public_method(self):\n",
    "        print(\"This is public\")\n",
    "        \n",
    "\n",
    "    def __private_method(self):\n",
    "        print(\"This is private\")\n",
    "\n",
    "    def _protected_method(self):\n",
    "        print(\"This is protected\")"
   ]
  },
  {
   "cell_type": "code",
   "execution_count": 20,
   "id": "15ec952e-7f71-4a1d-9ec4-76e6b6bd29f0",
   "metadata": {},
   "outputs": [],
   "source": [
    "obj = Example()"
   ]
  },
  {
   "cell_type": "code",
   "execution_count": 21,
   "id": "cc6b56ab-cce2-4143-b397-f82a07bc65cf",
   "metadata": {},
   "outputs": [
    {
     "data": {
      "text/plain": [
       "1"
      ]
     },
     "execution_count": 21,
     "metadata": {},
     "output_type": "execute_result"
    }
   ],
   "source": [
    "obj.public"
   ]
  },
  {
   "cell_type": "code",
   "execution_count": 22,
   "id": "9c96d669-ed50-41ea-bec0-aa9cbfd164f8",
   "metadata": {},
   "outputs": [
    {
     "data": {
      "text/plain": [
       "2"
      ]
     },
     "execution_count": 22,
     "metadata": {},
     "output_type": "execute_result"
    }
   ],
   "source": [
    "#obj.__private   #private object cant be accessed.\n",
    "obj.get_private()"
   ]
  },
  {
   "cell_type": "code",
   "execution_count": 23,
   "id": "14b906f9-e81e-402d-9868-45ee88effdd6",
   "metadata": {},
   "outputs": [
    {
     "data": {
      "text/plain": [
       "3"
      ]
     },
     "execution_count": 23,
     "metadata": {},
     "output_type": "execute_result"
    }
   ],
   "source": [
    "obj._protect"
   ]
  },
  {
   "cell_type": "code",
   "execution_count": 24,
   "id": "e83a4187-7d1a-4f27-a42d-9a3bc6a1dc07",
   "metadata": {},
   "outputs": [
    {
     "name": "stdout",
     "output_type": "stream",
     "text": [
      "This is public\n"
     ]
    }
   ],
   "source": [
    "obj.public_method()"
   ]
  },
  {
   "cell_type": "code",
   "execution_count": 25,
   "id": "2065f8d7-cca1-4eeb-b3dc-1cab8ab188b1",
   "metadata": {},
   "outputs": [
    {
     "name": "stdout",
     "output_type": "stream",
     "text": [
      "This is protected\n"
     ]
    }
   ],
   "source": [
    "obj._protected_method()"
   ]
  },
  {
   "cell_type": "code",
   "execution_count": 27,
   "id": "1b7d236c-c004-4e26-a3f6-fdfc93719dc9",
   "metadata": {},
   "outputs": [
    {
     "data": {
      "text/plain": [
       "2"
      ]
     },
     "execution_count": 27,
     "metadata": {},
     "output_type": "execute_result"
    }
   ],
   "source": [
    "# obj.__private_method()   #private cant be accessed\n",
    "\n",
    "obj.get_private()"
   ]
  },
  {
   "cell_type": "code",
   "execution_count": null,
   "id": "6ddc8609-6a2d-4d93-9b4d-fb7907eeafcd",
   "metadata": {},
   "outputs": [],
   "source": []
  },
  {
   "cell_type": "markdown",
   "id": "74ba4889-6bb3-4269-8552-d98958e2fd8e",
   "metadata": {},
   "source": [
    "*Accessing private variables using public method*\n",
    "-\n",
    "\n",
    "\n",
    "This can be done by creating a public function in the class that returns the variable of the base class. In this way, the method inside the class can access private variable and we can call the public function to access it."
   ]
  },
  {
   "cell_type": "code",
   "execution_count": 29,
   "id": "1d8fc6e0-7da4-48c9-b31e-188e6a2da60c",
   "metadata": {},
   "outputs": [
    {
     "data": {
      "text/plain": [
       "2"
      ]
     },
     "execution_count": 29,
     "metadata": {},
     "output_type": "execute_result"
    }
   ],
   "source": [
    "#obj.__private   #private object cant be accessed.\n",
    "obj.get_private()  # get_private() is a public method inside the clas which returns the variable __private."
   ]
  },
  {
   "cell_type": "code",
   "execution_count": null,
   "id": "914c2ab5-f9f2-4770-8aba-a2125d241182",
   "metadata": {},
   "outputs": [],
   "source": []
  },
  {
   "cell_type": "code",
   "execution_count": null,
   "id": "f795968b-8be3-45cb-b14a-56bb9886375c",
   "metadata": {},
   "outputs": [],
   "source": []
  },
  {
   "cell_type": "markdown",
   "id": "dfbefdac-a3cc-4843-8f57-7f2e6127cb52",
   "metadata": {},
   "source": [
    "**Polymorphism In Python**\n",
    "-\n",
    "\n",
    "1.*Method Overloading*  \n",
    "2.*Method Overriding*  \n",
    "3.*Operator Overloading*  \n",
    "4.*Duck Typing*  "
   ]
  },
  {
   "cell_type": "code",
   "execution_count": null,
   "id": "98e8b5a1-aff4-4ec5-972d-e6dba09cb3e4",
   "metadata": {},
   "outputs": [],
   "source": []
  }
 ],
 "metadata": {
  "kernelspec": {
   "display_name": "Python 3 (ipykernel)",
   "language": "python",
   "name": "python3"
  },
  "language_info": {
   "codemirror_mode": {
    "name": "ipython",
    "version": 3
   },
   "file_extension": ".py",
   "mimetype": "text/x-python",
   "name": "python",
   "nbconvert_exporter": "python",
   "pygments_lexer": "ipython3",
   "version": "3.13.1"
  }
 },
 "nbformat": 4,
 "nbformat_minor": 5
}
