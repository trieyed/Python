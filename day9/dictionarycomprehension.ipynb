{
 "cells": [
  {
   "cell_type": "markdown",
   "id": "924a8916-4727-46a3-9e0f-9084942e6933",
   "metadata": {},
   "source": [
    "**Dictionary Comprehension**\n",
    "---\n",
    "\n",
    "\n",
    "new_dict = { key_expression : value_expression for item in iterable if condition }\n"
   ]
  },
  {
   "cell_type": "code",
   "execution_count": 1,
   "id": "cfe7d329-60a4-4f5a-912f-b8e9ad8a2c49",
   "metadata": {},
   "outputs": [
    {
     "name": "stdout",
     "output_type": "stream",
     "text": [
      "{1: 1, 3: 9, 5: 25, 7: 49, 9: 81, 11: 121, 13: 169, 15: 225, 17: 289, 19: 361, 21: 441, 23: 529, 25: 625, 27: 729, 29: 841, 31: 961, 33: 1089, 35: 1225, 37: 1369, 39: 1521, 41: 1681, 43: 1849, 45: 2025, 47: 2209, 49: 2401}\n"
     ]
    }
   ],
   "source": [
    "#Usual Way\n",
    "odd_dict = {}\n",
    "for num in range(1,50,2):\n",
    "    odd_dict[num] = num**2\n",
    "print(odd_dict)"
   ]
  },
  {
   "cell_type": "code",
   "execution_count": 8,
   "id": "25a737bf-c8b4-46b8-956c-74501bb32300",
   "metadata": {},
   "outputs": [
    {
     "name": "stdout",
     "output_type": "stream",
     "text": [
      "{1: 1, 3: 9, 5: 25, 7: 49, 9: 81, 11: 121, 13: 169, 15: 225, 17: 289, 19: 361, 21: 441, 23: 529, 25: 625, 27: 729, 29: 841, 31: 961, 33: 1089, 35: 1225, 37: 1369, 39: 1521, 41: 1681, 43: 1849, 45: 2025, 47: 2209, 49: 2401}\n"
     ]
    }
   ],
   "source": [
    "#Dict Comprehension\n",
    "odd_dict = { num:num**2 for num in range(1,50,2)}\n",
    "print(odd_dict)"
   ]
  },
  {
   "cell_type": "code",
   "execution_count": 11,
   "id": "d106a448-1498-4885-922d-5893a197f64d",
   "metadata": {},
   "outputs": [
    {
     "name": "stdout",
     "output_type": "stream",
     "text": [
      "{2: 4, 4: 16, 6: 36, 8: 64, 10: 100, 12: 144, 14: 196, 16: 256, 18: 324, 20: 400, 22: 484, 24: 576, 26: 676, 28: 784, 30: 900, 32: 1024, 34: 1156, 36: 1296, 38: 1444, 40: 1600, 42: 1764, 44: 1936, 46: 2116, 48: 2304}\n"
     ]
    }
   ],
   "source": [
    "#Dict Comprehension\n",
    "even_dict = { num:num**2 for num in range(1,50) if num%2 == 0}\n",
    "print(even_dict)"
   ]
  },
  {
   "cell_type": "code",
   "execution_count": 15,
   "id": "945147ed-cea4-47e0-9e40-7c95439ff283",
   "metadata": {},
   "outputs": [
    {
     "name": "stdout",
     "output_type": "stream",
     "text": [
      "{1: 1, 2: 4, 3: 3, 4: 16, 5: 5, 6: 36, 7: 7, 8: 64, 9: 9, 10: 100, 11: 11, 12: 144, 13: 13, 14: 196, 15: 15, 16: 256, 17: 17, 18: 324, 19: 19, 20: 400, 21: 21, 22: 484, 23: 23, 24: 576, 25: 25, 26: 676, 27: 27, 28: 784, 29: 29, 30: 900, 31: 31, 32: 1024, 33: 33, 34: 1156, 35: 35, 36: 1296, 37: 37, 38: 1444, 39: 39, 40: 1600, 41: 41, 42: 1764, 43: 43, 44: 1936, 45: 45, 46: 2116, 47: 47, 48: 2304, 49: 49}\n"
     ]
    }
   ],
   "source": [
    "#Dict Comprehension\n",
    "evensqodd_dict = { num:num**2 if num%2 == 0 else num for num in range(1,50) }\n",
    "print(evensqodd_dict)"
   ]
  },
  {
   "cell_type": "code",
   "execution_count": null,
   "id": "1e95bc97-92f2-4893-a6c5-b1af570c36e1",
   "metadata": {},
   "outputs": [],
   "source": []
  },
  {
   "cell_type": "markdown",
   "id": "847c06e4-c812-4704-842c-063fe3b45916",
   "metadata": {},
   "source": [
    "Count number of letters for each words in following sentence. \n",
    "A single training set that has already been processed is usually split into several types of datasets in machine learning which is needed to check how well the training of the model went\n",
    "use dict comprehension\n",
    "{\"A\" : 1, \"single\":6 ...}\n",
    " "
   ]
  },
  {
   "cell_type": "code",
   "execution_count": 26,
   "id": "e2b114b3-3526-46c6-9888-4fbfad4c58b8",
   "metadata": {},
   "outputs": [
    {
     "name": "stdout",
     "output_type": "stream",
     "text": [
      "{'A': 1, 'single': 6, 'training': 8, 'set': 3, 'that': 4, 'has': 3, 'already': 7, 'been': 4, 'processed': 9, 'is': 2, 'usually': 7, 'split': 5, 'into': 4, 'several': 7, 'types': 5, 'of': 2, 'datasets': 8, 'in': 2, 'machine': 7, 'learning': 8, 'which': 5, 'needed': 6, 'to': 2, 'check': 5, 'how': 3, 'well': 4, 'the': 3, 'model': 5, 'went': 4}\n"
     ]
    }
   ],
   "source": [
    "str = \"A single training set that has already been processed is usually split into several types of datasets in machine learning which is needed to check how well the training of the model went\"\n",
    "str1 = str.split()\n",
    "count_str = { each:len(each) for each in str1 }\n",
    "print(count_str)"
   ]
  },
  {
   "cell_type": "code",
   "execution_count": 31,
   "id": "867b2dff-1ab9-4587-97ef-924e2fc08531",
   "metadata": {},
   "outputs": [
    {
     "name": "stdout",
     "output_type": "stream",
     "text": [
      "{'single': 6, 'training': 8, 'already': 7, 'processed': 9, 'usually': 7, 'several': 7, 'datasets': 8, 'machine': 7, 'learning': 8, 'needed': 6}\n"
     ]
    }
   ],
   "source": [
    "#Print only those whose length is greater than or equal to 5.\n",
    "str = \"A single training set that has already been processed is usually split into several types of datasets in machine learning which is needed to check how well the training of the model went\"\n",
    "str1 = str.split()\n",
    "count_str = { each:len(each) for each in str1 if len(each)>5 }\n",
    "print(count_str)"
   ]
  },
  {
   "cell_type": "code",
   "execution_count": null,
   "id": "7b96512d-c19b-48d3-a300-cdbc74454201",
   "metadata": {},
   "outputs": [],
   "source": [
    "\n"
   ]
  },
  {
   "cell_type": "code",
   "execution_count": null,
   "id": "c75b3b29-3c55-413f-9b63-287e4f1e27a2",
   "metadata": {},
   "outputs": [],
   "source": [
    "\n"
   ]
  },
  {
   "cell_type": "markdown",
   "id": "4f4bad74-f53a-4c33-810e-e792ccf1a905",
   "metadata": {},
   "source": [
    "**Set Comprehension**\n",
    "---\n",
    "\n",
    "provides compact syntax for mapping a given iterable to a new set by applying a specific expression to each element in the iterable.\n",
    "\n",
    "\n",
    "Syntax:\n",
    "\n",
    "\n",
    "\n",
    "`new_set = {expression for item in iterable if condition }\n",
    "`"
   ]
  },
  {
   "cell_type": "code",
   "execution_count": 36,
   "id": "9bcacb5f-1ac4-47f3-9508-b4a82e63d38f",
   "metadata": {},
   "outputs": [
    {
     "ename": "SyntaxError",
     "evalue": "invalid syntax (1582987265.py, line 1)",
     "output_type": "error",
     "traceback": [
      "\u001b[1;36m  Cell \u001b[1;32mIn[36], line 1\u001b[1;36m\u001b[0m\n\u001b[1;33m    squared_even = { x**2 for x in range (1,50) if x%2 == 0 else x**3}\u001b[0m\n\u001b[1;37m                                                            ^\u001b[0m\n\u001b[1;31mSyntaxError\u001b[0m\u001b[1;31m:\u001b[0m invalid syntax\n"
     ]
    }
   ],
   "source": [
    "#print square of the even number from 1 to 49.\n",
    "squared_even = { x**2 for x in range (1,50) if x%2 == 0 }\n",
    "print(squared_even)"
   ]
  },
  {
   "cell_type": "code",
   "execution_count": 35,
   "id": "8d7d7a8b-ef57-45f2-abef-97feaaf249bb",
   "metadata": {},
   "outputs": [
    {
     "data": {
      "text/plain": [
       "set"
      ]
     },
     "execution_count": 35,
     "metadata": {},
     "output_type": "execute_result"
    }
   ],
   "source": [
    "type(squared_even)"
   ]
  },
  {
   "cell_type": "code",
   "execution_count": 44,
   "id": "cabf6467-86cb-4d0f-aafb-7e8d2d4847ed",
   "metadata": {},
   "outputs": [
    {
     "name": "stdout",
     "output_type": "stream",
     "text": [
      "{256, 1024, 2304, 4, 900, 6, 1156, 8, 10, 12, 14, 16, 144, 18, 400, 20, 784, 22, 1296, 24, 1936, 26, 28, 30, 32, 34, 36, 676, 38, 1444, 40, 42, 44, 46, 48, 50, 52, 54, 64, 576, 1600, 196, 324, 2116, 100, 484, 1764}\n"
     ]
    }
   ],
   "source": [
    "#print square of the even number and sum with 5 for the odd number\n",
    "squared_even = {x**2  if x%2==0 else x+5 for x in range (1,50) }\n",
    "print(squared_even)"
   ]
  },
  {
   "cell_type": "code",
   "execution_count": 45,
   "id": "2c499839-668d-43cd-b32c-6755a88ba43a",
   "metadata": {},
   "outputs": [
    {
     "data": {
      "text/plain": [
       "set"
      ]
     },
     "execution_count": 45,
     "metadata": {},
     "output_type": "execute_result"
    }
   ],
   "source": [
    "type(squared_even)"
   ]
  },
  {
   "cell_type": "markdown",
   "id": "81278e06-3324-4a4d-b136-f35aa7ae29dd",
   "metadata": {},
   "source": [
    "Write a Python program that uses set comprehension to create a set of all unique vowels found in the following string: \"Set comprehensions can also be nested\""
   ]
  },
  {
   "cell_type": "code",
   "execution_count": 66,
   "id": "93fabe73-c1d7-4168-b07b-bbc892d257df",
   "metadata": {},
   "outputs": [
    {
     "name": "stdout",
     "output_type": "stream",
     "text": [
      "{'e', 'a', 'i', 'o'}\n"
     ]
    }
   ],
   "source": [
    "#in checks if the specified string si in the set(vowels) or not.\n",
    "sentence = \"Set comprehensions can be nested\"\n",
    "vowels = \"aeiou\"\n",
    "output = { char for char in sentence.lower() if char in set(vowels) }\n",
    "print(output)"
   ]
  },
  {
   "cell_type": "code",
   "execution_count": null,
   "id": "8c22f77c-ab4a-4f47-b63c-9e4430013d0b",
   "metadata": {},
   "outputs": [],
   "source": []
  },
  {
   "cell_type": "code",
   "execution_count": 73,
   "id": "f36d75e6-3e94-4382-8795-9a0c8171834f",
   "metadata": {},
   "outputs": [
    {
     "data": {
      "text/plain": [
       "{300: 20000, 700: 120000}"
      ]
     },
     "execution_count": 73,
     "metadata": {},
     "output_type": "execute_result"
    }
   ],
   "source": [
    "#return sum and product of the members in tuple set -->output in tuple\n",
    "{w+h:w*h for w,h in [(100,200), (400,300) ]}"
   ]
  },
  {
   "cell_type": "code",
   "execution_count": null,
   "id": "72ae9806-e9b1-44d4-9b90-48ca257448c4",
   "metadata": {},
   "outputs": [],
   "source": []
  }
 ],
 "metadata": {
  "kernelspec": {
   "display_name": "Python 3 (ipykernel)",
   "language": "python",
   "name": "python3"
  },
  "language_info": {
   "codemirror_mode": {
    "name": "ipython",
    "version": 3
   },
   "file_extension": ".py",
   "mimetype": "text/x-python",
   "name": "python",
   "nbconvert_exporter": "python",
   "pygments_lexer": "ipython3",
   "version": "3.13.1"
  }
 },
 "nbformat": 4,
 "nbformat_minor": 5
}
