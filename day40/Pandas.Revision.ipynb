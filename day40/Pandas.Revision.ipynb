{
 "cells": [
  {
   "cell_type": "code",
   "execution_count": 70,
   "id": "c6120ef5-186f-464c-8e1a-a7bc2e05ec98",
   "metadata": {},
   "outputs": [],
   "source": [
    "import pandas as pd\n",
    "import seaborn as sns\n",
    "import scipy.stats as stats"
   ]
  },
  {
   "cell_type": "code",
   "execution_count": 35,
   "id": "be6b3730-23f9-4665-b477-1fbd69468f80",
   "metadata": {},
   "outputs": [],
   "source": [
    "columns_name = [\n",
    "    'timestamp','sex','matric_gpa_%' ,'study_year','faculty','gpa_%_2023','accommodation_status',\n",
    "    'monthly_allowance','scholarship','study_hours_week','socialising_week','drinks_night',\n",
    "    'classes_missed','modules_failed','in_relationship','parental_approval','relationship_parents'\n",
    "]"
   ]
  },
  {
   "cell_type": "code",
   "execution_count": 36,
   "id": "7615f1e8-1091-44c8-ad8d-e627155f12c4",
   "metadata": {},
   "outputs": [],
   "source": [
    "student_data = pd.read_csv(\"Stats survey.csv\",names = columns_name,header = 0)"
   ]
  },
  {
   "cell_type": "code",
   "execution_count": 37,
   "id": "f95102bf-b752-47b0-88f5-8f7c99740689",
   "metadata": {},
   "outputs": [
    {
     "data": {
      "text/html": [
       "<div>\n",
       "<style scoped>\n",
       "    .dataframe tbody tr th:only-of-type {\n",
       "        vertical-align: middle;\n",
       "    }\n",
       "\n",
       "    .dataframe tbody tr th {\n",
       "        vertical-align: top;\n",
       "    }\n",
       "\n",
       "    .dataframe thead th {\n",
       "        text-align: right;\n",
       "    }\n",
       "</style>\n",
       "<table border=\"1\" class=\"dataframe\">\n",
       "  <thead>\n",
       "    <tr style=\"text-align: right;\">\n",
       "      <th></th>\n",
       "      <th>timestamp</th>\n",
       "      <th>sex</th>\n",
       "      <th>matric_gpa_%</th>\n",
       "      <th>study_year</th>\n",
       "      <th>faculty</th>\n",
       "      <th>gpa_%_2023</th>\n",
       "      <th>accommodation_status</th>\n",
       "      <th>monthly_allowance</th>\n",
       "      <th>scholarship</th>\n",
       "      <th>study_hours_week</th>\n",
       "      <th>socialising_week</th>\n",
       "      <th>drinks_night</th>\n",
       "      <th>classes_missed</th>\n",
       "      <th>modules_failed</th>\n",
       "      <th>in_relationship</th>\n",
       "      <th>parental_approval</th>\n",
       "      <th>relationship_parents</th>\n",
       "    </tr>\n",
       "  </thead>\n",
       "  <tbody>\n",
       "    <tr>\n",
       "      <th>0</th>\n",
       "      <td>2024/03/07 5:12:01 pm EET</td>\n",
       "      <td>Female</td>\n",
       "      <td>76.0</td>\n",
       "      <td>2nd Year</td>\n",
       "      <td>Arts &amp; Social Sciences</td>\n",
       "      <td>72.0</td>\n",
       "      <td>Private accommodation/ stay with family/friends</td>\n",
       "      <td>R 4001- R 5000</td>\n",
       "      <td>No</td>\n",
       "      <td>8+</td>\n",
       "      <td>Only weekends</td>\n",
       "      <td>8+</td>\n",
       "      <td>3</td>\n",
       "      <td>0</td>\n",
       "      <td>Yes</td>\n",
       "      <td>Yes</td>\n",
       "      <td>Very close</td>\n",
       "    </tr>\n",
       "    <tr>\n",
       "      <th>1</th>\n",
       "      <td>2024/03/07 5:12:08 pm EET</td>\n",
       "      <td>Male</td>\n",
       "      <td>89.0</td>\n",
       "      <td>2nd Year</td>\n",
       "      <td>Economic &amp; Management Sciences</td>\n",
       "      <td>75.0</td>\n",
       "      <td>Private accommodation/ stay with family/friends</td>\n",
       "      <td>R 7001 - R 8000</td>\n",
       "      <td>Yes (NSFAS, etc...)</td>\n",
       "      <td>8+</td>\n",
       "      <td>Only weekends</td>\n",
       "      <td>3-5</td>\n",
       "      <td>4+</td>\n",
       "      <td>0</td>\n",
       "      <td>No</td>\n",
       "      <td>Yes</td>\n",
       "      <td>Very close</td>\n",
       "    </tr>\n",
       "    <tr>\n",
       "      <th>2</th>\n",
       "      <td>2024/03/07 5:12:25 pm EET</td>\n",
       "      <td>Male</td>\n",
       "      <td>76.0</td>\n",
       "      <td>1st Year</td>\n",
       "      <td>AgriSciences</td>\n",
       "      <td>55.0</td>\n",
       "      <td>Private accommodation/ stay with family/friends</td>\n",
       "      <td>R 4001- R 5000</td>\n",
       "      <td>No</td>\n",
       "      <td>3-5</td>\n",
       "      <td>2</td>\n",
       "      <td>8+</td>\n",
       "      <td>3</td>\n",
       "      <td>0</td>\n",
       "      <td>No</td>\n",
       "      <td>Yes</td>\n",
       "      <td>Very close</td>\n",
       "    </tr>\n",
       "    <tr>\n",
       "      <th>3</th>\n",
       "      <td>2024/03/07 5:12:28 pm EET</td>\n",
       "      <td>Male</td>\n",
       "      <td>89.0</td>\n",
       "      <td>2nd Year</td>\n",
       "      <td>Engineering</td>\n",
       "      <td>84.0</td>\n",
       "      <td>Private accommodation/ stay with family/friends</td>\n",
       "      <td>R 6001 - R 7000</td>\n",
       "      <td>No</td>\n",
       "      <td>3-5</td>\n",
       "      <td>3</td>\n",
       "      <td>8+</td>\n",
       "      <td>2</td>\n",
       "      <td>0</td>\n",
       "      <td>Yes</td>\n",
       "      <td>Yes</td>\n",
       "      <td>Very close</td>\n",
       "    </tr>\n",
       "    <tr>\n",
       "      <th>4</th>\n",
       "      <td>2024/03/07 5:13:00 pm EET</td>\n",
       "      <td>Female</td>\n",
       "      <td>74.0</td>\n",
       "      <td>2nd Year</td>\n",
       "      <td>Arts &amp; Social Sciences</td>\n",
       "      <td>52.0</td>\n",
       "      <td>Private accommodation/ stay with family/friends</td>\n",
       "      <td>R 4001- R 5000</td>\n",
       "      <td>No</td>\n",
       "      <td>3-5</td>\n",
       "      <td>Only weekends</td>\n",
       "      <td>5-8</td>\n",
       "      <td>1</td>\n",
       "      <td>3</td>\n",
       "      <td>No</td>\n",
       "      <td>Yes</td>\n",
       "      <td>Fair</td>\n",
       "    </tr>\n",
       "  </tbody>\n",
       "</table>\n",
       "</div>"
      ],
      "text/plain": [
       "                   timestamp     sex  matric_gpa_% study_year  \\\n",
       "0  2024/03/07 5:12:01 pm EET  Female          76.0   2nd Year   \n",
       "1  2024/03/07 5:12:08 pm EET    Male          89.0   2nd Year   \n",
       "2  2024/03/07 5:12:25 pm EET    Male          76.0   1st Year   \n",
       "3  2024/03/07 5:12:28 pm EET    Male          89.0   2nd Year   \n",
       "4  2024/03/07 5:13:00 pm EET  Female          74.0   2nd Year   \n",
       "\n",
       "                          faculty  gpa_%_2023  \\\n",
       "0          Arts & Social Sciences        72.0   \n",
       "1  Economic & Management Sciences        75.0   \n",
       "2                    AgriSciences        55.0   \n",
       "3                     Engineering        84.0   \n",
       "4          Arts & Social Sciences        52.0   \n",
       "\n",
       "                              accommodation_status monthly_allowance  \\\n",
       "0  Private accommodation/ stay with family/friends    R 4001- R 5000   \n",
       "1  Private accommodation/ stay with family/friends   R 7001 - R 8000   \n",
       "2  Private accommodation/ stay with family/friends    R 4001- R 5000   \n",
       "3  Private accommodation/ stay with family/friends   R 6001 - R 7000   \n",
       "4  Private accommodation/ stay with family/friends    R 4001- R 5000   \n",
       "\n",
       "           scholarship study_hours_week socialising_week drinks_night  \\\n",
       "0                   No               8+    Only weekends           8+   \n",
       "1  Yes (NSFAS, etc...)               8+    Only weekends          3-5   \n",
       "2                   No              3-5                2           8+   \n",
       "3                   No              3-5                3           8+   \n",
       "4                   No              3-5    Only weekends          5-8   \n",
       "\n",
       "  classes_missed modules_failed in_relationship parental_approval  \\\n",
       "0              3              0             Yes               Yes   \n",
       "1             4+              0              No               Yes   \n",
       "2              3              0              No               Yes   \n",
       "3              2              0             Yes               Yes   \n",
       "4              1              3              No               Yes   \n",
       "\n",
       "  relationship_parents  \n",
       "0           Very close  \n",
       "1           Very close  \n",
       "2           Very close  \n",
       "3           Very close  \n",
       "4                 Fair  "
      ]
     },
     "execution_count": 37,
     "metadata": {},
     "output_type": "execute_result"
    }
   ],
   "source": [
    "student_data.head()"
   ]
  },
  {
   "cell_type": "code",
   "execution_count": 38,
   "id": "035a2308-2b6d-4470-925b-358246a6418a",
   "metadata": {},
   "outputs": [
    {
     "name": "stdout",
     "output_type": "stream",
     "text": [
      "<class 'pandas.core.frame.DataFrame'>\n",
      "RangeIndex: 406 entries, 0 to 405\n",
      "Data columns (total 17 columns):\n",
      " #   Column                Non-Null Count  Dtype  \n",
      "---  ------                --------------  -----  \n",
      " 0   timestamp             406 non-null    object \n",
      " 1   sex                   404 non-null    object \n",
      " 2   matric_gpa_%          399 non-null    float64\n",
      " 3   study_year            333 non-null    object \n",
      " 4   faculty               399 non-null    object \n",
      " 5   gpa_%_2023            320 non-null    float64\n",
      " 6   accommodation_status  383 non-null    object \n",
      " 7   monthly_allowance     375 non-null    object \n",
      " 8   scholarship           398 non-null    object \n",
      " 9   study_hours_week      403 non-null    object \n",
      " 10  socialising_week      404 non-null    object \n",
      " 11  drinks_night          404 non-null    object \n",
      " 12  classes_missed        403 non-null    object \n",
      " 13  modules_failed        403 non-null    object \n",
      " 14  in_relationship       403 non-null    object \n",
      " 15  parental_approval     402 non-null    object \n",
      " 16  relationship_parents  403 non-null    object \n",
      "dtypes: float64(2), object(15)\n",
      "memory usage: 54.1+ KB\n"
     ]
    }
   ],
   "source": [
    "student_data.info()"
   ]
  },
  {
   "cell_type": "markdown",
   "id": "4f8e63a4-4186-4b6e-8e46-44fce612d7f9",
   "metadata": {},
   "source": [
    "## Exploratory Data Analysis\n",
    "* Shape: Rows and Columns\n",
    "* Data Types\n",
    "* No. of missing values\n",
    "* Categorical value count\n",
    "* Visualization\n",
    "* Correlation\n",
    "* Outliers"
   ]
  },
  {
   "cell_type": "code",
   "execution_count": 39,
   "id": "7ee5cadb-b38e-43d5-baf7-fb41c33f4637",
   "metadata": {},
   "outputs": [
    {
     "name": "stdout",
     "output_type": "stream",
     "text": [
      "<class 'pandas.core.frame.DataFrame'>\n",
      "RangeIndex: 406 entries, 0 to 405\n",
      "Data columns (total 17 columns):\n",
      " #   Column                Non-Null Count  Dtype  \n",
      "---  ------                --------------  -----  \n",
      " 0   timestamp             406 non-null    object \n",
      " 1   sex                   404 non-null    object \n",
      " 2   matric_gpa_%          399 non-null    float64\n",
      " 3   study_year            333 non-null    object \n",
      " 4   faculty               399 non-null    object \n",
      " 5   gpa_%_2023            320 non-null    float64\n",
      " 6   accommodation_status  383 non-null    object \n",
      " 7   monthly_allowance     375 non-null    object \n",
      " 8   scholarship           398 non-null    object \n",
      " 9   study_hours_week      403 non-null    object \n",
      " 10  socialising_week      404 non-null    object \n",
      " 11  drinks_night          404 non-null    object \n",
      " 12  classes_missed        403 non-null    object \n",
      " 13  modules_failed        403 non-null    object \n",
      " 14  in_relationship       403 non-null    object \n",
      " 15  parental_approval     402 non-null    object \n",
      " 16  relationship_parents  403 non-null    object \n",
      "dtypes: float64(2), object(15)\n",
      "memory usage: 54.1+ KB\n"
     ]
    }
   ],
   "source": [
    "## Lets start by finding basic information.\n",
    "student_data.info()"
   ]
  },
  {
   "cell_type": "code",
   "execution_count": null,
   "id": "8685edab-43f1-4e3f-ab24-6c63acc4c739",
   "metadata": {},
   "outputs": [],
   "source": []
  },
  {
   "cell_type": "markdown",
   "id": "5894edfd-7e3a-4de4-be28-e2cda75a1d8b",
   "metadata": {},
   "source": [
    "**From this, we found that there are 406 rows and 17 columns.  \n",
    "Also, we found out that there are null values in many rows.  \n",
    "The datatype is float.  \n",
    "We also know about the columns present in the given data and identify the columns not needed to us(like the timestamp column).**"
   ]
  },
  {
   "cell_type": "code",
   "execution_count": 40,
   "id": "e4607ad4-e911-4a3d-bd33-c082225c0445",
   "metadata": {},
   "outputs": [
    {
     "data": {
      "text/plain": [
       "sex\n",
       "Male      216\n",
       "Female    188\n",
       "Name: count, dtype: int64"
      ]
     },
     "execution_count": 40,
     "metadata": {},
     "output_type": "execute_result"
    }
   ],
   "source": [
    "#Lets find out the number and percentage of males and females.\n",
    "student_data[\"sex\"].value_counts()"
   ]
  },
  {
   "cell_type": "markdown",
   "id": "c5573ea4-b809-451a-8419-59b601c9632b",
   "metadata": {},
   "source": [
    "In this survey of 406 students, it was found that there are 216 males and 188 females."
   ]
  },
  {
   "cell_type": "code",
   "execution_count": 41,
   "id": "08771fa7-fdf7-4116-a3f7-092116915102",
   "metadata": {},
   "outputs": [
    {
     "data": {
      "text/plain": [
       "sex\n",
       "Male      0.534653\n",
       "Female    0.465347\n",
       "Name: proportion, dtype: float64"
      ]
     },
     "execution_count": 41,
     "metadata": {},
     "output_type": "execute_result"
    }
   ],
   "source": [
    "#Let's find out the percentage of males and females by normalizing the value count.\n",
    "student_data[\"sex\"].value_counts(normalize=True)"
   ]
  },
  {
   "cell_type": "markdown",
   "id": "d899a43a-195f-4e9c-a237-5e54443afdfc",
   "metadata": {},
   "source": [
    "Proportion of male and female is 0.53 to 0.46. It means there are 53.46% male students and 36.53% females."
   ]
  },
  {
   "cell_type": "code",
   "execution_count": 42,
   "id": "b0f6c65c-a340-4745-ac36-59e13be2ae9f",
   "metadata": {},
   "outputs": [
    {
     "data": {
      "text/html": [
       "<div>\n",
       "<style scoped>\n",
       "    .dataframe tbody tr th:only-of-type {\n",
       "        vertical-align: middle;\n",
       "    }\n",
       "\n",
       "    .dataframe tbody tr th {\n",
       "        vertical-align: top;\n",
       "    }\n",
       "\n",
       "    .dataframe thead th {\n",
       "        text-align: right;\n",
       "    }\n",
       "</style>\n",
       "<table border=\"1\" class=\"dataframe\">\n",
       "  <thead>\n",
       "    <tr style=\"text-align: right;\">\n",
       "      <th>relationship_parents</th>\n",
       "      <th>Close</th>\n",
       "      <th>Distant</th>\n",
       "      <th>Fair</th>\n",
       "      <th>Very close</th>\n",
       "    </tr>\n",
       "    <tr>\n",
       "      <th>parental_approval</th>\n",
       "      <th></th>\n",
       "      <th></th>\n",
       "      <th></th>\n",
       "      <th></th>\n",
       "    </tr>\n",
       "  </thead>\n",
       "  <tbody>\n",
       "    <tr>\n",
       "      <th>No</th>\n",
       "      <td>18</td>\n",
       "      <td>1</td>\n",
       "      <td>9</td>\n",
       "      <td>20</td>\n",
       "    </tr>\n",
       "    <tr>\n",
       "      <th>Yes</th>\n",
       "      <td>79</td>\n",
       "      <td>1</td>\n",
       "      <td>25</td>\n",
       "      <td>248</td>\n",
       "    </tr>\n",
       "  </tbody>\n",
       "</table>\n",
       "</div>"
      ],
      "text/plain": [
       "relationship_parents  Close  Distant  Fair  Very close\n",
       "parental_approval                                     \n",
       "No                       18        1     9          20\n",
       "Yes                      79        1    25         248"
      ]
     },
     "execution_count": 42,
     "metadata": {},
     "output_type": "execute_result"
    }
   ],
   "source": [
    "# Let's analyze the relation between student's parental approval and student's relation with parents \n",
    "table = pd.crosstab(student_data.parental_approval,student_data.relationship_parents)\n",
    "table"
   ]
  },
  {
   "cell_type": "code",
   "execution_count": 43,
   "id": "2447dc07-ecfb-474c-becd-a3a87842dfa6",
   "metadata": {},
   "outputs": [
    {
     "data": {
      "text/html": [
       "<div>\n",
       "<style scoped>\n",
       "    .dataframe tbody tr th:only-of-type {\n",
       "        vertical-align: middle;\n",
       "    }\n",
       "\n",
       "    .dataframe tbody tr th {\n",
       "        vertical-align: top;\n",
       "    }\n",
       "\n",
       "    .dataframe thead th {\n",
       "        text-align: right;\n",
       "    }\n",
       "</style>\n",
       "<table border=\"1\" class=\"dataframe\">\n",
       "  <thead>\n",
       "    <tr style=\"text-align: right;\">\n",
       "      <th>parental_approval</th>\n",
       "      <th>No</th>\n",
       "      <th>Yes</th>\n",
       "    </tr>\n",
       "    <tr>\n",
       "      <th>relationship_parents</th>\n",
       "      <th></th>\n",
       "      <th></th>\n",
       "    </tr>\n",
       "  </thead>\n",
       "  <tbody>\n",
       "    <tr>\n",
       "      <th>Close</th>\n",
       "      <td>18</td>\n",
       "      <td>79</td>\n",
       "    </tr>\n",
       "    <tr>\n",
       "      <th>Distant</th>\n",
       "      <td>1</td>\n",
       "      <td>1</td>\n",
       "    </tr>\n",
       "    <tr>\n",
       "      <th>Fair</th>\n",
       "      <td>9</td>\n",
       "      <td>25</td>\n",
       "    </tr>\n",
       "    <tr>\n",
       "      <th>Very close</th>\n",
       "      <td>20</td>\n",
       "      <td>248</td>\n",
       "    </tr>\n",
       "  </tbody>\n",
       "</table>\n",
       "</div>"
      ],
      "text/plain": [
       "parental_approval     No  Yes\n",
       "relationship_parents         \n",
       "Close                 18   79\n",
       "Distant                1    1\n",
       "Fair                   9   25\n",
       "Very close            20  248"
      ]
     },
     "execution_count": 43,
     "metadata": {},
     "output_type": "execute_result"
    }
   ],
   "source": [
    "#Let's transpose to see the table more properly.\n",
    "table.T "
   ]
  },
  {
   "cell_type": "code",
   "execution_count": 44,
   "id": "dccbcd51-b8fd-4510-8dbc-eb362e7a3d7b",
   "metadata": {},
   "outputs": [
    {
     "data": {
      "text/plain": [
       "<Axes: xlabel='relationship_parents'>"
      ]
     },
     "execution_count": 44,
     "metadata": {},
     "output_type": "execute_result"
    },
    {
     "data": {
      "image/png": "[encoded data removed]",
      "text/plain": [
       "<Figure size 640x480 with 1 Axes>"
      ]
     },
     "metadata": {},
     "output_type": "display_data"
    }
   ],
   "source": [
    "#Let's plot it in line and understand it better.\n",
    "table.T.plot.line()"
   ]
  },
  {
   "cell_type": "markdown",
   "id": "5cbb158e-9611-485a-b749-0571d70d742c",
   "metadata": {},
   "source": [
    "**The graph visualizes the relationship between students' parental approval and their relationship with their parents. The x-axis represents different levels of the student-parent relationship (Close, Distant, Fair, Very Close), while the y-axis shows the count of parental approval responses. The lines differentiate between \"Yes\" (approval) and \"No\" (disapproval). The \"Yes\" approval count is significantly higher when students have a \"Very Close\" relationship with their parents, while it drops sharply for \"Distant\" relationships. The \"No\" approval count remains relatively low and stable across all categories.**"
   ]
  },
  {
   "cell_type": "code",
   "execution_count": 45,
   "id": "21a1a951-e964-4db6-b1e5-acb8189d302e",
   "metadata": {},
   "outputs": [
    {
     "data": {
      "text/plain": [
       "faculty\n",
       "Economic & Management Sciences    211\n",
       "Science                            56\n",
       "Arts & Social Sciences             47\n",
       "Engineering                        37\n",
       "AgriSciences                       22\n",
       "Medicine and Health Services       10\n",
       "Law                                10\n",
       "Education                           6\n",
       "Name: count, dtype: int64"
      ]
     },
     "execution_count": 45,
     "metadata": {},
     "output_type": "execute_result"
    }
   ],
   "source": [
    "student_data.faculty.value_counts()"
   ]
  },
  {
   "cell_type": "code",
   "execution_count": 54,
   "id": "a1cdcb63-d143-4b14-bac9-e817fe32f0b1",
   "metadata": {},
   "outputs": [],
   "source": [
    "# Lets find out the minimum and average marks required to study eco in the college."
   ]
  },
  {
   "cell_type": "code",
   "execution_count": 46,
   "id": "f9ed0f6a-96e3-4040-aca2-8afa10f7076f",
   "metadata": {},
   "outputs": [
    {
     "data": {
      "text/plain": [
       "0              Arts & Social Sciences\n",
       "1      Economic & Management Sciences\n",
       "2                        AgriSciences\n",
       "3                         Engineering\n",
       "4              Arts & Social Sciences\n",
       "                    ...              \n",
       "401                           Science\n",
       "402    Economic & Management Sciences\n",
       "403                               NaN\n",
       "404    Economic & Management Sciences\n",
       "405                               NaN\n",
       "Name: faculty, Length: 406, dtype: object"
      ]
     },
     "execution_count": 46,
     "metadata": {},
     "output_type": "execute_result"
    }
   ],
   "source": [
    "avg_eco"
   ]
  },
  {
   "cell_type": "code",
   "execution_count": null,
   "id": "94439475-fd2f-4207-a565-448e28354b69",
   "metadata": {},
   "outputs": [],
   "source": []
  },
  {
   "cell_type": "code",
   "execution_count": 55,
   "id": "952d3529-6c00-40c3-9dbc-b943d47dbd71",
   "metadata": {},
   "outputs": [],
   "source": [
    "#Let's group the whole data by faculty.\n",
    "group_faculty = student_data.groupby(by=\"faculty\")"
   ]
  },
  {
   "cell_type": "code",
   "execution_count": 56,
   "id": "3297b02a-ab55-4da7-9fe2-de54744c5636",
   "metadata": {},
   "outputs": [
    {
     "data": {
      "text/html": [
       "<div>\n",
       "<style scoped>\n",
       "    .dataframe tbody tr th:only-of-type {\n",
       "        vertical-align: middle;\n",
       "    }\n",
       "\n",
       "    .dataframe tbody tr th {\n",
       "        vertical-align: top;\n",
       "    }\n",
       "\n",
       "    .dataframe thead th {\n",
       "        text-align: right;\n",
       "    }\n",
       "</style>\n",
       "<table border=\"1\" class=\"dataframe\">\n",
       "  <thead>\n",
       "    <tr style=\"text-align: right;\">\n",
       "      <th></th>\n",
       "      <th>count</th>\n",
       "      <th>mean</th>\n",
       "      <th>std</th>\n",
       "      <th>min</th>\n",
       "      <th>25%</th>\n",
       "      <th>50%</th>\n",
       "      <th>75%</th>\n",
       "      <th>max</th>\n",
       "    </tr>\n",
       "    <tr>\n",
       "      <th>faculty</th>\n",
       "      <th></th>\n",
       "      <th></th>\n",
       "      <th></th>\n",
       "      <th></th>\n",
       "      <th></th>\n",
       "      <th></th>\n",
       "      <th></th>\n",
       "      <th></th>\n",
       "    </tr>\n",
       "  </thead>\n",
       "  <tbody>\n",
       "    <tr>\n",
       "      <th>AgriSciences</th>\n",
       "      <td>22.0</td>\n",
       "      <td>74.772727</td>\n",
       "      <td>5.706569</td>\n",
       "      <td>66.0</td>\n",
       "      <td>70.00</td>\n",
       "      <td>75.0</td>\n",
       "      <td>77.00</td>\n",
       "      <td>86.0</td>\n",
       "    </tr>\n",
       "    <tr>\n",
       "      <th>Arts &amp; Social Sciences</th>\n",
       "      <td>46.0</td>\n",
       "      <td>75.969565</td>\n",
       "      <td>5.864237</td>\n",
       "      <td>60.0</td>\n",
       "      <td>72.25</td>\n",
       "      <td>76.0</td>\n",
       "      <td>80.75</td>\n",
       "      <td>85.0</td>\n",
       "    </tr>\n",
       "    <tr>\n",
       "      <th>Economic &amp; Management Sciences</th>\n",
       "      <td>210.0</td>\n",
       "      <td>76.977095</td>\n",
       "      <td>7.577566</td>\n",
       "      <td>34.0</td>\n",
       "      <td>73.00</td>\n",
       "      <td>77.0</td>\n",
       "      <td>82.00</td>\n",
       "      <td>99.0</td>\n",
       "    </tr>\n",
       "    <tr>\n",
       "      <th>Education</th>\n",
       "      <td>6.0</td>\n",
       "      <td>76.000000</td>\n",
       "      <td>4.857983</td>\n",
       "      <td>71.0</td>\n",
       "      <td>72.00</td>\n",
       "      <td>75.5</td>\n",
       "      <td>79.75</td>\n",
       "      <td>82.0</td>\n",
       "    </tr>\n",
       "    <tr>\n",
       "      <th>Engineering</th>\n",
       "      <td>36.0</td>\n",
       "      <td>83.691667</td>\n",
       "      <td>5.574399</td>\n",
       "      <td>73.0</td>\n",
       "      <td>80.00</td>\n",
       "      <td>83.0</td>\n",
       "      <td>86.00</td>\n",
       "      <td>98.0</td>\n",
       "    </tr>\n",
       "    <tr>\n",
       "      <th>Law</th>\n",
       "      <td>10.0</td>\n",
       "      <td>80.200000</td>\n",
       "      <td>5.473167</td>\n",
       "      <td>72.0</td>\n",
       "      <td>77.25</td>\n",
       "      <td>79.0</td>\n",
       "      <td>82.25</td>\n",
       "      <td>90.0</td>\n",
       "    </tr>\n",
       "    <tr>\n",
       "      <th>Medicine and Health Services</th>\n",
       "      <td>9.0</td>\n",
       "      <td>79.888889</td>\n",
       "      <td>4.456581</td>\n",
       "      <td>73.0</td>\n",
       "      <td>78.00</td>\n",
       "      <td>80.0</td>\n",
       "      <td>84.00</td>\n",
       "      <td>85.0</td>\n",
       "    </tr>\n",
       "    <tr>\n",
       "      <th>Science</th>\n",
       "      <td>55.0</td>\n",
       "      <td>80.294727</td>\n",
       "      <td>5.470267</td>\n",
       "      <td>65.0</td>\n",
       "      <td>76.00</td>\n",
       "      <td>80.0</td>\n",
       "      <td>84.50</td>\n",
       "      <td>92.0</td>\n",
       "    </tr>\n",
       "  </tbody>\n",
       "</table>\n",
       "</div>"
      ],
      "text/plain": [
       "                                count       mean       std   min    25%   50%  \\\n",
       "faculty                                                                         \n",
       "AgriSciences                     22.0  74.772727  5.706569  66.0  70.00  75.0   \n",
       "Arts & Social Sciences           46.0  75.969565  5.864237  60.0  72.25  76.0   \n",
       "Economic & Management Sciences  210.0  76.977095  7.577566  34.0  73.00  77.0   \n",
       "Education                         6.0  76.000000  4.857983  71.0  72.00  75.5   \n",
       "Engineering                      36.0  83.691667  5.574399  73.0  80.00  83.0   \n",
       "Law                              10.0  80.200000  5.473167  72.0  77.25  79.0   \n",
       "Medicine and Health Services      9.0  79.888889  4.456581  73.0  78.00  80.0   \n",
       "Science                          55.0  80.294727  5.470267  65.0  76.00  80.0   \n",
       "\n",
       "                                  75%   max  \n",
       "faculty                                      \n",
       "AgriSciences                    77.00  86.0  \n",
       "Arts & Social Sciences          80.75  85.0  \n",
       "Economic & Management Sciences  82.00  99.0  \n",
       "Education                       79.75  82.0  \n",
       "Engineering                     86.00  98.0  \n",
       "Law                             82.25  90.0  \n",
       "Medicine and Health Services    84.00  85.0  \n",
       "Science                         84.50  92.0  "
      ]
     },
     "execution_count": 56,
     "metadata": {},
     "output_type": "execute_result"
    }
   ],
   "source": [
    "#From the data grouped by faculty, let's see the matric gpa% for them and see the details.\n",
    "group_faculty[\"matric_gpa_%\"].describe()"
   ]
  },
  {
   "cell_type": "code",
   "execution_count": 94,
   "id": "3a2bd1ee-1f4d-43a7-b94e-71cdc9dbcb2a",
   "metadata": {},
   "outputs": [],
   "source": [
    "information = student_data.groupby(\"faculty\")[\"matric_gpa_%\"].agg([\"min\", \"max\", \"mean\"])"
   ]
  },
  {
   "cell_type": "code",
   "execution_count": 95,
   "id": "5f17eb4c-5f70-4bd7-85ae-b1d92264f337",
   "metadata": {},
   "outputs": [
    {
     "data": {
      "text/html": [
       "<div>\n",
       "<style scoped>\n",
       "    .dataframe tbody tr th:only-of-type {\n",
       "        vertical-align: middle;\n",
       "    }\n",
       "\n",
       "    .dataframe tbody tr th {\n",
       "        vertical-align: top;\n",
       "    }\n",
       "\n",
       "    .dataframe thead th {\n",
       "        text-align: right;\n",
       "    }\n",
       "</style>\n",
       "<table border=\"1\" class=\"dataframe\">\n",
       "  <thead>\n",
       "    <tr style=\"text-align: right;\">\n",
       "      <th></th>\n",
       "      <th>min</th>\n",
       "      <th>max</th>\n",
       "      <th>mean</th>\n",
       "    </tr>\n",
       "    <tr>\n",
       "      <th>faculty</th>\n",
       "      <th></th>\n",
       "      <th></th>\n",
       "      <th></th>\n",
       "    </tr>\n",
       "  </thead>\n",
       "  <tbody>\n",
       "    <tr>\n",
       "      <th>AgriSciences</th>\n",
       "      <td>66.0</td>\n",
       "      <td>86.0</td>\n",
       "      <td>74.772727</td>\n",
       "    </tr>\n",
       "    <tr>\n",
       "      <th>Arts &amp; Social Sciences</th>\n",
       "      <td>60.0</td>\n",
       "      <td>85.0</td>\n",
       "      <td>75.969565</td>\n",
       "    </tr>\n",
       "    <tr>\n",
       "      <th>Economic &amp; Management Sciences</th>\n",
       "      <td>34.0</td>\n",
       "      <td>99.0</td>\n",
       "      <td>76.977095</td>\n",
       "    </tr>\n",
       "    <tr>\n",
       "      <th>Education</th>\n",
       "      <td>71.0</td>\n",
       "      <td>82.0</td>\n",
       "      <td>76.000000</td>\n",
       "    </tr>\n",
       "    <tr>\n",
       "      <th>Engineering</th>\n",
       "      <td>73.0</td>\n",
       "      <td>98.0</td>\n",
       "      <td>83.691667</td>\n",
       "    </tr>\n",
       "    <tr>\n",
       "      <th>Law</th>\n",
       "      <td>72.0</td>\n",
       "      <td>90.0</td>\n",
       "      <td>80.200000</td>\n",
       "    </tr>\n",
       "    <tr>\n",
       "      <th>Medicine and Health Services</th>\n",
       "      <td>73.0</td>\n",
       "      <td>85.0</td>\n",
       "      <td>79.888889</td>\n",
       "    </tr>\n",
       "    <tr>\n",
       "      <th>Science</th>\n",
       "      <td>65.0</td>\n",
       "      <td>92.0</td>\n",
       "      <td>80.294727</td>\n",
       "    </tr>\n",
       "  </tbody>\n",
       "</table>\n",
       "</div>"
      ],
      "text/plain": [
       "                                 min   max       mean\n",
       "faculty                                              \n",
       "AgriSciences                    66.0  86.0  74.772727\n",
       "Arts & Social Sciences          60.0  85.0  75.969565\n",
       "Economic & Management Sciences  34.0  99.0  76.977095\n",
       "Education                       71.0  82.0  76.000000\n",
       "Engineering                     73.0  98.0  83.691667\n",
       "Law                             72.0  90.0  80.200000\n",
       "Medicine and Health Services    73.0  85.0  79.888889\n",
       "Science                         65.0  92.0  80.294727"
      ]
     },
     "execution_count": 95,
     "metadata": {},
     "output_type": "execute_result"
    }
   ],
   "source": [
    "information"
   ]
  },
  {
   "cell_type": "code",
   "execution_count": 66,
   "id": "e644ba0a-6b83-441c-91c3-a6c9e2f8a22b",
   "metadata": {},
   "outputs": [
    {
     "data": {
      "text/html": [
       "<div>\n",
       "<style scoped>\n",
       "    .dataframe tbody tr th:only-of-type {\n",
       "        vertical-align: middle;\n",
       "    }\n",
       "\n",
       "    .dataframe tbody tr th {\n",
       "        vertical-align: top;\n",
       "    }\n",
       "\n",
       "    .dataframe thead th {\n",
       "        text-align: right;\n",
       "    }\n",
       "</style>\n",
       "<table border=\"1\" class=\"dataframe\">\n",
       "  <thead>\n",
       "    <tr style=\"text-align: right;\">\n",
       "      <th>socialising_week</th>\n",
       "      <th>0</th>\n",
       "      <th>1</th>\n",
       "      <th>2</th>\n",
       "      <th>3</th>\n",
       "      <th>4+</th>\n",
       "      <th>Only weekends</th>\n",
       "    </tr>\n",
       "    <tr>\n",
       "      <th>accommodation_status</th>\n",
       "      <th></th>\n",
       "      <th></th>\n",
       "      <th></th>\n",
       "      <th></th>\n",
       "      <th></th>\n",
       "      <th></th>\n",
       "    </tr>\n",
       "  </thead>\n",
       "  <tbody>\n",
       "    <tr>\n",
       "      <th>Non-private accommodation ie. Res</th>\n",
       "      <td>2</td>\n",
       "      <td>12</td>\n",
       "      <td>15</td>\n",
       "      <td>5</td>\n",
       "      <td>3</td>\n",
       "      <td>11</td>\n",
       "    </tr>\n",
       "    <tr>\n",
       "      <th>Private accommodation/ stay with family/friends</th>\n",
       "      <td>14</td>\n",
       "      <td>89</td>\n",
       "      <td>70</td>\n",
       "      <td>52</td>\n",
       "      <td>13</td>\n",
       "      <td>97</td>\n",
       "    </tr>\n",
       "  </tbody>\n",
       "</table>\n",
       "</div>"
      ],
      "text/plain": [
       "socialising_week                                  0   1   2   3  4+  \\\n",
       "accommodation_status                                                  \n",
       "Non-private accommodation ie. Res                 2  12  15   5   3   \n",
       "Private accommodation/ stay with family/friends  14  89  70  52  13   \n",
       "\n",
       "socialising_week                                 Only weekends  \n",
       "accommodation_status                                            \n",
       "Non-private accommodation ie. Res                           11  \n",
       "Private accommodation/ stay with family/friends             97  "
      ]
     },
     "execution_count": 66,
     "metadata": {},
     "output_type": "execute_result"
    }
   ],
   "source": [
    "table1 = pd.crosstab(student_data.accommodation_status,student_data.socialising_week)\n",
    "table1"
   ]
  },
  {
   "cell_type": "code",
   "execution_count": 69,
   "id": "2ceaf4f1-2972-4ab9-bc81-e0e788e48d00",
   "metadata": {},
   "outputs": [
    {
     "data": {
      "text/plain": [
       "<Axes: xlabel='socialising_week', ylabel='accommodation_status'>"
      ]
     },
     "execution_count": 69,
     "metadata": {},
     "output_type": "execute_result"
    },
    {
     "data": {
      "image/png": "[encoded data removed]",
      "text/plain": [
       "<Figure size 640x480 with 2 Axes>"
      ]
     },
     "metadata": {},
     "output_type": "display_data"
    }
   ],
   "source": [
    "sns.heatmap(table1, annot = True, cmap = \"twilight\")"
   ]
  },
  {
   "cell_type": "markdown",
   "id": "4e80afd3-426a-4bf7-b709-c214244f1b73",
   "metadata": {},
   "source": [
    "* During weekends, students starting with their friends and family are nearly **9 times more likely** to party compared to hostelers.\n",
    "* In an average, privaltely housed student party 7 more 7 times than students living in college."
   ]
  },
  {
   "cell_type": "code",
   "execution_count": 72,
   "id": "567bfa7a-a0cd-4f18-8a9e-ea5f5228c2dc",
   "metadata": {},
   "outputs": [
    {
     "name": "stdout",
     "output_type": "stream",
     "text": [
      "3.9099046455825284\n",
      "0.5624591514521107\n"
     ]
    }
   ],
   "source": [
    "score,p_val,_,_= stats.chi2_contingency(table1)\n",
    "print(score)\n",
    "print(p_val)"
   ]
  },
  {
   "cell_type": "code",
   "execution_count": 73,
   "id": "ebf8290c-1698-4fee-9074-96d31322d654",
   "metadata": {},
   "outputs": [],
   "source": [
    "# If P value is less than significant interval(here it is 0.05) means reject H not and H1 is true. where H is no association and H1 means there is association between the variables."
   ]
  },
  {
   "cell_type": "markdown",
   "id": "cbcfa9d8-f43b-4f89-ae27-f50cbb5f6952",
   "metadata": {},
   "source": [
    "* Here P value is 0.56 ie greater than significant interval 0.05. So, there is association between the variables."
   ]
  },
  {
   "cell_type": "markdown",
   "id": "b60236a2-0c25-47bd-882d-22dc71d3440a",
   "metadata": {},
   "source": [
    "**Influence of Gender on GPA**"
   ]
  },
  {
   "cell_type": "code",
   "execution_count": 76,
   "id": "27e645f6-27af-4a9e-af79-4d6dbac968ed",
   "metadata": {},
   "outputs": [
    {
     "data": {
      "text/html": [
       "<div>\n",
       "<style scoped>\n",
       "    .dataframe tbody tr th:only-of-type {\n",
       "        vertical-align: middle;\n",
       "    }\n",
       "\n",
       "    .dataframe tbody tr th {\n",
       "        vertical-align: top;\n",
       "    }\n",
       "\n",
       "    .dataframe thead th {\n",
       "        text-align: right;\n",
       "    }\n",
       "</style>\n",
       "<table border=\"1\" class=\"dataframe\">\n",
       "  <thead>\n",
       "    <tr style=\"text-align: right;\">\n",
       "      <th></th>\n",
       "      <th>min</th>\n",
       "      <th>max</th>\n",
       "      <th>mean</th>\n",
       "      <th>std</th>\n",
       "    </tr>\n",
       "    <tr>\n",
       "      <th>sex</th>\n",
       "      <th></th>\n",
       "      <th></th>\n",
       "      <th></th>\n",
       "      <th></th>\n",
       "    </tr>\n",
       "  </thead>\n",
       "  <tbody>\n",
       "    <tr>\n",
       "      <th>Female</th>\n",
       "      <td>50.0</td>\n",
       "      <td>95.22</td>\n",
       "      <td>67.596067</td>\n",
       "      <td>8.834404</td>\n",
       "    </tr>\n",
       "    <tr>\n",
       "      <th>Male</th>\n",
       "      <td>30.0</td>\n",
       "      <td>92.00</td>\n",
       "      <td>65.097059</td>\n",
       "      <td>9.284666</td>\n",
       "    </tr>\n",
       "  </tbody>\n",
       "</table>\n",
       "</div>"
      ],
      "text/plain": [
       "         min    max       mean       std\n",
       "sex                                     \n",
       "Female  50.0  95.22  67.596067  8.834404\n",
       "Male    30.0  92.00  65.097059  9.284666"
      ]
     },
     "execution_count": 76,
     "metadata": {},
     "output_type": "execute_result"
    }
   ],
   "source": [
    "student_data.groupby(\"sex\")['gpa_%_2023'].agg((\"min\",\"max\",\"mean\",\"std\"))"
   ]
  },
  {
   "cell_type": "code",
   "execution_count": 78,
   "id": "b2eecadf-f622-41ba-842b-f949b1f54e34",
   "metadata": {},
   "outputs": [
    {
     "data": {
      "text/plain": [
       "<Axes: xlabel='gpa_%_2023', ylabel='sex'>"
      ]
     },
     "execution_count": 78,
     "metadata": {},
     "output_type": "execute_result"
    },
    {
     "data": {
      "image/png": "[encoded data removed]",
      "text/plain": [
       "<Figure size 640x480 with 1 Axes>"
      ]
     },
     "metadata": {},
     "output_type": "display_data"
    }
   ],
   "source": [
    "sns.boxplot(x = \"gpa_%_2023\",y = \"sex\", data = student_data)"
   ]
  },
  {
   "cell_type": "markdown",
   "id": "0ffc090f-e180-4ef7-bcbe-b4f0abdafae8",
   "metadata": {},
   "source": [
    "**Relationship between scholarship and modules failed**"
   ]
  },
  {
   "cell_type": "code",
   "execution_count": 80,
   "id": "e94c2677-469e-45b9-b1cd-5e58c7c64f5d",
   "metadata": {},
   "outputs": [
    {
     "data": {
      "text/plain": [
       "scholarship\n",
       "No                     352\n",
       "Yes (NSFAS, etc...)     46\n",
       "Name: count, dtype: int64"
      ]
     },
     "execution_count": 80,
     "metadata": {},
     "output_type": "execute_result"
    }
   ],
   "source": [
    "student_data.scholarship.value_counts()"
   ]
  },
  {
   "cell_type": "code",
   "execution_count": 81,
   "id": "29a97bb5-3b65-4346-80d2-b5db2e6e58ea",
   "metadata": {},
   "outputs": [
    {
     "data": {
      "text/plain": [
       "modules_failed\n",
       "0     263\n",
       "1      58\n",
       "2      31\n",
       "4+     27\n",
       "3      24\n",
       "Name: count, dtype: int64"
      ]
     },
     "execution_count": 81,
     "metadata": {},
     "output_type": "execute_result"
    }
   ],
   "source": [
    "student_data.modules_failed.value_counts()"
   ]
  },
  {
   "cell_type": "code",
   "execution_count": 96,
   "id": "32c4b2db-ca56-44df-9fac-f462d88add2d",
   "metadata": {},
   "outputs": [
    {
     "data": {
      "text/html": [
       "<div>\n",
       "<style scoped>\n",
       "    .dataframe tbody tr th:only-of-type {\n",
       "        vertical-align: middle;\n",
       "    }\n",
       "\n",
       "    .dataframe tbody tr th {\n",
       "        vertical-align: top;\n",
       "    }\n",
       "\n",
       "    .dataframe thead th {\n",
       "        text-align: right;\n",
       "    }\n",
       "</style>\n",
       "<table border=\"1\" class=\"dataframe\">\n",
       "  <thead>\n",
       "    <tr style=\"text-align: right;\">\n",
       "      <th>modules_failed</th>\n",
       "      <th>0</th>\n",
       "      <th>1</th>\n",
       "      <th>2</th>\n",
       "      <th>3</th>\n",
       "      <th>4+</th>\n",
       "    </tr>\n",
       "    <tr>\n",
       "      <th>scholarship</th>\n",
       "      <th></th>\n",
       "      <th></th>\n",
       "      <th></th>\n",
       "      <th></th>\n",
       "      <th></th>\n",
       "    </tr>\n",
       "  </thead>\n",
       "  <tbody>\n",
       "    <tr>\n",
       "      <th>No</th>\n",
       "      <td>230</td>\n",
       "      <td>49</td>\n",
       "      <td>29</td>\n",
       "      <td>20</td>\n",
       "      <td>23</td>\n",
       "    </tr>\n",
       "    <tr>\n",
       "      <th>Yes (NSFAS, etc...)</th>\n",
       "      <td>27</td>\n",
       "      <td>9</td>\n",
       "      <td>2</td>\n",
       "      <td>4</td>\n",
       "      <td>4</td>\n",
       "    </tr>\n",
       "  </tbody>\n",
       "</table>\n",
       "</div>"
      ],
      "text/plain": [
       "modules_failed         0   1   2   3  4+\n",
       "scholarship                             \n",
       "No                   230  49  29  20  23\n",
       "Yes (NSFAS, etc...)   27   9   2   4   4"
      ]
     },
     "execution_count": 96,
     "metadata": {},
     "output_type": "execute_result"
    }
   ],
   "source": [
    "table2 = pd.crosstab(student_data.scholarship,student_data.modules_failed)\n",
    "table2"
   ]
  },
  {
   "cell_type": "code",
   "execution_count": 86,
   "id": "bcacaba8-8ff1-457a-95f4-b7df98861a21",
   "metadata": {},
   "outputs": [
    {
     "data": {
      "text/plain": [
       "<Axes: xlabel='modules_failed', ylabel='scholarship'>"
      ]
     },
     "execution_count": 86,
     "metadata": {},
     "output_type": "execute_result"
    },
    {
     "data": {
      "image/png": "[encoded data removed]",
      "text/plain": [
       "<Figure size 640x480 with 2 Axes>"
      ]
     },
     "metadata": {},
     "output_type": "display_data"
    }
   ],
   "source": [
    "sns.heatmap(table2, annot = True, cmap = \"twilight\")"
   ]
  },
  {
   "cell_type": "code",
   "execution_count": 90,
   "id": "9168d6f2-1373-4204-9f1d-6a40502770ad",
   "metadata": {},
   "outputs": [
    {
     "data": {
      "text/plain": [
       "<Axes: xlabel='modules_failed'>"
      ]
     },
     "execution_count": 90,
     "metadata": {},
     "output_type": "execute_result"
    },
    {
     "data": {
      "image/png": "[encoded data removed]",
      "text/plain": [
       "<Figure size 640x480 with 1 Axes>"
      ]
     },
     "metadata": {},
     "output_type": "display_data"
    }
   ],
   "source": [
    "table2.T.plot.line()"
   ]
  },
  {
   "cell_type": "code",
   "execution_count": 97,
   "id": "8213eeb4-3113-49ca-ad04-9fc1dd8a191a",
   "metadata": {},
   "outputs": [
    {
     "name": "stdout",
     "output_type": "stream",
     "text": [
      "2.844930360651007\n",
      "0.5841020962470809\n"
     ]
    }
   ],
   "source": [
    "score,p_val,_,_= stats.chi2_contingency(table2)\n",
    "print(score)\n",
    "print(p_val)"
   ]
  },
  {
   "cell_type": "code",
   "execution_count": 99,
   "id": "961a8560-f018-47e2-aa03-157aadac9fa6",
   "metadata": {},
   "outputs": [
    {
     "data": {
      "text/plain": [
       "<Axes: xlabel='matric_gpa_%', ylabel='gpa_%_2023'>"
      ]
     },
     "execution_count": 99,
     "metadata": {},
     "output_type": "execute_result"
    },
    {
     "data": {
      "image/png": "[encoded data removed]",
      "text/plain": [
       "<Figure size 640x480 with 1 Axes>"
      ]
     },
     "metadata": {},
     "output_type": "display_data"
    }
   ],
   "source": [
    "student_data.plot.scatter(\"matric_gpa_%\",\"gpa_%_2023\")"
   ]
  },
  {
   "cell_type": "code",
   "execution_count": 100,
   "id": "3aa4ad83-8476-48f9-9254-eb23a16c26fb",
   "metadata": {},
   "outputs": [
    {
     "data": {
      "text/html": [
       "<div>\n",
       "<style scoped>\n",
       "    .dataframe tbody tr th:only-of-type {\n",
       "        vertical-align: middle;\n",
       "    }\n",
       "\n",
       "    .dataframe tbody tr th {\n",
       "        vertical-align: top;\n",
       "    }\n",
       "\n",
       "    .dataframe thead th {\n",
       "        text-align: right;\n",
       "    }\n",
       "</style>\n",
       "<table border=\"1\" class=\"dataframe\">\n",
       "  <thead>\n",
       "    <tr style=\"text-align: right;\">\n",
       "      <th></th>\n",
       "      <th>matric_gpa_%</th>\n",
       "      <th>gpa_%_2023</th>\n",
       "    </tr>\n",
       "  </thead>\n",
       "  <tbody>\n",
       "    <tr>\n",
       "      <th>matric_gpa_%</th>\n",
       "      <td>1.000000</td>\n",
       "      <td>0.299104</td>\n",
       "    </tr>\n",
       "    <tr>\n",
       "      <th>gpa_%_2023</th>\n",
       "      <td>0.299104</td>\n",
       "      <td>1.000000</td>\n",
       "    </tr>\n",
       "  </tbody>\n",
       "</table>\n",
       "</div>"
      ],
      "text/plain": [
       "              matric_gpa_%  gpa_%_2023\n",
       "matric_gpa_%      1.000000    0.299104\n",
       "gpa_%_2023        0.299104    1.000000"
      ]
     },
     "execution_count": 100,
     "metadata": {},
     "output_type": "execute_result"
    }
   ],
   "source": [
    "student_data[[\"matric_gpa_%\",\"gpa_%_2023\"]].corr()"
   ]
  },
  {
   "cell_type": "markdown",
   "id": "ec15870f-1682-4e9a-ab4c-a67d6dc1126b",
   "metadata": {},
   "source": [
    "* Thus it is found that the percentage in high school and bachelor are not correlated."
   ]
  },
  {
   "cell_type": "code",
   "execution_count": 101,
   "id": "956ed2c4-8171-421e-8d9c-1ec8090dec69",
   "metadata": {},
   "outputs": [
    {
     "data": {
      "text/plain": [
       "timestamp                0\n",
       "sex                      2\n",
       "matric_gpa_%             7\n",
       "study_year              73\n",
       "faculty                  7\n",
       "gpa_%_2023              86\n",
       "accommodation_status    23\n",
       "monthly_allowance       31\n",
       "scholarship              8\n",
       "study_hours_week         3\n",
       "socialising_week         2\n",
       "drinks_night             2\n",
       "classes_missed           3\n",
       "modules_failed           3\n",
       "in_relationship          3\n",
       "parental_approval        4\n",
       "relationship_parents     3\n",
       "dtype: int64"
      ]
     },
     "execution_count": 101,
     "metadata": {},
     "output_type": "execute_result"
    }
   ],
   "source": [
    "student_data.isna().sum()"
   ]
  },
  {
   "cell_type": "code",
   "execution_count": null,
   "id": "4bd59f85-b5f0-4d57-9079-f1024ec903dd",
   "metadata": {},
   "outputs": [],
   "source": []
  }
 ],
 "metadata": {
  "kernelspec": {
   "display_name": "Python 3 (ipykernel)",
   "language": "python",
   "name": "python3"
  },
  "language_info": {
   "codemirror_mode": {
    "name": "ipython",
    "version": 3
   },
   "file_extension": ".py",
   "mimetype": "text/x-python",
   "name": "python",
   "nbconvert_exporter": "python",
   "pygments_lexer": "ipython3",
   "version": "3.13.1"
  }
 },
 "nbformat": 4,
 "nbformat_minor": 5
}
