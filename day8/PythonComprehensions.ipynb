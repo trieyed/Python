{
 "cells": [
  {
   "cell_type": "markdown",
   "id": "9ecde209-efd7-4cd2-805e-f3abbd7343ef",
   "metadata": {},
   "source": [
    "**PYTHON COMPREHENSION**\n",
    "---\n",
    "Provide concise way to create sequences like lists,dictionaries, and sets.\n"
   ]
  },
  {
   "cell_type": "markdown",
   "id": "cf6146a9-57e4-43bd-9e88-9e60fe966921",
   "metadata": {},
   "source": [
    "**List Comprehension:** \n",
    "---\n",
    "Concise way to create lists. Provides a compact syntax for mapping a given iterable to a nes list by applying specific expression to each element in the original iterable.\n",
    "\n"
   ]
  },
  {
   "cell_type": "code",
   "execution_count": 1,
   "id": "de00f267-a80d-47ac-bede-771b0cc92662",
   "metadata": {},
   "outputs": [
    {
     "name": "stdout",
     "output_type": "stream",
     "text": [
      "[9, 25, 49, 81]\n"
     ]
    }
   ],
   "source": [
    "#Usual Way\n",
    "numbers = [3,5,7,9]\n",
    "squared = []\n",
    "for each in numbers:\n",
    "    squared.append(each **2)\n",
    "\n",
    "print(squared)"
   ]
  },
  {
   "cell_type": "code",
   "execution_count": 2,
   "id": "45cc818a-169f-4fb3-afbf-cd38739ed282",
   "metadata": {},
   "outputs": [
    {
     "name": "stdout",
     "output_type": "stream",
     "text": [
      "[9, 25, 49, 81]\n"
     ]
    }
   ],
   "source": [
    "##Using Comprehension\n",
    "a_squared = [item**2 for item in numbers ]\n",
    "print(a_squared)"
   ]
  },
  {
   "cell_type": "code",
   "execution_count": 3,
   "id": "ecc7e810-e59f-4a78-b3b4-0682ca247e3c",
   "metadata": {},
   "outputs": [
    {
     "name": "stdout",
     "output_type": "stream",
     "text": [
      "[1, 27, 125, 64, 216, 729, 1000]\n"
     ]
    }
   ],
   "source": [
    "\n",
    "number1 = [ 1,3,5,4,6,9,10]\n",
    "a_cube  = [ item**3 for item in number1]\n",
    "print(a_cube)\n"
   ]
  },
  {
   "cell_type": "code",
   "execution_count": null,
   "id": "290462cc-f655-4041-b9b9-ad22306ebfae",
   "metadata": {},
   "outputs": [],
   "source": [
    "\n"
   ]
  },
  {
   "cell_type": "markdown",
   "id": "b03baba1-bb60-4111-8a4a-ba5632bc1d2a",
   "metadata": {},
   "source": [
    "**Comprehension to filter out odd numbers**\n",
    "---"
   ]
  },
  {
   "cell_type": "code",
   "execution_count": 4,
   "id": "e011a6bc-0300-4b3a-bee0-662b2303dce5",
   "metadata": {},
   "outputs": [],
   "source": [
    "odds = [num for num in range(1,199) if num%2!=0]"
   ]
  },
  {
   "cell_type": "code",
   "execution_count": 5,
   "id": "bfba6908-ea4e-49a5-a190-7fca5bc4bebf",
   "metadata": {},
   "outputs": [
    {
     "name": "stdout",
     "output_type": "stream",
     "text": [
      "[1, 3, 5, 7, 9, 11, 13, 15, 17, 19, 21, 23, 25, 27, 29, 31, 33, 35, 37, 39, 41, 43, 45, 47, 49, 51, 53, 55, 57, 59, 61, 63, 65, 67, 69, 71, 73, 75, 77, 79, 81, 83, 85, 87, 89, 91, 93, 95, 97, 99, 101, 103, 105, 107, 109, 111, 113, 115, 117, 119, 121, 123, 125, 127, 129, 131, 133, 135, 137, 139, 141, 143, 145, 147, 149, 151, 153, 155, 157, 159, 161, 163, 165, 167, 169, 171, 173, 175, 177, 179, 181, 183, 185, 187, 189, 191, 193, 195, 197]\n"
     ]
    }
   ],
   "source": [
    "print(odds)"
   ]
  },
  {
   "cell_type": "markdown",
   "id": "43289409-1e89-4141-9d51-b0a6f36ce4a3",
   "metadata": {},
   "source": [
    "**Comprehension to find square of even numbers:**"
   ]
  },
  {
   "cell_type": "code",
   "execution_count": 6,
   "id": "3cc5c7fa-36a8-4e38-b23e-835f31caa802",
   "metadata": {},
   "outputs": [
    {
     "name": "stdout",
     "output_type": "stream",
     "text": [
      "[4, 16, 36, 64, 100, 144, 196, 256, 324, 400, 484, 576, 676, 784]\n"
     ]
    }
   ],
   "source": [
    "even = [ num**2 for num in range(1,30) if num %2==0]\n",
    "print(even)"
   ]
  },
  {
   "cell_type": "code",
   "execution_count": 7,
   "id": "caa41742-7a38-49b5-a89c-6b6245aeb8d2",
   "metadata": {},
   "outputs": [
    {
     "name": "stdout",
     "output_type": "stream",
     "text": [
      "[1, 4, 27, 16, 125, 36, 343, 64, 729, 100, 1331, 144, 2197, 196, 3375, 256, 4913, 324, 6859, 400, 9261, 484, 12167, 576, 15625, 676, 19683, 784, 24389]\n"
     ]
    }
   ],
   "source": [
    "#using if and else both.\n",
    "even = [ num**2 if num %2==0 else num**3 for num in range(1,30) ]\n",
    "print(even)"
   ]
  },
  {
   "cell_type": "code",
   "execution_count": null,
   "id": "498c4f01-8764-4b79-a405-422be012ff1b",
   "metadata": {},
   "outputs": [],
   "source": []
  },
  {
   "cell_type": "code",
   "execution_count": 8,
   "id": "608bd858-6350-44dd-ad5d-a11f622764f6",
   "metadata": {},
   "outputs": [],
   "source": [
    "#nested loop in comprehension\n",
    "adjective = [\"red\", \"blue\", \"orange\"]\n",
    "fruits = [\"apple\", \"banana\", \"grape\"]"
   ]
  },
  {
   "cell_type": "code",
   "execution_count": 9,
   "id": "3d84d2b9-34ec-4bf7-b408-276605bde3f2",
   "metadata": {},
   "outputs": [
    {
     "name": "stdout",
     "output_type": "stream",
     "text": [
      "[('red', 'apple'), ('red', 'banana'), ('red', 'grape'), ('blue', 'apple'), ('blue', 'banana'), ('blue', 'grape'), ('orange', 'apple'), ('orange', 'banana'), ('orange', 'grape')]\n"
     ]
    }
   ],
   "source": [
    "pair = [(adj,fruit) for adj in adjective for fruit in fruits]\n",
    "print(pair)"
   ]
  },
  {
   "cell_type": "code",
   "execution_count": 10,
   "id": "2e465805-70f5-4928-9fcd-7aefdc765560",
   "metadata": {},
   "outputs": [
    {
     "name": "stdout",
     "output_type": "stream",
     "text": [
      "red apple\n",
      "red banana\n",
      "red grape\n",
      "blue apple\n",
      "blue banana\n",
      "blue grape\n",
      "orange apple\n",
      "orange banana\n",
      "orange grape\n"
     ]
    }
   ],
   "source": [
    "for a,b in pair:\n",
    "    print(a ,b)"
   ]
  },
  {
   "cell_type": "markdown",
   "id": "228cd996-838c-4176-ae5c-f914b5af8eac",
   "metadata": {},
   "source": [
    "Count number of letters for each words in following sentence.\n",
    "\n",
    "\n",
    "\n",
    "\n",
    "A single training set that has already been processed is usually split into several types of datasets in machine learning which is needed to check how well the training of the model went\n",
    " "
   ]
  },
  {
   "cell_type": "code",
   "execution_count": 13,
   "id": "40caa664-aa5e-4640-b25b-1e54a3470548",
   "metadata": {},
   "outputs": [],
   "source": [
    "str1 = \"A single training set that has already been processed is usually split into several types of datasets in machine learning which is needed to check how well the training of the model went\""
   ]
  },
  {
   "cell_type": "code",
   "execution_count": null,
   "id": "aa6c673d-79b5-4933-a736-eaa581968f33",
   "metadata": {},
   "outputs": [],
   "source": []
  },
  {
   "cell_type": "code",
   "execution_count": null,
   "id": "52bada2d-d2ae-4937-9c4d-e0489c04edf4",
   "metadata": {},
   "outputs": [],
   "source": []
  },
  {
   "cell_type": "code",
   "execution_count": 14,
   "id": "3be26f92-786f-4399-a25e-6816388098df",
   "metadata": {},
   "outputs": [
    {
     "name": "stdout",
     "output_type": "stream",
     "text": [
      "[1, 6, 8, 3, 4, 3, 7, 4, 9, 2, 7, 5, 4, 7, 5, 2, 8, 2, 7, 8, 5, 2, 6, 2, 5, 3, 4, 3, 8, 2, 3, 5, 4]\n"
     ]
    }
   ],
   "source": [
    "length = [ len(each) for each in str1.split(\" \")]\n",
    "print(length)"
   ]
  },
  {
   "cell_type": "code",
   "execution_count": null,
   "id": "a02cc84c-b183-4456-8676-a82b85e12001",
   "metadata": {},
   "outputs": [],
   "source": []
  }
 ],
 "metadata": {
  "kernelspec": {
   "display_name": "Python 3 (ipykernel)",
   "language": "python",
   "name": "python3"
  },
  "language_info": {
   "codemirror_mode": {
    "name": "ipython",
    "version": 3
   },
   "file_extension": ".py",
   "mimetype": "text/x-python",
   "name": "python",
   "nbconvert_exporter": "python",
   "pygments_lexer": "ipython3",
   "version": "3.13.1"
  }
 },
 "nbformat": 4,
 "nbformat_minor": 5
}
