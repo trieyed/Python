{
 "cells": [
  {
   "cell_type": "markdown",
   "id": "cc0bd3d8-b360-43c4-a221-51ae91dfa0cd",
   "metadata": {},
   "source": [
    "## REGULAR EXPRESSION\n",
    "--> Tool for searching and manipulating texts. Allows user to define a pattern or set of rules that describe a particular strings of characters and then search for or manipulate any text that matches the pattern."
   ]
  },
  {
   "cell_type": "code",
   "execution_count": 31,
   "id": "3a2ae815-bbdc-4bdd-8400-f1e36e656fc9",
   "metadata": {},
   "outputs": [],
   "source": [
    "import re"
   ]
  },
  {
   "cell_type": "code",
   "execution_count": 48,
   "id": "cb378ecb-5d67-4617-b1b6-f5806a6f17d9",
   "metadata": {},
   "outputs": [],
   "source": [
    "string = \"The quick brown fox jumps over the lazy dog.\"\n",
    "pattern = r\"og\"\n",
    "match = re.search(pattern,string) #search finds out about the first matched pattern"
   ]
  },
  {
   "cell_type": "code",
   "execution_count": 49,
   "id": "19449594-c63d-4035-96b8-8eae2864f21a",
   "metadata": {},
   "outputs": [
    {
     "data": {
      "text/plain": [
       "'og'"
      ]
     },
     "execution_count": 49,
     "metadata": {},
     "output_type": "execute_result"
    }
   ],
   "source": [
    "match.group()"
   ]
  },
  {
   "cell_type": "code",
   "execution_count": 50,
   "id": "fc828637-7276-4d4b-940f-d28080eb1fcd",
   "metadata": {},
   "outputs": [
    {
     "data": {
      "text/plain": [
       "41"
      ]
     },
     "execution_count": 50,
     "metadata": {},
     "output_type": "execute_result"
    }
   ],
   "source": [
    "match.start()"
   ]
  },
  {
   "cell_type": "code",
   "execution_count": 51,
   "id": "fec1daaf-8328-45bd-aaae-dbc648a753e2",
   "metadata": {},
   "outputs": [
    {
     "data": {
      "text/plain": [
       "(41, 43)"
      ]
     },
     "execution_count": 51,
     "metadata": {},
     "output_type": "execute_result"
    }
   ],
   "source": [
    "match.span()"
   ]
  },
  {
   "cell_type": "code",
   "execution_count": 52,
   "id": "1d8ca4d4-08d7-43be-9cbf-01696652a594",
   "metadata": {},
   "outputs": [
    {
     "data": {
      "text/plain": [
       "43"
      ]
     },
     "execution_count": 52,
     "metadata": {},
     "output_type": "execute_result"
    }
   ],
   "source": [
    "match.end()"
   ]
  },
  {
   "cell_type": "code",
   "execution_count": 53,
   "id": "5e473d0a-dbb4-4d7d-9ebe-1a15844056d3",
   "metadata": {},
   "outputs": [
    {
     "data": {
      "text/plain": [
       "True"
      ]
     },
     "execution_count": 53,
     "metadata": {},
     "output_type": "execute_result"
    }
   ],
   "source": [
    "bool(match)"
   ]
  },
  {
   "cell_type": "code",
   "execution_count": 56,
   "id": "9f6b8081-d6ce-4294-bd12-2d39940819f8",
   "metadata": {},
   "outputs": [],
   "source": [
    "string = \"The quick brown fox jumps over the lazy dog.\"\n",
    "pattern = r\"[A-Z]he\" #must have a capital letter before string he\n",
    "match = re.findall(pattern,string) #search and finds ALL patterns unlike search which find only one"
   ]
  },
  {
   "cell_type": "code",
   "execution_count": 57,
   "id": "032b6cca-087b-4a6a-b363-fb5bfe23b71c",
   "metadata": {},
   "outputs": [
    {
     "name": "stdout",
     "output_type": "stream",
     "text": [
      "['The']\n"
     ]
    }
   ],
   "source": [
    "print(match)"
   ]
  },
  {
   "cell_type": "markdown",
   "id": "d6a9f5b3-b8ad-46dc-9121-c3a647bf81e6",
   "metadata": {},
   "source": [
    "## re.match"
   ]
  },
  {
   "cell_type": "code",
   "execution_count": 63,
   "id": "aecb5bc4-80c7-4c6d-bdd9-7a233459b375",
   "metadata": {},
   "outputs": [],
   "source": [
    "string = \"The quick brown fox jumps over the lazy dog.\"\n",
    "pattern = r\"he\"\n",
    "match = re.match(pattern,string) #search finds out about the first matched pattern"
   ]
  },
  {
   "cell_type": "code",
   "execution_count": null,
   "id": "5cf67653-7517-45b3-97e8-f5ab3d13a418",
   "metadata": {},
   "outputs": [],
   "source": []
  },
  {
   "cell_type": "markdown",
   "id": "a74236cb-8b5e-4624-99c3-c41e0ec8989a",
   "metadata": {},
   "source": [
    "**re.sub**\n",
    "-"
   ]
  },
  {
   "cell_type": "code",
   "execution_count": 67,
   "id": "a5047574-a29d-4129-a42a-e6601cad2a03",
   "metadata": {},
   "outputs": [],
   "source": [
    "string = \"The quick brown fox jumps over the lazy dog.\"\n",
    "pattern = r\"[A-Z]he\" #must have a capital letter before string he\n",
    "repl = \"the\"\n",
    "match = re.sub(pattern,repl,string,count=1) #search and finds patterns and replace with the string the -->count =1 means replace only one"
   ]
  },
  {
   "cell_type": "code",
   "execution_count": 68,
   "id": "92e34cdf-9fa4-49fa-9f28-7280775754d7",
   "metadata": {},
   "outputs": [
    {
     "name": "stdout",
     "output_type": "stream",
     "text": [
      "the quick brown fox jumps over the lazy dog.\n"
     ]
    }
   ],
   "source": [
    "print(match)"
   ]
  },
  {
   "cell_type": "code",
   "execution_count": null,
   "id": "ae2c92d1-f7ea-4f14-a304-5178dab22d41",
   "metadata": {},
   "outputs": [],
   "source": []
  }
 ],
 "metadata": {
  "kernelspec": {
   "display_name": "Python 3 (ipykernel)",
   "language": "python",
   "name": "python3"
  },
  "language_info": {
   "codemirror_mode": {
    "name": "ipython",
    "version": 3
   },
   "file_extension": ".py",
   "mimetype": "text/x-python",
   "name": "python",
   "nbconvert_exporter": "python",
   "pygments_lexer": "ipython3",
   "version": "3.13.1"
  }
 },
 "nbformat": 4,
 "nbformat_minor": 5
}
