{
 "cells": [
  {
   "cell_type": "markdown",
   "id": "0b6c6b7f-c664-4cfb-9557-b87aa444c14f",
   "metadata": {},
   "source": []
  },
  {
   "cell_type": "code",
   "execution_count": 1,
   "id": "9f9909d2-5c6f-4b01-b112-06674b626c96",
   "metadata": {},
   "outputs": [],
   "source": [
    "\n",
    "def mean_error (*datalist):\n",
    "    return sum(datalist)/len(datalist)\n",
    "    "
   ]
  },
  {
   "cell_type": "code",
   "execution_count": 2,
   "id": "33366206-3035-469c-8e20-be7016f874ad",
   "metadata": {},
   "outputs": [
    {
     "data": {
      "text/plain": [
       "11.25"
      ]
     },
     "execution_count": 2,
     "metadata": {},
     "output_type": "execute_result"
    }
   ],
   "source": [
    "mean_error(2,3,5,4,7,9,15,45)"
   ]
  },
  {
   "cell_type": "code",
   "execution_count": null,
   "id": "7ff9d979-90f5-4d58-a0f8-8e2d5c640ccc",
   "metadata": {},
   "outputs": [],
   "source": []
  },
  {
   "cell_type": "code",
   "execution_count": null,
   "id": "f66719f3-d3c0-4178-a3d2-66aca9260479",
   "metadata": {},
   "outputs": [],
   "source": []
  },
  {
   "cell_type": "markdown",
   "id": "a7fbcff8-2158-464c-93ee-21b373c6a668",
   "metadata": {},
   "source": [
    "**RECURSIVE FUNCTION**\n",
    "-\n",
    "A function that calls itself and repeats itself unless the base condition is met."
   ]
  },
  {
   "cell_type": "code",
   "execution_count": 3,
   "id": "c20cf061-9b79-4973-8b26-eb892fd82a29",
   "metadata": {},
   "outputs": [
    {
     "data": {
      "text/plain": [
       "55"
      ]
     },
     "execution_count": 3,
     "metadata": {},
     "output_type": "execute_result"
    }
   ],
   "source": [
    "def fib(n):\n",
    "    if n == 0:\n",
    "         return 0\n",
    "    elif n ==1:\n",
    "         return 1\n",
    "    else:\n",
    "         return fib(n-1) + fib(n-2)\n",
    "fib(10)"
   ]
  },
  {
   "cell_type": "code",
   "execution_count": 18,
   "id": "b9f0c05a-1bf6-4d1b-a8ab-61fba624e97c",
   "metadata": {},
   "outputs": [
    {
     "name": "stdout",
     "output_type": "stream",
     "text": [
      "102334155\n",
      "CPU times: total: 0 ns\n",
      "Wall time: 150 μs\n"
     ]
    }
   ],
   "source": [
    "%%time\n",
    "n = 40\n",
    "a, b = 0, 1\n",
    "\n",
    "for i in range(n):\n",
    "    a, b = b, a + b\n",
    "print (a)"
   ]
  },
  {
   "cell_type": "code",
   "execution_count": null,
   "id": "94a24d46-8cd6-408b-afba-26c469b68674",
   "metadata": {},
   "outputs": [],
   "source": []
  },
  {
   "cell_type": "code",
   "execution_count": 19,
   "id": "e4c6082e-0e92-4b85-9388-2bf912fa9c43",
   "metadata": {},
   "outputs": [],
   "source": [
    "cache = {0:0 ,1:1}\n",
    "def fib(n):\n",
    "    if n in cache:\n",
    "        return cache[n]\n",
    "    else:\n",
    "        cache[n]=fib(n-1)+fib(n-1)\n",
    "        return cache[n]\n"
   ]
  },
  {
   "cell_type": "code",
   "execution_count": 20,
   "id": "3a8e8e98-4931-4396-9e57-9831866de77b",
   "metadata": {},
   "outputs": [
    {
     "name": "stdout",
     "output_type": "stream",
     "text": [
      "CPU times: total: 0 ns\n",
      "Wall time: 672 μs\n"
     ]
    },
    {
     "data": {
      "text/plain": [
       "2678771517965668302371062622650004526403512029263834018609375970925877627812340306232995947039239645318986682293882867062967863214230785108996144393674643700983641943706057746355268651265592785469488545538261618745895485316849691889791385986519265728642799119421635541915107457913156096709301417017344"
      ]
     },
     "execution_count": 20,
     "metadata": {},
     "output_type": "execute_result"
    }
   ],
   "source": [
    "%%time\n",
    "fib(999)"
   ]
  }
 ],
 "metadata": {
  "kernelspec": {
   "display_name": "Python 3 (ipykernel)",
   "language": "python",
   "name": "python3"
  },
  "language_info": {
   "codemirror_mode": {
    "name": "ipython",
    "version": 3
   },
   "file_extension": ".py",
   "mimetype": "text/x-python",
   "name": "python",
   "nbconvert_exporter": "python",
   "pygments_lexer": "ipython3",
   "version": "3.13.1"
  }
 },
 "nbformat": 4,
 "nbformat_minor": 5
}
