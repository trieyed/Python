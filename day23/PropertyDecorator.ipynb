{
 "cells": [
  {
   "cell_type": "markdown",
   "id": "70ddfa9d-adaf-496b-b595-b93f54dcaf79",
   "metadata": {},
   "source": [
    "**Property Decorator**\n",
    "-  \n",
    "In Python , the @property decorator is used to define a gettersm setters and deleters method for a class attribute. They are used to ensure that the attributes of a class are accessed and modified in a controlled manner."
   ]
  },
  {
   "cell_type": "markdown",
   "id": "bdf45178-020d-432b-8446-59d65d743c70",
   "metadata": {},
   "source": [
    "**Getter**\n",
    "-  \n",
    "A getter method is used to get the value of an attribute. It is called automatically when the attribute is accessed. In Python, we can define a getter method usint the @property decorator."
   ]
  },
  {
   "cell_type": "code",
   "execution_count": 46,
   "id": "8e36da33-a7b6-4bac-a6d0-e8c24cfe4bc0",
   "metadata": {},
   "outputs": [],
   "source": [
    "class Person:\n",
    "    def __init__(self,name):\n",
    "        self.__name = name\n",
    "\n",
    "    @property\n",
    "    def name(self):\n",
    "        print (\"Getting Name\")\n",
    "        return self.__name\n",
    "\n",
    "person = Person(\"Han Solo\")"
   ]
  },
  {
   "cell_type": "code",
   "execution_count": 47,
   "id": "a59303e8-f7ae-4044-9055-694a0a3d9130",
   "metadata": {},
   "outputs": [
    {
     "name": "stdout",
     "output_type": "stream",
     "text": [
      "Getting Name\n"
     ]
    },
    {
     "data": {
      "text/plain": [
       "'Han Solo'"
      ]
     },
     "execution_count": 47,
     "metadata": {},
     "output_type": "execute_result"
    }
   ],
   "source": [
    "person.name #.name() is a function but it can be called like a attribute with .name because of @property. This is called getter."
   ]
  },
  {
   "cell_type": "markdown",
   "id": "1e45f599-e209-4b35-86d0-d86dc4c4fa9a",
   "metadata": {},
   "source": [
    "**Setter**\n",
    "-"
   ]
  },
  {
   "cell_type": "code",
   "execution_count": 48,
   "id": "8804d91c-aea9-4a04-8aeb-acc5a526724a",
   "metadata": {},
   "outputs": [],
   "source": [
    "class Person:\n",
    "    def __init__(self,name):\n",
    "        self.__name = name\n",
    "\n",
    "    @property\n",
    "    def name(self):\n",
    "        print (\"Getting Name\")\n",
    "        return self.__name\n",
    "\n",
    "    @name.setter\n",
    "    def name(self,value):\n",
    "        print(\"Setting Name...\")\n",
    "        self.__name = value\n",
    "\n",
    "person = Person(\"Han Solo\")"
   ]
  },
  {
   "cell_type": "code",
   "execution_count": 49,
   "id": "6866f7fb-fd40-4751-8516-0b3714e05d95",
   "metadata": {},
   "outputs": [
    {
     "name": "stdout",
     "output_type": "stream",
     "text": [
      "Setting Name...\n"
     ]
    }
   ],
   "source": [
    "person.name = \"Ram Pd.\" #changes the value of name attribute even though it is private"
   ]
  },
  {
   "cell_type": "code",
   "execution_count": 50,
   "id": "5d92d5b0-55d9-4bdd-9c68-5402933aefa3",
   "metadata": {},
   "outputs": [
    {
     "name": "stdout",
     "output_type": "stream",
     "text": [
      "Getting Name\n"
     ]
    },
    {
     "data": {
      "text/plain": [
       "'Ram Pd.'"
      ]
     },
     "execution_count": 50,
     "metadata": {},
     "output_type": "execute_result"
    }
   ],
   "source": [
    "person.name # The name is now changed because of the setter that we ran earlier"
   ]
  },
  {
   "cell_type": "markdown",
   "id": "02fd917a-a74e-4e8b-b9fa-1111833520eb",
   "metadata": {},
   "source": [
    "**Deleter**\n",
    "--"
   ]
  },
  {
   "cell_type": "code",
   "execution_count": 51,
   "id": "e6312e66-aa74-4c83-8ebb-2af406db3059",
   "metadata": {},
   "outputs": [],
   "source": [
    "class Person:\n",
    "    def __init__(self,name):\n",
    "        self.__name = name\n",
    "\n",
    "    @property\n",
    "    def name(self):\n",
    "        print (\"Getting Name\")\n",
    "        return self.__name\n",
    "\n",
    "    @name.setter\n",
    "    def name(self,value):\n",
    "        print(\"Setting Name...\")\n",
    "        self.__name = value\n",
    "        \n",
    "    @name.deleter\n",
    "    def name(self):\n",
    "        print(f\"Deleting Name:{self.name}\")\n",
    "        del self.__name\n",
    "        print(\"Deleted.\")\n",
    "        \n",
    "person = Person(\"Han Solo\")\n",
    "    "
   ]
  },
  {
   "cell_type": "code",
   "execution_count": 52,
   "id": "77bbeffa-25e5-456e-b43d-c86a2b22f61e",
   "metadata": {},
   "outputs": [
    {
     "name": "stdout",
     "output_type": "stream",
     "text": [
      "Getting Name\n"
     ]
    },
    {
     "data": {
      "text/plain": [
       "'Han Solo'"
      ]
     },
     "execution_count": 52,
     "metadata": {},
     "output_type": "execute_result"
    }
   ],
   "source": [
    "person.name"
   ]
  },
  {
   "cell_type": "code",
   "execution_count": 53,
   "id": "cdcf793e-0026-4fed-9344-d828bc9507f1",
   "metadata": {},
   "outputs": [
    {
     "name": "stdout",
     "output_type": "stream",
     "text": [
      "Setting Name...\n"
     ]
    }
   ],
   "source": [
    "person.name = \"San Holo\""
   ]
  },
  {
   "cell_type": "code",
   "execution_count": 54,
   "id": "f7669caf-0234-43ee-9221-d28ad8573e27",
   "metadata": {},
   "outputs": [
    {
     "name": "stdout",
     "output_type": "stream",
     "text": [
      "Getting Name\n"
     ]
    },
    {
     "data": {
      "text/plain": [
       "'San Holo'"
      ]
     },
     "execution_count": 54,
     "metadata": {},
     "output_type": "execute_result"
    }
   ],
   "source": [
    "person.name"
   ]
  },
  {
   "cell_type": "code",
   "execution_count": 55,
   "id": "74581764-2633-4dbe-9d17-f6f2ffea017f",
   "metadata": {},
   "outputs": [
    {
     "name": "stdout",
     "output_type": "stream",
     "text": [
      "Getting Name\n",
      "Deleting Name:San Holo\n",
      "Deleted.\n"
     ]
    }
   ],
   "source": [
    "del person.name"
   ]
  }
 ],
 "metadata": {
  "kernelspec": {
   "display_name": "Python 3 (ipykernel)",
   "language": "python",
   "name": "python3"
  },
  "language_info": {
   "codemirror_mode": {
    "name": "ipython",
    "version": 3
   },
   "file_extension": ".py",
   "mimetype": "text/x-python",
   "name": "python",
   "nbconvert_exporter": "python",
   "pygments_lexer": "ipython3",
   "version": "3.13.1"
  }
 },
 "nbformat": 4,
 "nbformat_minor": 5
}
