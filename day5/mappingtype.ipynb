{
 "cells": [
  {
   "cell_type": "markdown",
   "id": "df6d5ded-3b76-471c-a1e8-da8b0ac6b027",
   "metadata": {},
   "source": [
    "Mapping Type:\n",
    "--> represented by dict keyword.\n",
    "--> dict is built in data type that represent collection of key-value pairs. \n",
    "-->each element is pair consistion of key and a value.\n",
    "--> key is used to index the value."
   ]
  },
  {
   "cell_type": "markdown",
   "id": "b500b448-0b4a-41cf-b515-329fe9e4ad2c",
   "metadata": {},
   "source": [
    "#creating dictionary\n",
    "dict_one = {key: value, key:value---}"
   ]
  },
  {
   "cell_type": "code",
   "execution_count": 1,
   "id": "92ad4019-fde5-4b17-bacb-6a00bbafbb1b",
   "metadata": {},
   "outputs": [],
   "source": [
    "#Creating a dictionary\n",
    "person={\n",
    "    \"name\" : \"Laxman\",\n",
    "    \"age\" : 21,\n",
    "    \"City\" : \"KTM\"\n",
    "\n",
    "}"
   ]
  },
  {
   "cell_type": "code",
   "execution_count": 2,
   "id": "7b3b597f-2299-4ca5-af37-6208f9e63170",
   "metadata": {},
   "outputs": [
    {
     "name": "stdout",
     "output_type": "stream",
     "text": [
      "{'name': 'Laxman', 'age': 21, 'City': 'KTM'}\n"
     ]
    }
   ],
   "source": [
    "print(person)"
   ]
  },
  {
   "cell_type": "code",
   "execution_count": 3,
   "id": "0637e543-4720-4c4e-8c36-d26b37d456a7",
   "metadata": {},
   "outputs": [],
   "source": [
    "#creating a dictionary\n",
    "person1 = dict(name=\"john\" , age = 22 , city = \"ktm\" )"
   ]
  },
  {
   "cell_type": "code",
   "execution_count": 4,
   "id": "f2afa39d-54a4-4e66-b6f4-f027b8c95547",
   "metadata": {},
   "outputs": [
    {
     "name": "stdout",
     "output_type": "stream",
     "text": [
      "{'name': 'john', 'age': 22, 'city': 'ktm'}\n"
     ]
    }
   ],
   "source": [
    "print(person1)"
   ]
  },
  {
   "cell_type": "code",
   "execution_count": 5,
   "id": "7ea708d4-1344-4506-bb41-61d90b5815d5",
   "metadata": {},
   "outputs": [
    {
     "data": {
      "text/plain": [
       "22"
      ]
     },
     "execution_count": 5,
     "metadata": {},
     "output_type": "execute_result"
    }
   ],
   "source": [
    "#Accessing members of the dict:-->By using the key.\n",
    "person1[\"age\"]\n",
    "\n"
   ]
  },
  {
   "cell_type": "code",
   "execution_count": 6,
   "id": "a748e74e-a16d-4c7a-aa12-04c893de4236",
   "metadata": {},
   "outputs": [
    {
     "data": {
      "text/plain": [
       "'ktm'"
      ]
     },
     "execution_count": 6,
     "metadata": {},
     "output_type": "execute_result"
    }
   ],
   "source": [
    "#using function--->can keep default case if the key not present \n",
    "person1.get(\"city\",\"unknown\")\n"
   ]
  },
  {
   "cell_type": "code",
   "execution_count": 7,
   "id": "c6d7d8b9-fb77-4120-bcc2-5f0028e0463a",
   "metadata": {},
   "outputs": [
    {
     "data": {
      "text/plain": [
       "'unknown'"
      ]
     },
     "execution_count": 7,
     "metadata": {},
     "output_type": "execute_result"
    }
   ],
   "source": [
    "#gives default value if the key is not found. dict_name.get(\"key\" , \"default value\")\n",
    "person1.get(\"DOB\", \"unknown\")"
   ]
  },
  {
   "cell_type": "code",
   "execution_count": null,
   "id": "3d8e612f-8819-477c-ac89-badf5c30918d",
   "metadata": {},
   "outputs": [],
   "source": []
  },
  {
   "cell_type": "code",
   "execution_count": null,
   "id": "94ecb22a-92c6-4904-9e06-9c1714e90cc1",
   "metadata": {},
   "outputs": [],
   "source": []
  },
  {
   "cell_type": "markdown",
   "id": "f3db07a8-8a5f-470f-8699-799918fab828",
   "metadata": {},
   "source": [
    "Modifying Elements:\n",
    "--> By specifying a key and assigning new value to it.\n"
   ]
  },
  {
   "cell_type": "code",
   "execution_count": 8,
   "id": "05695156-c536-48cc-9975-b843f2465c41",
   "metadata": {},
   "outputs": [
    {
     "name": "stdout",
     "output_type": "stream",
     "text": [
      "{'name': 'john', 'age': 22, 'city': 'ktm'}\n"
     ]
    }
   ],
   "source": [
    "print(person1)"
   ]
  },
  {
   "cell_type": "code",
   "execution_count": 9,
   "id": "d868f978-3584-4aa6-a0ac-19bb1f94789f",
   "metadata": {},
   "outputs": [],
   "source": [
    "#adding a key and value\n",
    "person1['DOB'] = \"2003\"\n"
   ]
  },
  {
   "cell_type": "code",
   "execution_count": 10,
   "id": "574198af-efa0-488f-9256-9f2ff2cf93b6",
   "metadata": {},
   "outputs": [
    {
     "name": "stdout",
     "output_type": "stream",
     "text": [
      "{'name': 'john', 'age': 22, 'city': 'ktm', 'DOB': '2003'}\n"
     ]
    }
   ],
   "source": [
    "print(person1)"
   ]
  },
  {
   "cell_type": "code",
   "execution_count": 11,
   "id": "cc20c6bc-9301-4290-865f-120291ffee15",
   "metadata": {},
   "outputs": [],
   "source": [
    "#Modifying the existing value of the key.\n",
    "person1['DOB'] = \"2000\""
   ]
  },
  {
   "cell_type": "code",
   "execution_count": 12,
   "id": "6efba463-b73b-4888-b492-386b802e4cfe",
   "metadata": {},
   "outputs": [
    {
     "name": "stdout",
     "output_type": "stream",
     "text": [
      "{'name': 'john', 'age': 22, 'city': 'ktm', 'DOB': '2000'}\n"
     ]
    }
   ],
   "source": [
    "print(person1)"
   ]
  },
  {
   "cell_type": "code",
   "execution_count": 13,
   "id": "d328e87d-e95d-4b4d-a95d-d11bf02e32b4",
   "metadata": {},
   "outputs": [],
   "source": [
    "#Deleting a key element.\n",
    "del person1['DOB']"
   ]
  },
  {
   "cell_type": "code",
   "execution_count": 14,
   "id": "80648df2-49ab-43bd-8d72-0d34855a3b26",
   "metadata": {},
   "outputs": [
    {
     "name": "stdout",
     "output_type": "stream",
     "text": [
      "{'name': 'john', 'age': 22, 'city': 'ktm'}\n"
     ]
    }
   ],
   "source": [
    "print(person1)"
   ]
  },
  {
   "cell_type": "code",
   "execution_count": null,
   "id": "fd599f0f-51ac-44ac-8233-f0394adebbae",
   "metadata": {},
   "outputs": [],
   "source": []
  },
  {
   "cell_type": "markdown",
   "id": "38163bd5-a452-450d-87be-7cb465382029",
   "metadata": {},
   "source": [
    "Dictionary Methods:\n",
    "keys( )\n",
    "values( )\n",
    "items( )\n",
    "pop( )\n",
    "copy( )\n",
    "clear( )"
   ]
  },
  {
   "cell_type": "code",
   "execution_count": 15,
   "id": "a90d93ef-927d-41fc-8bfa-e5c25f2aba38",
   "metadata": {},
   "outputs": [
    {
     "name": "stdout",
     "output_type": "stream",
     "text": [
      "{'name': 'Laxman', 'age': 21, 'City': 'KTM'}\n"
     ]
    }
   ],
   "source": [
    "print(person)"
   ]
  },
  {
   "cell_type": "code",
   "execution_count": 16,
   "id": "a5b494fa-4905-4802-9d3d-7f2720e67c16",
   "metadata": {},
   "outputs": [
    {
     "name": "stdout",
     "output_type": "stream",
     "text": [
      "dict_keys(['name', 'age', 'City'])\n"
     ]
    }
   ],
   "source": [
    "#Returns the keys of the given dictionary.\n",
    "print(person.keys())"
   ]
  },
  {
   "cell_type": "code",
   "execution_count": 17,
   "id": "7b8fc817-f47a-4b21-b083-e50969abc681",
   "metadata": {},
   "outputs": [
    {
     "name": "stdout",
     "output_type": "stream",
     "text": [
      "dict_values(['Laxman', 21, 'KTM'])\n"
     ]
    }
   ],
   "source": [
    "#Returns the values of the given dictionary.\n",
    "print(person.values())"
   ]
  },
  {
   "cell_type": "code",
   "execution_count": 18,
   "id": "30e578aa-4ea8-478c-a596-d1a4a1495cd1",
   "metadata": {},
   "outputs": [
    {
     "name": "stdout",
     "output_type": "stream",
     "text": [
      "dict_items([('name', 'Laxman'), ('age', 21), ('City', 'KTM')])\n"
     ]
    }
   ],
   "source": [
    "#Returns the key-value pair of the members of the given dictionary as a tuple.\n",
    "print(person.items())"
   ]
  },
  {
   "cell_type": "code",
   "execution_count": 20,
   "id": "b0d85f2d-0761-4a1d-9b09-f84007db4116",
   "metadata": {},
   "outputs": [
    {
     "name": "stdout",
     "output_type": "stream",
     "text": [
      "{'name': 'Laxman', 'age': 21, 'City': 'KTM'}\n"
     ]
    }
   ],
   "source": [
    "print(person)"
   ]
  },
  {
   "cell_type": "code",
   "execution_count": 21,
   "id": "84d18867-477d-4319-a7c7-a19affe0b2ec",
   "metadata": {},
   "outputs": [],
   "source": [
    "#removes the selected key and value and returns it.\n",
    "age=person.pop('age')"
   ]
  },
  {
   "cell_type": "code",
   "execution_count": 22,
   "id": "27d3d4f3-9d98-4cb4-b732-84edf22f1366",
   "metadata": {},
   "outputs": [
    {
     "data": {
      "text/plain": [
       "21"
      ]
     },
     "execution_count": 22,
     "metadata": {},
     "output_type": "execute_result"
    }
   ],
   "source": [
    "age"
   ]
  },
  {
   "cell_type": "code",
   "execution_count": 23,
   "id": "6d71ab7d-4417-4159-82a8-16edff3afecf",
   "metadata": {},
   "outputs": [
    {
     "name": "stdout",
     "output_type": "stream",
     "text": [
      "{'name': 'Laxman', 'City': 'KTM'}\n"
     ]
    }
   ],
   "source": [
    "print(person)"
   ]
  },
  {
   "cell_type": "code",
   "execution_count": null,
   "id": "bb4be387-27a5-496b-900e-d4719a4f666f",
   "metadata": {},
   "outputs": [],
   "source": []
  },
  {
   "cell_type": "code",
   "execution_count": 24,
   "id": "f17d6f78-1227-4db3-a6ef-d209318554df",
   "metadata": {},
   "outputs": [],
   "source": [
    "person1=person\n"
   ]
  },
  {
   "cell_type": "code",
   "execution_count": 25,
   "id": "8064582d-ffe9-4de3-a94f-7f7eec4c9299",
   "metadata": {},
   "outputs": [
    {
     "name": "stdout",
     "output_type": "stream",
     "text": [
      "{'name': 'Laxman', 'City': 'KTM'}\n"
     ]
    }
   ],
   "source": [
    "print(person1)\n"
   ]
  },
  {
   "cell_type": "code",
   "execution_count": 27,
   "id": "ca01a72b-d89c-4e66-975f-d49d91b13f71",
   "metadata": {},
   "outputs": [],
   "source": [
    "person1['name'] = 'Hari'"
   ]
  },
  {
   "cell_type": "code",
   "execution_count": 28,
   "id": "12fceb11-ec61-40f8-bd1c-10c303c1414e",
   "metadata": {},
   "outputs": [
    {
     "name": "stdout",
     "output_type": "stream",
     "text": [
      "{'name': 'Hari', 'City': 'KTM'}\n"
     ]
    }
   ],
   "source": [
    "print(person1)"
   ]
  },
  {
   "cell_type": "code",
   "execution_count": 29,
   "id": "e60480d5-47e6-4b4a-a8b7-bc1bd5345ef5",
   "metadata": {},
   "outputs": [
    {
     "name": "stdout",
     "output_type": "stream",
     "text": [
      "{'name': 'Hari', 'City': 'KTM'}\n"
     ]
    }
   ],
   "source": [
    "print(person)"
   ]
  },
  {
   "cell_type": "markdown",
   "id": "2fc1113b-8329-4252-ad8a-185015141358",
   "metadata": {},
   "source": [
    "Name value of person also changed even though we changed name value of person1. This is because these both dict person1 and person are pointing or referencing to the same memory adress.\n",
    "To not refer to the memory adress and create another complete copy with own memory for storing value we use \n",
    "--> copy()\n"
   ]
  },
  {
   "cell_type": "code",
   "execution_count": 30,
   "id": "61819e94-a04f-4a79-b6e8-2e6c41cd7d8f",
   "metadata": {},
   "outputs": [],
   "source": [
    "person3=person.copy()"
   ]
  },
  {
   "cell_type": "code",
   "execution_count": 31,
   "id": "3059940e-6945-487b-94da-840c46fa487f",
   "metadata": {},
   "outputs": [
    {
     "data": {
      "text/plain": [
       "{'name': 'Hari', 'City': 'KTM'}"
      ]
     },
     "execution_count": 31,
     "metadata": {},
     "output_type": "execute_result"
    }
   ],
   "source": [
    "person3\n"
   ]
  },
  {
   "cell_type": "code",
   "execution_count": 32,
   "id": "60fd6890-9f6b-4781-a34a-99ea0481e679",
   "metadata": {},
   "outputs": [],
   "source": [
    "person3['name'] = 'Travis'"
   ]
  },
  {
   "cell_type": "code",
   "execution_count": 33,
   "id": "59dd3d11-6509-4c77-8c5b-fa0cde3e474f",
   "metadata": {},
   "outputs": [
    {
     "name": "stdout",
     "output_type": "stream",
     "text": [
      "{'name': 'Travis', 'City': 'KTM'}\n"
     ]
    }
   ],
   "source": [
    "print(person3)"
   ]
  },
  {
   "cell_type": "markdown",
   "id": "f2dd4a2a-6d9e-496e-8c64-1a338a81327a",
   "metadata": {},
   "source": [
    "**## Sorted() Method:**\n",
    "This method allows user to sort the members of the dictionary by keys or by values as needed.\n",
    "sorted(dict_name.items(),key=lamda item: items[0] , reverse=False)) \n",
    "\n",
    "\n",
    "items[0] means the first item of the tuple. i.e. the key. Item[1] would have given the value.\n",
    "\n",
    "\n"
   ]
  },
  {
   "cell_type": "code",
   "execution_count": 41,
   "id": "38e5f877-173d-448d-a9d2-99d4a747285c",
   "metadata": {},
   "outputs": [
    {
     "data": {
      "text/plain": [
       "{'City': 'KTM', 'name': 'Travis'}"
      ]
     },
     "execution_count": 41,
     "metadata": {},
     "output_type": "execute_result"
    }
   ],
   "source": [
    "#sort alphabetically by key\n",
    "\n",
    "dict(\n",
    "    sorted(person3.items() , key = lambda item : item[0], reverse=False)\n",
    ")"
   ]
  },
  {
   "cell_type": "code",
   "execution_count": 44,
   "id": "7391b244-74fb-4846-b690-e727b3b4e87a",
   "metadata": {},
   "outputs": [
    {
     "data": {
      "text/plain": [
       "{'City': 'KTM', 'name': 'Travis'}"
      ]
     },
     "execution_count": 44,
     "metadata": {},
     "output_type": "execute_result"
    }
   ],
   "source": [
    "#sort alphabetically by value...precedence---> numerical first alphabets later\n",
    "\n",
    "dict(\n",
    "    sorted(person3.items() , key = lambda item : item[1], reverse=False)\n",
    ")"
   ]
  },
  {
   "cell_type": "markdown",
   "id": "78f9cc47-d077-41e5-bab4-04ec49105f27",
   "metadata": {},
   "source": []
  },
  {
   "cell_type": "markdown",
   "id": "c0ffd0ec-baa2-4253-a9bb-1ae8b3d56573",
   "metadata": {},
   "source": [
    "**Merging two Dictionaries**\n",
    "dict1 | dict2 \n",
    "if the key in both is same: then the later key and value is given in merged final dict.\n"
   ]
  },
  {
   "cell_type": "code",
   "execution_count": 46,
   "id": "4ec49fe6-95a7-4317-b649-dca518a083d6",
   "metadata": {},
   "outputs": [],
   "source": [
    "person0 = { \"name\" : \"Nire\", \"age\" : 19 , \"city\" : \"PKR\" , \"gender\": \"male\"}"
   ]
  },
  {
   "cell_type": "code",
   "execution_count": 48,
   "id": "ad75e9c9-ea36-4c4c-9fe1-13f49551c8c7",
   "metadata": {},
   "outputs": [],
   "source": [
    "adress = { \"city\" : \" Rambazar\" , \"Ward\" : 5 }"
   ]
  },
  {
   "cell_type": "code",
   "execution_count": 49,
   "id": "42daa0d4-f9e9-4716-b59e-eb56f4be8bd8",
   "metadata": {},
   "outputs": [
    {
     "data": {
      "text/plain": [
       "{'name': 'Nire', 'age': 19, 'city': ' Rambazar', 'gender': 'male', 'Ward': 5}"
      ]
     },
     "execution_count": 49,
     "metadata": {},
     "output_type": "execute_result"
    }
   ],
   "source": [
    "#merging dict person0 and adress\n",
    "\n",
    "person0 | adress"
   ]
  },
  {
   "cell_type": "code",
   "execution_count": 51,
   "id": "690ebcf1-181a-464b-b4ce-61a939b8946a",
   "metadata": {},
   "outputs": [
    {
     "data": {
      "text/plain": [
       "{'city': 'PKR', 'Ward': 5, 'name': 'Nire', 'age': 19, 'gender': 'male'}"
      ]
     },
     "execution_count": 51,
     "metadata": {},
     "output_type": "execute_result"
    }
   ],
   "source": [
    "adress | person0"
   ]
  },
  {
   "cell_type": "code",
   "execution_count": null,
   "id": "59548a25-5e51-4fe5-9006-a39643791d0f",
   "metadata": {},
   "outputs": [],
   "source": []
  }
 ],
 "metadata": {
  "kernelspec": {
   "display_name": "Python 3 (ipykernel)",
   "language": "python",
   "name": "python3"
  },
  "language_info": {
   "codemirror_mode": {
    "name": "ipython",
    "version": 3
   },
   "file_extension": ".py",
   "mimetype": "text/x-python",
   "name": "python",
   "nbconvert_exporter": "python",
   "pygments_lexer": "ipython3",
   "version": "3.13.1"
  }
 },
 "nbformat": 4,
 "nbformat_minor": 5
}
