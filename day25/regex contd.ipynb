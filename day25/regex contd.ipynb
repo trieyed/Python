{
 "cells": [
  {
   "cell_type": "code",
   "execution_count": 7,
   "id": "cc4175b1-a818-4d77-beae-7360b459adba",
   "metadata": {},
   "outputs": [],
   "source": [
    "import re"
   ]
  },
  {
   "cell_type": "markdown",
   "id": "a95394bc-9a1f-43c2-9b34-569baa152777",
   "metadata": {},
   "source": [
    "## re.compile(pattern,flags=0)"
   ]
  },
  {
   "cell_type": "code",
   "execution_count": 30,
   "id": "354b88e5-3a9d-4cf7-8b21-64f294f356de",
   "metadata": {},
   "outputs": [],
   "source": [
    "pattern = re.compile(r'मेरो नाम राम हो ', re.UNICODE)"
   ]
  },
  {
   "cell_type": "code",
   "execution_count": 31,
   "id": "638683a2-769b-429f-96c8-54138430815f",
   "metadata": {
    "scrolled": true
   },
   "outputs": [
    {
     "data": {
      "text/plain": [
       "['__class__',\n",
       " '__class_getitem__',\n",
       " '__copy__',\n",
       " '__deepcopy__',\n",
       " '__delattr__',\n",
       " '__dir__',\n",
       " '__doc__',\n",
       " '__eq__',\n",
       " '__format__',\n",
       " '__ge__',\n",
       " '__getattribute__',\n",
       " '__getstate__',\n",
       " '__gt__',\n",
       " '__hash__',\n",
       " '__init__',\n",
       " '__init_subclass__',\n",
       " '__le__',\n",
       " '__lt__',\n",
       " '__module__',\n",
       " '__ne__',\n",
       " '__new__',\n",
       " '__reduce__',\n",
       " '__reduce_ex__',\n",
       " '__repr__',\n",
       " '__setattr__',\n",
       " '__sizeof__',\n",
       " '__str__',\n",
       " '__subclasshook__',\n",
       " 'findall',\n",
       " 'finditer',\n",
       " 'flags',\n",
       " 'fullmatch',\n",
       " 'groupindex',\n",
       " 'groups',\n",
       " 'match',\n",
       " 'pattern',\n",
       " 'scanner',\n",
       " 'search',\n",
       " 'split',\n",
       " 'sub',\n",
       " 'subn']"
      ]
     },
     "execution_count": 31,
     "metadata": {},
     "output_type": "execute_result"
    }
   ],
   "source": [
    "dir(pattern)"
   ]
  },
  {
   "cell_type": "code",
   "execution_count": 32,
   "id": "d240466b-7dfc-4cc0-9aaa-6d9b4e448ed3",
   "metadata": {},
   "outputs": [
    {
     "data": {
      "text/plain": [
       "['मेरो नाम राम हो ']"
      ]
     },
     "execution_count": 32,
     "metadata": {},
     "output_type": "execute_result"
    }
   ],
   "source": [
    "pattern.findall(\"मेरो नाम राम हो \")"
   ]
  },
  {
   "cell_type": "code",
   "execution_count": 33,
   "id": "0e40eb24-b09a-4e7c-9924-c632da1a5ed5",
   "metadata": {},
   "outputs": [
    {
     "data": {
      "text/plain": [
       "'हो'"
      ]
     },
     "execution_count": 33,
     "metadata": {},
     "output_type": "execute_result"
    }
   ],
   "source": [
    "pattern.sub(\"मेरो\",\"हो\" ,2)"
   ]
  },
  {
   "cell_type": "code",
   "execution_count": 34,
   "id": "fc00c767-dbfb-4c83-872d-fc55a5c8c648",
   "metadata": {},
   "outputs": [
    {
     "name": "stdout",
     "output_type": "stream",
     "text": [
      "re.compile('मेरो नाम राम हो ')\n"
     ]
    }
   ],
   "source": [
    "print(pattern)"
   ]
  },
  {
   "cell_type": "code",
   "execution_count": null,
   "id": "659e61f7-3c93-4a78-85b5-65fee78b3342",
   "metadata": {},
   "outputs": [],
   "source": []
  },
  {
   "cell_type": "markdown",
   "id": "50282294-fbc3-43c1-9fad-81021240c1cc",
   "metadata": {},
   "source": [
    "List Comprehension\n",
    "Given three lists list1, list2, and list3, each containing integers, write a Python program using list comprehension to generate a new list of unique triplets (x, y, z) where x is from list1, y is from list2, and z is from list3, such that x + y + z =10.\n",
    " "
   ]
  },
  {
   "cell_type": "code",
   "execution_count": 57,
   "id": "77619d58-c215-445b-a7ef-7df56bdbdb75",
   "metadata": {},
   "outputs": [
    {
     "name": "stdout",
     "output_type": "stream",
     "text": [
      "[(1, 1, 8), (1, 3, 6), (2, 6, 2), (3, 1, 6), (3, 3, 4), (5, 1, 4), (5, 3, 2)]\n"
     ]
    }
   ],
   "source": [
    "list1 = [1,2,3,4,5]\n",
    "list2= [1,3,6,8,9]\n",
    "list3=[2,4,6,8,10]\n",
    "\n",
    "list4 = [(x,y,z) \n",
    "         for x in list1 \n",
    "         for y in list2 \n",
    "         for z in list3 \n",
    "         if x+y+z == 10]\n",
    "print(list4)"
   ]
  },
  {
   "cell_type": "code",
   "execution_count": null,
   "id": "192a3356-0c43-4b09-a47f-e585501cfdfb",
   "metadata": {},
   "outputs": [],
   "source": []
  },
  {
   "cell_type": "code",
   "execution_count": null,
   "id": "e8d97683-e553-4f17-aadf-68b01a913dce",
   "metadata": {},
   "outputs": [],
   "source": []
  },
  {
   "cell_type": "code",
   "execution_count": null,
   "id": "bb593282-f1d6-40b5-80bc-86499a8a87b8",
   "metadata": {},
   "outputs": [],
   "source": []
  },
  {
   "cell_type": "markdown",
   "id": "698a89ae-ff40-4f3d-a0d2-6b501c93b349",
   "metadata": {},
   "source": [
    "Write a Python program that takes user input for age. Create a custom exception InvalidAgeError to handle cases where the age is below 0 or above 120.\n",
    " \n",
    "  Hint: Create new class InvalidAgeError that inherits Exception class"
   ]
  },
  {
   "cell_type": "code",
   "execution_count": 63,
   "id": "8913e715-a3d9-4c75-b247-0a6df0c60191",
   "metadata": {},
   "outputs": [],
   "source": [
    "class InvalidAgeError(Exception):\n",
    "    pass\n",
    "\n",
    "def get_age(age):\n",
    "    age = 141\n",
    "    if age<0 or age>120:\n",
    "        raise InvalidAgeError(\"Invalid Age Entered.\")\n",
    "\n",
    "    return age"
   ]
  },
  {
   "cell_type": "code",
   "execution_count": null,
   "id": "32570f08-f005-458c-ab4c-32c4c1ad8e33",
   "metadata": {},
   "outputs": [],
   "source": []
  },
  {
   "cell_type": "code",
   "execution_count": null,
   "id": "ad1ad57c-1674-4151-82a8-cc60919aebf1",
   "metadata": {},
   "outputs": [],
   "source": []
  }
 ],
 "metadata": {
  "kernelspec": {
   "display_name": "Python 3 (ipykernel)",
   "language": "python",
   "name": "python3"
  },
  "language_info": {
   "codemirror_mode": {
    "name": "ipython",
    "version": 3
   },
   "file_extension": ".py",
   "mimetype": "text/x-python",
   "name": "python",
   "nbconvert_exporter": "python",
   "pygments_lexer": "ipython3",
   "version": "3.13.1"
  }
 },
 "nbformat": 4,
 "nbformat_minor": 5
}
