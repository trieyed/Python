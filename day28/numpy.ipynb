{
 "cells": [
  {
   "cell_type": "code",
   "execution_count": 2,
   "id": "eed623fe-5a06-4a40-a314-1c587c10a240",
   "metadata": {},
   "outputs": [],
   "source": [
    "import numpy as np"
   ]
  },
  {
   "cell_type": "code",
   "execution_count": 3,
   "id": "4ce1544c-3569-47af-a4f5-3606b128cd04",
   "metadata": {},
   "outputs": [],
   "source": [
    "a = np.random.randint(0,10,size = (3,5,5))"
   ]
  },
  {
   "cell_type": "code",
   "execution_count": 4,
   "id": "474a493e-c09c-4709-a398-ae24f0c8e305",
   "metadata": {},
   "outputs": [
    {
     "data": {
      "text/plain": [
       "array([[[1, 2, 9, 6, 1],\n",
       "        [9, 3, 9, 5, 7],\n",
       "        [0, 4, 2, 4, 4],\n",
       "        [7, 3, 2, 6, 0],\n",
       "        [1, 1, 0, 9, 4]],\n",
       "\n",
       "       [[7, 1, 2, 2, 5],\n",
       "        [7, 2, 5, 9, 0],\n",
       "        [7, 0, 0, 9, 5],\n",
       "        [9, 2, 5, 7, 9],\n",
       "        [9, 1, 7, 8, 9]],\n",
       "\n",
       "       [[3, 8, 3, 0, 7],\n",
       "        [9, 0, 7, 5, 1],\n",
       "        [7, 7, 0, 3, 3],\n",
       "        [3, 5, 8, 9, 0],\n",
       "        [5, 1, 9, 6, 7]]], dtype=int32)"
      ]
     },
     "execution_count": 4,
     "metadata": {},
     "output_type": "execute_result"
    }
   ],
   "source": [
    "a"
   ]
  },
  {
   "cell_type": "code",
   "execution_count": 5,
   "id": "c41ce86b-cec2-4adc-8b8f-94036da64d4d",
   "metadata": {},
   "outputs": [
    {
     "data": {
      "text/plain": [
       "array([1, 2, 9, 6, 1, 9, 3, 9, 5, 7, 0, 4, 2, 4, 4, 7, 3, 2, 6, 0, 1, 1,\n",
       "       0, 9, 4, 7, 1, 2, 2, 5, 7, 2, 5, 9, 0, 7, 0, 0, 9, 5, 9, 2, 5, 7,\n",
       "       9, 9, 1, 7, 8, 9, 3, 8, 3, 0, 7, 9, 0, 7, 5, 1, 7, 7, 0, 3, 3, 3,\n",
       "       5, 8, 9, 0, 5, 1, 9, 6, 7], dtype=int32)"
      ]
     },
     "execution_count": 5,
     "metadata": {},
     "output_type": "execute_result"
    }
   ],
   "source": [
    "a.flatten()  #converts into a single dimension array(rowwise)"
   ]
  },
  {
   "cell_type": "code",
   "execution_count": 6,
   "id": "c41a882e-24ce-4843-a2d9-7a5e172c8fad",
   "metadata": {},
   "outputs": [
    {
     "data": {
      "text/plain": [
       "array([1, 7, 3, 9, 7, 9, 0, 7, 7, 7, 9, 3, 1, 9, 5, 2, 1, 8, 3, 2, 0, 4,\n",
       "       0, 7, 3, 2, 5, 1, 1, 1, 9, 2, 3, 9, 5, 7, 2, 0, 0, 2, 5, 8, 0, 7,\n",
       "       9, 6, 2, 0, 5, 9, 5, 4, 9, 3, 6, 7, 9, 9, 8, 6, 1, 5, 7, 7, 0, 1,\n",
       "       4, 5, 3, 0, 9, 0, 4, 9, 7], dtype=int32)"
      ]
     },
     "execution_count": 6,
     "metadata": {},
     "output_type": "execute_result"
    }
   ],
   "source": [
    "a.flatten(\"F\") #converts int single dimension array column wise in order of first element of each matrix"
   ]
  },
  {
   "cell_type": "code",
   "execution_count": 7,
   "id": "82248ed2-5cc7-4138-a6d4-54bbcff008f5",
   "metadata": {},
   "outputs": [
    {
     "data": {
      "text/plain": [
       "np.int64(342)"
      ]
     },
     "execution_count": 7,
     "metadata": {},
     "output_type": "execute_result"
    }
   ],
   "source": [
    "a.sum()"
   ]
  },
  {
   "cell_type": "code",
   "execution_count": 8,
   "id": "99352a13-242a-4dbf-833f-a8aa77bcebd0",
   "metadata": {},
   "outputs": [
    {
     "data": {
      "text/plain": [
       "array([[[1, 2, 9, 6, 1],\n",
       "        [9, 3, 9, 5, 7],\n",
       "        [0, 4, 2, 4, 4],\n",
       "        [7, 3, 2, 6, 0],\n",
       "        [1, 1, 0, 9, 4]],\n",
       "\n",
       "       [[7, 1, 2, 2, 5],\n",
       "        [7, 2, 5, 9, 0],\n",
       "        [7, 0, 0, 9, 5],\n",
       "        [9, 2, 5, 7, 9],\n",
       "        [9, 1, 7, 8, 9]],\n",
       "\n",
       "       [[3, 8, 3, 0, 7],\n",
       "        [9, 0, 7, 5, 1],\n",
       "        [7, 7, 0, 3, 3],\n",
       "        [3, 5, 8, 9, 0],\n",
       "        [5, 1, 9, 6, 7]]], dtype=int32)"
      ]
     },
     "execution_count": 8,
     "metadata": {},
     "output_type": "execute_result"
    }
   ],
   "source": [
    "a"
   ]
  },
  {
   "cell_type": "code",
   "execution_count": 9,
   "id": "1f2a27ae-3307-4f83-9832-6ea5a6173674",
   "metadata": {},
   "outputs": [
    {
     "data": {
      "text/plain": [
       "array([[11, 11, 14,  8, 13],\n",
       "       [25,  5, 21, 19,  8],\n",
       "       [14, 11,  2, 16, 12],\n",
       "       [19, 10, 15, 22,  9],\n",
       "       [15,  3, 16, 23, 20]])"
      ]
     },
     "execution_count": 9,
     "metadata": {},
     "output_type": "execute_result"
    }
   ],
   "source": [
    "a.sum(axis = 0)"
   ]
  },
  {
   "cell_type": "code",
   "execution_count": 10,
   "id": "522e5792-26d8-4b47-9855-11517f3d5900",
   "metadata": {},
   "outputs": [
    {
     "data": {
      "text/plain": [
       "array([[18, 13, 22, 30, 16],\n",
       "       [39,  6, 19, 35, 28],\n",
       "       [27, 21, 27, 23, 18]])"
      ]
     },
     "execution_count": 10,
     "metadata": {},
     "output_type": "execute_result"
    }
   ],
   "source": [
    "a.sum(axis = 1)"
   ]
  },
  {
   "cell_type": "code",
   "execution_count": 11,
   "id": "a2ca40d9-55fd-4f34-9fe0-e6311a2eeab4",
   "metadata": {},
   "outputs": [],
   "source": [
    "b = np.random.randint(0,7,size = (2,2,2))"
   ]
  },
  {
   "cell_type": "code",
   "execution_count": 12,
   "id": "5219d0d3-599d-4443-a3bd-f70ec4efb386",
   "metadata": {},
   "outputs": [
    {
     "data": {
      "text/plain": [
       "array([[[5, 0],\n",
       "        [5, 0]],\n",
       "\n",
       "       [[5, 4],\n",
       "        [3, 1]]], dtype=int32)"
      ]
     },
     "execution_count": 12,
     "metadata": {},
     "output_type": "execute_result"
    }
   ],
   "source": [
    "b"
   ]
  },
  {
   "cell_type": "code",
   "execution_count": 13,
   "id": "9a7c159b-33ba-414e-9d55-edcbf0681d2b",
   "metadata": {},
   "outputs": [
    {
     "data": {
      "text/plain": [
       "np.float64(0.0)"
      ]
     },
     "execution_count": 13,
     "metadata": {},
     "output_type": "execute_result"
    }
   ],
   "source": [
    "b.prod(dtype =float)"
   ]
  },
  {
   "cell_type": "code",
   "execution_count": 14,
   "id": "9098cb15-e941-4883-b193-a4c755b92790",
   "metadata": {},
   "outputs": [
    {
     "data": {
      "text/plain": [
       "array([[25,  0],\n",
       "       [15,  0]])"
      ]
     },
     "execution_count": 14,
     "metadata": {},
     "output_type": "execute_result"
    }
   ],
   "source": [
    "b.prod(axis = 0)"
   ]
  },
  {
   "cell_type": "code",
   "execution_count": 15,
   "id": "2a666d82-0d30-45bb-baac-41c7b7ddeb3c",
   "metadata": {},
   "outputs": [
    {
     "data": {
      "text/plain": [
       "array([ 5,  5, 10, 10, 15, 19, 22, 23])"
      ]
     },
     "execution_count": 15,
     "metadata": {},
     "output_type": "execute_result"
    }
   ],
   "source": [
    "b.cumsum() #cumulative sum-->adds members from first with second and then sum with third and so on"
   ]
  },
  {
   "cell_type": "code",
   "execution_count": 16,
   "id": "98940190-1eda-4576-856c-b56fbabb1700",
   "metadata": {},
   "outputs": [
    {
     "data": {
      "text/plain": [
       "np.int32(5)"
      ]
     },
     "execution_count": 16,
     "metadata": {},
     "output_type": "execute_result"
    }
   ],
   "source": [
    "b.max()"
   ]
  },
  {
   "cell_type": "code",
   "execution_count": 17,
   "id": "fe713115-5ae2-48b1-bb0c-665163e7bc71",
   "metadata": {},
   "outputs": [
    {
     "data": {
      "text/plain": [
       "array([[5, 4],\n",
       "       [5, 1]], dtype=int32)"
      ]
     },
     "execution_count": 17,
     "metadata": {},
     "output_type": "execute_result"
    }
   ],
   "source": [
    "b.max(axis = 0) #max value in row"
   ]
  },
  {
   "cell_type": "code",
   "execution_count": 18,
   "id": "90c1a1fe-6e8b-4183-b25b-11c8a46f993a",
   "metadata": {},
   "outputs": [
    {
     "data": {
      "text/plain": [
       "array([[5, 0],\n",
       "       [5, 4]], dtype=int32)"
      ]
     },
     "execution_count": 18,
     "metadata": {},
     "output_type": "execute_result"
    }
   ],
   "source": [
    "b.max(axis = 1) #max value in column"
   ]
  },
  {
   "cell_type": "code",
   "execution_count": 19,
   "id": "fbacb924-bcae-451b-9626-a7593a215a8b",
   "metadata": {},
   "outputs": [
    {
     "data": {
      "text/plain": [
       "np.int64(0)"
      ]
     },
     "execution_count": 19,
     "metadata": {},
     "output_type": "execute_result"
    }
   ],
   "source": [
    "b.argmax()#gives index of maximum value"
   ]
  },
  {
   "cell_type": "code",
   "execution_count": 20,
   "id": "aba7a84f-ac32-40dc-b632-434aa0bdc6b7",
   "metadata": {},
   "outputs": [
    {
     "data": {
      "text/plain": [
       "array([[[5. , 2.5],\n",
       "        [5. , 2.5]],\n",
       "\n",
       "       [[5. , 4. ],\n",
       "        [3. , 2.5]]])"
      ]
     },
     "execution_count": 20,
     "metadata": {},
     "output_type": "execute_result"
    }
   ],
   "source": [
    "b.clip(2.5) #provides value between 2 and 5-->lower than 2 is changed to 2 and higher than 5 is changed to 5"
   ]
  },
  {
   "cell_type": "code",
   "execution_count": 21,
   "id": "6199ed54-d049-4e9d-922c-2e48455ed12d",
   "metadata": {},
   "outputs": [],
   "source": [
    "arr1= np.random.randint(low = -10,high = 10, size = (2,3))\n",
    "arr2= np.random.randint(low = -10,high = 10, size = (2,3))\n"
   ]
  },
  {
   "cell_type": "code",
   "execution_count": 22,
   "id": "15c9ca6e-f6f7-4d9b-a50b-9b8b925a1cc9",
   "metadata": {},
   "outputs": [
    {
     "data": {
      "text/plain": [
       "(array([[-10,   9,  -3],\n",
       "        [ -6,   0,   5]], dtype=int32),\n",
       " array([[-3, -3, -1],\n",
       "        [-1,  7,  1]], dtype=int32))"
      ]
     },
     "execution_count": 22,
     "metadata": {},
     "output_type": "execute_result"
    }
   ],
   "source": [
    "arr1, arr2 #stacks arrow "
   ]
  },
  {
   "cell_type": "code",
   "execution_count": 23,
   "id": "1946845c-f15f-431c-9838-43af86ca6824",
   "metadata": {},
   "outputs": [
    {
     "data": {
      "text/plain": [
       "array([[-10,   9,  -3],\n",
       "       [ -6,   0,   5],\n",
       "       [ -3,  -3,  -1],\n",
       "       [ -1,   7,   1]], dtype=int32)"
      ]
     },
     "execution_count": 23,
     "metadata": {},
     "output_type": "execute_result"
    }
   ],
   "source": [
    "np.vstack((arr1,arr2)) #same column required in vertical stack-->mostly used stack"
   ]
  },
  {
   "cell_type": "code",
   "execution_count": 24,
   "id": "6f98f87f-76ea-4e95-bc22-892777d251fc",
   "metadata": {},
   "outputs": [
    {
     "data": {
      "text/plain": [
       "array([[-10,   9,  -3,  -3,  -3,  -1],\n",
       "       [ -6,   0,   5,  -1,   7,   1]], dtype=int32)"
      ]
     },
     "execution_count": 24,
     "metadata": {},
     "output_type": "execute_result"
    }
   ],
   "source": [
    "np.hstack((arr1,arr2)) #same column required in horizontal stack"
   ]
  },
  {
   "cell_type": "code",
   "execution_count": 25,
   "id": "89b2e837-9f25-4d1b-8b80-db6c55883c38",
   "metadata": {},
   "outputs": [
    {
     "data": {
      "text/plain": [
       "array([[-10,   9,  -3],\n",
       "       [ -6,   0,   5],\n",
       "       [ -3,  -3,  -1],\n",
       "       [ -1,   7,   1]], dtype=int32)"
      ]
     },
     "execution_count": 25,
     "metadata": {},
     "output_type": "execute_result"
    }
   ],
   "source": [
    "np.concatenate((arr1,arr2),axis = 0) #stacks vertically"
   ]
  },
  {
   "cell_type": "code",
   "execution_count": 26,
   "id": "f387c9b2-8ea2-45c2-bf5d-f9ce3324a083",
   "metadata": {},
   "outputs": [
    {
     "data": {
      "text/plain": [
       "array([[-10,   9,  -3,  -3,  -3,  -1],\n",
       "       [ -6,   0,   5,  -1,   7,   1]], dtype=int32)"
      ]
     },
     "execution_count": 26,
     "metadata": {},
     "output_type": "execute_result"
    }
   ],
   "source": [
    "np.concatenate((arr1,arr2),axis = 1) #stacks horizontally"
   ]
  },
  {
   "cell_type": "code",
   "execution_count": 27,
   "id": "99adf946-bc7a-4b16-9393-fafcb242d668",
   "metadata": {},
   "outputs": [
    {
     "data": {
      "text/plain": [
       "array([[[1, 2, 9, 6, 1],\n",
       "        [9, 3, 9, 5, 7],\n",
       "        [0, 4, 2, 4, 4],\n",
       "        [7, 3, 2, 6, 0],\n",
       "        [1, 1, 0, 9, 4]],\n",
       "\n",
       "       [[7, 1, 2, 2, 5],\n",
       "        [7, 2, 5, 9, 0],\n",
       "        [7, 0, 0, 9, 5],\n",
       "        [9, 2, 5, 7, 9],\n",
       "        [9, 1, 7, 8, 9]],\n",
       "\n",
       "       [[3, 8, 3, 0, 7],\n",
       "        [9, 0, 7, 5, 1],\n",
       "        [7, 7, 0, 3, 3],\n",
       "        [3, 5, 8, 9, 0],\n",
       "        [5, 1, 9, 6, 7]]], dtype=int32)"
      ]
     },
     "execution_count": 27,
     "metadata": {},
     "output_type": "execute_result"
    }
   ],
   "source": [
    "np.ceil(a) #provides ceiling value(rounds of to next integer) for float elements.-->2.3=3, 2.9 = 3, 2.01 = 3"
   ]
  },
  {
   "cell_type": "code",
   "execution_count": 28,
   "id": "bfb1fa90-d9b0-4af9-a097-c5b456f1f1d5",
   "metadata": {},
   "outputs": [
    {
     "data": {
      "text/plain": [
       "array([[[ 0.84147098,  0.90929743,  0.41211849, -0.2794155 ,\n",
       "          0.84147098],\n",
       "        [ 0.41211849,  0.14112001,  0.41211849, -0.95892427,\n",
       "          0.6569866 ],\n",
       "        [ 0.        , -0.7568025 ,  0.90929743, -0.7568025 ,\n",
       "         -0.7568025 ],\n",
       "        [ 0.6569866 ,  0.14112001,  0.90929743, -0.2794155 ,\n",
       "          0.        ],\n",
       "        [ 0.84147098,  0.84147098,  0.        ,  0.41211849,\n",
       "         -0.7568025 ]],\n",
       "\n",
       "       [[ 0.6569866 ,  0.84147098,  0.90929743,  0.90929743,\n",
       "         -0.95892427],\n",
       "        [ 0.6569866 ,  0.90929743, -0.95892427,  0.41211849,\n",
       "          0.        ],\n",
       "        [ 0.6569866 ,  0.        ,  0.        ,  0.41211849,\n",
       "         -0.95892427],\n",
       "        [ 0.41211849,  0.90929743, -0.95892427,  0.6569866 ,\n",
       "          0.41211849],\n",
       "        [ 0.41211849,  0.84147098,  0.6569866 ,  0.98935825,\n",
       "          0.41211849]],\n",
       "\n",
       "       [[ 0.14112001,  0.98935825,  0.14112001,  0.        ,\n",
       "          0.6569866 ],\n",
       "        [ 0.41211849,  0.        ,  0.6569866 , -0.95892427,\n",
       "          0.84147098],\n",
       "        [ 0.6569866 ,  0.6569866 ,  0.        ,  0.14112001,\n",
       "          0.14112001],\n",
       "        [ 0.14112001, -0.95892427,  0.98935825,  0.41211849,\n",
       "          0.        ],\n",
       "        [-0.95892427,  0.84147098,  0.41211849, -0.2794155 ,\n",
       "          0.6569866 ]]])"
      ]
     },
     "execution_count": 28,
     "metadata": {},
     "output_type": "execute_result"
    }
   ],
   "source": [
    "np.sin(a) #provides sin value of each element of matrix"
   ]
  },
  {
   "cell_type": "code",
   "execution_count": 29,
   "id": "cd38df43-6ca2-4325-bea6-2faef4ab9c80",
   "metadata": {},
   "outputs": [
    {
     "data": {
      "text/plain": [
       "array([[[1, 2, 9, 6, 1],\n",
       "        [9, 3, 9, 5, 7],\n",
       "        [0, 4, 2, 4, 4],\n",
       "        [7, 3, 2, 6, 0],\n",
       "        [1, 1, 0, 9, 4]],\n",
       "\n",
       "       [[7, 1, 2, 2, 5],\n",
       "        [7, 2, 5, 9, 0],\n",
       "        [7, 0, 0, 9, 5],\n",
       "        [9, 2, 5, 7, 9],\n",
       "        [9, 1, 7, 8, 9]],\n",
       "\n",
       "       [[3, 8, 3, 0, 7],\n",
       "        [9, 0, 7, 5, 1],\n",
       "        [7, 7, 0, 3, 3],\n",
       "        [3, 5, 8, 9, 0],\n",
       "        [5, 1, 9, 6, 7]]], dtype=int32)"
      ]
     },
     "execution_count": 29,
     "metadata": {},
     "output_type": "execute_result"
    }
   ],
   "source": [
    "np.round(a,decimals = 3) #rounds off each elements to 3 decimal places"
   ]
  },
  {
   "cell_type": "code",
   "execution_count": 30,
   "id": "1225b4d1-0b35-420b-a9c0-faa444ceae3b",
   "metadata": {},
   "outputs": [
    {
     "ename": "NameError",
     "evalue": "name 'c' is not defined",
     "output_type": "error",
     "traceback": [
      "\u001b[1;31m---------------------------------------------------------------------------\u001b[0m",
      "\u001b[1;31mNameError\u001b[0m                                 Traceback (most recent call last)",
      "Cell \u001b[1;32mIn[30], line 1\u001b[0m\n\u001b[1;32m----> 1\u001b[0m np\u001b[38;5;241m.\u001b[39mfix(\u001b[43mc\u001b[49m)\n",
      "\u001b[1;31mNameError\u001b[0m: name 'c' is not defined"
     ]
    }
   ],
   "source": [
    "np.fix(c)"
   ]
  },
  {
   "cell_type": "markdown",
   "id": "5899700a-e82a-429f-b377-5646c65da347",
   "metadata": {},
   "source": [
    "## Matrix Operation\n",
    "\n",
    "Includes:  \n",
    "            >Dot Product  \n",
    "            >Inverse  "
   ]
  },
  {
   "cell_type": "code",
   "execution_count": 31,
   "id": "d68f680d-859c-4fba-81a9-92706e12baa7",
   "metadata": {},
   "outputs": [
    {
     "ename": "NameError",
     "evalue": "name 'c' is not defined",
     "output_type": "error",
     "traceback": [
      "\u001b[1;31m---------------------------------------------------------------------------\u001b[0m",
      "\u001b[1;31mNameError\u001b[0m                                 Traceback (most recent call last)",
      "Cell \u001b[1;32mIn[31], line 1\u001b[0m\n\u001b[1;32m----> 1\u001b[0m d\u001b[38;5;241m=\u001b[39mnp\u001b[38;5;241m.\u001b[39mdot(a,\u001b[43mc\u001b[49m) \u001b[38;5;66;03m#must match no of column of first matrix with no of row of second matrix\u001b[39;00m\n",
      "\u001b[1;31mNameError\u001b[0m: name 'c' is not defined"
     ]
    }
   ],
   "source": [
    "d=np.dot(a,c) #must match no of column of first matrix with no of row of second matrix"
   ]
  },
  {
   "cell_type": "code",
   "execution_count": 32,
   "id": "3a344e0f-7722-4f37-82de-3a2df834e27d",
   "metadata": {},
   "outputs": [
    {
     "ename": "NameError",
     "evalue": "name 'd' is not defined",
     "output_type": "error",
     "traceback": [
      "\u001b[1;31m---------------------------------------------------------------------------\u001b[0m",
      "\u001b[1;31mNameError\u001b[0m                                 Traceback (most recent call last)",
      "Cell \u001b[1;32mIn[32], line 1\u001b[0m\n\u001b[1;32m----> 1\u001b[0m \u001b[38;5;28mprint\u001b[39m(\u001b[43md\u001b[49m)\n",
      "\u001b[1;31mNameError\u001b[0m: name 'd' is not defined"
     ]
    }
   ],
   "source": [
    "print(d)"
   ]
  },
  {
   "cell_type": "code",
   "execution_count": null,
   "id": "e7fab5b6-e0f9-4fbc-8186-b30969600359",
   "metadata": {},
   "outputs": [],
   "source": [
    "np.transpose(d) #changes row to column and vice versa"
   ]
  },
  {
   "cell_type": "code",
   "execution_count": 33,
   "id": "0dedc05b-ae75-48d3-bce0-9eaf5280f748",
   "metadata": {},
   "outputs": [
    {
     "data": {
      "text/plain": [
       "array([8, 1])"
      ]
     },
     "execution_count": 33,
     "metadata": {},
     "output_type": "execute_result"
    }
   ],
   "source": [
    "np.trace(b) #sum of elements in main diagonal"
   ]
  },
  {
   "cell_type": "code",
   "execution_count": null,
   "id": "5d85cd0c-b408-4797-9617-ea4afe58201e",
   "metadata": {},
   "outputs": [],
   "source": []
  },
  {
   "cell_type": "code",
   "execution_count": 34,
   "id": "58fb6f39-2875-47ac-a7ac-608ee7ca7fe3",
   "metadata": {},
   "outputs": [],
   "source": [
    "#solving equations: x+2y = 1, 3x+5y = 2\n",
    "arrx = np.array([[1,2],\n",
    "             [3,5]])\n",
    "arry = np.array([1,2])\n"
   ]
  },
  {
   "cell_type": "code",
   "execution_count": 35,
   "id": "0f073277-2445-4fd5-8ea2-4fdc5a4d5fc5",
   "metadata": {},
   "outputs": [
    {
     "data": {
      "text/plain": [
       "array([-1.,  1.])"
      ]
     },
     "execution_count": 35,
     "metadata": {},
     "output_type": "execute_result"
    }
   ],
   "source": [
    "#solves the linear equations and give value of x and y\n",
    "np.linalg.solve(arrx,arry)"
   ]
  },
  {
   "cell_type": "code",
   "execution_count": 41,
   "id": "f41db5bf-cc34-40a8-b982-469c74f80d93",
   "metadata": {},
   "outputs": [
    {
     "data": {
      "text/plain": [
       "array([-2., -1.,  3.])"
      ]
     },
     "execution_count": 41,
     "metadata": {},
     "output_type": "execute_result"
    }
   ],
   "source": [
    "#solving linear equations using matrices\n",
    "#2x+2y+2z = -3, x-y+z = 2, 2x-y-z = -6\n",
    "arr1 = np.array([\n",
    "    [2,2,1],[1,-1,1],[2,-1,-1]\n",
    "])\n",
    "arr2 = np.array([-3,2,-6])"
   ]
  },
  {
   "cell_type": "code",
   "execution_count": 42,
   "id": "8c3049f2-a472-43de-9855-9841ecc7030f",
   "metadata": {},
   "outputs": [
    {
     "data": {
      "text/plain": [
       "array([-2., -1.,  3.])"
      ]
     },
     "execution_count": 42,
     "metadata": {},
     "output_type": "execute_result"
    }
   ],
   "source": [
    "#solves the linear equations and provide the value of x, y and z\n",
    "np.linalg.solve(arr1,arr2)"
   ]
  },
  {
   "cell_type": "code",
   "execution_count": 45,
   "id": "cda4998b-10fa-47f2-a31c-89a0cc1de6c6",
   "metadata": {},
   "outputs": [],
   "source": [
    "x = np.dot(\n",
    "    np.linalg.inv(arr1),arr2\n",
    ")"
   ]
  },
  {
   "cell_type": "code",
   "execution_count": 46,
   "id": "1e64addb-7fe8-4765-92e2-be914a15e22b",
   "metadata": {},
   "outputs": [
    {
     "data": {
      "text/plain": [
       "array([-2., -1.,  3.])"
      ]
     },
     "execution_count": 46,
     "metadata": {},
     "output_type": "execute_result"
    }
   ],
   "source": [
    "x"
   ]
  },
  {
   "cell_type": "code",
   "execution_count": null,
   "id": "038c84d2-cf52-44aa-bd8b-ca98b16291a9",
   "metadata": {},
   "outputs": [],
   "source": []
  }
 ],
 "metadata": {
  "kernelspec": {
   "display_name": "Python 3 (ipykernel)",
   "language": "python",
   "name": "python3"
  },
  "language_info": {
   "codemirror_mode": {
    "name": "ipython",
    "version": 3
   },
   "file_extension": ".py",
   "mimetype": "text/x-python",
   "name": "python",
   "nbconvert_exporter": "python",
   "pygments_lexer": "ipython3",
   "version": "3.13.1"
  }
 },
 "nbformat": 4,
 "nbformat_minor": 5
}
