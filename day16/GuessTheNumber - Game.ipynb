{
 "cells": [
  {
   "cell_type": "code",
   "execution_count": null,
   "id": "51c28f90-882c-4028-835a-ffbd508d1b9f",
   "metadata": {},
   "outputs": [],
   "source": [
    "while True:\n",
    "    from random import randint\n",
    "    secret_num= randint(1,100)\n",
    "    \n",
    "    \n",
    "    def game():\n",
    "                for i in range(0,7):\n",
    "                    guess= int(input(\"Enter your number:\"))\n",
    "                    if (guess==secret_num):\n",
    "                        print(f\"Congrats you guessed it.The correct number was indeed {secret_num}.You guessed it in {i+1} attempts.\")\n",
    "                        break\n",
    "                    elif(guess<secret_num):\n",
    "                        print(\"Wrong number. Try a higher number.\")\n",
    "                    else:\n",
    "                        print(\"Wrong number. Try a lower number.\")\n",
    "                else:\n",
    "                    print(f\"You used all your attempts.The correct number was {secret_num}.\")\n",
    "                    \n",
    "    game()\n",
    "    \n",
    "    again = str(input(\"Would you like to play again ? Yes or no ?\"))\n",
    "    if (again.strip().lower() != \"yes\" ):\n",
    "        break  \n"
   ]
  }
 ],
 "metadata": {
  "kernelspec": {
   "display_name": "Python 3 (ipykernel)",
   "language": "python",
   "name": "python3"
  },
  "language_info": {
   "codemirror_mode": {
    "name": "ipython",
    "version": 3
   },
   "file_extension": ".py",
   "mimetype": "text/x-python",
   "name": "python",
   "nbconvert_exporter": "python",
   "pygments_lexer": "ipython3",
   "version": "3.13.1"
  }
 },
 "nbformat": 4,
 "nbformat_minor": 5
}
