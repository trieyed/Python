{
 "cells": [
  {
   "cell_type": "code",
   "execution_count": 19,
   "id": "a7fdad95-c549-4cfb-9e39-0063463baae7",
   "metadata": {},
   "outputs": [],
   "source": [
    "import pandas as pd\n",
    "import numpy as np"
   ]
  },
  {
   "cell_type": "code",
   "execution_count": 20,
   "id": "8698797f-bfb7-488a-92f6-6edc658b2b3f",
   "metadata": {},
   "outputs": [
    {
     "data": {
      "text/html": [
       "<div>\n",
       "<style scoped>\n",
       "    .dataframe tbody tr th:only-of-type {\n",
       "        vertical-align: middle;\n",
       "    }\n",
       "\n",
       "    .dataframe tbody tr th {\n",
       "        vertical-align: top;\n",
       "    }\n",
       "\n",
       "    .dataframe thead th {\n",
       "        text-align: right;\n",
       "    }\n",
       "</style>\n",
       "<table border=\"1\" class=\"dataframe\">\n",
       "  <thead>\n",
       "    <tr style=\"text-align: right;\">\n",
       "      <th></th>\n",
       "      <th>TV</th>\n",
       "      <th>radio</th>\n",
       "      <th>newspaper</th>\n",
       "      <th>sales</th>\n",
       "    </tr>\n",
       "  </thead>\n",
       "  <tbody>\n",
       "    <tr>\n",
       "      <th>1</th>\n",
       "      <td>230.1</td>\n",
       "      <td>37.8</td>\n",
       "      <td>69.2</td>\n",
       "      <td>22.1</td>\n",
       "    </tr>\n",
       "    <tr>\n",
       "      <th>2</th>\n",
       "      <td>44.5</td>\n",
       "      <td>39.3</td>\n",
       "      <td>45.1</td>\n",
       "      <td>10.4</td>\n",
       "    </tr>\n",
       "    <tr>\n",
       "      <th>3</th>\n",
       "      <td>17.2</td>\n",
       "      <td>45.9</td>\n",
       "      <td>69.3</td>\n",
       "      <td>9.3</td>\n",
       "    </tr>\n",
       "    <tr>\n",
       "      <th>4</th>\n",
       "      <td>151.5</td>\n",
       "      <td>41.3</td>\n",
       "      <td>58.5</td>\n",
       "      <td>18.5</td>\n",
       "    </tr>\n",
       "    <tr>\n",
       "      <th>5</th>\n",
       "      <td>180.8</td>\n",
       "      <td>10.8</td>\n",
       "      <td>58.4</td>\n",
       "      <td>12.9</td>\n",
       "    </tr>\n",
       "  </tbody>\n",
       "</table>\n",
       "</div>"
      ],
      "text/plain": [
       "      TV  radio  newspaper  sales\n",
       "1  230.1   37.8       69.2   22.1\n",
       "2   44.5   39.3       45.1   10.4\n",
       "3   17.2   45.9       69.3    9.3\n",
       "4  151.5   41.3       58.5   18.5\n",
       "5  180.8   10.8       58.4   12.9"
      ]
     },
     "execution_count": 20,
     "metadata": {},
     "output_type": "execute_result"
    }
   ],
   "source": [
    "data_df = pd.read_csv(\"https://www.statlearning.com/s/Advertising.csv\",index_col = 0)\n",
    "data_df.head()"
   ]
  },
  {
   "cell_type": "code",
   "execution_count": 21,
   "id": "39ce0a36-ee34-44c3-9eab-f5657bb8e191",
   "metadata": {},
   "outputs": [],
   "source": [
    "X = data_df.drop(\"sales\",axis = 1).to_numpy()\n",
    "X = np.concat((np.ones((200,1)),X),axis = 1)\n",
    "\n",
    "Y = data_df[\"sales\"].to_numpy().reshape(-1,1)"
   ]
  },
  {
   "cell_type": "code",
   "execution_count": 22,
   "id": "bedc8013-6ca1-41ab-9082-c8c92988793d",
   "metadata": {},
   "outputs": [],
   "source": [
    "n,d = X.shape"
   ]
  },
  {
   "cell_type": "code",
   "execution_count": 23,
   "id": "ac8ac990-24ad-49b5-9d24-a5b3d0e3573c",
   "metadata": {},
   "outputs": [
    {
     "name": "stdout",
     "output_type": "stream",
     "text": [
      "200 4\n"
     ]
    }
   ],
   "source": [
    "print(n,d)"
   ]
  },
  {
   "cell_type": "markdown",
   "id": "f7b80835-245f-40fe-8a87-548cad9bf009",
   "metadata": {},
   "source": [
    "**Random Initialization**"
   ]
  },
  {
   "cell_type": "code",
   "execution_count": 35,
   "id": "26fa9905-48d2-48c7-8c16-acf5d54c5058",
   "metadata": {},
   "outputs": [],
   "source": [
    "def initializer(d):\n",
    "    np.random.seed(99)\n",
    "    betas = np.random.randn(d,1)\n",
    "    return betas\n",
    "betas = (initializer(4))"
   ]
  },
  {
   "cell_type": "markdown",
   "id": "e8321b76-e7d4-412a-9405-763fe2e5a242",
   "metadata": {},
   "source": [
    "## Cost Function"
   ]
  },
  {
   "cell_type": "code",
   "execution_count": 36,
   "id": "adfeab71-2335-4c01-8a67-3667aa9ad120",
   "metadata": {},
   "outputs": [
    {
     "data": {
      "text/plain": [
       "np.float64(33555.504948716625)"
      ]
     },
     "execution_count": 36,
     "metadata": {},
     "output_type": "execute_result"
    }
   ],
   "source": [
    "def calculate_cost(betas):\n",
    "    cost = 0.5* np.sum(np.dot(X,betas) - Y)\n",
    "    return cost\n",
    "\n",
    "calculate_cost(betas)"
   ]
  },
  {
   "cell_type": "code",
   "execution_count": 37,
   "id": "9d6d6746-aecd-4276-848e-620905e5d924",
   "metadata": {},
   "outputs": [
    {
     "data": {
      "text/plain": [
       "array([[   67111.00989743],\n",
       "       [12847982.841109  ],\n",
       "       [ 1623713.78785503],\n",
       "       [ 2220681.05186209]])"
      ]
     },
     "execution_count": 37,
     "metadata": {},
     "output_type": "execute_result"
    }
   ],
   "source": [
    "def calculate_gradients(x,y,betas):\n",
    "    gradient = np.dot(X.T,(np.dot(X,betas)-y))\n",
    "    return gradient\n",
    "\n",
    "calculate_gradients(X,Y,betas)"
   ]
  },
  {
   "cell_type": "code",
   "execution_count": 56,
   "id": "e2d5ddac-119f-49c6-a7da-2d874b021f5e",
   "metadata": {},
   "outputs": [],
   "source": [
    "def gradient_descent(X,y,alpha = 0.01,max_iter = 1000, precision_change = 0.0001):\n",
    "    iteratiion = 0\n",
    "    dfference = 1\n",
    "    n,d = X.shape\n",
    "\n",
    "    betas = initializer(d)\n",
    "    cost = calculate_cost(betas)\n",
    "    history = [cost]\n",
    "\n",
    "    while difference > precision_change and iteratiion <= max_iter:\n",
    "        betas = betas - alpha*calculate_gradients(X,y,betas)\n",
    "\n",
    "        cost = calculate_cost(betas)\n",
    "        histroy.append(cost)\n",
    "        difference = (history(iteration) - cost)\n",
    "\n",
    "        print(f\"Iteration {iteratiion}, cost {cost}\")\n",
    "        iteration += 1\n",
    "\n",
    "        if (cost == np.inf):\n",
    "            print(\"Cost reached infinity, try smaller lr\")\n",
    "            break \n",
    "            \n",
    "        return betas,iteration,history"
   ]
  },
  {
   "cell_type": "code",
   "execution_count": 57,
   "id": "9bc3160f-3156-4443-b312-875bcb81ee12",
   "metadata": {},
   "outputs": [
    {
     "ename": "UnboundLocalError",
     "evalue": "cannot access local variable 'difference' where it is not associated with a value",
     "output_type": "error",
     "traceback": [
      "\u001b[1;31m---------------------------------------------------------------------------\u001b[0m",
      "\u001b[1;31mUnboundLocalError\u001b[0m                         Traceback (most recent call last)",
      "Cell \u001b[1;32mIn[57], line 1\u001b[0m\n\u001b[1;32m----> 1\u001b[0m optimized_betas, best_step, history \u001b[38;5;241m=\u001b[39m \u001b[43mgradient_descent\u001b[49m\u001b[43m(\u001b[49m\u001b[43mX\u001b[49m\u001b[43m \u001b[49m\u001b[43m,\u001b[49m\u001b[43m \u001b[49m\u001b[43mY\u001b[49m\u001b[43m \u001b[49m\u001b[43m,\u001b[49m\u001b[43m \u001b[49m\u001b[43malpha\u001b[49m\u001b[43m \u001b[49m\u001b[38;5;241;43m=\u001b[39;49m\u001b[43m \u001b[49m\u001b[38;5;241;43m0.0000003\u001b[39;49m\u001b[43m)\u001b[49m\n",
      "Cell \u001b[1;32mIn[56], line 10\u001b[0m, in \u001b[0;36mgradient_descent\u001b[1;34m(X, y, alpha, max_iter, precision_change)\u001b[0m\n\u001b[0;32m      7\u001b[0m cost \u001b[38;5;241m=\u001b[39m calculate_cost(betas)\n\u001b[0;32m      8\u001b[0m history \u001b[38;5;241m=\u001b[39m [cost]\n\u001b[1;32m---> 10\u001b[0m \u001b[38;5;28;01mwhile\u001b[39;00m \u001b[43mdifference\u001b[49m \u001b[38;5;241m>\u001b[39m precision_change \u001b[38;5;129;01mand\u001b[39;00m iteratiion \u001b[38;5;241m<\u001b[39m\u001b[38;5;241m=\u001b[39m max_iter:\n\u001b[0;32m     11\u001b[0m     betas \u001b[38;5;241m=\u001b[39m betas \u001b[38;5;241m-\u001b[39m alpha\u001b[38;5;241m*\u001b[39mcalculate_gradients(X,y,betas)\n\u001b[0;32m     13\u001b[0m     cost \u001b[38;5;241m=\u001b[39m calculate_cost(betas)\n",
      "\u001b[1;31mUnboundLocalError\u001b[0m: cannot access local variable 'difference' where it is not associated with a value"
     ]
    }
   ],
   "source": [
    "optimized_betas, best_step, history = gradient_descent(X , Y , alpha = 0.0000003)"
   ]
  },
  {
   "cell_type": "code",
   "execution_count": null,
   "id": "dbb48964-2d81-42a9-8f94-2e372dcab5e5",
   "metadata": {},
   "outputs": [],
   "source": []
  }
 ],
 "metadata": {
  "kernelspec": {
   "display_name": "Python 3 (ipykernel)",
   "language": "python",
   "name": "python3"
  },
  "language_info": {
   "codemirror_mode": {
    "name": "ipython",
    "version": 3
   },
   "file_extension": ".py",
   "mimetype": "text/x-python",
   "name": "python",
   "nbconvert_exporter": "python",
   "pygments_lexer": "ipython3",
   "version": "3.13.1"
  }
 },
 "nbformat": 4,
 "nbformat_minor": 5
}
