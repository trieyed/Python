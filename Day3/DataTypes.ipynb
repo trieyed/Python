{
 "cells": [
  {
   "cell_type": "markdown",
   "id": "24404f66-9ee8-42d4-973e-fc475fbb54d9",
   "metadata": {},
   "source": [
    "Data Types in python\n",
    "-> Int\n",
    "-> Float\n",
    "-> String\n",
    "-> Boolean"
   ]
  },
  {
   "cell_type": "code",
   "execution_count": 1,
   "id": "adc18831-f3d1-4016-b491-737952244e0f",
   "metadata": {},
   "outputs": [],
   "source": [
    "a = 10\n",
    "b = 20"
   ]
  },
  {
   "cell_type": "code",
   "execution_count": 2,
   "id": "7d7c4d0a-51f4-4c7c-8ec2-f3b4692e8509",
   "metadata": {},
   "outputs": [],
   "source": [
    "c = a+b"
   ]
  },
  {
   "cell_type": "code",
   "execution_count": 3,
   "id": "3c41aa8e-fec7-4304-a47e-23087cc77ecc",
   "metadata": {},
   "outputs": [
    {
     "name": "stdout",
     "output_type": "stream",
     "text": [
      "30\n"
     ]
    }
   ],
   "source": [
    "print(c)"
   ]
  },
  {
   "cell_type": "code",
   "execution_count": 4,
   "id": "0fa6eaf0-c4ce-438c-aa47-bc7b1ee1c50f",
   "metadata": {},
   "outputs": [
    {
     "name": "stdout",
     "output_type": "stream",
     "text": [
      "Hello World!!!\n"
     ]
    }
   ],
   "source": [
    "print(\"Hello World!!!\")"
   ]
  },
  {
   "cell_type": "code",
   "execution_count": null,
   "id": "d5f89d55-8a42-4b66-a4c9-043ea79be9e6",
   "metadata": {},
   "outputs": [],
   "source": []
  }
 ],
 "metadata": {
  "kernelspec": {
   "display_name": "Python 3 (ipykernel)",
   "language": "python",
   "name": "python3"
  },
  "language_info": {
   "codemirror_mode": {
    "name": "ipython",
    "version": 3
   },
   "file_extension": ".py",
   "mimetype": "text/x-python",
   "name": "python",
   "nbconvert_exporter": "python",
   "pygments_lexer": "ipython3",
   "version": "3.13.1"
  }
 },
 "nbformat": 4,
 "nbformat_minor": 5
}
