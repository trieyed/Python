{
 "cells": [
  {
   "cell_type": "markdown",
   "id": "3cda5fdf-e8f2-4196-a507-9942922b4c4d",
   "metadata": {},
   "source": [
    "## Why Numpy over Python 'for' Loop ?"
   ]
  },
  {
   "cell_type": "code",
   "execution_count": 1,
   "id": "024db11b-7c09-47c7-a0f6-99944404e748",
   "metadata": {},
   "outputs": [],
   "source": [
    "import numpy as np\n",
    "import time"
   ]
  },
  {
   "cell_type": "code",
   "execution_count": 2,
   "id": "826a1fff-b16e-4bd3-81fb-0dc029de830a",
   "metadata": {},
   "outputs": [],
   "source": [
    "a = np.random.rand(9_000_0000)\n",
    "b = np.random.rand(9_000_0000)"
   ]
  },
  {
   "cell_type": "code",
   "execution_count": null,
   "id": "210f2767-8984-4ab4-b8ec-031227f7431f",
   "metadata": {},
   "outputs": [],
   "source": [
    "#Using Pure Python\n",
    "lsa = list(a)\n",
    "lsb = list(b)\n",
    "res = []\n",
    "\n",
    "start = time.time()\n",
    "for _a, _b in zip(lsa,lsb):\n",
    "    res.append(_a*_b)\n",
    "end = time.time()\n",
    "print(f\"Time taken by pythonloop is {end-start} seconds.\")"
   ]
  },
  {
   "cell_type": "code",
   "execution_count": null,
   "id": "ce8d4ae2-edd1-4486-8d87-d4d7c6ec41b1",
   "metadata": {},
   "outputs": [],
   "source": [
    "#Using Pure Python\n",
    "lsa = list(a)\n",
    "lsb = list(b)\n",
    "res = []\n",
    "\n",
    "start = time.time()\n",
    "res = [_a*_b for _a, _b in zip(lsa,lsb)]\n",
    "end = time.time()\n",
    "print(f\"Time taken by pythonloop is {end-start} seconds.\")"
   ]
  },
  {
   "cell_type": "code",
   "execution_count": null,
   "id": "8727cc27-b9f2-47d6-9ce1-982ad7e81e78",
   "metadata": {},
   "outputs": [],
   "source": [
    "lsa = list(a)\n",
    "lsb = list(b)\n",
    "res = []\n",
    "\n",
    "start = time.time()\n",
    "gen = map(lambda x,y :x*y , lsa, lsb)\n",
    "result = list(gen)\n",
    "end = time.time()\n",
    "print(f\"Time taken by pythonloop is {end-start} seconds.\")"
   ]
  },
  {
   "cell_type": "code",
   "execution_count": 3,
   "id": "85ed0a96-a1ab-4111-8456-6088c0b0069e",
   "metadata": {},
   "outputs": [
    {
     "name": "stdout",
     "output_type": "stream",
     "text": [
      "Time taken by pythonloop is 0.19663596153259277 seconds.\n"
     ]
    }
   ],
   "source": [
    "start = time.time()\n",
    "result = a*b\n",
    "end = time.time()\n",
    "print(f\"Time taken by pythonloop is {end-start} seconds.\")"
   ]
  },
  {
   "cell_type": "code",
   "execution_count": null,
   "id": "71389540-0a51-4d98-aae8-16340b4e5e00",
   "metadata": {},
   "outputs": [],
   "source": []
  },
  {
   "cell_type": "code",
   "execution_count": null,
   "id": "a0bdbd4b-cabf-49f6-ad45-31be2f16207a",
   "metadata": {},
   "outputs": [],
   "source": []
  }
 ],
 "metadata": {
  "kernelspec": {
   "display_name": "Python 3 (ipykernel)",
   "language": "python",
   "name": "python3"
  },
  "language_info": {
   "codemirror_mode": {
    "name": "ipython",
    "version": 3
   },
   "file_extension": ".py",
   "mimetype": "text/x-python",
   "name": "python",
   "nbconvert_exporter": "python",
   "pygments_lexer": "ipython3",
   "version": "3.13.1"
  }
 },
 "nbformat": 4,
 "nbformat_minor": 5
}
