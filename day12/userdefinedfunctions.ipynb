{
 "cells": [
  {
   "cell_type": "markdown",
   "id": "916d09e6-9c04-4560-be83-8fb39e9c8b92",
   "metadata": {},
   "source": [
    "**User Defined Functions**\n",
    "-\n",
    "`def function_name(parameter 1, parameter 2, ...)`\n",
    "\n",
    "     `#Function body`     \n",
    "     `return output_value`"
   ]
  },
  {
   "cell_type": "code",
   "execution_count": 8,
   "id": "cfa5df20-ea49-4e8d-93ff-a1753b20a10c",
   "metadata": {},
   "outputs": [],
   "source": [
    "#Default Parameters \n",
    "#Returns default value if the value in not passed to the variable. Must be later than non default parameter while defining in functions.\n",
    "def greet(name,greeting=\"Hello\"):\n",
    "    return f\"{greeting},{name}\"\n",
    "    "
   ]
  },
  {
   "cell_type": "code",
   "execution_count": 9,
   "id": "bc3e0d5d-b8fc-477d-8ec0-b3d8f5c4fa5f",
   "metadata": {},
   "outputs": [
    {
     "data": {
      "text/plain": [
       "'Hello,Ram'"
      ]
     },
     "execution_count": 9,
     "metadata": {},
     "output_type": "execute_result"
    }
   ],
   "source": [
    "greet(\"Ram\")"
   ]
  },
  {
   "cell_type": "code",
   "execution_count": 10,
   "id": "df9cc690-8b42-43a3-9235-2169157c405f",
   "metadata": {},
   "outputs": [
    {
     "data": {
      "text/plain": [
       "'Hi,Ram'"
      ]
     },
     "execution_count": 10,
     "metadata": {},
     "output_type": "execute_result"
    }
   ],
   "source": [
    "greet(\"Ram\",\"Hi\")"
   ]
  },
  {
   "cell_type": "markdown",
   "id": "a575d75a-6366-404a-83cc-07a0bdc8fba2",
   "metadata": {},
   "source": [
    "Parameters are also called arguments."
   ]
  },
  {
   "cell_type": "code",
   "execution_count": 56,
   "id": "9c88cfcd-1a98-49c0-bf5e-2222a10b8e63",
   "metadata": {},
   "outputs": [],
   "source": [
    "def print_arguments(name,adress,*args,**kwargs):  #args(*) = arguments , kwargs(**) = keyword arguments like greeting(key):\"Hello\"(value)\n",
    "    for arg in args:\n",
    "        print(arg, end = \" \")\n",
    "    print()\n",
    "    print(kwargs)\n",
    "    for key,value in kwargs.items():\n",
    "        print(f\"Value for {key} is {value}.\")\n",
    "\n",
    "    time = kwargs.get('time','12am') #providing default value in case the key is not present by using get function."
   ]
  },
  {
   "cell_type": "code",
   "execution_count": 57,
   "id": "4bb6e10d-ff61-435b-944b-7e41cc25d90a",
   "metadata": {},
   "outputs": [
    {
     "name": "stdout",
     "output_type": "stream",
     "text": [
      "[4, 5, 6] \n",
      "{'greet': 'hello', 'time': '8am'}\n",
      "Value for greet is hello.\n",
      "Value for time is 8am.\n"
     ]
    }
   ],
   "source": [
    "print_arguments(12,12.45,[4,5,6],greet=\"hello\" , time = \"8am\")"
   ]
  },
  {
   "cell_type": "markdown",
   "id": "333a85d9-2038-4287-8150-4c3fe9c45541",
   "metadata": {},
   "source": [
    "**Documentation in Function**\n",
    "-\n",
    "\n",
    "Doctrings are strilg literals that appear right after the definition of function or method that describes what the function does.\n",
    "\n",
    "\"\"\""
   ]
  },
  {
   "cell_type": "code",
   "execution_count": 62,
   "id": "0c686615-6e07-48d8-ac2d-5a088ca85293",
   "metadata": {},
   "outputs": [
    {
     "data": {
      "text/plain": [
       "25"
      ]
     },
     "execution_count": 62,
     "metadata": {},
     "output_type": "execute_result"
    }
   ],
   "source": [
    "def square(n):  #You can use shift tab while in function to check the docstring of the function.\n",
    "    \"\"\"\n",
    "    Returns the square of the number.\n",
    "    Parameter:\n",
    "    n (int)\n",
    "    Return:\n",
    "    int:square of the number\n",
    "    \"\"\"\n",
    "\n",
    "    return n**2\n",
    "square(5)"
   ]
  },
  {
   "cell_type": "code",
   "execution_count": 64,
   "id": "2b308394-c478-4701-b1d6-6b099ac24575",
   "metadata": {},
   "outputs": [
    {
     "name": "stdout",
     "output_type": "stream",
     "text": [
      "\n",
      "Returns the square of the number.\n",
      "Parameter:\n",
      "n (int)\n",
      "Return:\n",
      "int:square of the number\n",
      "\n"
     ]
    }
   ],
   "source": [
    "#__doc__ returns the documentation of the function.\n",
    "print(square.__doc__)"
   ]
  },
  {
   "cell_type": "code",
   "execution_count": 74,
   "id": "8374936d-649d-416f-85c0-faa60099b07f",
   "metadata": {},
   "outputs": [
    {
     "name": "stdout",
     "output_type": "stream",
     "text": [
      "363.99434399999996\n"
     ]
    }
   ],
   "source": [
    "#defining the data type of the parameter of a function:\n",
    "def cube(n:int) ->int:\n",
    "    \"\"\"\n",
    "    Returns the cube of the number.\n",
    "    Parameters:\n",
    "    n(int)\n",
    "    returnL\n",
    "    int:cube of the number\n",
    "    \"\"\"\n",
    "    return n**3\n",
    "print(cube(7.14))"
   ]
  },
  {
   "cell_type": "markdown",
   "id": "c05a357b-1094-47ac-90dd-caa3d1ecffb5",
   "metadata": {},
   "source": [
    "Write a Program to Define a Function `power`\n",
    "Write a Program to Define a Function `power` that takes two arguments, `base` and `exp`. The function should return `base` raised to the power of `exp`.\n",
    " \n",
    "If `exp` is not provided, it should default to 2. Call this function with and without the second argument and print the results.\n",
    " "
   ]
  },
  {
   "cell_type": "code",
   "execution_count": 78,
   "id": "cb5d5fd5-3616-4f89-94c7-90675ceeaf64",
   "metadata": {},
   "outputs": [
    {
     "data": {
      "text/plain": [
       "4"
      ]
     },
     "execution_count": 78,
     "metadata": {},
     "output_type": "execute_result"
    }
   ],
   "source": [
    "def power(base,exp=2):\n",
    "    \"\"\"\n",
    "    Returns the power of the base if both are defined else returns square of the base.\n",
    "    Parameters:\n",
    "    base(int) exp(int) if given else 2.\n",
    "    return:\n",
    "    int:exp power of the base of square if the exp is not defined.\n",
    "    \"\"\"\n",
    "    return base**exp\n",
    "power(2)"
   ]
  },
  {
   "cell_type": "markdown",
   "id": "048140d9-3095-480a-b3b5-6d7a447dee34",
   "metadata": {},
   "source": [
    "Standard Deviation : $\\sqrt{\\frac{\\sum{(X - \\bar{X})}^2}{N}}$"
   ]
  },
  {
   "cell_type": "code",
   "execution_count": 98,
   "id": "3998488c-d9d7-445b-ab12-4426b4902cbb",
   "metadata": {},
   "outputs": [],
   "source": [
    "import math \n",
    "def std_dev(lst:list)->float:\n",
    "    n = len(lst)\n",
    "    mean = sum(lst)/n\n",
    "    summation = sum([(x-mean)**2 for x in lst])\n",
    "    result = sqrt(summation/n)\n",
    "    return result"
   ]
  },
  {
   "cell_type": "code",
   "execution_count": 99,
   "id": "f0c40d3b-0934-46ee-8600-2846b1256d05",
   "metadata": {},
   "outputs": [
    {
     "data": {
      "text/plain": [
       "11.02501793232842"
      ]
     },
     "execution_count": 99,
     "metadata": {},
     "output_type": "execute_result"
    }
   ],
   "source": [
    "std_dev([1,32,5,3,6,7,24])"
   ]
  },
  {
   "cell_type": "code",
   "execution_count": null,
   "id": "65d7ec4d-84ef-4566-a731-e440f333a759",
   "metadata": {},
   "outputs": [],
   "source": []
  }
 ],
 "metadata": {
  "kernelspec": {
   "display_name": "Python 3 (ipykernel)",
   "language": "python",
   "name": "python3"
  },
  "language_info": {
   "codemirror_mode": {
    "name": "ipython",
    "version": 3
   },
   "file_extension": ".py",
   "mimetype": "text/x-python",
   "name": "python",
   "nbconvert_exporter": "python",
   "pygments_lexer": "ipython3",
   "version": "3.13.1"
  }
 },
 "nbformat": 4,
 "nbformat_minor": 5
}
