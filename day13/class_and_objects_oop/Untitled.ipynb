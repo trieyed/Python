{
 "cells": [
  {
   "cell_type": "markdown",
   "id": "b8369674-1bd1-4181-ad45-2eb734bf9ff6",
   "metadata": {},
   "source": [
    "**OBJECT ORIENTED PROGRAMMING**\n",
    "--------"
   ]
  },
  {
   "cell_type": "markdown",
   "id": "9b04d0af-eca5-4c3b-9b71-1405734925a0",
   "metadata": {},
   "source": [
    "**CLASSES AND OBJECTS**\n",
    "\n",
    "\n",
    "\n",
    "Naming class with camelcase is a good practice.\n",
    "\n",
    "Syntax:\n",
    "```python\n",
    "class ClassName:\n",
    "    def methods:\n",
    "    .\n",
    "    .\n",
    "\n"
   ]
  },
  {
   "cell_type": "code",
   "execution_count": 15,
   "id": "fa3347b8-e8dc-478f-b587-31338ca85e0d",
   "metadata": {},
   "outputs": [],
   "source": [
    "class Calculator:\n",
    "    def __init__(self, a, b):\n",
    "        self.a = a\n",
    "        self.b = b\n",
    "    def sum(self):\n",
    "        return a+b\n",
    "    def sub(self):\n",
    "        return a-b\n",
    "    def mun(self):\n",
    "        return a*b\n",
    "    def div(self):\n",
    "        return a/b"
   ]
  },
  {
   "cell_type": "code",
   "execution_count": 19,
   "id": "f4e5353c-c4b0-4f18-9efb-f3f8323fb9cf",
   "metadata": {},
   "outputs": [
    {
     "data": {
      "text/plain": [
       "<__main__.Calculator at 0x2ab773b83e0>"
      ]
     },
     "execution_count": 19,
     "metadata": {},
     "output_type": "execute_result"
    }
   ],
   "source": []
  },
  {
   "cell_type": "code",
   "execution_count": null,
   "id": "8ae82a04-41c2-43ed-bf67-15d6fb0554e7",
   "metadata": {},
   "outputs": [],
   "source": []
  }
 ],
 "metadata": {
  "kernelspec": {
   "display_name": "Python 3 (ipykernel)",
   "language": "python",
   "name": "python3"
  },
  "language_info": {
   "codemirror_mode": {
    "name": "ipython",
    "version": 3
   },
   "file_extension": ".py",
   "mimetype": "text/x-python",
   "name": "python",
   "nbconvert_exporter": "python",
   "pygments_lexer": "ipython3",
   "version": "3.13.1"
  }
 },
 "nbformat": 4,
 "nbformat_minor": 5
}
