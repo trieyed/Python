{
 "cells": [
  {
   "cell_type": "markdown",
   "id": "6f5f0a6d-18d1-42e1-9f01-093284f8208f",
   "metadata": {},
   "source": [
    "**Nested if--Conditions**\n",
    "----\n",
    "\n",
    "\n",
    "If inside if is nested if. \n",
    "\n",
    "\n",
    "Any number of if can be added in nested if but a maximum of 3 is a better practice.\n"
   ]
  },
  {
   "cell_type": "code",
   "execution_count": 10,
   "id": "33870dc2-f983-4ae5-8ac7-d3d8e9e0cc5e",
   "metadata": {},
   "outputs": [],
   "source": [
    "x = 101\n",
    "y = 300"
   ]
  },
  {
   "cell_type": "code",
   "execution_count": 11,
   "id": "8d592dc3-b0ed-4d74-84db-196e9f9ccd08",
   "metadata": {},
   "outputs": [
    {
     "name": "stdout",
     "output_type": "stream",
     "text": [
      "Given number 101 is positive.\n",
      "Given number 101 is greater than 100.\n"
     ]
    }
   ],
   "source": [
    "if x > 0:\n",
    "    print(f\"Given number {x} is positive.\")\n",
    "\n",
    "    if x > 100:\n",
    "        print(f\"Given number {x} is greater than 100.\")\n",
    "\n",
    "elif x ==0:\n",
    "        print(f\"Given number {x} is zero.\")\n",
    "\n",
    "else :\n",
    "            print(f\"Given number {x} is negative.\")"
   ]
  },
  {
   "cell_type": "code",
   "execution_count": null,
   "id": "1e3479c6-4b77-4f02-8d4b-5bc93fc6e35b",
   "metadata": {},
   "outputs": [],
   "source": []
  },
  {
   "cell_type": "code",
   "execution_count": null,
   "id": "08e91053-321a-45c4-8a15-333ed66953fa",
   "metadata": {},
   "outputs": [],
   "source": []
  },
  {
   "cell_type": "markdown",
   "id": "43708ec8-c2c2-4116-a821-98466b6e1d8c",
   "metadata": {},
   "source": [
    "**Nested Loop**\n",
    "-----\n",
    "\n",
    "\n",
    "-->Loop inside loop.\n",
    "\n",
    "\n",
    "\n",
    "-->time complexity of for loop in O of n and nested loop is n^2. So, we use less nested loop as much as possible to reduce time complexity."
   ]
  },
  {
   "cell_type": "code",
   "execution_count": 16,
   "id": "45e65d6c-1e5d-44eb-929e-70fc078a4185",
   "metadata": {},
   "outputs": [],
   "source": [
    "adjective = ['red' , 'big', 'tasty' ]\n",
    "fruits = ['apple' , 'banana', 'grapes' ]"
   ]
  },
  {
   "cell_type": "code",
   "execution_count": 17,
   "id": "fb92944c-87c8-482e-8b31-f2bb18e30429",
   "metadata": {},
   "outputs": [
    {
     "name": "stdout",
     "output_type": "stream",
     "text": [
      "red apple\n",
      "red banana\n",
      "red grapes\n",
      "big apple\n",
      "big banana\n",
      "big grapes\n",
      "tasty apple\n",
      "tasty banana\n",
      "tasty grapes\n"
     ]
    }
   ],
   "source": [
    "#adj = red first and then runs the loop with fruits where fruit = apple, banana....simultaneously.\n",
    "\n",
    "for adj in adjective:\n",
    "    for fruit in fruits:\n",
    "        print (adj, fruit)"
   ]
  },
  {
   "cell_type": "markdown",
   "id": "9124d9f7-f357-476c-8316-b4fdf3da979f",
   "metadata": {},
   "source": [
    "Write multiplication table of any number using nested loop:"
   ]
  },
  {
   "cell_type": "code",
   "execution_count": 29,
   "id": "9dfd9b17-0b46-4d6e-9bff-be4d19b275f0",
   "metadata": {},
   "outputs": [
    {
     "name": "stdin",
     "output_type": "stream",
     "text": [
      "Enter a number: 15\n"
     ]
    },
    {
     "name": "stdout",
     "output_type": "stream",
     "text": [
      "15*1 = 15\n",
      "15*2 = 30\n",
      "15*3 = 45\n",
      "15*4 = 60\n",
      "15*5 = 75\n",
      "15*6 = 90\n",
      "15*7 = 105\n",
      "15*8 = 120\n",
      "15*9 = 135\n",
      "15*10 = 150\n"
     ]
    }
   ],
   "source": [
    "a = int(input(\"Enter a number:\"))\n",
    "numlist = range(1,11)\n",
    "\n",
    "for num in numlist:\n",
    "            print(f\"{a}*{num} = {a*num}\")\n",
    "    "
   ]
  },
  {
   "cell_type": "markdown",
   "id": "eb44417a-115a-4eb0-b788-5390b9445d72",
   "metadata": {},
   "source": [
    "**REVISION OF THE WEEK**\n",
    "---"
   ]
  },
  {
   "cell_type": "code",
   "execution_count": 43,
   "id": "6de2071d-3598-4a7d-9ca2-9f8ac79c7315",
   "metadata": {},
   "outputs": [],
   "source": [
    "sentence = \" a quick brown fox jumps over a lazy dog.\"\n"
   ]
  },
  {
   "cell_type": "code",
   "execution_count": 44,
   "id": "9cc2fc0e-665b-4400-a00a-2e2540ec3e8b",
   "metadata": {},
   "outputs": [],
   "source": [
    "sentenceset = set (sentence)"
   ]
  },
  {
   "cell_type": "code",
   "execution_count": 45,
   "id": "38d33a84-412d-4b78-afcb-6c5f55a0e04f",
   "metadata": {},
   "outputs": [
    {
     "name": "stdout",
     "output_type": "stream",
     "text": [
      "a\n",
      "i\n",
      "z\n",
      "d\n",
      ".\n",
      "l\n",
      "u\n",
      "j\n",
      "r\n",
      "q\n",
      "y\n",
      "v\n",
      " \n",
      "k\n",
      "g\n",
      "x\n",
      "s\n",
      "m\n",
      "f\n",
      "e\n",
      "w\n",
      "o\n",
      "n\n",
      "p\n",
      "c\n",
      "b\n"
     ]
    }
   ],
   "source": [
    "for char in sentenceset:\n",
    "    print(char)"
   ]
  },
  {
   "cell_type": "code",
   "execution_count": 46,
   "id": "37195e0f-d194-4666-8bcf-c23d3d73ad32",
   "metadata": {},
   "outputs": [
    {
     "data": {
      "text/plain": [
       "{' ',\n",
       " '.',\n",
       " 'a',\n",
       " 'b',\n",
       " 'c',\n",
       " 'd',\n",
       " 'e',\n",
       " 'f',\n",
       " 'g',\n",
       " 'i',\n",
       " 'j',\n",
       " 'k',\n",
       " 'l',\n",
       " 'm',\n",
       " 'n',\n",
       " 'o',\n",
       " 'p',\n",
       " 'q',\n",
       " 'r',\n",
       " 's',\n",
       " 'u',\n",
       " 'v',\n",
       " 'w',\n",
       " 'x',\n",
       " 'y',\n",
       " 'z'}"
      ]
     },
     "execution_count": 46,
     "metadata": {},
     "output_type": "execute_result"
    }
   ],
   "source": [
    "sentenceset\n",
    "\n"
   ]
  },
  {
   "cell_type": "code",
   "execution_count": null,
   "id": "fcf7fb68-d136-40f8-9401-b5217191b1f3",
   "metadata": {},
   "outputs": [],
   "source": []
  },
  {
   "cell_type": "code",
   "execution_count": 47,
   "id": "220ab300-671e-4a96-85c3-9f09299c4ba1",
   "metadata": {},
   "outputs": [],
   "source": [
    "#dictionary"
   ]
  },
  {
   "cell_type": "code",
   "execution_count": 49,
   "id": "780d355e-cdad-49e4-9c05-f0bb20e78409",
   "metadata": {},
   "outputs": [],
   "source": [
    "dic={0:\"apple\", 2:\"banana\", 4:\"cherry\"}"
   ]
  },
  {
   "cell_type": "code",
   "execution_count": 51,
   "id": "d63704af-afb5-42cd-80ab-65dc0cdd9a99",
   "metadata": {},
   "outputs": [
    {
     "data": {
      "text/plain": [
       "'cherry'"
      ]
     },
     "execution_count": 51,
     "metadata": {},
     "output_type": "execute_result"
    }
   ],
   "source": [
    "dic[4]"
   ]
  },
  {
   "cell_type": "code",
   "execution_count": 54,
   "id": "710b0b27-23c9-45b4-af92-7801913d7454",
   "metadata": {},
   "outputs": [
    {
     "data": {
      "text/plain": [
       "'apple'"
      ]
     },
     "execution_count": 54,
     "metadata": {},
     "output_type": "execute_result"
    }
   ],
   "source": [
    "#default value in dictionary gives the specified default value if key not present is called.\n",
    "dic.get(0, \"default_value\")"
   ]
  },
  {
   "cell_type": "code",
   "execution_count": 56,
   "id": "903caeb3-f33f-4fa8-a218-0fe3a8aa570e",
   "metadata": {},
   "outputs": [
    {
     "data": {
      "text/plain": [
       "'default_value'"
      ]
     },
     "execution_count": 56,
     "metadata": {},
     "output_type": "execute_result"
    }
   ],
   "source": [
    "#not present key:1\n",
    "dic.get(1, \"default_value\")"
   ]
  },
  {
   "cell_type": "code",
   "execution_count": 57,
   "id": "586190a4-544d-414d-a45e-98a1b05091b9",
   "metadata": {},
   "outputs": [],
   "source": [
    "dic1={9:\"aapple\", 3:\"bananaa\", 7:\"cherryy\"}"
   ]
  },
  {
   "cell_type": "code",
   "execution_count": 63,
   "id": "42a842d2-5e82-480a-952f-66b04ace00e0",
   "metadata": {},
   "outputs": [
    {
     "data": {
      "text/plain": [
       "{0: 'apple', 2: 'banana', 4: 'cherry', 9: 'aapple', 3: 'bananaa', 7: 'cherryy'}"
      ]
     },
     "execution_count": 63,
     "metadata": {},
     "output_type": "execute_result"
    }
   ],
   "source": [
    "#joining dict\n",
    "{**dic1 , **dic}\n"
   ]
  },
  {
   "cell_type": "code",
   "execution_count": 64,
   "id": "e9a458a4-d2f2-42f9-8a64-fefcb4bc6886",
   "metadata": {},
   "outputs": [
    {
     "data": {
      "text/plain": [
       "{0: 'apple', 2: 'banana', 4: 'cherry', 9: 'aapple', 3: 'bananaa', 7: 'cherryy'}"
      ]
     },
     "execution_count": 64,
     "metadata": {},
     "output_type": "execute_result"
    }
   ],
   "source": [
    "dic | dic1"
   ]
  },
  {
   "cell_type": "code",
   "execution_count": 65,
   "id": "d1345335-6776-4414-89d7-bfda81360545",
   "metadata": {},
   "outputs": [],
   "source": [
    "#list\n",
    "list1=[1,2,3,4]\n",
    "list2=[3,4,5,6,7,8,9]"
   ]
  },
  {
   "cell_type": "code",
   "execution_count": 66,
   "id": "52e51f23-d110-49e6-a411-9d34a9200fae",
   "metadata": {},
   "outputs": [],
   "source": [
    "list3= list1.copy()"
   ]
  },
  {
   "cell_type": "code",
   "execution_count": 67,
   "id": "40d3aa21-ccb3-430d-924a-b5673ed351dd",
   "metadata": {},
   "outputs": [
    {
     "data": {
      "text/plain": [
       "[1, 2, 3, 4]"
      ]
     },
     "execution_count": 67,
     "metadata": {},
     "output_type": "execute_result"
    }
   ],
   "source": [
    "list3\n"
   ]
  },
  {
   "cell_type": "code",
   "execution_count": 69,
   "id": "5658626a-9da0-41ff-9fa2-518f84214bfc",
   "metadata": {},
   "outputs": [],
   "source": [
    "#looping a dict\n",
    "dictt={9:\"aapple\", 3:\"bananaa\", 7:\"cherryy\"}"
   ]
  },
  {
   "cell_type": "code",
   "execution_count": 71,
   "id": "d4b4bbcc-3d11-47ea-bda7-63e8cc276a03",
   "metadata": {},
   "outputs": [
    {
     "name": "stdout",
     "output_type": "stream",
     "text": [
      "aapple\n",
      "bananaa\n",
      "cherryy\n"
     ]
    }
   ],
   "source": [
    "for key, value in dictt.items():\n",
    "       \n",
    "     print(value)"
   ]
  },
  {
   "cell_type": "code",
   "execution_count": 79,
   "id": "6820d650-ae42-43ab-a3e4-8d911a08bdaf",
   "metadata": {},
   "outputs": [],
   "source": [
    "#LONG LIST\n",
    "longlist = [ tuple(range(1,5)) , tuple(range(6,10)) ]"
   ]
  },
  {
   "cell_type": "code",
   "execution_count": 80,
   "id": "b1ae46cc-2f32-47a6-a242-d16520f01a4f",
   "metadata": {},
   "outputs": [
    {
     "data": {
      "text/plain": [
       "[(1, 2, 3, 4), (6, 7, 8, 9)]"
      ]
     },
     "execution_count": 80,
     "metadata": {},
     "output_type": "execute_result"
    }
   ],
   "source": [
    "longlist\n"
   ]
  },
  {
   "cell_type": "markdown",
   "id": "15fe0edd-23fa-4339-8e4c-d44e607a8c2a",
   "metadata": {},
   "source": [
    "**Additionally we can access the members inside the tuples directly by matching the number of variables in loop with the number of members inside the tuple.**\n"
   ]
  },
  {
   "cell_type": "code",
   "execution_count": 84,
   "id": "0545e536-0693-4e49-9900-a5d567b57398",
   "metadata": {},
   "outputs": [
    {
     "name": "stdout",
     "output_type": "stream",
     "text": [
      "1 2\n",
      "3 4\n",
      "6 7\n",
      "8 9\n"
     ]
    }
   ],
   "source": [
    "\n",
    "for a,b,c,d in longlist:\n",
    "    print(a,b)\n",
    "    print(c,d)"
   ]
  },
  {
   "cell_type": "code",
   "execution_count": 83,
   "id": "79d2dff9-083c-4875-9ca1-c2fcbe8d6082",
   "metadata": {},
   "outputs": [
    {
     "name": "stdout",
     "output_type": "stream",
     "text": [
      "(1, 2, 3, 4)\n",
      "(6, 7, 8, 9)\n"
     ]
    }
   ],
   "source": [
    "#gives each element i.e. one of the two tuples present inside the list.\n",
    "for a in longlist:\n",
    "    print (a)"
   ]
  },
  {
   "cell_type": "markdown",
   "id": "e8f0d069-1903-405e-b863-fbc0494a4ad5",
   "metadata": {},
   "source": []
  }
 ],
 "metadata": {
  "kernelspec": {
   "display_name": "Python 3 (ipykernel)",
   "language": "python",
   "name": "python3"
  },
  "language_info": {
   "codemirror_mode": {
    "name": "ipython",
    "version": 3
   },
   "file_extension": ".py",
   "mimetype": "text/x-python",
   "name": "python",
   "nbconvert_exporter": "python",
   "pygments_lexer": "ipython3",
   "version": "3.13.1"
  }
 },
 "nbformat": 4,
 "nbformat_minor": 5
}
