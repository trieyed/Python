{
 "cells": [
  {
   "cell_type": "markdown",
   "id": "df6d5ded-3b76-471c-a1e8-da8b0ac6b027",
   "metadata": {},
   "source": [
    "Mapping Type:\n",
    "--> represented by dict keyword.\n",
    "--> dict is built in data type that represent collection of key-value pairs. \n",
    "-->each element is pair consistion of key and a value.\n",
    "--> key is used to index the value."
   ]
  },
  {
   "cell_type": "markdown",
   "id": "b500b448-0b4a-41cf-b515-329fe9e4ad2c",
   "metadata": {},
   "source": [
    "#creating dictionary\n",
    "dict_one = {key: value, key:value---}"
   ]
  },
  {
   "cell_type": "code",
   "execution_count": 6,
   "id": "92ad4019-fde5-4b17-bacb-6a00bbafbb1b",
   "metadata": {},
   "outputs": [],
   "source": [
    "#Creating a dictionary\n",
    "person={\n",
    "    \"name\" : \"Laxman\",\n",
    "    \"age\" : 21,\n",
    "    \"City\" : \"KTM\"\n",
    "\n",
    "}"
   ]
  },
  {
   "cell_type": "code",
   "execution_count": 8,
   "id": "7b3b597f-2299-4ca5-af37-6208f9e63170",
   "metadata": {},
   "outputs": [
    {
     "name": "stdout",
     "output_type": "stream",
     "text": [
      "{'name': 'Laxman', 'age': 21, 'City': 'KTM'}\n"
     ]
    }
   ],
   "source": [
    "print(person)"
   ]
  },
  {
   "cell_type": "code",
   "execution_count": 11,
   "id": "0637e543-4720-4c4e-8c36-d26b37d456a7",
   "metadata": {},
   "outputs": [],
   "source": [
    "#creating a dictionary\n",
    "person1 = dict(name=\"john\" , age = 22 , city = \"ktm\" )"
   ]
  },
  {
   "cell_type": "code",
   "execution_count": 12,
   "id": "f2afa39d-54a4-4e66-b6f4-f027b8c95547",
   "metadata": {},
   "outputs": [
    {
     "name": "stdout",
     "output_type": "stream",
     "text": [
      "{'name': 'john', 'age': 22, 'city': 'ktm'}\n"
     ]
    }
   ],
   "source": [
    "print(person1)"
   ]
  },
  {
   "cell_type": "code",
   "execution_count": 15,
   "id": "7ea708d4-1344-4506-bb41-61d90b5815d5",
   "metadata": {},
   "outputs": [
    {
     "data": {
      "text/plain": [
       "22"
      ]
     },
     "execution_count": 15,
     "metadata": {},
     "output_type": "execute_result"
    }
   ],
   "source": [
    "#Accessing members of the dict:-->By using the key.\n",
    "person1[\"age\"]\n",
    "\n"
   ]
  },
  {
   "cell_type": "code",
   "execution_count": 17,
   "id": "a748e74e-a16d-4c7a-aa12-04c893de4236",
   "metadata": {},
   "outputs": [
    {
     "data": {
      "text/plain": [
       "'ktm'"
      ]
     },
     "execution_count": 17,
     "metadata": {},
     "output_type": "execute_result"
    }
   ],
   "source": [
    "#using function--->can keep default case if the key not present \n",
    "person1.get(\"city\",\"unknown\")\n"
   ]
  },
  {
   "cell_type": "code",
   "execution_count": 18,
   "id": "c6d7d8b9-fb77-4120-bcc2-5f0028e0463a",
   "metadata": {},
   "outputs": [
    {
     "data": {
      "text/plain": [
       "'unknown'"
      ]
     },
     "execution_count": 18,
     "metadata": {},
     "output_type": "execute_result"
    }
   ],
   "source": [
    "#gives default value if the key is not found. dict_name.get(\"key\" , \"default value\")\n",
    "person1.get(\"DOB\", \"unknown\")"
   ]
  },
  {
   "cell_type": "code",
   "execution_count": null,
   "id": "3d8e612f-8819-477c-ac89-badf5c30918d",
   "metadata": {},
   "outputs": [],
   "source": []
  }
 ],
 "metadata": {
  "kernelspec": {
   "display_name": "Python 3 (ipykernel)",
   "language": "python",
   "name": "python3"
  },
  "language_info": {
   "codemirror_mode": {
    "name": "ipython",
    "version": 3
   },
   "file_extension": ".py",
   "mimetype": "text/x-python",
   "name": "python",
   "nbconvert_exporter": "python",
   "pygments_lexer": "ipython3",
   "version": "3.13.1"
  }
 },
 "nbformat": 4,
 "nbformat_minor": 5
}
