{
 "cells": [
  {
   "cell_type": "markdown",
   "id": "2c63bd41-e3fa-44c1-8802-492031fc4eb4",
   "metadata": {},
   "source": [
    "## Loop Statements:\n",
    "     ->Used to repeatedly run certain codes until the condition is met.\n",
    "**Types of Loop**\n",
    "     ->*For Loop*\n",
    "          Iterate over a sequence of values such as list, tuples, strings, range... \n",
    "---\n",
    "Syntax:\n",
    "\n",
    "\n",
    "\n",
    "`for item in variable_name:\n",
    "    do something`"
   ]
  },
  {
   "cell_type": "code",
   "execution_count": 6,
   "id": "bcc341d6-e10c-45ff-9a64-a22b7ccb58b6",
   "metadata": {},
   "outputs": [
    {
     "name": "stdout",
     "output_type": "stream",
     "text": [
      "Step 1\n",
      "apple\n",
      "Step 2\n",
      "banana\n",
      "Step 3\n",
      "cherry\n",
      "Completed!\n"
     ]
    }
   ],
   "source": [
    "fruits = [ 'apple' , 'banana' , 'cherry']\n",
    "\n",
    "i = 1 \n",
    "for each in fruits:\n",
    "    print(f\"Step {i}\")\n",
    "    print (each)\n",
    "    i = i+1\n",
    "print(\"Completed!\")"
   ]
  },
  {
   "cell_type": "code",
   "execution_count": null,
   "id": "ca93d35f-3d1f-49de-8584-59eac6899ed7",
   "metadata": {},
   "outputs": [],
   "source": [
    "\n"
   ]
  },
  {
   "cell_type": "markdown",
   "id": "ffccb772-f4ac-43a0-a64b-78bad3acc083",
   "metadata": {},
   "source": [
    "The range function is commonly used in for loops to generate a sequence of integers. Here's an example:\n",
    "\n",
    "\n",
    "\n",
    "\n",
    "range(start,end,step)\n"
   ]
  },
  {
   "cell_type": "code",
   "execution_count": 8,
   "id": "3dee0901-387e-48aa-9bf4-1fff09d2be1c",
   "metadata": {},
   "outputs": [
    {
     "name": "stdout",
     "output_type": "stream",
     "text": [
      "0\n",
      "1\n",
      "2\n",
      "3\n",
      "4\n",
      "5\n",
      "6\n",
      "7\n",
      "8\n",
      "9\n"
     ]
    }
   ],
   "source": [
    "for a in range(0,10) :\n",
    "    print(a)"
   ]
  },
  {
   "cell_type": "code",
   "execution_count": 15,
   "id": "a43a4d08-224b-4831-b2ac-fed7309747c5",
   "metadata": {},
   "outputs": [
    {
     "name": "stdout",
     "output_type": "stream",
     "text": [
      "*\n",
      "**\n",
      "***\n",
      "****\n",
      "*****\n",
      "******\n",
      "*******\n",
      "********\n"
     ]
    }
   ],
   "source": [
    "for m in range(1,9):\n",
    "    print(\"*\"*m)"
   ]
  },
  {
   "cell_type": "code",
   "execution_count": null,
   "id": "98e6c525-d05d-47bc-825d-4c732c13cd01",
   "metadata": {},
   "outputs": [],
   "source": []
  }
 ],
 "metadata": {
  "kernelspec": {
   "display_name": "Python 3 (ipykernel)",
   "language": "python",
   "name": "python3"
  },
  "language_info": {
   "codemirror_mode": {
    "name": "ipython",
    "version": 3
   },
   "file_extension": ".py",
   "mimetype": "text/x-python",
   "name": "python",
   "nbconvert_exporter": "python",
   "pygments_lexer": "ipython3",
   "version": "3.13.1"
  }
 },
 "nbformat": 4,
 "nbformat_minor": 5
}
