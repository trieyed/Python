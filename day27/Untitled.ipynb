{
 "cells": [
  {
   "cell_type": "code",
   "execution_count": 35,
   "id": "10ebf81b-48c4-432e-97bd-0b80df56a674",
   "metadata": {},
   "outputs": [],
   "source": [
    "import numpy as np"
   ]
  },
  {
   "cell_type": "code",
   "execution_count": 36,
   "id": "4bab8d93-e65c-45a3-a0bc-e52bf8aeed1c",
   "metadata": {},
   "outputs": [],
   "source": [
    "list1 = [2,3,4]"
   ]
  },
  {
   "cell_type": "code",
   "execution_count": 37,
   "id": "bdfa1b3e-1d90-4eb7-a8b4-0c39f4b40ae1",
   "metadata": {},
   "outputs": [],
   "source": [
    "arr1 = np.array(list1)"
   ]
  },
  {
   "cell_type": "code",
   "execution_count": 38,
   "id": "4de203a8-9aea-46f2-b544-ddd479a33db1",
   "metadata": {},
   "outputs": [
    {
     "data": {
      "text/plain": [
       "array([2, 3, 4])"
      ]
     },
     "execution_count": 38,
     "metadata": {},
     "output_type": "execute_result"
    }
   ],
   "source": [
    "arr1"
   ]
  },
  {
   "cell_type": "code",
   "execution_count": 39,
   "id": "3e3724af-81c0-403b-b29e-3348f1b1c4b2",
   "metadata": {},
   "outputs": [
    {
     "data": {
      "text/plain": [
       "numpy.ndarray"
      ]
     },
     "execution_count": 39,
     "metadata": {},
     "output_type": "execute_result"
    }
   ],
   "source": [
    "type(arr1)"
   ]
  },
  {
   "cell_type": "code",
   "execution_count": 40,
   "id": "d7c3e842-7814-4da9-be0a-ec86d6f16a13",
   "metadata": {},
   "outputs": [
    {
     "data": {
      "text/plain": [
       "(3,)"
      ]
     },
     "execution_count": 40,
     "metadata": {},
     "output_type": "execute_result"
    }
   ],
   "source": [
    "arr1.shape"
   ]
  },
  {
   "cell_type": "code",
   "execution_count": 41,
   "id": "ab7b9a52-773a-4e1b-b928-9e45912d4e26",
   "metadata": {},
   "outputs": [
    {
     "data": {
      "text/plain": [
       "1"
      ]
     },
     "execution_count": 41,
     "metadata": {},
     "output_type": "execute_result"
    }
   ],
   "source": [
    "arr1.ndim"
   ]
  },
  {
   "cell_type": "code",
   "execution_count": 46,
   "id": "8d2a4cf4-cfad-4c6d-b4fb-0fe8a02dd80c",
   "metadata": {},
   "outputs": [],
   "source": [
    "list2 = [[2,3,4],\n",
    "         [2,3,4],\n",
    "         [2,3,4]]"
   ]
  },
  {
   "cell_type": "code",
   "execution_count": 47,
   "id": "305f2339-dbfb-4174-aca9-07de20afbffc",
   "metadata": {},
   "outputs": [],
   "source": [
    "arr2 = np.array(list2)"
   ]
  },
  {
   "cell_type": "code",
   "execution_count": 48,
   "id": "2ed855d8-c9bd-453c-9753-c44e2f6a7fef",
   "metadata": {},
   "outputs": [
    {
     "data": {
      "text/plain": [
       "(3, 3)"
      ]
     },
     "execution_count": 48,
     "metadata": {},
     "output_type": "execute_result"
    }
   ],
   "source": [
    "arr2.shape"
   ]
  },
  {
   "cell_type": "code",
   "execution_count": 49,
   "id": "3771ef71-7b78-45da-90d1-659f33ab2449",
   "metadata": {},
   "outputs": [
    {
     "data": {
      "text/plain": [
       "2"
      ]
     },
     "execution_count": 49,
     "metadata": {},
     "output_type": "execute_result"
    }
   ],
   "source": [
    "arr2.ndim"
   ]
  },
  {
   "cell_type": "code",
   "execution_count": 52,
   "id": "da5658db-72e0-4c28-ba3a-9e6666c71766",
   "metadata": {},
   "outputs": [
    {
     "data": {
      "text/plain": [
       "array([[0., 0., 0.],\n",
       "       [0., 0., 0.],\n",
       "       [0., 0., 0.],\n",
       "       [0., 0., 0.],\n",
       "       [0., 0., 0.],\n",
       "       [0., 0., 0.]])"
      ]
     },
     "execution_count": 52,
     "metadata": {},
     "output_type": "execute_result"
    }
   ],
   "source": [
    "np.zeros(shape = (6,3))"
   ]
  },
  {
   "cell_type": "code",
   "execution_count": 67,
   "id": "292f8906-1f8a-48cd-8feb-8cf1ed849acb",
   "metadata": {},
   "outputs": [
    {
     "data": {
      "text/plain": [
       "array([[[1., 1.],\n",
       "        [1., 1.],\n",
       "        [1., 1.],\n",
       "        [1., 1.],\n",
       "        [1., 1.]],\n",
       "\n",
       "       [[1., 1.],\n",
       "        [1., 1.],\n",
       "        [1., 1.],\n",
       "        [1., 1.],\n",
       "        [1., 1.]],\n",
       "\n",
       "       [[1., 1.],\n",
       "        [1., 1.],\n",
       "        [1., 1.],\n",
       "        [1., 1.],\n",
       "        [1., 1.]]])"
      ]
     },
     "execution_count": 67,
     "metadata": {},
     "output_type": "execute_result"
    }
   ],
   "source": [
    "np.ones(shape = (3,5,2)) # 3 such matrixes of dimension 5*2"
   ]
  },
  {
   "cell_type": "code",
   "execution_count": 61,
   "id": "2317eaf7-07bc-43c2-9326-887a9df42828",
   "metadata": {},
   "outputs": [
    {
     "data": {
      "text/plain": [
       "array([[1., 0., 0., 0., 0.],\n",
       "       [0., 1., 0., 0., 0.],\n",
       "       [0., 0., 1., 0., 0.],\n",
       "       [0., 0., 0., 1., 0.],\n",
       "       [0., 0., 0., 0., 1.]])"
      ]
     },
     "execution_count": 61,
     "metadata": {},
     "output_type": "execute_result"
    }
   ],
   "source": [
    "np.identity(5) #identity matrix of dimension 5*5"
   ]
  },
  {
   "cell_type": "code",
   "execution_count": 64,
   "id": "073a931a-3178-4c45-989f-7465da867622",
   "metadata": {},
   "outputs": [
    {
     "data": {
      "text/plain": [
       "array([[[3.5, 3.5],\n",
       "        [3.5, 3.5]],\n",
       "\n",
       "       [[3.5, 3.5],\n",
       "        [3.5, 3.5]],\n",
       "\n",
       "       [[3.5, 3.5],\n",
       "        [3.5, 3.5]],\n",
       "\n",
       "       [[3.5, 3.5],\n",
       "        [3.5, 3.5]]])"
      ]
     },
     "execution_count": 64,
     "metadata": {},
     "output_type": "execute_result"
    }
   ],
   "source": [
    "np.full(shape=(4,2,2),fill_value = 3.5)"
   ]
  },
  {
   "cell_type": "code",
   "execution_count": 72,
   "id": "27f96a0c-a327-4713-ae53-03005f9248e3",
   "metadata": {},
   "outputs": [
    {
     "data": {
      "text/plain": [
       "array([[[0.31556228, 0.65150765, 0.03621092, 0.50248466, 0.03142547],\n",
       "        [0.70298817, 0.05964064, 0.8912674 , 0.41145193, 0.88062566],\n",
       "        [0.57716782, 0.26503424, 0.85630717, 0.17444391, 0.74014367],\n",
       "        [0.0093359 , 0.49519704, 0.30186337, 0.47786193, 0.69758806]],\n",
       "\n",
       "       [[0.52356276, 0.20985813, 0.35580011, 0.56478756, 0.12193562],\n",
       "        [0.08748006, 0.75662621, 0.92846588, 0.53564398, 0.885803  ],\n",
       "        [0.5387699 , 0.87879905, 0.19330978, 0.4424615 , 0.3413806 ],\n",
       "        [0.99112299, 0.15452996, 0.60054958, 0.81126938, 0.5263187 ]],\n",
       "\n",
       "       [[0.39699052, 0.40385339, 0.92714548, 0.70206097, 0.04268087],\n",
       "        [0.76191404, 0.31292081, 0.26478388, 0.78066383, 0.62292282],\n",
       "        [0.64475247, 0.97429699, 0.99690268, 0.67195606, 0.22890346],\n",
       "        [0.8799662 , 0.28634363, 0.82794014, 0.42809643, 0.0710926 ]]])"
      ]
     },
     "execution_count": 72,
     "metadata": {},
     "output_type": "execute_result"
    }
   ],
   "source": [
    "np.random.rand(3,4,5) #creates array with random member from [0,1) --->3 matrixes of size 4*5"
   ]
  },
  {
   "cell_type": "code",
   "execution_count": 76,
   "id": "046bc09a-5e73-46ee-b2b7-52b94153300c",
   "metadata": {},
   "outputs": [
    {
     "data": {
      "text/plain": [
       "array([ 0.,  1.,  2.,  3.,  4.,  5.,  6.,  7.,  8.,  9., 10.])"
      ]
     },
     "execution_count": 76,
     "metadata": {},
     "output_type": "execute_result"
    }
   ],
   "source": [
    "np.linspace(start = 0, stop = 10, num = 11) #works like arithmetic series"
   ]
  },
  {
   "cell_type": "code",
   "execution_count": 80,
   "id": "59d4c5c4-14b0-4f9b-83d1-e5d1dbd0bcd2",
   "metadata": {},
   "outputs": [
    {
     "data": {
      "text/plain": [
       "array([[ 0.  ,  1.  ,  4.  ],\n",
       "       [ 2.5 ,  5.75, 10.5 ],\n",
       "       [ 5.  , 10.5 , 17.  ],\n",
       "       [ 7.5 , 15.25, 23.5 ],\n",
       "       [10.  , 20.  , 30.  ]])"
      ]
     },
     "execution_count": 80,
     "metadata": {},
     "output_type": "execute_result"
    }
   ],
   "source": [
    "np.linspace(start = (0,1,4) , stop = (10,20,30), num = 5 , axis = 0) #axis 0 creates row-wise -> working in arithmetic sequence rowwise"
   ]
  },
  {
   "cell_type": "code",
   "execution_count": 81,
   "id": "c9483acd-25f4-4eda-8ddc-47d38439d959",
   "metadata": {},
   "outputs": [
    {
     "data": {
      "text/plain": [
       "array([[ 0.  ,  2.5 ,  5.  ,  7.5 , 10.  ],\n",
       "       [ 1.  ,  5.75, 10.5 , 15.25, 20.  ],\n",
       "       [ 4.  , 10.5 , 17.  , 23.5 , 30.  ]])"
      ]
     },
     "execution_count": 81,
     "metadata": {},
     "output_type": "execute_result"
    }
   ],
   "source": [
    "np.linspace(start = (0,1,4) , stop = (10,20,30), num = 5 , axis = 1) #axis 1 creates column-wise-->works in arithmetic sequence columnwise"
   ]
  },
  {
   "cell_type": "markdown",
   "id": "db61f9c2-fe9f-473d-aba1-06fac9538a90",
   "metadata": {},
   "source": [
    "**Accessing an Array** \n",
    "-"
   ]
  },
  {
   "cell_type": "code",
   "execution_count": 168,
   "id": "77145323-bebd-4f77-b10f-1bc5b623fcb9",
   "metadata": {},
   "outputs": [],
   "source": [
    "import numpy as np"
   ]
  },
  {
   "cell_type": "code",
   "execution_count": 169,
   "id": "0e1bd3bd-161b-411d-bc1c-bbb5b451351e",
   "metadata": {},
   "outputs": [],
   "source": [
    "a = np.array([2,3,4,5])"
   ]
  },
  {
   "cell_type": "code",
   "execution_count": 170,
   "id": "8edf20e6-d4fa-4b95-8073-52c34ca3f0ce",
   "metadata": {},
   "outputs": [
    {
     "data": {
      "text/plain": [
       "np.int64(4)"
      ]
     },
     "execution_count": 170,
     "metadata": {},
     "output_type": "execute_result"
    }
   ],
   "source": [
    "a[2] #provides third element"
   ]
  },
  {
   "cell_type": "code",
   "execution_count": 171,
   "id": "ade64ad4-106a-402c-ba60-91a037893b50",
   "metadata": {},
   "outputs": [],
   "source": [
    "#2D\n",
    "b = np.random.randint(0,10,(2,3))"
   ]
  },
  {
   "cell_type": "code",
   "execution_count": 172,
   "id": "83718826-c3fe-423c-b718-d6d2b4bcb34e",
   "metadata": {},
   "outputs": [
    {
     "data": {
      "text/plain": [
       "array([[7, 9, 9],\n",
       "       [5, 8, 9]], dtype=int32)"
      ]
     },
     "execution_count": 172,
     "metadata": {},
     "output_type": "execute_result"
    }
   ],
   "source": [
    "b"
   ]
  },
  {
   "cell_type": "code",
   "execution_count": 173,
   "id": "b1404fd4-3517-4964-a829-00c6e08440db",
   "metadata": {},
   "outputs": [
    {
     "data": {
      "text/plain": [
       "array([7, 9, 9], dtype=int32)"
      ]
     },
     "execution_count": 173,
     "metadata": {},
     "output_type": "execute_result"
    }
   ],
   "source": [
    "b[0]"
   ]
  },
  {
   "cell_type": "code",
   "execution_count": 174,
   "id": "93e3d04d-42e3-46ce-a417-0fe4f06bfee3",
   "metadata": {},
   "outputs": [
    {
     "data": {
      "text/plain": [
       "array([5, 8, 9], dtype=int32)"
      ]
     },
     "execution_count": 174,
     "metadata": {},
     "output_type": "execute_result"
    }
   ],
   "source": [
    "b[1]"
   ]
  },
  {
   "cell_type": "code",
   "execution_count": 175,
   "id": "5a3f5a48-1b13-472a-8f5e-9c48c654ae28",
   "metadata": {},
   "outputs": [
    {
     "name": "stdout",
     "output_type": "stream",
     "text": [
      "9\n"
     ]
    }
   ],
   "source": [
    "print(b[0][2])"
   ]
  },
  {
   "cell_type": "code",
   "execution_count": 176,
   "id": "90b63b7c-ca62-48ae-bf97-7e165ddd621f",
   "metadata": {},
   "outputs": [],
   "source": [
    "#3D\n",
    "c = np.random.randint(0,10,(4,2,3))"
   ]
  },
  {
   "cell_type": "code",
   "execution_count": 177,
   "id": "2ee5db2f-5d07-4933-9f64-1eae748d61fd",
   "metadata": {},
   "outputs": [
    {
     "name": "stdout",
     "output_type": "stream",
     "text": [
      "[[[6 4 5]\n",
      "  [3 9 5]]\n",
      "\n",
      " [[4 5 8]\n",
      "  [1 8 1]]\n",
      "\n",
      " [[4 1 9]\n",
      "  [0 0 7]]\n",
      "\n",
      " [[1 9 6]\n",
      "  [3 7 5]]]\n"
     ]
    }
   ],
   "source": [
    "print(c)"
   ]
  },
  {
   "cell_type": "code",
   "execution_count": 178,
   "id": "a37c7879-f126-4293-a31d-e0eb771ef153",
   "metadata": {},
   "outputs": [
    {
     "data": {
      "text/plain": [
       "np.int32(8)"
      ]
     },
     "execution_count": 178,
     "metadata": {},
     "output_type": "execute_result"
    }
   ],
   "source": [
    "c[1][1][1] #gives element in position 1*1 from matrix in position 1.  *NOTE*->Index starts from 0."
   ]
  },
  {
   "cell_type": "code",
   "execution_count": 179,
   "id": "6a64eae1-cd0f-4bbe-9e5b-278eda3a1357",
   "metadata": {},
   "outputs": [
    {
     "data": {
      "text/plain": [
       "np.int32(5)"
      ]
     },
     "execution_count": 179,
     "metadata": {},
     "output_type": "execute_result"
    }
   ],
   "source": [
    "#to access the last element 9 of third matrix:\n",
    "c[3][1][2]    #3 means matrix in position 3 starting index from 0....[1][2] means element in position 1*2 in the matrix"
   ]
  },
  {
   "cell_type": "code",
   "execution_count": 180,
   "id": "0a3bb537-9cd2-46f1-a3bd-81ae8810f8d6",
   "metadata": {},
   "outputs": [],
   "source": [
    "#3D\n",
    "d = np.random.randint(0,10,(5,5))"
   ]
  },
  {
   "cell_type": "code",
   "execution_count": 181,
   "id": "f81c4c5a-f99f-419e-bf5e-19bedc4faa3a",
   "metadata": {},
   "outputs": [
    {
     "data": {
      "text/plain": [
       "array([[5, 1, 8, 6, 4],\n",
       "       [9, 7, 9, 7, 7],\n",
       "       [4, 3, 5, 8, 3],\n",
       "       [1, 7, 8, 2, 3],\n",
       "       [3, 1, 0, 7, 0]], dtype=int32)"
      ]
     },
     "execution_count": 181,
     "metadata": {},
     "output_type": "execute_result"
    }
   ],
   "source": [
    "d"
   ]
  },
  {
   "cell_type": "code",
   "execution_count": 182,
   "id": "dbc88eba-f8d4-484d-ab0b-88e9bed5e5c1",
   "metadata": {},
   "outputs": [
    {
     "data": {
      "text/plain": [
       "array([[5, 1, 8, 6, 4],\n",
       "       [4, 3, 5, 8, 3],\n",
       "       [3, 1, 0, 7, 0]], dtype=int32)"
      ]
     },
     "execution_count": 182,
     "metadata": {},
     "output_type": "execute_result"
    }
   ],
   "source": [
    "d[::2]  #sliced row such that starts from start and step = 2"
   ]
  },
  {
   "cell_type": "code",
   "execution_count": 183,
   "id": "e7996151-e24a-47b8-897b-1a28d134e1dc",
   "metadata": {},
   "outputs": [
    {
     "data": {
      "text/plain": [
       "array([[5, 8, 4],\n",
       "       [4, 5, 3],\n",
       "       [3, 0, 0]], dtype=int32)"
      ]
     },
     "execution_count": 183,
     "metadata": {},
     "output_type": "execute_result"
    }
   ],
   "source": [
    "d[::2,::2]  #sliced row and column such that in both start = start end = end step = 2"
   ]
  },
  {
   "cell_type": "code",
   "execution_count": 184,
   "id": "d4cfa3c0-59da-4835-849f-1e89df5011f3",
   "metadata": {},
   "outputs": [
    {
     "data": {
      "text/plain": [
       "array([[5, 8, 4],\n",
       "       [4, 5, 3],\n",
       "       [3, 0, 0]], dtype=int32)"
      ]
     },
     "execution_count": 184,
     "metadata": {},
     "output_type": "execute_result"
    }
   ],
   "source": [
    "d[::2,::2]"
   ]
  },
  {
   "cell_type": "code",
   "execution_count": 185,
   "id": "511560e0-915a-4cb1-8f14-03f11d0626f1",
   "metadata": {},
   "outputs": [],
   "source": [
    "#3D\n",
    "e = np.random.randint(0,10,(3,5,5))"
   ]
  },
  {
   "cell_type": "code",
   "execution_count": 186,
   "id": "7708ba69-dbb5-4e41-8523-9aa254f39c3c",
   "metadata": {},
   "outputs": [
    {
     "data": {
      "text/plain": [
       "(3, 5, 5)"
      ]
     },
     "execution_count": 186,
     "metadata": {},
     "output_type": "execute_result"
    }
   ],
   "source": [
    "e.shape"
   ]
  },
  {
   "cell_type": "code",
   "execution_count": 187,
   "id": "ac9e5a8c-e9ba-4585-85bb-781d8ef0f95f",
   "metadata": {},
   "outputs": [
    {
     "data": {
      "text/plain": [
       "array([[[5, 2, 9],\n",
       "        [9, 3, 5],\n",
       "        [6, 4, 7]],\n",
       "\n",
       "       [[2, 3, 5],\n",
       "        [7, 1, 9],\n",
       "        [2, 9, 4]]], dtype=int32)"
      ]
     },
     "execution_count": 187,
     "metadata": {},
     "output_type": "execute_result"
    }
   ],
   "source": [
    "e[::2,::2, ::2]"
   ]
  },
  {
   "cell_type": "markdown",
   "id": "ee02c593-e47f-4ebb-bbeb-6a7f1b875ce6",
   "metadata": {},
   "source": [
    "**Boolean or Mask Indexing**\n",
    "-"
   ]
  },
  {
   "cell_type": "code",
   "execution_count": 209,
   "id": "bb71101d-9e51-4595-81b4-78ba557a5fac",
   "metadata": {},
   "outputs": [],
   "source": [
    "f = np.random.randint(1,7,(5,6))"
   ]
  },
  {
   "cell_type": "code",
   "execution_count": 210,
   "id": "4c241d8f-8044-4fe4-a113-536242d8ef7f",
   "metadata": {},
   "outputs": [
    {
     "data": {
      "text/plain": [
       "array([[3, 2, 5, 5, 5, 1],\n",
       "       [6, 4, 4, 5, 4, 2],\n",
       "       [1, 4, 3, 3, 2, 3],\n",
       "       [1, 6, 1, 4, 5, 4],\n",
       "       [6, 3, 2, 4, 5, 2]], dtype=int32)"
      ]
     },
     "execution_count": 210,
     "metadata": {},
     "output_type": "execute_result"
    }
   ],
   "source": [
    "f"
   ]
  },
  {
   "cell_type": "code",
   "execution_count": 211,
   "id": "ef553fc2-afcc-492d-b7f4-3e454bcd2787",
   "metadata": {},
   "outputs": [
    {
     "data": {
      "text/plain": [
       "array([[False, False,  True,  True,  True, False],\n",
       "       [ True, False, False,  True, False, False],\n",
       "       [False, False, False, False, False, False],\n",
       "       [False,  True, False, False,  True, False],\n",
       "       [ True, False, False, False,  True, False]])"
      ]
     },
     "execution_count": 211,
     "metadata": {},
     "output_type": "execute_result"
    }
   ],
   "source": [
    "mask = f>=5\n",
    "mask"
   ]
  },
  {
   "cell_type": "code",
   "execution_count": 212,
   "id": "6734b495-c92f-4d7e-801d-612698b3d4b2",
   "metadata": {},
   "outputs": [
    {
     "data": {
      "text/plain": [
       "array([5, 5, 5, 6, 5, 6, 5, 6, 5], dtype=int32)"
      ]
     },
     "execution_count": 212,
     "metadata": {},
     "output_type": "execute_result"
    }
   ],
   "source": [
    "f[mask]"
   ]
  },
  {
   "cell_type": "code",
   "execution_count": 217,
   "id": "d2ebbef4-8e62-493e-9826-62bb32cbd3d1",
   "metadata": {},
   "outputs": [
    {
     "data": {
      "text/plain": [
       "array([[3, 2, 5, 5, 5, 1],\n",
       "       [6, 4, 4, 5, 4, 2],\n",
       "       [1, 4, 3, 3, 2, 3],\n",
       "       [1, 6, 1, 4, 5, 4],\n",
       "       [6, 3, 2, 4, 5, 2]], dtype=int32)"
      ]
     },
     "execution_count": 217,
     "metadata": {},
     "output_type": "execute_result"
    }
   ],
   "source": [
    "f"
   ]
  },
  {
   "cell_type": "code",
   "execution_count": 222,
   "id": "9eb5ef8b-e986-4464-b80f-e96d1b2ba46e",
   "metadata": {},
   "outputs": [],
   "source": [
    "mask = [True, False, False , True, True] #T= first row f f f = 2,3 rows tt = 4,5 rows-->result gives 1,4,5 rows"
   ]
  },
  {
   "cell_type": "code",
   "execution_count": 224,
   "id": "69a74152-c57f-44e4-8904-c1e11a1d35d9",
   "metadata": {},
   "outputs": [
    {
     "data": {
      "text/plain": [
       "array([[3, 2, 5, 5, 5, 1],\n",
       "       [1, 6, 1, 4, 5, 4],\n",
       "       [6, 3, 2, 4, 5, 2]], dtype=int32)"
      ]
     },
     "execution_count": 224,
     "metadata": {},
     "output_type": "execute_result"
    }
   ],
   "source": [
    "f[mask] #gives the rows which are true and ignores rows which are false"
   ]
  },
  {
   "cell_type": "code",
   "execution_count": null,
   "id": "bb3e2258-f35b-4efa-9113-b136d1f7adce",
   "metadata": {},
   "outputs": [],
   "source": []
  },
  {
   "cell_type": "code",
   "execution_count": null,
   "id": "a0577082-5f1a-4c8a-9b55-aab64cb69708",
   "metadata": {},
   "outputs": [],
   "source": []
  },
  {
   "cell_type": "code",
   "execution_count": null,
   "id": "56fab412-6674-4c78-8da7-6542db01296d",
   "metadata": {},
   "outputs": [],
   "source": []
  },
  {
   "cell_type": "code",
   "execution_count": null,
   "id": "e66dbd91-568d-4b82-8b78-2c038622d0c6",
   "metadata": {},
   "outputs": [],
   "source": []
  },
  {
   "cell_type": "code",
   "execution_count": null,
   "id": "b757035e-8153-4102-a1d1-4c71aa677b44",
   "metadata": {},
   "outputs": [],
   "source": []
  },
  {
   "cell_type": "code",
   "execution_count": null,
   "id": "45846137-ad92-481b-a024-e4db84e05c78",
   "metadata": {},
   "outputs": [],
   "source": []
  },
  {
   "cell_type": "code",
   "execution_count": null,
   "id": "b076e573-25ca-41a9-8ced-56a96a25faf8",
   "metadata": {},
   "outputs": [],
   "source": []
  }
 ],
 "metadata": {
  "kernelspec": {
   "display_name": "Python 3 (ipykernel)",
   "language": "python",
   "name": "python3"
  },
  "language_info": {
   "codemirror_mode": {
    "name": "ipython",
    "version": 3
   },
   "file_extension": ".py",
   "mimetype": "text/x-python",
   "name": "python",
   "nbconvert_exporter": "python",
   "pygments_lexer": "ipython3",
   "version": "3.13.1"
  }
 },
 "nbformat": 4,
 "nbformat_minor": 5
}
