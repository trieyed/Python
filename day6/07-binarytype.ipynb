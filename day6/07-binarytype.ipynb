{
 "cells": [
  {
   "cell_type": "markdown",
   "id": "c9f70e02-800c-4176-8f9b-64cfb440432b",
   "metadata": {},
   "source": [
    "**Python Binary Type**\n",
    "----\n",
    "In Python binary data is represented using the *bytes* and *bytearray* types.\n",
    "-\n",
    "Functions used:\n",
    "bytes()\n",
    "bytearray[()]\n",
    "--\n"
   ]
  },
  {
   "cell_type": "code",
   "execution_count": 2,
   "id": "e1443d8e-c6f4-4be7-a3ea-2897f169a669",
   "metadata": {},
   "outputs": [],
   "source": [
    "b = bytes([0,2,4,6,8])"
   ]
  },
  {
   "cell_type": "code",
   "execution_count": 3,
   "id": "9a982dcb-7aa8-4ebf-bb56-ac87b055190d",
   "metadata": {},
   "outputs": [
    {
     "name": "stdout",
     "output_type": "stream",
     "text": [
      "b'\\x00\\x02\\x04\\x06\\x08'\n"
     ]
    }
   ],
   "source": [
    "#memoryview-->shows the memory variable is stored in.\n",
    "print(b)"
   ]
  },
  {
   "cell_type": "code",
   "execution_count": 4,
   "id": "5ccdb185-07e7-44b6-bf1b-3372b94344ea",
   "metadata": {},
   "outputs": [
    {
     "name": "stdout",
     "output_type": "stream",
     "text": [
      "<class 'bytes'>\n"
     ]
    }
   ],
   "source": [
    "print (type(b))"
   ]
  },
  {
   "cell_type": "markdown",
   "id": "e3fa2d6a-241a-45c1-9169-c9359df6e730",
   "metadata": {},
   "source": [
    "Binary type is used to encode i.e.insert characters not in ASCII table."
   ]
  },
  {
   "cell_type": "code",
   "execution_count": null,
   "id": "f0768b15-518c-4e35-adde-11e2e07d7a35",
   "metadata": {},
   "outputs": [],
   "source": []
  }
 ],
 "metadata": {
  "kernelspec": {
   "display_name": "Python 3 (ipykernel)",
   "language": "python",
   "name": "python3"
  },
  "language_info": {
   "codemirror_mode": {
    "name": "ipython",
    "version": 3
   },
   "file_extension": ".py",
   "mimetype": "text/x-python",
   "name": "python",
   "nbconvert_exporter": "python",
   "pygments_lexer": "ipython3",
   "version": "3.13.1"
  }
 },
 "nbformat": 4,
 "nbformat_minor": 5
}
