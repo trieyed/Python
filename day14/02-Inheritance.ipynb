{
 "cells": [
  {
   "cell_type": "markdown",
   "id": "0aa5adc7-93c4-4dd7-a058-2bac0d90bfe2",
   "metadata": {},
   "source": [
    "**Inheritance**\n",
    "--\n",
    "\n",
    "\n",
    "Single Inheritance\n",
    "-\n",
    "One base calss one derived class.\n",
    "\n",
    "Syntax:\n",
    "```python\n",
    "class DerivedClassName(BaseClassName)"
   ]
  },
  {
   "cell_type": "code",
   "execution_count": 28,
   "id": "9e6ec87d-2c6f-4f67-b281-ff30a71afade",
   "metadata": {},
   "outputs": [],
   "source": [
    "class Animal:\n",
    "    def __init__(self,name,age):\n",
    "        self.name = name\n",
    "        self.age = age\n",
    "\n",
    "    def intro(self):\n",
    "        print(f\"My name is {self.name}.\")"
   ]
  },
  {
   "cell_type": "code",
   "execution_count": 30,
   "id": "37cc60b9-d466-4d4e-8f9e-7c5898a716a0",
   "metadata": {},
   "outputs": [],
   "source": [
    "class Cat(Animal):\n",
    "    def __init__(self,name,age,color):\n",
    "        super().__init__(name,age)\n",
    "        self.color = color\n",
    "    def speaks(self):\n",
    "        print(\"meow\")\n",
    "    def introd(self):\n",
    "        print(f\"Name is {self.name} age is {self.age} and color is {self.color}.\")"
   ]
  },
  {
   "cell_type": "code",
   "execution_count": 31,
   "id": "c67a021f-04a6-4cc5-9820-09a8a7aafa1d",
   "metadata": {},
   "outputs": [],
   "source": [
    "cat = Cat(\"Fluffy\",2,\"Red\")"
   ]
  },
  {
   "cell_type": "code",
   "execution_count": 32,
   "id": "e8fef43c-4542-40da-8368-71cbc2a57394",
   "metadata": {},
   "outputs": [
    {
     "name": "stdout",
     "output_type": "stream",
     "text": [
      "meow\n"
     ]
    }
   ],
   "source": [
    "cat.speaks()"
   ]
  },
  {
   "cell_type": "code",
   "execution_count": 33,
   "id": "8abde3e4-c691-4829-88e6-9339be339dd4",
   "metadata": {},
   "outputs": [
    {
     "name": "stdout",
     "output_type": "stream",
     "text": [
      "Name is Fluffy age is 2 and color is Red\n"
     ]
    }
   ],
   "source": [
    "cat.introd()"
   ]
  },
  {
   "cell_type": "code",
   "execution_count": null,
   "id": "36cb336b-7ca6-4f2e-bc2b-b322c2935549",
   "metadata": {},
   "outputs": [],
   "source": []
  },
  {
   "cell_type": "code",
   "execution_count": null,
   "id": "853ab9e2-3b7e-4b99-9877-65c99f9b1246",
   "metadata": {},
   "outputs": [],
   "source": []
  },
  {
   "cell_type": "markdown",
   "id": "2293e4cb-5e58-4e68-90ee-8751600db947",
   "metadata": {},
   "source": [
    "**Multiple Inheritance**\n",
    "-\n",
    "A class can inherit attributes and merhods from more than one base class.\n",
    "\n",
    "```python\n",
    "class MyClass(Parent1, Parent2):\n",
    ".\n",
    ".\n"
   ]
  },
  {
   "cell_type": "code",
   "execution_count": 44,
   "id": "aef5402c-afa4-495e-ab0f-e138e2c3289a",
   "metadata": {},
   "outputs": [],
   "source": [
    "class Parent1:\n",
    "    def func1(self):\n",
    "        print(\"This is parent 1\")\n",
    "\n",
    "class Parent2:\n",
    "    def func2(self):\n",
    "        print(\"This is parent 2\")\n",
    "\n",
    "class Parent3:\n",
    "    def func3(self):\n",
    "        print(\"This is parent 3\")\n",
    "\n",
    "class Child(Parent1,Parent2,Parent3):\n",
    "    def childfunc(self):\n",
    "        print(\"This is Child Class.\")"
   ]
  },
  {
   "cell_type": "code",
   "execution_count": 45,
   "id": "45cd8431-c0df-44da-837f-9dd4363d6728",
   "metadata": {},
   "outputs": [],
   "source": [
    "childclass = Child()"
   ]
  },
  {
   "cell_type": "code",
   "execution_count": 49,
   "id": "71405f69-429f-49d3-94bf-9d17f0052260",
   "metadata": {},
   "outputs": [
    {
     "name": "stdout",
     "output_type": "stream",
     "text": [
      "This is parent 1\n",
      "This is parent 2\n",
      "This is parent 3\n",
      "This is Child Class.\n"
     ]
    }
   ],
   "source": [
    "childclass.func1()\n",
    "childclass.func2()\n",
    "childclass.func3()\n",
    "childclass.childfunc()"
   ]
  },
  {
   "cell_type": "markdown",
   "id": "f56684f0-afe3-4515-b28b-e62f70059842",
   "metadata": {},
   "source": [
    "Inheritance\n",
    "Question:You are tasked with designing a system for an online bookstore. Create a base class Book with the following attributes and methods:\n",
    "Attributes:\n",
    "title (string)\n",
    "author (string)\n",
    "price (float)\n",
    "Methods:\n",
    "__init__() to initialize the attributes.\n",
    "display_info() to print the details of the book in the format:\n",
    "\"Title: [title], Author: [author], Price: $[price]\"\n",
    "Now, create a derived class EBook that inherits from the Book class with the following additional attribute and method:\n",
    "Additional Attribute:\n",
    "file_size (float in MB)\n",
    "Method:\n",
    "__init__() to initialize all attributes of EBook, including those inherited from the Book class.\n",
    "Override the display_info() method to include the file size in the format:\n",
    "\"Title: [title], Author: [author], Price: $[price], File Size: [file_size] MB\"\n",
    "Finally, demonstrate the usage of both classes by creating:\n",
    "An object of Book and displaying its information.\n",
    "An object of EBook and displaying its information.\n",
    " "
   ]
  },
  {
   "cell_type": "code",
   "execution_count": 77,
   "id": "5cc24e0b-5184-4d90-8a18-c9a0fc81f9b0",
   "metadata": {},
   "outputs": [
    {
     "name": "stdout",
     "output_type": "stream",
     "text": [
      "Title:Bookname , Author:Ram, Price:200,File size:20.4\n",
      "Title:Bookname1 , Author:Hari, Price:300\n"
     ]
    }
   ],
   "source": [
    "class Book:\n",
    "    def __init__(self,title,author,price):\n",
    "        self.title = title\n",
    "        self.author = author\n",
    "        self.price = price\n",
    "\n",
    "    def display_info(self):\n",
    "        print(f\"Title:{self.title} , Author:{self.author}, Price:{self.price}\")\n",
    "\n",
    "\n",
    "class Ebook(Book):\n",
    "    \n",
    "    def __init__(self,title,author,price,file_size):\n",
    "        super().__init__(title,author,price)\n",
    "        self.file_size= file_size\n",
    "\n",
    "    def display_info(self):\n",
    "        print(f\"Title:{self.title} , Author:{self.author}, Price:{self.price},File size:{self.file_size}\")\n",
    "\n",
    "a = Ebook(\"Bookname\",\"Ram\",200,20.4)\n",
    "a.display_info()\n",
    "\n",
    "a = Book(\"Bookname1\",\"Hari\",300)\n",
    "a.display_info()"
   ]
  }
 ],
 "metadata": {
  "kernelspec": {
   "display_name": "Python 3 (ipykernel)",
   "language": "python",
   "name": "python3"
  },
  "language_info": {
   "codemirror_mode": {
    "name": "ipython",
    "version": 3
   },
   "file_extension": ".py",
   "mimetype": "text/x-python",
   "name": "python",
   "nbconvert_exporter": "python",
   "pygments_lexer": "ipython3",
   "version": "3.13.1"
  }
 },
 "nbformat": 4,
 "nbformat_minor": 5
}
