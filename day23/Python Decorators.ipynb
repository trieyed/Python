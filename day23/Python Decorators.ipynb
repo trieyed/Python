{
 "cells": [
  {
   "cell_type": "markdown",
   "id": "d7178ef9-cc7e-40de-852b-3bcb37c2cd35",
   "metadata": {},
   "source": [
    "**Python Decorators**\n",
    "-  \n",
    "In Python, a decorator is a special kind of function that can be used to modify the behavior of another function.  \n",
    "It is indicated by @ symbol."
   ]
  },
  {
   "cell_type": "code",
   "execution_count": 1,
   "id": "fa75d8d9-d634-42fb-be5f-edd350812377",
   "metadata": {},
   "outputs": [],
   "source": [
    "def decorator(func):\n",
    "    def wrapper():\n",
    "        print(\"Before calling the function:\")\n",
    "        func()\n",
    "        print(\"After calling the function:\")    \n",
    "\n",
    "    return wrapper"
   ]
  },
  {
   "cell_type": "code",
   "execution_count": 2,
   "id": "6de41cc3-ffd4-41b2-a893-b86a3533ffae",
   "metadata": {},
   "outputs": [
    {
     "name": "stdout",
     "output_type": "stream",
     "text": [
      "Before calling the function:\n",
      "Hello World!\n",
      "After calling the function:\n"
     ]
    }
   ],
   "source": [
    "@decorator #applying the decorator\n",
    "def greet():\n",
    "    print(\"Hello World!\")\n",
    "greet()        #runs the function throug the decorator i.e. greet() works as a parameter to function decorator above. and runs the wrapper funtion"
   ]
  },
  {
   "cell_type": "markdown",
   "id": "64d948d9-4799-4b60-a97b-ca2b2c0b2b5a",
   "metadata": {},
   "source": [
    "**Check email using decorator**"
   ]
  },
  {
   "cell_type": "code",
   "execution_count": 3,
   "id": "ec82122d-d08a-4ee1-bd89-2d7aa666e8eb",
   "metadata": {},
   "outputs": [],
   "source": [
    "#decorator to check email\n",
    "def check_email(func):\n",
    "    def wrapper(user_email):\n",
    "        if user_email.endswith(\"@vrit.com\"):\n",
    "            func(user_email)\n",
    "        else:\n",
    "            print(\"Invalid Email\")\n",
    "\n",
    "    return wrapper"
   ]
  },
  {
   "cell_type": "code",
   "execution_count": 4,
   "id": "d004f607-aa48-4d9b-9ff1-d2f94cca7d9e",
   "metadata": {},
   "outputs": [],
   "source": [
    "@check_email\n",
    "def login_user(email):\n",
    "    print(\"Logged In\")\n",
    "\n"
   ]
  },
  {
   "cell_type": "code",
   "execution_count": 5,
   "id": "5ab4d20b-2572-4a55-9131-02cf8e3b566d",
   "metadata": {},
   "outputs": [
    {
     "name": "stdout",
     "output_type": "stream",
     "text": [
      "Invalid Email\n"
     ]
    }
   ],
   "source": [
    "login_user(\"laxman@gmail.com\")"
   ]
  },
  {
   "cell_type": "code",
   "execution_count": 6,
   "id": "36d56983-15cf-44f2-8f86-f1f324282e70",
   "metadata": {},
   "outputs": [],
   "source": [
    "import time"
   ]
  },
  {
   "cell_type": "code",
   "execution_count": 7,
   "id": "8594a395-8dc5-482d-9d8e-f9e274011abf",
   "metadata": {},
   "outputs": [],
   "source": [
    "from datetime import datetime"
   ]
  },
  {
   "cell_type": "markdown",
   "id": "78fb1b47-6a96-4f41-a137-2f395db9fc6c",
   "metadata": {},
   "source": [
    "Write a decorator time_it that measure the time it takes for a function to execute.  \n",
    "Apply it to a function slow_function that sleeps for 2 seconds and prings \"Done Sleeping.\"  "
   ]
  },
  {
   "cell_type": "code",
   "execution_count": 23,
   "id": "5fedba4c-df3c-4136-9fab-fca0ef5c2288",
   "metadata": {},
   "outputs": [],
   "source": [
    "def time_it(func):\n",
    "    def wrapper():\n",
    "        start_time = datetime.now()\n",
    "        print (f\"Start Time:{start_time}\")\n",
    "        func()\n",
    "        end_time = datetime.now()\n",
    "        print (f\"End Time:{end_time}\")\n",
    "        return(f\"Time taken is :{ end_time-start_time}\")\n",
    "    return wrapper       "
   ]
  },
  {
   "cell_type": "code",
   "execution_count": 24,
   "id": "0d208358-683a-415c-a67e-c36ac9e230d8",
   "metadata": {},
   "outputs": [],
   "source": [
    "@time_it\n",
    "def slow_function():\n",
    "    time.sleep(5)\n",
    "    print(\"Done Sleeping.\")"
   ]
  },
  {
   "cell_type": "code",
   "execution_count": 25,
   "id": "7d8329ca-b81f-4271-a75a-302e4a4f898c",
   "metadata": {},
   "outputs": [
    {
     "name": "stdout",
     "output_type": "stream",
     "text": [
      "Start Time:2025-02-04 08:55:00.039089\n",
      "Done Sleeping.\n",
      "End Time:2025-02-04 08:55:05.039866\n"
     ]
    },
    {
     "data": {
      "text/plain": [
       "'Time taken is :0:00:05.000777'"
      ]
     },
     "execution_count": 25,
     "metadata": {},
     "output_type": "execute_result"
    }
   ],
   "source": [
    "slow_function()"
   ]
  },
  {
   "cell_type": "code",
   "execution_count": null,
   "id": "141e61bd-121d-48bf-973c-166eda81cb19",
   "metadata": {},
   "outputs": [],
   "source": []
  }
 ],
 "metadata": {
  "kernelspec": {
   "display_name": "Python 3 (ipykernel)",
   "language": "python",
   "name": "python3"
  },
  "language_info": {
   "codemirror_mode": {
    "name": "ipython",
    "version": 3
   },
   "file_extension": ".py",
   "mimetype": "text/x-python",
   "name": "python",
   "nbconvert_exporter": "python",
   "pygments_lexer": "ipython3",
   "version": "3.13.1"
  }
 },
 "nbformat": 4,
 "nbformat_minor": 5
}
