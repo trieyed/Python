{
 "cells": [
  {
   "cell_type": "markdown",
   "id": "6f09d247-dd38-4f20-8bd6-a632877ae8ea",
   "metadata": {},
   "source": [
    "**Abstraction**\n",
    "--  \n",
    "Built in skeleton for coders to work on in same format."
   ]
  },
  {
   "cell_type": "code",
   "execution_count": 8,
   "id": "169229d0-3fe4-42c8-870d-f5b1e02d1739",
   "metadata": {},
   "outputs": [],
   "source": [
    "from abc import ABC, abstractmethod\n",
    "\n",
    "class Shape(ABC):\n",
    "\n",
    "    @abstractmethod\n",
    "    def area(self):\n",
    "        pass\n",
    "\n",
    "    @abstractmethod\n",
    "    def perimeter(self):\n",
    "        pass\n",
    "\n",
    "    def volume(self):\n",
    "        return \"Not Applicable for given shape\""
   ]
  },
  {
   "cell_type": "code",
   "execution_count": 9,
   "id": "e00bffa9-bcab-4581-95e8-0da77fa07740",
   "metadata": {},
   "outputs": [],
   "source": [
    "class Cuboid(Shape):\n",
    "    def __init__(self,length):\n",
    "        self.l = length\n",
    "\n",
    "    def area(self):\n",
    "        return 6*(self.l**2)\n",
    "\n",
    "    def perimeter(self):\n",
    "        return 12*self.l\n",
    "\n",
    "    def volume(self):\n",
    "            return self.l**3"
   ]
  },
  {
   "cell_type": "markdown",
   "id": "5e947a1a-c184-441a-a505-d9c21cc106ff",
   "metadata": {},
   "source": [
    "OOP Concepts\n",
    " \n",
    "Create a class `BankAccount` that:\n",
    "1. Allows a user to create an account by providing a **name** and an initial **balance**.\n",
    "2. Includes methods to **deposit**, **withdraw**, and **check balance**. The withdrawal should not allow an account to go negative.\n",
    "3. Overloads the `+` operator to allow merging of two accounts (sum of their balances) and returns a new account.\n",
    "4. Uses **Inheritance** to create a subclass `SavingsAccount` that adds an interest rate. Implement a method to calculate interest on the balance and update it accordingly.\n",
    " "
   ]
  },
  {
   "cell_type": "code",
   "execution_count": 56,
   "id": "596ef26f-c890-4f14-90ec-f1a62079a735",
   "metadata": {},
   "outputs": [],
   "source": [
    "class BankAccount:\n",
    "    def __init__(self,name:str,balance:float):\n",
    "        self.name = name\n",
    "        self.balance = balance\n",
    "\n",
    "    def deposit(self,depo_amount):\n",
    "        self.depo_amount = depo_amount\n",
    "        self.balance += self.depo_amount\n",
    "        print(f\"You deposited Rs.{self.depo_amount}\")\n",
    "\n",
    "\n",
    "    def withdraw(self,withdraw_amount):\n",
    "        self.withdraw_amount = withdraw_amount\n",
    "        if (self.balance < self.withdraw_amount):\n",
    "            print(\"You don't have enough balance.\")\n",
    "        else:\n",
    "            self.balance = self.balance - self.withdraw_amount\n",
    "            print(f\"You withdrew Rs.{self.withdraw_amount}\")\n",
    "\n",
    "\n",
    "    def check_balance(self):\n",
    "        return f\"Your balance is:{self.balance}.\"\n",
    "\n",
    "\n",
    "    def __add__(self,other):\n",
    "        total_balance = self.balance + other.balance\n",
    "\n",
    "\n",
    "class SavingsAccount(BankAccount):\n",
    "    def __init__(self,name:str,balance:float):\n",
    "    super().__init__(name:str,balance:float):\n",
    "    \n",
    "    \n",
    "    def interest(self):\n",
    "            interest1=0.1*{self.balance}        \n",
    "            return f\"Your Interest:{interest1}.\"\n",
    "            return f\"Your Total balance is : {interest1}+ {self.balance}\"       \n",
    "        "
   ]
  },
  {
   "cell_type": "code",
   "execution_count": 57,
   "id": "cee7a280-7fe1-4612-8d12-fd21d4fe2598",
   "metadata": {},
   "outputs": [],
   "source": [
    "user = BankAccount(\"Laxman\",1000)"
   ]
  },
  {
   "cell_type": "code",
   "execution_count": 58,
   "id": "86d37a08-1241-4c95-92da-1f14d036b739",
   "metadata": {},
   "outputs": [
    {
     "name": "stdout",
     "output_type": "stream",
     "text": [
      "You deposited Rs.500\n"
     ]
    }
   ],
   "source": [
    "user.deposit(500)"
   ]
  },
  {
   "cell_type": "code",
   "execution_count": 59,
   "id": "bbe65f0a-d48f-4445-9dd4-3e29caeb5f23",
   "metadata": {},
   "outputs": [
    {
     "data": {
      "text/plain": [
       "'Your balance is:1500.'"
      ]
     },
     "execution_count": 59,
     "metadata": {},
     "output_type": "execute_result"
    }
   ],
   "source": [
    "user.check_balance()"
   ]
  },
  {
   "cell_type": "code",
   "execution_count": 60,
   "id": "969660ff-fa39-464a-9c58-67a337935c42",
   "metadata": {},
   "outputs": [
    {
     "name": "stdout",
     "output_type": "stream",
     "text": [
      "You withdrew Rs.200\n"
     ]
    }
   ],
   "source": [
    "user.withdraw(200)"
   ]
  },
  {
   "cell_type": "code",
   "execution_count": 61,
   "id": "405b9ed5-4b5f-4f49-9035-20b5316699ff",
   "metadata": {},
   "outputs": [
    {
     "data": {
      "text/plain": [
       "'Your balance is:1300.'"
      ]
     },
     "execution_count": 61,
     "metadata": {},
     "output_type": "execute_result"
    }
   ],
   "source": [
    "user.check_balance()"
   ]
  },
  {
   "cell_type": "code",
   "execution_count": 62,
   "id": "29223935-b1fd-488d-9c37-a1c43b94e50c",
   "metadata": {},
   "outputs": [
    {
     "name": "stdout",
     "output_type": "stream",
     "text": [
      "You withdrew Rs.1300\n"
     ]
    }
   ],
   "source": [
    "user.withdraw(1300)"
   ]
  },
  {
   "cell_type": "code",
   "execution_count": 63,
   "id": "e7d9ca34-7048-4fd4-94f6-1a704514ad95",
   "metadata": {},
   "outputs": [
    {
     "data": {
      "text/plain": [
       "'Your balance is:0.'"
      ]
     },
     "execution_count": 63,
     "metadata": {},
     "output_type": "execute_result"
    }
   ],
   "source": [
    "user.check_balance()"
   ]
  },
  {
   "cell_type": "code",
   "execution_count": 64,
   "id": "3dd53c13-33e9-4485-8b75-7124faa64668",
   "metadata": {},
   "outputs": [],
   "source": [
    "user1 = SavingsAccount(\"Laxman\" , 2000)"
   ]
  },
  {
   "cell_type": "code",
   "execution_count": 65,
   "id": "576b8b13-a5aa-4dae-87c5-a870cdc26deb",
   "metadata": {},
   "outputs": [
    {
     "ename": "AttributeError",
     "evalue": "'SavingsAccount' object has no attribute 'balance'",
     "output_type": "error",
     "traceback": [
      "\u001b[1;31m---------------------------------------------------------------------------\u001b[0m",
      "\u001b[1;31mAttributeError\u001b[0m                            Traceback (most recent call last)",
      "Cell \u001b[1;32mIn[65], line 1\u001b[0m\n\u001b[1;32m----> 1\u001b[0m \u001b[43muser1\u001b[49m\u001b[38;5;241;43m.\u001b[39;49m\u001b[43minterest\u001b[49m\u001b[43m(\u001b[49m\u001b[43m)\u001b[49m\n",
      "Cell \u001b[1;32mIn[56], line 35\u001b[0m, in \u001b[0;36mSavingsAccount.interest\u001b[1;34m(self)\u001b[0m\n\u001b[0;32m     34\u001b[0m \u001b[38;5;28;01mdef\u001b[39;00m\u001b[38;5;250m \u001b[39m\u001b[38;5;21minterest\u001b[39m(\u001b[38;5;28mself\u001b[39m):\n\u001b[1;32m---> 35\u001b[0m         interest1\u001b[38;5;241m=\u001b[39m\u001b[38;5;241m0.1\u001b[39m\u001b[38;5;241m*\u001b[39m{\u001b[38;5;28;43mself\u001b[39;49m\u001b[38;5;241;43m.\u001b[39;49m\u001b[43mbalance\u001b[49m}        \n\u001b[0;32m     36\u001b[0m         \u001b[38;5;28;01mreturn\u001b[39;00m \u001b[38;5;124mf\u001b[39m\u001b[38;5;124m\"\u001b[39m\u001b[38;5;124mYour Interest:\u001b[39m\u001b[38;5;132;01m{\u001b[39;00minterest1\u001b[38;5;132;01m}\u001b[39;00m\u001b[38;5;124m.\u001b[39m\u001b[38;5;124m\"\u001b[39m\n\u001b[0;32m     37\u001b[0m         \u001b[38;5;28;01mreturn\u001b[39;00m \u001b[38;5;124mf\u001b[39m\u001b[38;5;124m\"\u001b[39m\u001b[38;5;124mYour Total balance is : \u001b[39m\u001b[38;5;132;01m{\u001b[39;00minterest1\u001b[38;5;132;01m}\u001b[39;00m\u001b[38;5;124m+ \u001b[39m\u001b[38;5;132;01m{\u001b[39;00m\u001b[38;5;28mself\u001b[39m\u001b[38;5;241m.\u001b[39mbalance\u001b[38;5;132;01m}\u001b[39;00m\u001b[38;5;124m\"\u001b[39m\n",
      "\u001b[1;31mAttributeError\u001b[0m: 'SavingsAccount' object has no attribute 'balance'"
     ]
    }
   ],
   "source": [
    "user1.interest()"
   ]
  },
  {
   "cell_type": "code",
   "execution_count": null,
   "id": "c151e5ec-cd53-4631-8d4f-339d7485eb88",
   "metadata": {},
   "outputs": [],
   "source": []
  },
  {
   "cell_type": "code",
   "execution_count": null,
   "id": "94a332d0-358b-43cf-98c9-b6f91b755289",
   "metadata": {},
   "outputs": [],
   "source": []
  }
 ],
 "metadata": {
  "kernelspec": {
   "display_name": "Python 3 (ipykernel)",
   "language": "python",
   "name": "python3"
  },
  "language_info": {
   "codemirror_mode": {
    "name": "ipython",
    "version": 3
   },
   "file_extension": ".py",
   "mimetype": "text/x-python",
   "name": "python",
   "nbconvert_exporter": "python",
   "pygments_lexer": "ipython3",
   "version": "3.13.1"
  }
 },
 "nbformat": 4,
 "nbformat_minor": 5
}
