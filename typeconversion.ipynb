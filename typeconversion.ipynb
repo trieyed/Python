{
 "cells": [
  {
   "cell_type": "markdown",
   "id": "621b3d1b-e659-4ccf-be37-acc359ac9108",
   "metadata": {},
   "source": [
    "## Type Conversion In Array\n",
    "\n",
    "<arrayname>.astype(np.<type>)  \n",
    "Example:\n",
    "a = np.array([1,225,3], dtype = np.int16)  #dtype = np.int16 provides data type with max byte 16."
   ]
  },
  {
   "cell_type": "code",
   "execution_count": 21,
   "id": "e36e19c0-1752-4e83-9939-47df5b95a713",
   "metadata": {},
   "outputs": [],
   "source": [
    "import numpy as np"
   ]
  },
  {
   "cell_type": "markdown",
   "id": "0cb511d2-5bde-47cd-accb-e14eb64d7d9d",
   "metadata": {},
   "source": [
    "a = np.array([1,10,3], dtype = np.int16)  #dtype = np.int16 provides data type with max byte 16."
   ]
  },
  {
   "cell_type": "code",
   "execution_count": 22,
   "id": "0a626c01-1010-483e-bee6-d4aef0fcf71d",
   "metadata": {},
   "outputs": [
    {
     "data": {
      "text/plain": [
       "array([  1, 225,   3], dtype=int16)"
      ]
     },
     "execution_count": 22,
     "metadata": {},
     "output_type": "execute_result"
    }
   ],
   "source": [
    "a"
   ]
  },
  {
   "cell_type": "code",
   "execution_count": 23,
   "id": "06af6304-5c06-49c4-b77e-b772f5a8d044",
   "metadata": {},
   "outputs": [
    {
     "data": {
      "text/plain": [
       "dtype('int16')"
      ]
     },
     "execution_count": 23,
     "metadata": {},
     "output_type": "execute_result"
    }
   ],
   "source": [
    "a.dtype"
   ]
  },
  {
   "cell_type": "code",
   "execution_count": 24,
   "id": "33d12711-a8c0-4180-b60e-692810103c2d",
   "metadata": {},
   "outputs": [],
   "source": [
    "b = a.astype(np.float16)"
   ]
  },
  {
   "cell_type": "code",
   "execution_count": 25,
   "id": "5c00b275-4f59-4f0b-ac4f-8e8834ff66fb",
   "metadata": {},
   "outputs": [
    {
     "data": {
      "text/plain": [
       "array([  1., 225.,   3.], dtype=float16)"
      ]
     },
     "execution_count": 25,
     "metadata": {},
     "output_type": "execute_result"
    }
   ],
   "source": [
    "b"
   ]
  },
  {
   "cell_type": "code",
   "execution_count": 26,
   "id": "4a84b285-7c3d-4219-bc6e-db4dace53c5d",
   "metadata": {},
   "outputs": [
    {
     "data": {
      "text/plain": [
       "dtype('float16')"
      ]
     },
     "execution_count": 26,
     "metadata": {},
     "output_type": "execute_result"
    }
   ],
   "source": [
    "b.dtype #data type changed to float 16."
   ]
  },
  {
   "cell_type": "code",
   "execution_count": 27,
   "id": "42853f7a-4384-425f-a892-abb0965579ff",
   "metadata": {},
   "outputs": [],
   "source": [
    "c  = np.array([1,0,-3,1], dtype=np.bool) #converts any number to true and 0 to false"
   ]
  },
  {
   "cell_type": "code",
   "execution_count": 28,
   "id": "52eb5958-0998-496c-9025-70234ede24be",
   "metadata": {},
   "outputs": [
    {
     "data": {
      "text/plain": [
       "array([ True, False,  True,  True])"
      ]
     },
     "execution_count": 28,
     "metadata": {},
     "output_type": "execute_result"
    }
   ],
   "source": [
    "c"
   ]
  },
  {
   "cell_type": "code",
   "execution_count": null,
   "id": "c11df1c0-7aaf-487b-a0ce-14dda078aa1c",
   "metadata": {},
   "outputs": [],
   "source": []
  }
 ],
 "metadata": {
  "kernelspec": {
   "display_name": "Python 3 (ipykernel)",
   "language": "python",
   "name": "python3"
  },
  "language_info": {
   "codemirror_mode": {
    "name": "ipython",
    "version": 3
   },
   "file_extension": ".py",
   "mimetype": "text/x-python",
   "name": "python",
   "nbconvert_exporter": "python",
   "pygments_lexer": "ipython3",
   "version": "3.13.1"
  }
 },
 "nbformat": 4,
 "nbformat_minor": 5
}
