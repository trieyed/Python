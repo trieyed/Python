{
 "cells": [
  {
   "cell_type": "markdown",
   "id": "973358cb-e78f-47b5-a02e-2a4c143c407b",
   "metadata": {},
   "source": [
    "**Lambda Expression**\n",
    "--\n",
    "\n",
    "\n",
    "Syntax \n",
    "\n",
    "`\n",
    "lambda arguments :  expression\n",
    "`\n",
    "\n",
    "\n",
    "Lambda expressions are usually used for one time use functions only."
   ]
  },
  {
   "cell_type": "code",
   "execution_count": 1,
   "id": "e12deaa9-637a-4b50-b473-0a7196233674",
   "metadata": {},
   "outputs": [
    {
     "data": {
      "text/plain": [
       "12"
      ]
     },
     "execution_count": 1,
     "metadata": {},
     "output_type": "execute_result"
    }
   ],
   "source": [
    "def get_sum(a,b,c):\n",
    "    return a+b+c\n",
    "get_sum(2,4,6)"
   ]
  },
  {
   "cell_type": "code",
   "execution_count": 2,
   "id": "ab6ff4af-d8c9-425e-b9a1-ca7a4a390556",
   "metadata": {},
   "outputs": [
    {
     "data": {
      "text/plain": [
       "33"
      ]
     },
     "execution_count": 2,
     "metadata": {},
     "output_type": "execute_result"
    }
   ],
   "source": [
    "get_sum = lambda a,b,c: a+b+c\n",
    "get_sum(10,11,12)"
   ]
  },
  {
   "cell_type": "code",
   "execution_count": 5,
   "id": "04327043-49d9-470d-aa0f-787c5572efb7",
   "metadata": {},
   "outputs": [
    {
     "data": {
      "text/plain": [
       "52"
      ]
     },
     "execution_count": 5,
     "metadata": {},
     "output_type": "execute_result"
    }
   ],
   "source": [
    "get_tsa = lambda l,b,h: 2*(l*b + b*h + h*l)\n",
    "get_tsa(2,3,4)"
   ]
  },
  {
   "cell_type": "code",
   "execution_count": null,
   "id": "9f395223-219d-4880-8975-954fa7d3e121",
   "metadata": {},
   "outputs": [],
   "source": []
  }
 ],
 "metadata": {
  "kernelspec": {
   "display_name": "Python 3 (ipykernel)",
   "language": "python",
   "name": "python3"
  },
  "language_info": {
   "codemirror_mode": {
    "name": "ipython",
    "version": 3
   },
   "file_extension": ".py",
   "mimetype": "text/x-python",
   "name": "python",
   "nbconvert_exporter": "python",
   "pygments_lexer": "ipython3",
   "version": "3.13.1"
  }
 },
 "nbformat": 4,
 "nbformat_minor": 5
}
