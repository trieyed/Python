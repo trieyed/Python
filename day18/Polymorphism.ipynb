{
 "cells": [
  {
   "cell_type": "markdown",
   "id": "42153332-f0bf-4c5c-bbfc-ad5afe35fc77",
   "metadata": {},
   "source": [
    "**Polymorphism In Python**\n",
    "-\n",
    "\n",
    "1.*Method Overloading*  : Method with same name behave differently  \n",
    "\n",
    "2.*Method Overriding*   : A method is overridden by changing its behaviour and thus it works differently  \n",
    "\n",
    "3.*Operator Overloading*: Same operator behaves differently acc to conditions   \n",
    "\n",
    "4.*Duck Typing*         : Same function   \n"
   ]
  },
  {
   "cell_type": "markdown",
   "id": "7380d28d-7dd9-4b63-aacf-3506073c73af",
   "metadata": {},
   "source": [
    "*Magic Method in Python*\n",
    "-\n",
    "Special methods that start and end with double underscores. Known as **DUNDER** methods. Used to define various build in operations and behaviours of bnjects in Python.  \n",
    "\n",
    "```python\n",
    "__init__  \n",
    "__str__  \n",
    "__repr__  \n",
    "__len__  \n",
    "__call__\n"
   ]
  },
  {
   "cell_type": "code",
   "execution_count": 49,
   "id": "4506a443-4710-4bf1-8d3f-b03db8e33f6b",
   "metadata": {},
   "outputs": [],
   "source": [
    "class Person:\n",
    "    def __init__(self, name, age): #Initializes the object based on the class.\n",
    "        self.name = name\n",
    "        self.age = age\n",
    "    def __str__(self):  #overloads the print statement. Works like print statement when object is called.\n",
    "        return f\"Person,{self.name} is {self.age} years old\"\n",
    "\n",
    "    def __repr__(self): #defines the string representation of an object,which can be used to recreate the object.\n",
    "        return f\"Person({self.name},{self.age})\"\n",
    "\n",
    "    def __len__(self):  #defines length of the object.\n",
    "        return self.age\n",
    "\n",
    "    def __call__(self):  #calls objects of the class like a normal function.\n",
    "        return f\"{self.name} is being called.\"\n",
    "    "
   ]
  },
  {
   "cell_type": "code",
   "execution_count": 50,
   "id": "a1ad5d31-87f5-44c6-aa4b-dddcbc9574e8",
   "metadata": {},
   "outputs": [],
   "source": [
    "person = Person(\"Hamilton\" , 32)"
   ]
  },
  {
   "cell_type": "code",
   "execution_count": 51,
   "id": "47f84257-3ed0-40ad-ac09-9f5297ede5d6",
   "metadata": {},
   "outputs": [
    {
     "name": "stdout",
     "output_type": "stream",
     "text": [
      "Person,Hamilton is 32 years old\n"
     ]
    }
   ],
   "source": [
    "print(person)  #prints the data instead of memory location directly due to __str__."
   ]
  },
  {
   "cell_type": "code",
   "execution_count": 52,
   "id": "01e5ebb1-f70f-4aac-8c98-5ef81abf96b6",
   "metadata": {},
   "outputs": [
    {
     "data": {
      "text/plain": [
       "Person(Hamilton,32)"
      ]
     },
     "execution_count": 52,
     "metadata": {},
     "output_type": "execute_result"
    }
   ],
   "source": [
    "person #repr when only the object name is given"
   ]
  },
  {
   "cell_type": "code",
   "execution_count": 53,
   "id": "45e02498-b6b2-40a8-8253-f1ef7943c0e2",
   "metadata": {},
   "outputs": [
    {
     "data": {
      "text/plain": [
       "'Hamilton is being called.'"
      ]
     },
     "execution_count": 53,
     "metadata": {},
     "output_type": "execute_result"
    }
   ],
   "source": [
    "person() #__call__"
   ]
  },
  {
   "cell_type": "markdown",
   "id": "9655520d-0a27-414a-943c-82498ea536ea",
   "metadata": {},
   "source": [
    "**Operator Overloading**  \n",
    "-"
   ]
  },
  {
   "cell_type": "code",
   "execution_count": 94,
   "id": "54384862-3048-4ac5-80ee-cf6efe38d396",
   "metadata": {},
   "outputs": [],
   "source": [
    "class  Point:\n",
    "    \"\"\"Operation on 20 points.\"\"\"\n",
    "\n",
    "    def __init__(self, x, y):\n",
    "        self.x = x\n",
    "        self.y = y\n",
    "\n",
    "    def __repr__(self):\n",
    "        return f\"Point2D({self.x} , {self.y})\"\n",
    "\n",
    "    def __add__(self,other):\n",
    "        x= self.x + other.x\n",
    "        y= self.y + other.y\n",
    "        return Point(x,y)\n",
    "        \n",
    "    def __sub__(self,other):\n",
    "        x= self.x - other.x\n",
    "        y= self.y - other.y\n",
    "        return Point(x,y)\n",
    "\n",
    "    def __pow__(self,exp):\n",
    "        x = self.x**exp\n",
    "        y = self.y**exp\n",
    "        return Point(x,y)\n",
    "    "
   ]
  },
  {
   "cell_type": "code",
   "execution_count": 95,
   "id": "5112021b-467c-4887-9d25-7c4a77df91eb",
   "metadata": {},
   "outputs": [],
   "source": [
    "point1 = Point(3,4)\n",
    "point2 = Point(3,5)"
   ]
  },
  {
   "cell_type": "code",
   "execution_count": 96,
   "id": "ea0797ef-4f74-45f8-a21d-fca86ed8a9c9",
   "metadata": {},
   "outputs": [
    {
     "name": "stdout",
     "output_type": "stream",
     "text": [
      "operation in Point2D(3 , 4)\n"
     ]
    }
   ],
   "source": [
    "print(\"operation in\" , point1)"
   ]
  },
  {
   "cell_type": "code",
   "execution_count": 97,
   "id": "638e6c0c-bd3f-49f7-be7c-fb7839a897c5",
   "metadata": {},
   "outputs": [],
   "source": [
    "added_point = point1 + point2"
   ]
  },
  {
   "cell_type": "code",
   "execution_count": 98,
   "id": "7ed696f3-233b-465a-b6b5-3d4030b2c4c5",
   "metadata": {},
   "outputs": [
    {
     "data": {
      "text/plain": [
       "Point2D(6 , 9)"
      ]
     },
     "execution_count": 98,
     "metadata": {},
     "output_type": "execute_result"
    }
   ],
   "source": [
    "added_point"
   ]
  },
  {
   "cell_type": "code",
   "execution_count": 99,
   "id": "1fac0d10-9b57-48f9-aa96-25a9c2838ae5",
   "metadata": {},
   "outputs": [
    {
     "data": {
      "text/plain": [
       "Point2D(0 , -1)"
      ]
     },
     "execution_count": 99,
     "metadata": {},
     "output_type": "execute_result"
    }
   ],
   "source": [
    "sub_point = point1 - point2\n",
    "sub_point"
   ]
  },
  {
   "cell_type": "code",
   "execution_count": 100,
   "id": "c3c7b083-f492-456b-943c-22776774eb27",
   "metadata": {},
   "outputs": [],
   "source": [
    "point3 = Point(5,2)"
   ]
  },
  {
   "cell_type": "code",
   "execution_count": 101,
   "id": "bcc73c59-e845-48a5-81c7-85a51c037f18",
   "metadata": {},
   "outputs": [
    {
     "data": {
      "text/plain": [
       "Point2D(25 , 4)"
      ]
     },
     "execution_count": 101,
     "metadata": {},
     "output_type": "execute_result"
    }
   ],
   "source": [
    "point3**2"
   ]
  },
  {
   "cell_type": "code",
   "execution_count": 102,
   "id": "29c6d3df-fd81-43f3-950c-162590f7a055",
   "metadata": {},
   "outputs": [
    {
     "data": {
      "text/plain": [
       "'Operation on 20 points.'"
      ]
     },
     "execution_count": 102,
     "metadata": {},
     "output_type": "execute_result"
    }
   ],
   "source": [
    "point1.__doc__  #object.__doc__ prints the documentation."
   ]
  },
  {
   "cell_type": "code",
   "execution_count": null,
   "id": "aa525c9c-83f7-4398-9557-7b78971418a4",
   "metadata": {},
   "outputs": [],
   "source": []
  }
 ],
 "metadata": {
  "kernelspec": {
   "display_name": "Python 3 (ipykernel)",
   "language": "python",
   "name": "python3"
  },
  "language_info": {
   "codemirror_mode": {
    "name": "ipython",
    "version": 3
   },
   "file_extension": ".py",
   "mimetype": "text/x-python",
   "name": "python",
   "nbconvert_exporter": "python",
   "pygments_lexer": "ipython3",
   "version": "3.13.1"
  }
 },
 "nbformat": 4,
 "nbformat_minor": 5
}
