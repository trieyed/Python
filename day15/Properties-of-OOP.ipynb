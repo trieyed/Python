{
 "cells": [
  {
   "cell_type": "markdown",
   "id": "8611702c-8f81-4574-964b-58ae0c978c03",
   "metadata": {},
   "source": [
    "**Method Overloading**\n",
    "-\n",
    "\n",
    "Concept in OOP where a class can have multiple metods with the same name but with different parameters or argument types."
   ]
  },
  {
   "cell_type": "code",
   "execution_count": 14,
   "id": "a62fcd37-dadc-4e8d-8710-420d25531f7c",
   "metadata": {},
   "outputs": [],
   "source": [
    "class Example :\n",
    "    def add(self, a, b=0, c=0):  #can send only one or two or three arguments as needed.\n",
    "        return a+b+c"
   ]
  },
  {
   "cell_type": "code",
   "execution_count": 15,
   "id": "c1635cc4-2e64-493b-90bf-0bdae56f66b7",
   "metadata": {},
   "outputs": [
    {
     "data": {
      "text/plain": [
       "1"
      ]
     },
     "execution_count": 15,
     "metadata": {},
     "output_type": "execute_result"
    }
   ],
   "source": [
    "ex = Example()\n",
    "ex.add(1)"
   ]
  },
  {
   "cell_type": "code",
   "execution_count": 16,
   "id": "e9c76c57-70cd-4bcf-bae1-8944f12abf28",
   "metadata": {},
   "outputs": [],
   "source": [
    "class Example:\n",
    "    def add(self,*args):\n",
    "        if len(args) ==1:\n",
    "            return args[0]\n",
    "        elif len(args)==2:\n",
    "            return args[0]+args[1]\n",
    "        else:\n",
    "            return \"Length Mismatch\""
   ]
  },
  {
   "cell_type": "code",
   "execution_count": 17,
   "id": "5fba8ecb-49f0-489e-9895-4188b563e6a7",
   "metadata": {},
   "outputs": [
    {
     "data": {
      "text/plain": [
       "'Length Mismatch'"
      ]
     },
     "execution_count": 17,
     "metadata": {},
     "output_type": "execute_result"
    }
   ],
   "source": [
    "ex = Example()\n",
    "ex.add(1,2,3,4,5)"
   ]
  },
  {
   "cell_type": "code",
   "execution_count": null,
   "id": "818c2127-a793-4f28-8582-57b330ea6d4a",
   "metadata": {},
   "outputs": [],
   "source": []
  }
 ],
 "metadata": {
  "kernelspec": {
   "display_name": "Python 3 (ipykernel)",
   "language": "python",
   "name": "python3"
  },
  "language_info": {
   "codemirror_mode": {
    "name": "ipython",
    "version": 3
   },
   "file_extension": ".py",
   "mimetype": "text/x-python",
   "name": "python",
   "nbconvert_exporter": "python",
   "pygments_lexer": "ipython3",
   "version": "3.13.1"
  }
 },
 "nbformat": 4,
 "nbformat_minor": 5
}
