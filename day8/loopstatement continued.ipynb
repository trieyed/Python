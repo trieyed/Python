{
 "cells": [
  {
   "cell_type": "code",
   "execution_count": 1,
   "id": "50d24e99-83f0-4c93-9c88-6304c3e63ea2",
   "metadata": {},
   "outputs": [
    {
     "ename": "SyntaxError",
     "evalue": "leading zeros in decimal integer literals are not permitted; use an 0o prefix for octal integers (1631015995.py, line 2)",
     "output_type": "error",
     "traceback": [
      "\u001b[1;36m  Cell \u001b[1;32mIn[1], line 2\u001b[1;36m\u001b[0m\n\u001b[1;33m    x = 0123\u001b[0m\n\u001b[1;37m        ^\u001b[0m\n\u001b[1;31mSyntaxError\u001b[0m\u001b[1;31m:\u001b[0m leading zeros in decimal integer literals are not permitted; use an 0o prefix for octal integers\n"
     ]
    }
   ],
   "source": [
    "#you can't start the ingeger with leading zeroes.\n",
    "x = 0123\n"
   ]
  },
  {
   "cell_type": "code",
   "execution_count": null,
   "id": "0db2bf4d-df3a-4cbc-a5f2-2bd9eda18fa7",
   "metadata": {},
   "outputs": [],
   "source": [
    "y = 0.0003\n"
   ]
  },
  {
   "cell_type": "code",
   "execution_count": null,
   "id": "39e74d57-d2c4-4008-ab80-d565518e4827",
   "metadata": {},
   "outputs": [],
   "source": [
    "z = 09.023"
   ]
  },
  {
   "cell_type": "code",
   "execution_count": null,
   "id": "9aa0f843-1992-420d-aeab-6743c9ef68e4",
   "metadata": {},
   "outputs": [],
   "source": [
    "print(z)"
   ]
  },
  {
   "cell_type": "code",
   "execution_count": null,
   "id": "c34316e2-4d07-45b6-8c86-a6fc5419cc02",
   "metadata": {},
   "outputs": [],
   "source": [
    "\n",
    "\n",
    "\n"
   ]
  },
  {
   "cell_type": "code",
   "execution_count": null,
   "id": "1902b8c2-1583-4437-8b8f-7980d3f622e9",
   "metadata": {},
   "outputs": [],
   "source": []
  },
  {
   "cell_type": "code",
   "execution_count": null,
   "id": "b21171c3-cc3b-4503-8e8d-7d36e05d198b",
   "metadata": {},
   "outputs": [],
   "source": []
  },
  {
   "cell_type": "code",
   "execution_count": null,
   "id": "07f7cd55-5f47-4aef-b464-6ae05636a3a1",
   "metadata": {},
   "outputs": [],
   "source": []
  },
  {
   "cell_type": "code",
   "execution_count": null,
   "id": "03421cff-0c7d-423e-84b6-f9894de5c430",
   "metadata": {},
   "outputs": [],
   "source": []
  },
  {
   "cell_type": "markdown",
   "id": "9f3e948b-ae8b-4e76-b7b5-66f843585773",
   "metadata": {},
   "source": [
    "**Loop Statements Continued**\n",
    "----\n",
    "\n",
    "\n"
   ]
  },
  {
   "cell_type": "code",
   "execution_count": null,
   "id": "847305e3-5c5a-41da-a787-f46fdaa08fc4",
   "metadata": {},
   "outputs": [],
   "source": [
    "a = list(range(0,100,3))"
   ]
  },
  {
   "cell_type": "code",
   "execution_count": null,
   "id": "04142abd-68b6-4741-a73e-c41907d08202",
   "metadata": {},
   "outputs": [],
   "source": [
    "print(a)"
   ]
  },
  {
   "cell_type": "code",
   "execution_count": null,
   "id": "2f18dc83-1587-4b16-9b12-d92886488467",
   "metadata": {},
   "outputs": [],
   "source": [
    "\n"
   ]
  },
  {
   "cell_type": "code",
   "execution_count": null,
   "id": "e0318aa6-2dee-4733-b6bf-3f1039e9ea3b",
   "metadata": {},
   "outputs": [],
   "source": []
  },
  {
   "cell_type": "markdown",
   "id": "f7e96069-ea37-41be-97d4-9d2746d5cd92",
   "metadata": {},
   "source": [
    "**Python While Loop**\n",
    "---\n",
    "\n",
    "\n",
    "\n",
    "\n",
    "while condition \n",
    "\n",
    "\n",
    "\n",
    "     do something\n",
    "\n",
    "\n",
    "\n",
    "\n",
    "If you run a while loop with no terminating condition, you can create a infinite loop which keep executing contuniously leading to crashing of the server or overloading ram. \n",
    "\n",
    "\n",
    "\n",
    "Make sure to keep a terminating condition while creating a while loop.\n",
    "\n",
    "     "
   ]
  },
  {
   "cell_type": "code",
   "execution_count": null,
   "id": "d1563976-0153-4f40-8ab2-908edf7449a2",
   "metadata": {},
   "outputs": [],
   "source": [
    "i = 0\n",
    "while i<5:\n",
    "    print(i)\n",
    "    i+=1"
   ]
  },
  {
   "cell_type": "markdown",
   "id": "31036f72-9d4a-4729-b3dd-e9368d14a324",
   "metadata": {},
   "source": [
    "**Break Statement**\n",
    "----\n",
    "\n",
    "If we want to terminate the loops at a certain point we can use the break statement inside the loops(works for both while and for loop).\n",
    "\n"
   ]
  },
  {
   "cell_type": "code",
   "execution_count": null,
   "id": "fefc168b-303a-4905-bef3-d28356b0edd7",
   "metadata": {},
   "outputs": [],
   "source": [
    "count = 0\n",
    "\n",
    "while count < 10:\n",
    "    print(count)\n",
    "    count +=1\n",
    "    if count ==5:\n",
    "        break"
   ]
  },
  {
   "cell_type": "markdown",
   "id": "77de3509-8285-437c-a9d7-31066364640d",
   "metadata": {},
   "source": [
    "**Continue Statement**\n",
    "----\n",
    "\n",
    "If we want to skip a certain value of the loops at a certain point we can use the continue statement inside the loops(works for both while and for loop).\n",
    "\n"
   ]
  },
  {
   "cell_type": "code",
   "execution_count": null,
   "id": "8ea6f586-a8a6-484f-99fc-51747ae4117a",
   "metadata": {},
   "outputs": [],
   "source": [
    "count1 = 0\n",
    "\n",
    "while count1 < 10:\n",
    "    print(count1)\n",
    "    count1 += 1\n",
    "    if count1 == 3:\n",
    "        continue"
   ]
  },
  {
   "cell_type": "code",
   "execution_count": null,
   "id": "d11e5329-5dd7-49b1-867b-713f0a0770ee",
   "metadata": {},
   "outputs": [],
   "source": [
    "name = [\"Laxman\" , \"Pratima\" , \"Seema\"]\n",
    "for each in name :\n",
    "    if each == \"Laxman\":\n",
    "        continue\n",
    "    print(each)\n"
   ]
  },
  {
   "cell_type": "markdown",
   "id": "531ce308-5aa6-4536-a99c-9c86784df542",
   "metadata": {},
   "source": [
    "Create a Python program that asks the user to enter a positive integer, N, and then calculates and prints the sum of the first N natural numbers. Use a while loop to accomplish this.\n"
   ]
  },
  {
   "cell_type": "code",
   "execution_count": null,
   "id": "3ae5ed4f-689f-43f7-8e90-6bc7eb94190e",
   "metadata": {},
   "outputs": [],
   "source": [
    "num = int(input(\"Enter a number :\"))\n",
    "sum1 = 0\n",
    "i = 0\n",
    "while i <= num :\n",
    "    sum1 += i   #sum = sum1+i\n",
    "    i = i+1\n",
    "print(f\"The result is {sum1}\")\n",
    "    \n"
   ]
  },
  {
   "cell_type": "code",
   "execution_count": null,
   "id": "bc0279f2-5737-48c2-8698-209d00193f5a",
   "metadata": {},
   "outputs": [],
   "source": [
    "\n"
   ]
  },
  {
   "cell_type": "markdown",
   "id": "0c36a43e-3c9b-4683-9b43-a420f4c74b90",
   "metadata": {},
   "source": [
    "**PRODUCT**\n",
    "\n",
    "----"
   ]
  },
  {
   "cell_type": "code",
   "execution_count": null,
   "id": "5055708e-5861-4ca1-a786-9d489416a0d7",
   "metadata": {},
   "outputs": [],
   "source": [
    "num = int(input(\"Enter a number :\"))\n",
    "pro = 1\n",
    "i = 1\n",
    "while i <= num :\n",
    "    pro *= i   #sum = sum+i\n",
    "    i = i+1\n",
    "print(f\"The result is {pro}\")\n",
    "    \n"
   ]
  },
  {
   "cell_type": "code",
   "execution_count": null,
   "id": "2c5e2dcc-6cd2-4a03-8c7f-ad25c42a69b3",
   "metadata": {},
   "outputs": [],
   "source": [
    "#In for loop, the same can be done by using range()"
   ]
  },
  {
   "cell_type": "code",
   "execution_count": 2,
   "id": "7a6c9114-1fc1-4223-8237-ed5d4ae3901b",
   "metadata": {},
   "outputs": [
    {
     "data": {
      "text/plain": [
       "15"
      ]
     },
     "execution_count": 2,
     "metadata": {},
     "output_type": "execute_result"
    }
   ],
   "source": [
    "sum(range(1,6))\n"
   ]
  },
  {
   "cell_type": "code",
   "execution_count": 5,
   "id": "3f2d7845-1997-40a4-b5e5-cdecfa5e515b",
   "metadata": {},
   "outputs": [],
   "source": [
    "#FINDING MAXIMUM VALUE:\n",
    "a = [ 10, 12, 34, 45, 67]"
   ]
  },
  {
   "cell_type": "code",
   "execution_count": 6,
   "id": "5d51740a-9fb3-4165-a35f-2081a63eecdd",
   "metadata": {},
   "outputs": [
    {
     "data": {
      "text/plain": [
       "67"
      ]
     },
     "execution_count": 6,
     "metadata": {},
     "output_type": "execute_result"
    }
   ],
   "source": [
    "max(a)"
   ]
  },
  {
   "cell_type": "code",
   "execution_count": 7,
   "id": "15410b39-927a-4174-bd22-22d609d6101f",
   "metadata": {},
   "outputs": [
    {
     "name": "stdout",
     "output_type": "stream",
     "text": [
      "445589877\n"
     ]
    }
   ],
   "source": [
    "#MAX_VALUE USING FOR LOOP:\n",
    "max_value=0\n",
    "\n",
    "for each in (22,45,25,48,785,145,1222,45895,445589877):\n",
    "    if each>max_value:\n",
    "        max_value = each\n",
    "\n",
    "print(max_value)\n"
   ]
  },
  {
   "cell_type": "code",
   "execution_count": 8,
   "id": "fdd0b43d-864c-42cd-a8aa-414fa04729c6",
   "metadata": {},
   "outputs": [
    {
     "data": {
      "text/plain": [
       "10"
      ]
     },
     "execution_count": 8,
     "metadata": {},
     "output_type": "execute_result"
    }
   ],
   "source": [
    "min(a)"
   ]
  },
  {
   "cell_type": "code",
   "execution_count": null,
   "id": "1d5e09b8-cba5-4ccb-8bdc-fb9be7873b11",
   "metadata": {},
   "outputs": [],
   "source": []
  },
  {
   "cell_type": "code",
   "execution_count": null,
   "id": "ec969af3-7445-4b2e-9101-c9461c369b9d",
   "metadata": {},
   "outputs": [],
   "source": []
  }
 ],
 "metadata": {
  "kernelspec": {
   "display_name": "Python 3 (ipykernel)",
   "language": "python",
   "name": "python3"
  },
  "language_info": {
   "codemirror_mode": {
    "name": "ipython",
    "version": 3
   },
   "file_extension": ".py",
   "mimetype": "text/x-python",
   "name": "python",
   "nbconvert_exporter": "python",
   "pygments_lexer": "ipython3",
   "version": "3.13.1"
  }
 },
 "nbformat": 4,
 "nbformat_minor": 5
}
