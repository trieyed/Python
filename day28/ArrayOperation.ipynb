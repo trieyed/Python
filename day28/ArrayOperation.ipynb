{
 "cells": [
  {
   "cell_type": "markdown",
   "id": "ef34c9cc-d297-4a31-b32a-9a00e728bd6d",
   "metadata": {},
   "source": [
    "**Array Operation**\n",
    "-\n",
    "  pow()  \n",
    "  sqrt()  "
   ]
  },
  {
   "cell_type": "code",
   "execution_count": 1,
   "id": "6141e4c6-16c7-46ab-9dab-0024801b0b23",
   "metadata": {},
   "outputs": [],
   "source": [
    "import numpy as np"
   ]
  },
  {
   "cell_type": "code",
   "execution_count": 5,
   "id": "dd4bd6c8-a057-4b2a-adb0-3759389b244c",
   "metadata": {},
   "outputs": [],
   "source": [
    "a = np.array([[4,5,6],[5,7,9]])\n",
    "b = np.array([[1,2,3],[9,8,7]])"
   ]
  },
  {
   "cell_type": "markdown",
   "id": "98499864-7544-48d0-aa5a-ad9a77ff39b6",
   "metadata": {},
   "source": [
    "## Arithmetic Operation"
   ]
  },
  {
   "cell_type": "code",
   "execution_count": 7,
   "id": "7a025c56-4099-4307-b490-c2317daad948",
   "metadata": {},
   "outputs": [
    {
     "data": {
      "text/plain": [
       "array([[ 5,  7,  9],\n",
       "       [14, 15, 16]])"
      ]
     },
     "execution_count": 7,
     "metadata": {},
     "output_type": "execute_result"
    }
   ],
   "source": [
    "a + b #sum of matrices"
   ]
  },
  {
   "cell_type": "code",
   "execution_count": 8,
   "id": "3853d5db-114c-4f35-887b-71d6d659697f",
   "metadata": {},
   "outputs": [
    {
     "data": {
      "text/plain": [
       "array([[ 5,  7,  9],\n",
       "       [14, 15, 16]])"
      ]
     },
     "execution_count": 8,
     "metadata": {},
     "output_type": "execute_result"
    }
   ],
   "source": [
    "np.add(a,b) #sum of matrices"
   ]
  },
  {
   "cell_type": "code",
   "execution_count": 12,
   "id": "245422a2-f4cd-4586-b2d8-eafd1a06eee1",
   "metadata": {},
   "outputs": [
    {
     "data": {
      "text/plain": [
       "array([[ 3,  3,  3],\n",
       "       [-4, -1,  2]])"
      ]
     },
     "execution_count": 12,
     "metadata": {},
     "output_type": "execute_result"
    }
   ],
   "source": [
    "a-b #difference of matrices"
   ]
  },
  {
   "cell_type": "code",
   "execution_count": 13,
   "id": "e04d3bd7-bd8b-42a0-ad1e-3b837cbdb3ee",
   "metadata": {},
   "outputs": [
    {
     "data": {
      "text/plain": [
       "array([[ 3,  3,  3],\n",
       "       [-4, -1,  2]])"
      ]
     },
     "execution_count": 13,
     "metadata": {},
     "output_type": "execute_result"
    }
   ],
   "source": [
    "np.subtract(a,b) #difference of matrices"
   ]
  },
  {
   "cell_type": "code",
   "execution_count": 15,
   "id": "c4463d6b-e2b4-456c-ba7b-3784e398ee43",
   "metadata": {},
   "outputs": [
    {
     "data": {
      "text/plain": [
       "array([[ 4, 10, 18],\n",
       "       [45, 56, 63]])"
      ]
     },
     "execution_count": 15,
     "metadata": {},
     "output_type": "execute_result"
    }
   ],
   "source": [
    "a * b"
   ]
  },
  {
   "cell_type": "code",
   "execution_count": 17,
   "id": "309952fb-2175-47f6-9f82-ddacf541aae0",
   "metadata": {},
   "outputs": [
    {
     "data": {
      "text/plain": [
       "array([[ 4, 10, 18],\n",
       "       [45, 56, 63]])"
      ]
     },
     "execution_count": 17,
     "metadata": {},
     "output_type": "execute_result"
    }
   ],
   "source": [
    "np.multiply(a,b)"
   ]
  },
  {
   "cell_type": "code",
   "execution_count": 18,
   "id": "1390b25c-b1e3-4021-8a76-35880963b478",
   "metadata": {},
   "outputs": [
    {
     "data": {
      "text/plain": [
       "array([[ 1,  4,  9],\n",
       "       [81, 64, 49]])"
      ]
     },
     "execution_count": 18,
     "metadata": {},
     "output_type": "execute_result"
    }
   ],
   "source": [
    "np.square(b) #square of matrix b"
   ]
  },
  {
   "cell_type": "code",
   "execution_count": 21,
   "id": "db1c8144-3a2e-4aa4-b5a2-4bd474e2913a",
   "metadata": {},
   "outputs": [
    {
     "data": {
      "text/plain": [
       "array([[      4,      25,     216],\n",
       "       [1953125, 5764801, 4782969]])"
      ]
     },
     "execution_count": 21,
     "metadata": {},
     "output_type": "execute_result"
    }
   ],
   "source": [
    "np.pow(a,5) #5th power of matrix a"
   ]
  },
  {
   "cell_type": "code",
   "execution_count": 22,
   "id": "1b71c0e7-20ff-4817-9259-ff7c4d92957d",
   "metadata": {},
   "outputs": [
    {
     "data": {
      "text/plain": [
       "array([[      4,      25,     216],\n",
       "       [1953125, 5764801, 4782969]])"
      ]
     },
     "execution_count": 22,
     "metadata": {},
     "output_type": "execute_result"
    }
   ],
   "source": [
    "np.pow(a,b) #bth power of matrix a-->matches the position of matrix and raise the power to respective element in b"
   ]
  },
  {
   "cell_type": "code",
   "execution_count": 24,
   "id": "482e0eb8-070a-4111-a277-3202bffbc211",
   "metadata": {},
   "outputs": [
    {
     "data": {
      "text/plain": [
       "array([[0, 1, 0],\n",
       "       [5, 7, 2]])"
      ]
     },
     "execution_count": 24,
     "metadata": {},
     "output_type": "execute_result"
    }
   ],
   "source": [
    "a%b #divides a by b"
   ]
  },
  {
   "cell_type": "code",
   "execution_count": 28,
   "id": "2bea75f0-fc0a-432a-8c49-6c83b2cef520",
   "metadata": {},
   "outputs": [
    {
     "data": {
      "text/plain": [
       "(array([[4, 2, 2],\n",
       "        [0, 0, 1]]),\n",
       " array([[0, 1, 0],\n",
       "        [5, 7, 2]]))"
      ]
     },
     "execution_count": 28,
     "metadata": {},
     "output_type": "execute_result"
    }
   ],
   "source": [
    "np.divmod(a,b) #gives matrix of quotient first and the remainder"
   ]
  },
  {
   "cell_type": "code",
   "execution_count": 29,
   "id": "46f6b0d7-b8d0-4b02-883d-0a90a4664e5d",
   "metadata": {},
   "outputs": [
    {
     "data": {
      "text/plain": [
       "array([[4, 5, 6],\n",
       "       [5, 7, 9]])"
      ]
     },
     "execution_count": 29,
     "metadata": {},
     "output_type": "execute_result"
    }
   ],
   "source": [
    "a"
   ]
  },
  {
   "cell_type": "code",
   "execution_count": 30,
   "id": "ddb25cd5-195c-4bfb-9196-cfac0cff9540",
   "metadata": {},
   "outputs": [
    {
     "data": {
      "text/plain": [
       "array([[1, 2, 3],\n",
       "       [9, 8, 7]])"
      ]
     },
     "execution_count": 30,
     "metadata": {},
     "output_type": "execute_result"
    }
   ],
   "source": [
    "b"
   ]
  },
  {
   "cell_type": "code",
   "execution_count": 27,
   "id": "bb808e3d-d528-434d-921b-05a0809e67cd",
   "metadata": {},
   "outputs": [
    {
     "data": {
      "text/plain": [
       "array([[      4,      25,     216],\n",
       "       [1953125, 5764801, 4782969]])"
      ]
     },
     "execution_count": 27,
     "metadata": {},
     "output_type": "execute_result"
    }
   ],
   "source": [
    "np.power(a,b)"
   ]
  },
  {
   "cell_type": "code",
   "execution_count": 33,
   "id": "3d54f990-7763-4465-87df-b7c20bbd445c",
   "metadata": {},
   "outputs": [
    {
     "data": {
      "text/plain": [
       "array([[3, 3, 3],\n",
       "       [4, 1, 2]])"
      ]
     },
     "execution_count": 33,
     "metadata": {},
     "output_type": "execute_result"
    }
   ],
   "source": [
    "#can stack multiple functions too-->provides absolute value of result of subtraction\n",
    "np.abs(\n",
    "    np.subtract(a,b)\n",
    ")"
   ]
  },
  {
   "cell_type": "code",
   "execution_count": null,
   "id": "3418de93-e9f7-46aa-86b2-38f0c9aa9444",
   "metadata": {},
   "outputs": [],
   "source": []
  }
 ],
 "metadata": {
  "kernelspec": {
   "display_name": "Python 3 (ipykernel)",
   "language": "python",
   "name": "python3"
  },
  "language_info": {
   "codemirror_mode": {
    "name": "ipython",
    "version": 3
   },
   "file_extension": ".py",
   "mimetype": "text/x-python",
   "name": "python",
   "nbconvert_exporter": "python",
   "pygments_lexer": "ipython3",
   "version": "3.13.1"
  }
 },
 "nbformat": 4,
 "nbformat_minor": 5
}
