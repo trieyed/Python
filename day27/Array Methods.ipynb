{
 "cells": [
  {
   "cell_type": "markdown",
   "id": "3d0506d9-d833-47fd-8251-478a83ba0842",
   "metadata": {},
   "source": [
    "**Array Methods**\n",
    "-\n",
    "\n",
    "shape  \n",
    "ndim  \n",
    "dtype  \n",
    "sum  \n",
    "product  \n",
    "max  \n",
    "flatten  \n",
    "ravel  \n",
    "vstack  \n",
    "hstack  "
   ]
  },
  {
   "cell_type": "code",
   "execution_count": 21,
   "id": "b919deb4-9ed6-4a55-8bb7-be392291f5b5",
   "metadata": {},
   "outputs": [],
   "source": [
    "import numpy as np"
   ]
  },
  {
   "cell_type": "code",
   "execution_count": 22,
   "id": "d1810012-9608-44b1-8c84-93d1962a83cb",
   "metadata": {},
   "outputs": [],
   "source": [
    "arr = np.random.randint(10,20, size = (3,4,5))"
   ]
  },
  {
   "cell_type": "code",
   "execution_count": 23,
   "id": "9ee00c5d-00e5-48a3-ac08-e415764b4828",
   "metadata": {},
   "outputs": [
    {
     "data": {
      "text/plain": [
       "array([[[14, 13, 15, 18, 19],\n",
       "        [16, 13, 19, 18, 14],\n",
       "        [14, 10, 14, 17, 13],\n",
       "        [12, 19, 17, 16, 13]],\n",
       "\n",
       "       [[17, 15, 16, 17, 11],\n",
       "        [18, 19, 19, 18, 12],\n",
       "        [12, 14, 17, 17, 12],\n",
       "        [18, 19, 13, 12, 17]],\n",
       "\n",
       "       [[19, 11, 13, 13, 17],\n",
       "        [15, 16, 15, 18, 10],\n",
       "        [17, 16, 13, 16, 17],\n",
       "        [18, 18, 14, 19, 19]]], dtype=int32)"
      ]
     },
     "execution_count": 23,
     "metadata": {},
     "output_type": "execute_result"
    }
   ],
   "source": [
    "arr"
   ]
  },
  {
   "cell_type": "code",
   "execution_count": 24,
   "id": "125e624c-70cd-49e6-90ae-843e73e56442",
   "metadata": {},
   "outputs": [
    {
     "data": {
      "text/plain": [
       "(3, 4, 5)"
      ]
     },
     "execution_count": 24,
     "metadata": {},
     "output_type": "execute_result"
    }
   ],
   "source": [
    "arr.shape"
   ]
  },
  {
   "cell_type": "code",
   "execution_count": 25,
   "id": "c72d5bd3-3b87-4cfc-9577-1aad1a7f899c",
   "metadata": {},
   "outputs": [
    {
     "data": {
      "text/plain": [
       "3"
      ]
     },
     "execution_count": 25,
     "metadata": {},
     "output_type": "execute_result"
    }
   ],
   "source": [
    "arr.ndim"
   ]
  },
  {
   "cell_type": "code",
   "execution_count": 26,
   "id": "d8b0d4e6-3fce-48ed-b54d-0c587bc6230e",
   "metadata": {},
   "outputs": [
    {
     "data": {
      "text/plain": [
       "dtype('int32')"
      ]
     },
     "execution_count": 26,
     "metadata": {},
     "output_type": "execute_result"
    }
   ],
   "source": [
    "arr.dtype #gives data type"
   ]
  },
  {
   "cell_type": "code",
   "execution_count": 27,
   "id": "6a05b2e9-b165-41c9-96b5-133a63598d95",
   "metadata": {},
   "outputs": [
    {
     "data": {
      "text/plain": [
       "array([[[14, 17, 19],\n",
       "        [16, 18, 15],\n",
       "        [14, 12, 17],\n",
       "        [12, 18, 18]],\n",
       "\n",
       "       [[13, 15, 11],\n",
       "        [13, 19, 16],\n",
       "        [10, 14, 16],\n",
       "        [19, 19, 18]],\n",
       "\n",
       "       [[15, 16, 13],\n",
       "        [19, 19, 15],\n",
       "        [14, 17, 13],\n",
       "        [17, 13, 14]],\n",
       "\n",
       "       [[18, 17, 13],\n",
       "        [18, 18, 18],\n",
       "        [17, 17, 16],\n",
       "        [16, 12, 19]],\n",
       "\n",
       "       [[19, 11, 17],\n",
       "        [14, 12, 10],\n",
       "        [13, 12, 17],\n",
       "        [13, 17, 19]]], dtype=int32)"
      ]
     },
     "execution_count": 27,
     "metadata": {},
     "output_type": "execute_result"
    }
   ],
   "source": [
    "arr.T  #Gives the transpose of the matrix"
   ]
  },
  {
   "cell_type": "code",
   "execution_count": 30,
   "id": "97309bcc-b0e8-407e-9356-d0dff9dfc1a6",
   "metadata": {},
   "outputs": [],
   "source": [
    "arrt = arr.T"
   ]
  },
  {
   "cell_type": "code",
   "execution_count": 32,
   "id": "49612cab-eb24-4455-ba4f-18685a79b509",
   "metadata": {},
   "outputs": [
    {
     "name": "stdout",
     "output_type": "stream",
     "text": [
      "[[[14 17 19]\n",
      "  [16 18 15]\n",
      "  [14 12 17]\n",
      "  [12 18 18]]\n",
      "\n",
      " [[13 15 11]\n",
      "  [13 19 16]\n",
      "  [10 14 16]\n",
      "  [19 19 18]]\n",
      "\n",
      " [[15 16 13]\n",
      "  [19 19 15]\n",
      "  [14 17 13]\n",
      "  [17 13 14]]\n",
      "\n",
      " [[18 17 13]\n",
      "  [18 18 18]\n",
      "  [17 17 16]\n",
      "  [16 12 19]]\n",
      "\n",
      " [[19 11 17]\n",
      "  [14 12 10]\n",
      "  [13 12 17]\n",
      "  [13 17 19]]]\n"
     ]
    }
   ],
   "source": [
    "print(arrt)"
   ]
  },
  {
   "cell_type": "code",
   "execution_count": 38,
   "id": "584217b6-3cc5-46e0-abc1-4929d1f04a18",
   "metadata": {},
   "outputs": [
    {
     "data": {
      "text/plain": [
       "(5, 4, 3)"
      ]
     },
     "execution_count": 38,
     "metadata": {},
     "output_type": "execute_result"
    }
   ],
   "source": [
    "#reshape\n",
    "arrt.shape"
   ]
  },
  {
   "cell_type": "code",
   "execution_count": 39,
   "id": "2402e1d0-d18c-4e34-b290-fe348847a70a",
   "metadata": {},
   "outputs": [
    {
     "data": {
      "text/plain": [
       "array([[14, 17, 19, 16, 18, 15, 14, 12, 17, 12],\n",
       "       [18, 18, 13, 15, 11, 13, 19, 16, 10, 14],\n",
       "       [16, 19, 19, 18, 15, 16, 13, 19, 19, 15],\n",
       "       [14, 17, 13, 17, 13, 14, 18, 17, 13, 18],\n",
       "       [18, 18, 17, 17, 16, 16, 12, 19, 19, 11],\n",
       "       [17, 14, 12, 10, 13, 12, 17, 13, 17, 19]], dtype=int32)"
      ]
     },
     "execution_count": 39,
     "metadata": {},
     "output_type": "execute_result"
    }
   ],
   "source": [
    "arrt.reshape(6,10) #must conserve all element..i.e. product of dimension should be same."
   ]
  },
  {
   "cell_type": "code",
   "execution_count": 40,
   "id": "f9c46aff-57c8-4447-850c-acf9446af460",
   "metadata": {},
   "outputs": [
    {
     "data": {
      "text/plain": [
       "array([[14, 17, 19, 16, 18, 15, 14, 12, 17, 12, 18, 18, 13, 15, 11],\n",
       "       [13, 19, 16, 10, 14, 16, 19, 19, 18, 15, 16, 13, 19, 19, 15],\n",
       "       [14, 17, 13, 17, 13, 14, 18, 17, 13, 18, 18, 18, 17, 17, 16],\n",
       "       [16, 12, 19, 19, 11, 17, 14, 12, 10, 13, 12, 17, 13, 17, 19]],\n",
       "      dtype=int32)"
      ]
     },
     "execution_count": 40,
     "metadata": {},
     "output_type": "execute_result"
    }
   ],
   "source": [
    "arrt.reshape(4,15)"
   ]
  },
  {
   "cell_type": "code",
   "execution_count": 45,
   "id": "ceade377-dbcb-4b75-b3b3-717328ca4377",
   "metadata": {},
   "outputs": [
    {
     "data": {
      "text/plain": [
       "array([[[14, 17, 19, 16, 18, 15, 14, 12, 17, 12, 18, 18, 13, 15, 11],\n",
       "        [13, 19, 16, 10, 14, 16, 19, 19, 18, 15, 16, 13, 19, 19, 15]],\n",
       "\n",
       "       [[14, 17, 13, 17, 13, 14, 18, 17, 13, 18, 18, 18, 17, 17, 16],\n",
       "        [16, 12, 19, 19, 11, 17, 14, 12, 10, 13, 12, 17, 13, 17, 19]]],\n",
       "      dtype=int32)"
      ]
     },
     "execution_count": 45,
     "metadata": {},
     "output_type": "execute_result"
    }
   ],
   "source": [
    "arrt.reshape(2,2,-1)"
   ]
  },
  {
   "cell_type": "code",
   "execution_count": null,
   "id": "b36896fb-75ba-49c1-b0ff-157d8ede0f1b",
   "metadata": {},
   "outputs": [],
   "source": []
  }
 ],
 "metadata": {
  "kernelspec": {
   "display_name": "Python 3 (ipykernel)",
   "language": "python",
   "name": "python3"
  },
  "language_info": {
   "codemirror_mode": {
    "name": "ipython",
    "version": 3
   },
   "file_extension": ".py",
   "mimetype": "text/x-python",
   "name": "python",
   "nbconvert_exporter": "python",
   "pygments_lexer": "ipython3",
   "version": "3.13.1"
  }
 },
 "nbformat": 4,
 "nbformat_minor": 5
}
