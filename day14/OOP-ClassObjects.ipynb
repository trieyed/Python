{
 "cells": [
  {
   "cell_type": "markdown",
   "id": "b8369674-1bd1-4181-ad45-2eb734bf9ff6",
   "metadata": {},
   "source": [
    "**OBJECT ORIENTED PROGRAMMING**\n",
    "--------"
   ]
  },
  {
   "cell_type": "markdown",
   "id": "9b04d0af-eca5-4c3b-9b71-1405734925a0",
   "metadata": {},
   "source": [
    "**CLASSES AND OBJECTS**\n",
    "\n",
    "\n",
    "\n",
    "Naming class with CamelCase is a good practice.\n",
    "\n",
    "Syntax:\n",
    "```python\n",
    "class ClassName:\n",
    "    def methods:\n",
    "    .\n",
    "    .\n",
    "\n"
   ]
  },
  {
   "cell_type": "code",
   "execution_count": 1,
   "id": "fa3347b8-e8dc-478f-b587-31338ca85e0d",
   "metadata": {},
   "outputs": [],
   "source": [
    "class Calculator:\n",
    "    def __init__(self, x, y):  #Initializer works like the constructor. It runs immediately and assigns property initially once  the object is created.\n",
    "        self.a = x\n",
    "        self.b = y\n",
    "    def sum(self):\n",
    "        return self.a+self.b\n",
    "    def sub(self):\n",
    "        return self.a-self.b\n",
    "    def mun(self):\n",
    "        return self.a*self.b\n",
    "    def div(self):\n",
    "        return self.a/self.b"
   ]
  },
  {
   "cell_type": "code",
   "execution_count": 2,
   "id": "f4e5353c-c4b0-4f18-9efb-f3f8323fb9cf",
   "metadata": {},
   "outputs": [],
   "source": [
    "cal_obj = Calculator(x = 22, y=23)"
   ]
  },
  {
   "cell_type": "code",
   "execution_count": 3,
   "id": "8ae82a04-41c2-43ed-bf67-15d6fb0554e7",
   "metadata": {},
   "outputs": [
    {
     "data": {
      "text/plain": [
       "45"
      ]
     },
     "execution_count": 3,
     "metadata": {},
     "output_type": "execute_result"
    }
   ],
   "source": [
    "cal_obj.sum()"
   ]
  },
  {
   "cell_type": "code",
   "execution_count": 4,
   "id": "19ed4207-1c5e-45cd-b8fd-b4daba3545c1",
   "metadata": {},
   "outputs": [
    {
     "data": {
      "text/plain": [
       "506"
      ]
     },
     "execution_count": 4,
     "metadata": {},
     "output_type": "execute_result"
    }
   ],
   "source": [
    "cal_obj.mun()"
   ]
  },
  {
   "cell_type": "code",
   "execution_count": null,
   "id": "a915ef56-8583-4c3e-9f75-38c3a353a23f",
   "metadata": {},
   "outputs": [],
   "source": [
    "\n"
   ]
  },
  {
   "cell_type": "markdown",
   "id": "7d357243-447a-432c-bccc-39b2956d64e4",
   "metadata": {},
   "source": [
    "Create Class : Dog (name, age<default to 3>)\n",
    "Create method : bark() -> <name> is barking !\n",
    " \n",
    "Usage : \n",
    "dog1 = Dog(\"Rocky\")\n",
    "dog1.bark()\n",
    "| Rocky is barking"
   ]
  },
  {
   "cell_type": "code",
   "execution_count": 5,
   "id": "ba59e335-3fb2-4283-8ee6-5156be55be6e",
   "metadata": {},
   "outputs": [
    {
     "name": "stdout",
     "output_type": "stream",
     "text": [
      "Rocky is barking.\n"
     ]
    }
   ],
   "source": [
    "class Dog:\n",
    "    def __init__(self,name,age=3):\n",
    "        self.n=name\n",
    "        self.a=age\n",
    "\n",
    "\n",
    "    def bark(self):\n",
    "         print(f\"{self.n} is barking.\")\n",
    "    \n",
    "dog1 = Dog(\"Rocky\")\n",
    "dog1.bark()"
   ]
  },
  {
   "cell_type": "code",
   "execution_count": null,
   "id": "877da1d2-1f3d-456f-a8bd-4fd33667c4d0",
   "metadata": {},
   "outputs": [],
   "source": []
  },
  {
   "cell_type": "code",
   "execution_count": 6,
   "id": "9ee00b00-a744-440c-ba09-3441dd09ff27",
   "metadata": {},
   "outputs": [],
   "source": [
    "class Person:\n",
    "    count = 0 #Class Attribute\n",
    "    def __init__(self,name,address = \"Kathmandu\"):        #Initializer or Constructor\n",
    "        self.name = name\n",
    "        self.address = address\n",
    "        Person.count += 1 \n",
    "\n",
    "    def update_name(self,new_name):                       #Instance Method\n",
    "        self.name = new_name\n",
    "        print(f\"Name Updated to {self.name}.\")\n",
    "\n",
    "    @classmethod\n",
    "    def get_count(cls):                                   #Class Method\n",
    "        return cls.count\n",
    "\n",
    "    @staticmethod\n",
    "    def create_fullname(firstname,lastname):               #static method\n",
    "        return f\"{lastname},{firstname}\"\n",
    "        "
   ]
  },
  {
   "cell_type": "code",
   "execution_count": 7,
   "id": "f143d549-312e-451c-abe3-49d987c84917",
   "metadata": {},
   "outputs": [],
   "source": [
    "person1 = Person(\"John Wick\")  #Creates object person1 and ssigns John Wick to name and assigns the default adress kathmandu to person1."
   ]
  },
  {
   "cell_type": "code",
   "execution_count": 8,
   "id": "b805f512-603c-475a-b910-eb1f6b7a2bb0",
   "metadata": {},
   "outputs": [
    {
     "name": "stdout",
     "output_type": "stream",
     "text": [
      "Name Updated to Baba Yaga.\n"
     ]
    }
   ],
   "source": [
    "person1.update_name(\"Baba Yaga\")"
   ]
  },
  {
   "cell_type": "code",
   "execution_count": 9,
   "id": "648dea36-1b9d-490c-9bcc-733f97e40876",
   "metadata": {},
   "outputs": [
    {
     "name": "stdout",
     "output_type": "stream",
     "text": [
      "Baba Yaga\n"
     ]
    }
   ],
   "source": [
    "print(person1.name)"
   ]
  },
  {
   "cell_type": "code",
   "execution_count": 10,
   "id": "06caeb66-dfaf-415d-b76f-ff24c77a94de",
   "metadata": {},
   "outputs": [],
   "source": [
    "person2 = Person(\"Candy Cane\")"
   ]
  },
  {
   "cell_type": "code",
   "execution_count": 11,
   "id": "b4fc9745-daaf-4608-82df-253759613388",
   "metadata": {},
   "outputs": [
    {
     "name": "stdout",
     "output_type": "stream",
     "text": [
      "Name Updated to Blind Cane.\n"
     ]
    }
   ],
   "source": [
    "person2.update_name(\"Blind Cane\")"
   ]
  },
  {
   "cell_type": "code",
   "execution_count": 12,
   "id": "f49c927f-5df9-499c-8e78-84565643a745",
   "metadata": {},
   "outputs": [
    {
     "name": "stdout",
     "output_type": "stream",
     "text": [
      "Blind Cane\n"
     ]
    }
   ],
   "source": [
    "print(person2.name)"
   ]
  },
  {
   "cell_type": "code",
   "execution_count": 13,
   "id": "860fb3aa-0197-489d-9132-b3c5334ab052",
   "metadata": {},
   "outputs": [
    {
     "data": {
      "text/plain": [
       "'Paudel,Laxman'"
      ]
     },
     "execution_count": 13,
     "metadata": {},
     "output_type": "execute_result"
    }
   ],
   "source": [
    "person1.create_fullname(\"Laxman\",\"Paudel\")"
   ]
  },
  {
   "cell_type": "code",
   "execution_count": 14,
   "id": "0f98da47-067f-42b1-a0a6-2b64aa661fb2",
   "metadata": {},
   "outputs": [
    {
     "data": {
      "text/plain": [
       "2"
      ]
     },
     "execution_count": 14,
     "metadata": {},
     "output_type": "execute_result"
    }
   ],
   "source": [
    "person1.get_count()"
   ]
  },
  {
   "cell_type": "markdown",
   "id": "d9711466-8974-4a82-b728-db577d993abb",
   "metadata": {},
   "source": [
    "Library class\n",
    "method: can_burrow(book_name)\n",
    " \n",
    "data : \n",
    "books = [\n",
    "            (\"The Alchemist\", 25),\n",
    "            (\"The Da Vinci Code\", 30),\n",
    "            (\"A Brief History of Time\", 15),\n",
    "            (\"Angels & Demons\", 0),\n",
    "            (\"The Grand Design\", 0),\n",
    "            (\"1984\", 19)      ] \n",
    "\n",
    " "
   ]
  },
  {
   "cell_type": "code",
   "execution_count": 21,
   "id": "eb41a4e6-13e0-4378-84b4-1d09d273e54a",
   "metadata": {},
   "outputs": [],
   "source": [
    "class Books:\n",
    "    def __init__(self):\n",
    "         self.book_name = [\n",
    "            (\"The Alchemist\", 25),\n",
    "            (\"The Da Vinci Code\", 30),\n",
    "            (\"A Brief History of Time\", 15),\n",
    "            (\"Angels & Demons\", 0),\n",
    "            (\"The Grand Design\", 0),\n",
    "            (\"1984\", 19)      ] \n",
    "\n",
    "    def can_borrow(self,book_name):\n",
    "        for a,b in self.book_name:\n",
    "            if (book_name==a):\n",
    "                if (b>0):\n",
    "                    print (\"You can burrow the book.\")\n",
    "            else:\n",
    "                 print (\"You can't burrow the book.\")"
   ]
  },
  {
   "cell_type": "code",
   "execution_count": 22,
   "id": "8cc5068c-740d-4275-a74d-95aa443647a3",
   "metadata": {},
   "outputs": [],
   "source": [
    "book1=Books()"
   ]
  },
  {
   "cell_type": "code",
   "execution_count": 23,
   "id": "6949e789-aa1a-484a-9d06-f44ec9c03d63",
   "metadata": {},
   "outputs": [
    {
     "name": "stdout",
     "output_type": "stream",
     "text": [
      "You can't burrow the book.\n",
      "You can't burrow the book.\n",
      "You can't burrow the book.\n",
      "You can't burrow the book.\n",
      "You can't burrow the book.\n",
      "You can burrow the book.\n"
     ]
    }
   ],
   "source": [
    "book1.can_borrow(\"1984\")"
   ]
  },
  {
   "cell_type": "code",
   "execution_count": null,
   "id": "ebfb9930-0a4f-4f0b-8a85-115ee2dae989",
   "metadata": {},
   "outputs": [],
   "source": [
    "\n",
    "\n"
   ]
  },
  {
   "cell_type": "code",
   "execution_count": null,
   "id": "087a9345-e6fb-4358-b4ed-d94d04bd132d",
   "metadata": {},
   "outputs": [],
   "source": []
  },
  {
   "cell_type": "code",
   "execution_count": 58,
   "id": "5d0c7f3f-dd7a-491d-bda2-fe0f97854a9d",
   "metadata": {},
   "outputs": [],
   "source": [
    "class Library:\n",
    "    def __init__(self):\n",
    "        self.books = [\n",
    "            (\"The Alchemist\", 25),\n",
    "            (\"The Da Vinci Code\", 30),\n",
    "            (\"A Brief History of Time\", 15),\n",
    "            (\"Angels & Demons\", 0),\n",
    "            (\"The Grand Design\", 0),\n",
    "            (\"1984\", 19)      \n",
    "        ] \n",
    "        \n",
    "    def can_borrow(self,bookname):\n",
    "        status = [name for name,quantity in self.books if (name == bookname) & (quantity>0) ]\n",
    "        return \"Can Burrow.\" if status else \"Cannot Burrow.\""
   ]
  },
  {
   "cell_type": "code",
   "execution_count": 59,
   "id": "2288cff7-81cc-4285-8ff6-7415e4da7372",
   "metadata": {},
   "outputs": [],
   "source": [
    "student1=Library()"
   ]
  },
  {
   "cell_type": "code",
   "execution_count": 60,
   "id": "f3a17ff3-abdb-4b81-bc6a-da257c44f736",
   "metadata": {},
   "outputs": [
    {
     "data": {
      "text/plain": [
       "'Can Burrow.'"
      ]
     },
     "execution_count": 60,
     "metadata": {},
     "output_type": "execute_result"
    }
   ],
   "source": [
    "student1.can_borrow(\"1984\")"
   ]
  },
  {
   "cell_type": "code",
   "execution_count": null,
   "id": "05854302-0597-48c2-9af4-3d4f9f75b524",
   "metadata": {},
   "outputs": [],
   "source": []
  }
 ],
 "metadata": {
  "kernelspec": {
   "display_name": "Python 3 (ipykernel)",
   "language": "python",
   "name": "python3"
  },
  "language_info": {
   "codemirror_mode": {
    "name": "ipython",
    "version": 3
   },
   "file_extension": ".py",
   "mimetype": "text/x-python",
   "name": "python",
   "nbconvert_exporter": "python",
   "pygments_lexer": "ipython3",
   "version": "3.13.1"
  }
 },
 "nbformat": 4,
 "nbformat_minor": 5
}
