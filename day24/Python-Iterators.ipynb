{
 "cells": [
  {
   "cell_type": "markdown",
   "id": "72162299-f681-4448-9c9b-bb732890468f",
   "metadata": {},
   "source": [
    "**Python Iterators**\n",
    "--\n",
    "\n",
    "Iterators are such objects which can be iterated(looped) upon.   \n",
    "```python\n",
    "__iter__\n",
    "__next__"
   ]
  },
  {
   "cell_type": "code",
   "execution_count": 1,
   "id": "46571d42-d0e5-476e-8ac6-06cf04995434",
   "metadata": {},
   "outputs": [],
   "source": [
    "class Fibionacci:\n",
    "    def __init__(self,limit):\n",
    "        self.limit = limit\n",
    "\n",
    "        self.current = 0\n",
    "        self.next = 1\n",
    "        self.step = 0\n",
    "\n",
    "    def __iter__(self):\n",
    "        return self\n",
    "\n",
    "    def __next__(self):\n",
    "        if self.current >= self.limit:\n",
    "            raise StopIteration\n",
    "        \n",
    "\n",
    "        result = self.current\n",
    "        self.current,self.next = self.next,self.current + self.next\n",
    "        self.step +=1\n",
    "\n",
    "        return result\n",
    "        "
   ]
  },
  {
   "cell_type": "code",
   "execution_count": 2,
   "id": "6ea662d6-9229-412c-88b3-4fbd9b2ab684",
   "metadata": {},
   "outputs": [],
   "source": [
    "fib = Fibionacci(1)"
   ]
  },
  {
   "cell_type": "code",
   "execution_count": 3,
   "id": "f911b9f8-0d9a-45ac-8955-8518847ed426",
   "metadata": {},
   "outputs": [
    {
     "name": "stdout",
     "output_type": "stream",
     "text": [
      "0\n"
     ]
    }
   ],
   "source": [
    "for num in fib:\n",
    "    print(num)\n",
    "    "
   ]
  },
  {
   "cell_type": "markdown",
   "id": "207a73dd-0c8c-462f-a747-63bdd9904353",
   "metadata": {},
   "source": [
    "**Generator**\n",
    "-\n",
    "Type of iterator that generates value on-the-fly as they are requested.\n"
   ]
  },
  {
   "cell_type": "code",
   "execution_count": 4,
   "id": "f35d3b5d-a5d7-4137-b3f6-d09ad38e659d",
   "metadata": {},
   "outputs": [],
   "source": [
    "def number_generator(start , end):\n",
    "    for num in range(start,end+1):\n",
    "        yield num"
   ]
  },
  {
   "cell_type": "code",
   "execution_count": 5,
   "id": "8a458aad-04fc-40d4-91f5-e9da3eaea8dd",
   "metadata": {},
   "outputs": [],
   "source": [
    "gen = number_generator(5,8)"
   ]
  },
  {
   "cell_type": "code",
   "execution_count": 6,
   "id": "57286ce1-22dc-4fcd-bb0e-2ba39566bf4e",
   "metadata": {},
   "outputs": [
    {
     "data": {
      "text/plain": [
       "<generator object number_generator at 0x000001CE336C3D80>"
      ]
     },
     "execution_count": 6,
     "metadata": {},
     "output_type": "execute_result"
    }
   ],
   "source": [
    "gen"
   ]
  },
  {
   "cell_type": "code",
   "execution_count": 7,
   "id": "60b9d06a-5417-4ce0-a7fd-bbb3bf821a97",
   "metadata": {},
   "outputs": [
    {
     "name": "stdout",
     "output_type": "stream",
     "text": [
      "5\n"
     ]
    }
   ],
   "source": [
    "print(next(gen)) #next is used to access the result. --->generates and return but it does not store in memory\n"
   ]
  },
  {
   "cell_type": "code",
   "execution_count": 8,
   "id": "d96f892a-677e-43d3-9779-1c88c2d6e158",
   "metadata": {},
   "outputs": [
    {
     "name": "stdout",
     "output_type": "stream",
     "text": [
      "1\n",
      "2\n",
      "3\n",
      "4\n",
      "5\n",
      "6\n"
     ]
    }
   ],
   "source": [
    "mygen = number_generator(1,6)\n",
    "for num in mygen:\n",
    "    print(num)"
   ]
  },
  {
   "cell_type": "code",
   "execution_count": 9,
   "id": "d4368a19-d70e-4b3f-bec1-b3c0f5bb045d",
   "metadata": {},
   "outputs": [],
   "source": [
    "for num in mygen: #doesnot work because it has already ran once and is not stored in memory\n",
    "    print(num)"
   ]
  },
  {
   "cell_type": "markdown",
   "id": "b8f6e31c-ef16-451f-af20-d28c3e3f10d9",
   "metadata": {},
   "source": [
    "**Generator, Alternative**\n",
    "-"
   ]
  },
  {
   "cell_type": "code",
   "execution_count": 10,
   "id": "9c4c6803-1133-4a90-a336-2c31eb521cf6",
   "metadata": {},
   "outputs": [],
   "source": [
    "gen = (i for i in range (1,6)) #generator can also be created by using small bracket and comprehension"
   ]
  },
  {
   "cell_type": "code",
   "execution_count": 11,
   "id": "6331f79d-9800-4f1b-939e-8b5292b33eeb",
   "metadata": {},
   "outputs": [
    {
     "data": {
      "text/plain": [
       "<generator object <genexpr> at 0x000001CE3351B400>"
      ]
     },
     "execution_count": 11,
     "metadata": {},
     "output_type": "execute_result"
    }
   ],
   "source": [
    "gen"
   ]
  },
  {
   "cell_type": "markdown",
   "id": "014316ce-ebda-405d-8551-6771cfe56a14",
   "metadata": {},
   "source": [
    "Prepare a generator that generate prime numbers.\n",
    "-"
   ]
  },
  {
   "cell_type": "code",
   "execution_count": 12,
   "id": "89a011f4-badf-4a2a-99a6-26ecdc4c2af2",
   "metadata": {},
   "outputs": [],
   "source": [
    "def is_prime(n):\n",
    "    if n <= 1:\n",
    "        return False\n",
    "    for i in range(2, int(n**0.5) + 1):\n",
    "        if n % i == 0:\n",
    "            return False\n",
    "    return True\n",
    "\n",
    "def prime_generator():\n",
    "    n =2\n",
    "    while True:\n",
    "        if is_prime(n):\n",
    "            yield n\n",
    "            \n",
    "        n+=1 "
   ]
  },
  {
   "cell_type": "code",
   "execution_count": 13,
   "id": "400c688a-88c3-47d4-bd6d-d658168b0c48",
   "metadata": {},
   "outputs": [
    {
     "name": "stdout",
     "output_type": "stream",
     "text": [
      "2,3,5,7,11,13,17,19,23,29,"
     ]
    }
   ],
   "source": [
    "prime_gen = prime_generator()\n",
    "for _ in range(10):\n",
    "    print(next(prime_gen),end =\",\")"
   ]
  },
  {
   "cell_type": "code",
   "execution_count": null,
   "id": "817ddb94-f8a6-417f-96d9-db718dccd326",
   "metadata": {},
   "outputs": [],
   "source": []
  },
  {
   "cell_type": "code",
   "execution_count": null,
   "id": "8dc715d3-0b2f-488d-a8ba-c5d4859b7f44",
   "metadata": {},
   "outputs": [],
   "source": []
  },
  {
   "cell_type": "code",
   "execution_count": null,
   "id": "e8c3b9f9-cb14-4274-9684-fc93b0cb75c7",
   "metadata": {},
   "outputs": [],
   "source": []
  }
 ],
 "metadata": {
  "kernelspec": {
   "display_name": "Python 3 (ipykernel)",
   "language": "python",
   "name": "python3"
  },
  "language_info": {
   "codemirror_mode": {
    "name": "ipython",
    "version": 3
   },
   "file_extension": ".py",
   "mimetype": "text/x-python",
   "name": "python",
   "nbconvert_exporter": "python",
   "pygments_lexer": "ipython3",
   "version": "3.13.1"
  }
 },
 "nbformat": 4,
 "nbformat_minor": 5
}
