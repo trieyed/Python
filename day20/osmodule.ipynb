{
 "cells": [
  {
   "cell_type": "markdown",
   "id": "bcc06ce9-6c15-461c-b060-53b166ecc890",
   "metadata": {},
   "source": [
    "**OS MODULE**\n",
    "--\n",
    "Communicate directly with the OS. Can be used to create file, get current directory and more...  \n",
    "```\n",
    ">os.getcwd()  \n",
    ">os.mkdir('path')  \n",
    ">os.chdir('path)"
   ]
  },
  {
   "cell_type": "code",
   "execution_count": 1,
   "id": "4e7e3700-f2be-4ac8-af09-47d976b57906",
   "metadata": {},
   "outputs": [],
   "source": [
    "import os"
   ]
  },
  {
   "cell_type": "code",
   "execution_count": 3,
   "id": "f3f40b80-68c5-426f-86a2-5a50afdaa8af",
   "metadata": {},
   "outputs": [
    {
     "name": "stdout",
     "output_type": "stream",
     "text": [
      "C:\\Users\\user\\Desktop\\Python\\day20\n"
     ]
    }
   ],
   "source": [
    "print(os.getcwd())"
   ]
  },
  {
   "cell_type": "code",
   "execution_count": 11,
   "id": "bd063f8c-488b-4907-8ae4-68251d6bba0d",
   "metadata": {},
   "outputs": [
    {
     "data": {
      "text/plain": [
       "True"
      ]
     },
     "execution_count": 11,
     "metadata": {},
     "output_type": "execute_result"
    }
   ],
   "source": [
    "os.path.exists(r\"C:\\Users\\user\\Desktop\\Python\\day20\")"
   ]
  },
  {
   "cell_type": "code",
   "execution_count": 22,
   "id": "9c51f963-e1f7-4010-9896-a95be7d9bfd9",
   "metadata": {},
   "outputs": [],
   "source": [
    "if not os.path.exists(\"test1\"):\n",
    "    os.mkdir(\"test1\")  #creates a folder test1\n",
    "    print(\"dir created\")"
   ]
  },
  {
   "cell_type": "code",
   "execution_count": 26,
   "id": "1bd2fae5-77ed-4d07-b80f-6837b542bd38",
   "metadata": {},
   "outputs": [
    {
     "data": {
      "text/plain": [
       "True"
      ]
     },
     "execution_count": 26,
     "metadata": {},
     "output_type": "execute_result"
    }
   ],
   "source": [
    "os.path.exists(r\"C:\\Users\\user\\Desktop\\Python\\day20\\test1\")"
   ]
  },
  {
   "cell_type": "code",
   "execution_count": 27,
   "id": "0c26e971-371d-4380-a5cb-6f8729c20d4a",
   "metadata": {},
   "outputs": [
    {
     "ename": "FileExistsError",
     "evalue": "[WinError 183] Cannot create a file when that file already exists: 'test'",
     "output_type": "error",
     "traceback": [
      "\u001b[1;31m---------------------------------------------------------------------------\u001b[0m",
      "\u001b[1;31mFileExistsError\u001b[0m                           Traceback (most recent call last)",
      "Cell \u001b[1;32mIn[27], line 1\u001b[0m\n\u001b[1;32m----> 1\u001b[0m \u001b[43mos\u001b[49m\u001b[38;5;241;43m.\u001b[39;49m\u001b[43mmakedirs\u001b[49m\u001b[43m(\u001b[49m\u001b[38;5;124;43m\"\u001b[39;49m\u001b[38;5;124;43mtest\u001b[39;49m\u001b[38;5;124;43m\"\u001b[39;49m\u001b[43m,\u001b[49m\u001b[43mexist_ok\u001b[49m\u001b[43m \u001b[49m\u001b[38;5;241;43m=\u001b[39;49m\u001b[43m \u001b[49m\u001b[38;5;28;43;01mFalse\u001b[39;49;00m\u001b[43m)\u001b[49m  \u001b[38;5;66;03m#Throws error if the file test already exists\u001b[39;00m\n",
      "File \u001b[1;32m<frozen os>:227\u001b[0m, in \u001b[0;36mmakedirs\u001b[1;34m(name, mode, exist_ok)\u001b[0m\n",
      "\u001b[1;31mFileExistsError\u001b[0m: [WinError 183] Cannot create a file when that file already exists: 'test'"
     ]
    }
   ],
   "source": [
    "os.makedirs(\"test\",exist_ok = False)  #Throws error if the file test already exists"
   ]
  },
  {
   "cell_type": "code",
   "execution_count": 29,
   "id": "2525fca0-ffcd-4bad-9b4a-1776c86719db",
   "metadata": {},
   "outputs": [],
   "source": [
    "os.makedirs(\"test\",exist_ok = True)  #Does not throw error if the file test already exists"
   ]
  },
  {
   "cell_type": "code",
   "execution_count": 33,
   "id": "b44db73a-fb23-40ae-ba99-cc5ac98917c6",
   "metadata": {},
   "outputs": [],
   "source": [
    "os.makedirs(\"test3\",exist_ok = True) #creates a file test 3 and if executed again does not throw error as exist_ok = True"
   ]
  },
  {
   "cell_type": "code",
   "execution_count": 35,
   "id": "a7c5d420-1316-4773-863f-fd6f426ee0a7",
   "metadata": {},
   "outputs": [
    {
     "data": {
      "text/plain": [
       "['.ipynb_checkpoints',\n",
       " 'dateandtimemodule.ipynb',\n",
       " 'osmodule.ipynb',\n",
       " 'test',\n",
       " 'test1',\n",
       " 'test3']"
      ]
     },
     "execution_count": 35,
     "metadata": {},
     "output_type": "execute_result"
    }
   ],
   "source": [
    "os.listdir() # Lists out current directory and files and folder present in it."
   ]
  },
  {
   "cell_type": "code",
   "execution_count": 37,
   "id": "031bf004-d3a8-4fca-821f-a5ea8950ec2a",
   "metadata": {},
   "outputs": [
    {
     "data": {
      "text/plain": [
       "['.ipynb_checkpoints',\n",
       " 'dateandtimemodule.ipynb',\n",
       " 'osmodule.ipynb',\n",
       " 'test',\n",
       " 'test1',\n",
       " 'test3']"
      ]
     },
     "execution_count": 37,
     "metadata": {},
     "output_type": "execute_result"
    }
   ],
   "source": [
    "os.listdir(\".\") #works the same way as os.listdir()"
   ]
  },
  {
   "cell_type": "code",
   "execution_count": 41,
   "id": "4e8b989f-b3e4-488e-a5f6-5b0ca28c5073",
   "metadata": {},
   "outputs": [
    {
     "data": {
      "text/plain": [
       "['.ipynb_checkpoints',\n",
       " 'Assignment-01-roll-08.ipynb',\n",
       " 'Assignment-02-Jan24.ipynb',\n",
       " 'greetings.txt']"
      ]
     },
     "execution_count": 41,
     "metadata": {},
     "output_type": "execute_result"
    }
   ],
   "source": [
    "os.listdir(r\"C:\\Users\\user\\Desktop\\Python\\Assignment\")"
   ]
  },
  {
   "cell_type": "code",
   "execution_count": 45,
   "id": "7363df44-b37a-4dae-9032-59f6e95c2f17",
   "metadata": {},
   "outputs": [],
   "source": [
    "os.rmdir(\"test1\") #removes the folder test1"
   ]
  },
  {
   "cell_type": "code",
   "execution_count": 46,
   "id": "af6603b3-51f6-4114-b829-d994aa2aae56",
   "metadata": {},
   "outputs": [
    {
     "data": {
      "text/plain": [
       "'C:\\\\Users\\\\user\\\\Desktop\\\\Python\\\\day20'"
      ]
     },
     "execution_count": 46,
     "metadata": {},
     "output_type": "execute_result"
    }
   ],
   "source": [
    "os.getcwd()"
   ]
  },
  {
   "cell_type": "code",
   "execution_count": 49,
   "id": "5407cc3f-a1ad-4da9-beff-da3b33b215f0",
   "metadata": {},
   "outputs": [],
   "source": [
    "os.chdir(r\"C:\\Users\\user\\Desktop\\Python\\day19\") #changes the working directory to specified directory"
   ]
  },
  {
   "cell_type": "code",
   "execution_count": 50,
   "id": "ebcc8d1e-3de0-4e47-a3b6-063f51e49812",
   "metadata": {},
   "outputs": [
    {
     "data": {
      "text/plain": [
       "'C:\\\\Users\\\\user\\\\Desktop\\\\Python\\\\day19'"
      ]
     },
     "execution_count": 50,
     "metadata": {},
     "output_type": "execute_result"
    }
   ],
   "source": [
    "os.getcwd()"
   ]
  },
  {
   "cell_type": "code",
   "execution_count": 51,
   "id": "720fc676-5885-40a4-84d7-7895d8f48b36",
   "metadata": {},
   "outputs": [],
   "source": [
    "os.chdir(r\"C:\\Users\\user\\Desktop\\Python\\day20\")"
   ]
  },
  {
   "cell_type": "code",
   "execution_count": 56,
   "id": "764df0ac-6974-4be7-be1c-9172c0f57062",
   "metadata": {},
   "outputs": [
    {
     "data": {
      "text/plain": [
       "'C:\\\\Users\\\\user\\\\Desktop\\\\Python\\\\day20'"
      ]
     },
     "execution_count": 56,
     "metadata": {},
     "output_type": "execute_result"
    }
   ],
   "source": [
    "os.getcwd()"
   ]
  },
  {
   "cell_type": "code",
   "execution_count": 57,
   "id": "6991002f-f40c-4c90-8a01-16b56caf1b37",
   "metadata": {},
   "outputs": [
    {
     "data": {
      "text/plain": [
       "['.git',\n",
       " '.gitignore',\n",
       " '.ipynb_checkpoints',\n",
       " 'Assignment',\n",
       " 'Day1',\n",
       " 'day10',\n",
       " 'day11',\n",
       " 'day12',\n",
       " 'day13',\n",
       " 'day14',\n",
       " 'day15',\n",
       " 'day16',\n",
       " 'day17',\n",
       " 'day18',\n",
       " 'day19',\n",
       " 'Day2',\n",
       " 'day20',\n",
       " 'Day3',\n",
       " 'day4',\n",
       " 'day5',\n",
       " 'day6',\n",
       " 'day7',\n",
       " 'day8',\n",
       " 'day9',\n",
       " 'myenv',\n",
       " 'README.md']"
      ]
     },
     "execution_count": 57,
     "metadata": {},
     "output_type": "execute_result"
    }
   ],
   "source": [
    "os.listdir(\"..\") #.. takes you one directory backward."
   ]
  },
  {
   "cell_type": "code",
   "execution_count": 60,
   "id": "60ccd47a-a8f0-4a58-8120-75cc2eee9afb",
   "metadata": {},
   "outputs": [
    {
     "ename": "FileNotFoundError",
     "evalue": "[WinError 2] The system cannot find the file specified: 'test3'",
     "output_type": "error",
     "traceback": [
      "\u001b[1;31m---------------------------------------------------------------------------\u001b[0m",
      "\u001b[1;31mFileNotFoundError\u001b[0m                         Traceback (most recent call last)",
      "Cell \u001b[1;32mIn[60], line 1\u001b[0m\n\u001b[1;32m----> 1\u001b[0m \u001b[43mos\u001b[49m\u001b[38;5;241;43m.\u001b[39;49m\u001b[43mrmdir\u001b[49m\u001b[43m(\u001b[49m\u001b[38;5;124;43m'\u001b[39;49m\u001b[38;5;124;43mtest3\u001b[39;49m\u001b[38;5;124;43m'\u001b[39;49m\u001b[43m)\u001b[49m\n",
      "\u001b[1;31mFileNotFoundError\u001b[0m: [WinError 2] The system cannot find the file specified: 'test3'"
     ]
    }
   ],
   "source": [
    "os.rmdir('test3')"
   ]
  },
  {
   "cell_type": "code",
   "execution_count": null,
   "id": "ba041475-44ee-472c-aef3-8a7f8577497a",
   "metadata": {},
   "outputs": [],
   "source": []
  }
 ],
 "metadata": {
  "kernelspec": {
   "display_name": "Python 3 (ipykernel)",
   "language": "python",
   "name": "python3"
  },
  "language_info": {
   "codemirror_mode": {
    "name": "ipython",
    "version": 3
   },
   "file_extension": ".py",
   "mimetype": "text/x-python",
   "name": "python",
   "nbconvert_exporter": "python",
   "pygments_lexer": "ipython3",
   "version": "3.13.1"
  }
 },
 "nbformat": 4,
 "nbformat_minor": 5
}
