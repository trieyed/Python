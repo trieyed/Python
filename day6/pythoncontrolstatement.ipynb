{
 "cells": [
  {
   "cell_type": "markdown",
   "id": "d4868060-5f08-441a-b06d-7d7f3fc7712d",
   "metadata": {},
   "source": [
    "**Control Statement**\n",
    ">Conditional Statements\n",
    "> if"
   ]
  },
  {
   "cell_type": "markdown",
   "id": "776350d7-f4cc-4b90-ae1a-f2a7ac81bdd5",
   "metadata": {},
   "source": [
    "**Syntax**\n",
    "```python\n",
    "if condition:\n",
    "    do something\n",
    "\n",
    "-->Condition is any expression that returns the boolean value. i.e. True or False.\n"
   ]
  },
  {
   "cell_type": "code",
   "execution_count": 7,
   "id": "1f0c8fc4-84a0-4d66-b400-3df043f8156c",
   "metadata": {},
   "outputs": [
    {
     "name": "stdout",
     "output_type": "stream",
     "text": [
      "x is greater than 0. The value is:45\n",
      "Not the codeblock of if statement\n"
     ]
    }
   ],
   "source": [
    "x = 45\n",
    "if x > 0:\n",
    "    print(f\"x is greater than 0. The value is:{x}\") #codeblock of if--> determined by the tabspace present before this codeblock.\n",
    "print(\"Not the codeblock of if statement\")"
   ]
  },
  {
   "cell_type": "code",
   "execution_count": 14,
   "id": "587473eb-b0ce-429c-8b55-dd3bca5e3459",
   "metadata": {},
   "outputs": [
    {
     "name": "stdout",
     "output_type": "stream",
     "text": [
      "Smaller than or equal to 100.\n"
     ]
    }
   ],
   "source": [
    "if x > 100 :\n",
    "    print(\"Greater than 100.\")\n",
    "print(\"Smaller than or equal to 100.\")\n",
    "     "
   ]
  },
  {
   "cell_type": "code",
   "execution_count": 17,
   "id": "d6d07068-fc80-45e1-bce0-b947e2109f8c",
   "metadata": {},
   "outputs": [
    {
     "name": "stdout",
     "output_type": "stream",
     "text": [
      " 25 is greater than 0 and 30 is greater than 10.\n"
     ]
    }
   ],
   "source": [
    "a = 25\n",
    "b = 30\n",
    "if a > 0 and b > 10 :\n",
    "    print(f\" {a} is greater than 0 and {b} is greater than 10.\")"
   ]
  },
  {
   "cell_type": "code",
   "execution_count": 19,
   "id": "4a31ea1c-0e61-438b-a853-bb21685212a7",
   "metadata": {},
   "outputs": [
    {
     "name": "stdout",
     "output_type": "stream",
     "text": [
      "25 is not equal to 26.\n"
     ]
    }
   ],
   "source": [
    "if a!=26:\n",
    "    print(f\"{a} is not equal to 26.\")"
   ]
  },
  {
   "cell_type": "markdown",
   "id": "7ed05ee9-dde6-4135-95f4-a7572c988298",
   "metadata": {},
   "source": [
    "**if else**\n",
    "-----"
   ]
  },
  {
   "cell_type": "code",
   "execution_count": 25,
   "id": "655ce7ea-8b87-41f8-8b52-feba7afc9597",
   "metadata": {},
   "outputs": [
    {
     "name": "stdout",
     "output_type": "stream",
     "text": [
      "999 is odd.\n"
     ]
    }
   ],
   "source": [
    "m = 999\n",
    "\n",
    "if m%2 == 0:\n",
    "    print(f\"{m} is even.\")\n",
    "else:\n",
    "    print(f\"{m} is odd.\")"
   ]
  },
  {
   "cell_type": "code",
   "execution_count": 27,
   "id": "5511e0e1-2510-4501-81ce-d0be84224de7",
   "metadata": {},
   "outputs": [
    {
     "name": "stdout",
     "output_type": "stream",
     "text": [
      "222 is positive.\n"
     ]
    }
   ],
   "source": [
    "n = 222\n",
    "\n",
    "if n>0:\n",
    "    print(f\"{n} is positive.\")\n",
    "else:\n",
    "    print(f\"{n} is odd.\")"
   ]
  },
  {
   "cell_type": "markdown",
   "id": "8acb6a2a-649c-453d-a612-72d3d5e502f8",
   "metadata": {},
   "source": [
    "**elif**\n",
    "---\n",
    "\n",
    "elif is used to add multiple conditions as much as needed.\n",
    "\n",
    "Syntax:\n",
    "---\n",
    "if :cond1\n",
    "    statement\n",
    "\n",
    "elif :cond n\n",
    "    statement n\n",
    "\n",
    "else:\n",
    "   statement\n",
    "    "
   ]
  },
  {
   "cell_type": "code",
   "execution_count": 30,
   "id": "4edb73ba-d86c-4fbd-8798-991a5bd190eb",
   "metadata": {},
   "outputs": [
    {
     "name": "stdout",
     "output_type": "stream",
     "text": [
      "0 is odd.\n"
     ]
    }
   ],
   "source": [
    "n = 0\n",
    "\n",
    "if n>0:\n",
    "    print(f\"{n} is positive.\")\n",
    "elif x == 0:\n",
    "    print(f\"{n} equals to 0.\")\n",
    "else:\n",
    "    print(f\"{n} is odd.\")"
   ]
  },
  {
   "cell_type": "code",
   "execution_count": 46,
   "id": "116137fb-4635-47df-800e-b8442a32bc14",
   "metadata": {},
   "outputs": [
    {
     "name": "stdin",
     "output_type": "stream",
     "text": [
      "Enter your marks: 99\n"
     ]
    },
    {
     "name": "stdout",
     "output_type": "stream",
     "text": [
      "Grade A\n"
     ]
    }
   ],
   "source": [
    "#WAP to grade a number (100-80) Grade A, (80-60) Grade B , (60-40) Grade C and less than 40 Grade D. [if and elif control statement]\n",
    "\n",
    "p = int(input(\"Enter your marks:\"))\n",
    "\n",
    "if p >= 80 and p <= 100 :\n",
    "    print(\"Grade A\")\n",
    "\n",
    "elif p >= 60 and p < 80 :\n",
    "    print(\"Grade B\")\n",
    "\n",
    "elif p >= 40 and p <60 :\n",
    "    print(\"Grade C\")\n",
    "\n",
    "else :\n",
    "    print(\"Grade D\")"
   ]
  },
  {
   "cell_type": "markdown",
   "id": "28ce54e7-e449-4abc-aa3f-19cc5e3e814b",
   "metadata": {},
   "source": [
    "**Taking input from the user:**\n",
    "---\n",
    "`variable_name = data_type ( input ( \"Strings to print to take input\" ) )`\n",
    "\n",
    "---\n",
    "->If data type not defined with the input function, it is always taken as a string data type."
   ]
  },
  {
   "cell_type": "code",
   "execution_count": 47,
   "id": "46f83e02-dcac-4f61-9b1a-865db4492c7a",
   "metadata": {},
   "outputs": [
    {
     "name": "stdin",
     "output_type": "stream",
     "text": [
      "Enter your name: Laxman\n"
     ]
    }
   ],
   "source": [
    "name = str ( input ( \"Enter your name:\" ) )\n"
   ]
  },
  {
   "cell_type": "code",
   "execution_count": 48,
   "id": "ddac5cd1-f365-44a3-a028-19adc86cf784",
   "metadata": {},
   "outputs": [
    {
     "name": "stdout",
     "output_type": "stream",
     "text": [
      "Laxman\n"
     ]
    }
   ],
   "source": [
    "print (name)"
   ]
  },
  {
   "cell_type": "code",
   "execution_count": 50,
   "id": "88c62f62-1c0d-4d2e-af65-9f60c77fe6ef",
   "metadata": {},
   "outputs": [
    {
     "data": {
      "text/plain": [
       "str"
      ]
     },
     "execution_count": 50,
     "metadata": {},
     "output_type": "execute_result"
    }
   ],
   "source": [
    "type (name)"
   ]
  },
  {
   "cell_type": "code",
   "execution_count": 55,
   "id": "15c1cfc8-6b21-46d4-ac67-a1265099a9ab",
   "metadata": {},
   "outputs": [
    {
     "name": "stdin",
     "output_type": "stream",
     "text": [
      "Enter a number: 69\n"
     ]
    }
   ],
   "source": [
    "number =  input ( \"Enter a number:\" )"
   ]
  },
  {
   "cell_type": "code",
   "execution_count": 56,
   "id": "809f8118-a71c-4ecc-8221-485d0dd1edea",
   "metadata": {},
   "outputs": [
    {
     "name": "stdout",
     "output_type": "stream",
     "text": [
      "69\n"
     ]
    }
   ],
   "source": [
    "print(number)"
   ]
  },
  {
   "cell_type": "code",
   "execution_count": 57,
   "id": "b80ea2df-90a2-480c-ae90-0ea2fe9b024d",
   "metadata": {},
   "outputs": [
    {
     "data": {
      "text/plain": [
       "str"
      ]
     },
     "execution_count": 57,
     "metadata": {},
     "output_type": "execute_result"
    }
   ],
   "source": [
    "type(number)"
   ]
  },
  {
   "cell_type": "code",
   "execution_count": 58,
   "id": "844d086b-f704-4bd5-9c9f-a144ac7afb33",
   "metadata": {},
   "outputs": [],
   "source": [
    "num1 = int(number)"
   ]
  },
  {
   "cell_type": "code",
   "execution_count": 60,
   "id": "a701ee89-9bc3-4740-a3a0-4565e0a9b8fc",
   "metadata": {},
   "outputs": [
    {
     "name": "stdout",
     "output_type": "stream",
     "text": [
      "69\n"
     ]
    }
   ],
   "source": [
    "print (num1)\n"
   ]
  },
  {
   "cell_type": "code",
   "execution_count": 61,
   "id": "0ce12df3-09fc-471d-804f-95bb5a7fb747",
   "metadata": {},
   "outputs": [
    {
     "data": {
      "text/plain": [
       "int"
      ]
     },
     "execution_count": 61,
     "metadata": {},
     "output_type": "execute_result"
    }
   ],
   "source": [
    "type(num1)"
   ]
  },
  {
   "cell_type": "code",
   "execution_count": null,
   "id": "c40c4431-6fb3-4ebf-8d02-fd2db045afb3",
   "metadata": {},
   "outputs": [],
   "source": []
  }
 ],
 "metadata": {
  "kernelspec": {
   "display_name": "Python 3 (ipykernel)",
   "language": "python",
   "name": "python3"
  },
  "language_info": {
   "codemirror_mode": {
    "name": "ipython",
    "version": 3
   },
   "file_extension": ".py",
   "mimetype": "text/x-python",
   "name": "python",
   "nbconvert_exporter": "python",
   "pygments_lexer": "ipython3",
   "version": "3.13.1"
  }
 },
 "nbformat": 4,
 "nbformat_minor": 5
}
