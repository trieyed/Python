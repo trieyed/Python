{
 "cells": [
  {
   "cell_type": "markdown",
   "id": "9ebcdf04-030e-48b3-b529-1ea8c3a0e62c",
   "metadata": {},
   "source": [
    "**Assert**\n",
    "--\n",
    "\n",
    "Debugging aid that tests a condition and triggers an error if the condition is not true.\n",
    "\n",
    "Syntax:\n",
    "```python\n",
    "assert condition, message  \n",
    "```\n",
    "\n",
    "Here the condition is the expression to be tested and message is an optional error message string to be displayed if the condition is not true."
   ]
  },
  {
   "cell_type": "code",
   "execution_count": 1,
   "id": "7844dd65-4f4b-41cb-a13f-1e4de1cccbb5",
   "metadata": {},
   "outputs": [],
   "source": [
    "def divide(x,y):\n",
    "    assert y!=0, \"Cannot divide by 0.\"\n",
    "    return x/y"
   ]
  },
  {
   "cell_type": "code",
   "execution_count": 3,
   "id": "3b67aa01-c3f3-45a9-83f4-7b4798033f7e",
   "metadata": {},
   "outputs": [
    {
     "data": {
      "text/plain": [
       "2.0"
      ]
     },
     "execution_count": 3,
     "metadata": {},
     "output_type": "execute_result"
    }
   ],
   "source": [
    "#throws no error cuz y!=0\n",
    "divide(4,2)"
   ]
  },
  {
   "cell_type": "code",
   "execution_count": 4,
   "id": "d65d10ff-6b9f-46a2-a0f6-f97cc5131727",
   "metadata": {},
   "outputs": [
    {
     "ename": "AssertionError",
     "evalue": "Cannot divide by 0.",
     "output_type": "error",
     "traceback": [
      "\u001b[1;31m---------------------------------------------------------------------------\u001b[0m",
      "\u001b[1;31mAssertionError\u001b[0m                            Traceback (most recent call last)",
      "Cell \u001b[1;32mIn[4], line 1\u001b[0m\n\u001b[1;32m----> 1\u001b[0m \u001b[43mdivide\u001b[49m\u001b[43m(\u001b[49m\u001b[38;5;241;43m4\u001b[39;49m\u001b[43m,\u001b[49m\u001b[38;5;241;43m0\u001b[39;49m\u001b[43m)\u001b[49m\n",
      "Cell \u001b[1;32mIn[1], line 2\u001b[0m, in \u001b[0;36mdivide\u001b[1;34m(x, y)\u001b[0m\n\u001b[0;32m      1\u001b[0m \u001b[38;5;28;01mdef\u001b[39;00m\u001b[38;5;250m \u001b[39m\u001b[38;5;21mdivide\u001b[39m(x,y):\n\u001b[1;32m----> 2\u001b[0m     \u001b[38;5;28;01massert\u001b[39;00m y\u001b[38;5;241m!=\u001b[39m\u001b[38;5;241m0\u001b[39m, \u001b[38;5;124m\"\u001b[39m\u001b[38;5;124mCannot divide by 0.\u001b[39m\u001b[38;5;124m\"\u001b[39m\n\u001b[0;32m      3\u001b[0m     \u001b[38;5;28;01mreturn\u001b[39;00m x\u001b[38;5;241m/\u001b[39my\n",
      "\u001b[1;31mAssertionError\u001b[0m: Cannot divide by 0."
     ]
    }
   ],
   "source": [
    "divide(4,0)"
   ]
  },
  {
   "cell_type": "code",
   "execution_count": 7,
   "id": "2bc19d19-c7cf-456f-8ec4-9048e64ec9f7",
   "metadata": {},
   "outputs": [],
   "source": [
    "#condition satisfied -->no error \n",
    "assert len([1,2,3,5])==4,\"Logic Error\""
   ]
  },
  {
   "cell_type": "code",
   "execution_count": 8,
   "id": "7048f232-f396-4645-be91-cc43dff09087",
   "metadata": {},
   "outputs": [
    {
     "ename": "AssertionError",
     "evalue": "Logic Error",
     "output_type": "error",
     "traceback": [
      "\u001b[1;31m---------------------------------------------------------------------------\u001b[0m",
      "\u001b[1;31mAssertionError\u001b[0m                            Traceback (most recent call last)",
      "Cell \u001b[1;32mIn[8], line 2\u001b[0m\n\u001b[0;32m      1\u001b[0m \u001b[38;5;66;03m#raises the logic error as given by us as condition is not satisfied\u001b[39;00m\n\u001b[1;32m----> 2\u001b[0m \u001b[38;5;28;01massert\u001b[39;00m \u001b[38;5;28mlen\u001b[39m([\u001b[38;5;241m1\u001b[39m,\u001b[38;5;241m2\u001b[39m,\u001b[38;5;241m3\u001b[39m,\u001b[38;5;241m5\u001b[39m])\u001b[38;5;241m==\u001b[39m\u001b[38;5;241m5\u001b[39m,\u001b[38;5;124m\"\u001b[39m\u001b[38;5;124mLogic Error\u001b[39m\u001b[38;5;124m\"\u001b[39m\n",
      "\u001b[1;31mAssertionError\u001b[0m: Logic Error"
     ]
    }
   ],
   "source": [
    "#raises the logic error as given by us as condition is not satisfied\n",
    "assert len([1,2,3,5])==5,\"Logic Error\""
   ]
  },
  {
   "cell_type": "markdown",
   "id": "d5b241b6-414e-4524-9070-764be6319cee",
   "metadata": {},
   "source": [
    "Exception Handling and Debugging\n",
    "  \n",
    "Write a Python program that:\n",
    "1. Takes a string input from the user and tries to convert it into an integer.\n",
    "2. Raises a **custom exception** called `InvalidInputError` if the string contains non-numeric characters.\n",
    " "
   ]
  },
  {
   "cell_type": "code",
   "execution_count": 26,
   "id": "681d7b8c-cb7e-45e0-aef4-faff04f22001",
   "metadata": {},
   "outputs": [],
   "source": [
    "class InvalidInputError(Exception):\n",
    "    def __init__(self):\n",
    "        self.message = \"Input contains non-numeric characters.\"\n",
    "        super().__init__(self.message)"
   ]
  },
  {
   "cell_type": "code",
   "execution_count": 27,
   "id": "1e341aa8-4f1e-4a2b-9774-9ad553b1af32",
   "metadata": {},
   "outputs": [
    {
     "name": "stdin",
     "output_type": "stream",
     "text": [
      "Enter a number: 5a487954\n"
     ]
    },
    {
     "ename": "InvalidInputError",
     "evalue": "Input contains non-numeric characters.",
     "output_type": "error",
     "traceback": [
      "\u001b[1;31m---------------------------------------------------------------------------\u001b[0m",
      "\u001b[1;31mInvalidInputError\u001b[0m                         Traceback (most recent call last)",
      "Cell \u001b[1;32mIn[27], line 5\u001b[0m\n\u001b[0;32m      3\u001b[0m     \u001b[38;5;28mprint\u001b[39m(\u001b[38;5;28mint\u001b[39m(user_input))\n\u001b[0;32m      4\u001b[0m \u001b[38;5;28;01melse\u001b[39;00m:\n\u001b[1;32m----> 5\u001b[0m     \u001b[38;5;28;01mraise\u001b[39;00m InvalidInputError\n",
      "\u001b[1;31mInvalidInputError\u001b[0m: Input contains non-numeric characters."
     ]
    }
   ],
   "source": [
    "user_input = input(\"Enter a number:\")\n",
    "if user_input.isnumeric():\n",
    "    print(int(user_input))\n",
    "else:\n",
    "    raise InvalidInputError(\"Non Numeric Charact"
   ]
  },
  {
   "cell_type": "code",
   "execution_count": null,
   "id": "c9c9492b-f477-423a-8e78-d9c88ac03e9e",
   "metadata": {},
   "outputs": [],
   "source": []
  },
  {
   "cell_type": "code",
   "execution_count": null,
   "id": "38ea3201-83a1-4045-86da-7c0d3e270ab1",
   "metadata": {},
   "outputs": [],
   "source": []
  },
  {
   "cell_type": "code",
   "execution_count": null,
   "id": "95c43e51-a194-4b06-ab09-2ba636992e94",
   "metadata": {},
   "outputs": [],
   "source": []
  },
  {
   "cell_type": "code",
   "execution_count": null,
   "id": "8ca3c4a1-ab7c-4db0-b7c0-cee9b7454dfc",
   "metadata": {},
   "outputs": [],
   "source": []
  },
  {
   "cell_type": "code",
   "execution_count": null,
   "id": "cf259cbc-4952-4b6d-aceb-dd17963a590c",
   "metadata": {},
   "outputs": [],
   "source": [
    "def error(num):\n",
    "    try:\n",
    "        return list[int(num)]\n",
    "    except Exception as e:\n",
    "        print(f\"{e}\")\n",
    "        return list[0]"
   ]
  }
 ],
 "metadata": {
  "kernelspec": {
   "display_name": "Python 3 (ipykernel)",
   "language": "python",
   "name": "python3"
  },
  "language_info": {
   "codemirror_mode": {
    "name": "ipython",
    "version": 3
   },
   "file_extension": ".py",
   "mimetype": "text/x-python",
   "name": "python",
   "nbconvert_exporter": "python",
   "pygments_lexer": "ipython3",
   "version": "3.13.1"
  }
 },
 "nbformat": 4,
 "nbformat_minor": 5
}
