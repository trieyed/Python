{
 "cells": [
  {
   "cell_type": "markdown",
   "id": "6f09d247-dd38-4f20-8bd6-a632877ae8ea",
   "metadata": {},
   "source": [
    "**Abstraction**\n",
    "--  \n",
    "Built in skeleton for coders to work on in same format."
   ]
  },
  {
   "cell_type": "code",
   "execution_count": 1,
   "id": "169229d0-3fe4-42c8-870d-f5b1e02d1739",
   "metadata": {},
   "outputs": [],
   "source": [
    "from abc import ABC, abstractmethod\n",
    "\n",
    "class Shape(ABC):\n",
    "\n",
    "    @abstractmethod\n",
    "    def area(self):\n",
    "        pass\n",
    "\n",
    "    @abstractmethod\n",
    "    def perimeter(self):\n",
    "        pass\n",
    "\n",
    "    def volume(self):\n",
    "        return \"Not Applicable for given shape\""
   ]
  },
  {
   "cell_type": "code",
   "execution_count": 2,
   "id": "e00bffa9-bcab-4581-95e8-0da77fa07740",
   "metadata": {},
   "outputs": [],
   "source": [
    "class Cuboid(Shape):\n",
    "    def __init__(self,length):\n",
    "        self.l = length\n",
    "\n",
    "    def area(self):\n",
    "        return 6*(self.l**2)\n",
    "\n",
    "    def perimeter(self):\n",
    "        return 12*self.l\n",
    "\n",
    "    def volume(self):\n",
    "            return self.l**3"
   ]
  },
  {
   "cell_type": "markdown",
   "id": "5e947a1a-c184-441a-a505-d9c21cc106ff",
   "metadata": {},
   "source": [
    "OOP Concepts\n",
    " \n",
    "Create a class `BankAccount` that:\n",
    "1. Allows a user to create an account by providing a **name** and an initial **balance**.\n",
    "2. Includes methods to **deposit**, **withdraw**, and **check balance**. The withdrawal should not allow an account to go negative.\n",
    "3. Overloads the `+` operator to allow merging of two accounts (sum of their balances) and returns a new account.\n",
    "4. Uses **Inheritance** to create a subclass `SavingsAccount` that adds an interest rate. Implement a method to calculate interest on the balance and update it accordingly.\n",
    " "
   ]
  },
  {
   "cell_type": "code",
   "execution_count": 77,
   "id": "596ef26f-c890-4f14-90ec-f1a62079a735",
   "metadata": {},
   "outputs": [],
   "source": [
    "class BankAccount:\n",
    "    def __init__(self,name:str,balance:float):\n",
    "        self.name = name\n",
    "        self.balance = balance\n",
    "\n",
    "    def __repr__(self):\n",
    "        return f\"Account Name:{self.name}, Account Balance: {self.balance}\"\n",
    "\n",
    "    def deposit(self,depo_amount):\n",
    "        self.depo_amount = depo_amount\n",
    "        if self.depo_amount>0:\n",
    "            self.balance += self.depo_amount\n",
    "            return(f\"You deposited ${self.depo_amount}\")\n",
    "\n",
    "\n",
    "    def withdraw(self,withdraw_amount):\n",
    "        self.withdraw_amount = withdraw_amount\n",
    "        if (self.balance < self.withdraw_amount):\n",
    "            return \"You don't have sufficient funds.\"\n",
    "        else:\n",
    "            self.balance -= self.withdraw_amount\n",
    "            return f'You withdrew ${self.withdraw_amount}'\n",
    "\n",
    "    def check_balance(self):\n",
    "        return f'Your balance is: ${self.balance}.'\n",
    "\n",
    "    def __add__(self,other):\n",
    "        new_name =f\" {self.name}+{other.name}\"\n",
    "        new_balance =self.balance+other.balance\n",
    "        return BankAccount(new_name,new_balance)\n",
    "        \n",
    "\n",
    "\n",
    "class SavingAccount(BankAccount):\n",
    "    def __init__(self,name,balance,rate):\n",
    "        super().__init__(name,balance)\n",
    "        self.rate = rate\n",
    "\n",
    "    def interest(self):\n",
    "        interest = self.balance*1*self.rate\n",
    "        self.balance += interest\n",
    "        return f\"Your Interest for one year is ${interest} and your total balance with interest is ${self.balance}.\""
   ]
  },
  {
   "cell_type": "code",
   "execution_count": 78,
   "id": "d7c23b50-f708-40dd-986d-d21ca429d83c",
   "metadata": {},
   "outputs": [],
   "source": [
    "Elon = BankAccount(\"Elon\",250000.55)"
   ]
  },
  {
   "cell_type": "code",
   "execution_count": 79,
   "id": "30223fbf-5ea5-46aa-9922-f61ae8ed71e3",
   "metadata": {},
   "outputs": [],
   "source": [
    "Bill = BankAccount(\"Bill\",125900.98)"
   ]
  },
  {
   "cell_type": "code",
   "execution_count": 80,
   "id": "348bdad4-eba9-43b7-8c6e-38b379dd3ef4",
   "metadata": {},
   "outputs": [
    {
     "data": {
      "text/plain": [
       "'You deposited $1000000'"
      ]
     },
     "execution_count": 80,
     "metadata": {},
     "output_type": "execute_result"
    }
   ],
   "source": [
    "Elon.deposit(1000000)"
   ]
  },
  {
   "cell_type": "code",
   "execution_count": 81,
   "id": "ec575848-3110-4255-9aec-d303b75d8799",
   "metadata": {},
   "outputs": [
    {
     "data": {
      "text/plain": [
       "\"You don't have sufficient funds.\""
      ]
     },
     "execution_count": 81,
     "metadata": {},
     "output_type": "execute_result"
    }
   ],
   "source": [
    "Elon.withdraw(50000000)"
   ]
  },
  {
   "cell_type": "code",
   "execution_count": 82,
   "id": "4e95c947-4afb-4be5-a9b4-98d01196b85b",
   "metadata": {},
   "outputs": [
    {
     "data": {
      "text/plain": [
       "'Your balance is: $1250000.55.'"
      ]
     },
     "execution_count": 82,
     "metadata": {},
     "output_type": "execute_result"
    }
   ],
   "source": [
    "Elon.check_balance()"
   ]
  },
  {
   "cell_type": "code",
   "execution_count": 83,
   "id": "20bc9da6-e288-4e41-82f6-1b674b8c2fd2",
   "metadata": {},
   "outputs": [
    {
     "data": {
      "text/plain": [
       "'Your balance is: $125900.98.'"
      ]
     },
     "execution_count": 83,
     "metadata": {},
     "output_type": "execute_result"
    }
   ],
   "source": [
    "Bill.check_balance()"
   ]
  },
  {
   "cell_type": "code",
   "execution_count": 89,
   "id": "7b665a23-8591-486a-afcd-6187aff0433d",
   "metadata": {},
   "outputs": [],
   "source": [
    "merge = Elon + Bill"
   ]
  },
  {
   "cell_type": "code",
   "execution_count": 85,
   "id": "0425d7a9-5960-400a-8757-5549850ec708",
   "metadata": {},
   "outputs": [],
   "source": [
    "Warren = SavingAccount(\"Warren\",570000,0.1)"
   ]
  },
  {
   "cell_type": "code",
   "execution_count": 86,
   "id": "9744adf8-2cde-4bd9-96d7-9a829a4e37a6",
   "metadata": {},
   "outputs": [
    {
     "data": {
      "text/plain": [
       "'Your Interest for one year is $57000.0 and your total balance with interest is $627000.0.'"
      ]
     },
     "execution_count": 86,
     "metadata": {},
     "output_type": "execute_result"
    }
   ],
   "source": [
    "Warren.interest()"
   ]
  },
  {
   "cell_type": "code",
   "execution_count": 87,
   "id": "b974ba3a-2f52-4673-8c79-4d1b90171cbb",
   "metadata": {},
   "outputs": [
    {
     "data": {
      "text/plain": [
       "Account Name:Elon, Account Balance: 1250000.55"
      ]
     },
     "execution_count": 87,
     "metadata": {},
     "output_type": "execute_result"
    }
   ],
   "source": [
    "Elon"
   ]
  },
  {
   "cell_type": "code",
   "execution_count": 90,
   "id": "fee47daf-6f77-4a39-bbd9-19a1abdf0b5e",
   "metadata": {},
   "outputs": [
    {
     "data": {
      "text/plain": [
       "'You deposited $5000'"
      ]
     },
     "execution_count": 90,
     "metadata": {},
     "output_type": "execute_result"
    }
   ],
   "source": [
    "merge.deposit(5000)"
   ]
  },
  {
   "cell_type": "code",
   "execution_count": 91,
   "id": "f5651bf4-04d9-44e4-87c6-276b3efaf446",
   "metadata": {},
   "outputs": [
    {
     "data": {
      "text/plain": [
       "'Your balance is: $1385901.53.'"
      ]
     },
     "execution_count": 91,
     "metadata": {},
     "output_type": "execute_result"
    }
   ],
   "source": [
    "merge.check_balance()"
   ]
  },
  {
   "cell_type": "code",
   "execution_count": 92,
   "id": "72546bc4-e5b5-4964-8d78-cffa3eba1155",
   "metadata": {},
   "outputs": [],
   "source": [
    "Waren = SavingAccount(\"Waren\",570000,0.1)"
   ]
  },
  {
   "cell_type": "code",
   "execution_count": 93,
   "id": "020b345c-cde2-4945-9992-d7e61f91b5ec",
   "metadata": {},
   "outputs": [
    {
     "data": {
      "text/plain": [
       "'Your balance is: $570000.'"
      ]
     },
     "execution_count": 93,
     "metadata": {},
     "output_type": "execute_result"
    }
   ],
   "source": [
    "Waren.check_balance()"
   ]
  },
  {
   "cell_type": "code",
   "execution_count": 94,
   "id": "bc933660-4b48-4df0-83f0-9ee520028629",
   "metadata": {},
   "outputs": [
    {
     "data": {
      "text/plain": [
       "'You deposited $500'"
      ]
     },
     "execution_count": 94,
     "metadata": {},
     "output_type": "execute_result"
    }
   ],
   "source": [
    "Waren.deposit(500)"
   ]
  },
  {
   "cell_type": "code",
   "execution_count": 95,
   "id": "8ca65182-91fd-44ec-a936-effebced1798",
   "metadata": {},
   "outputs": [
    {
     "data": {
      "text/plain": [
       "'You withdrew $300'"
      ]
     },
     "execution_count": 95,
     "metadata": {},
     "output_type": "execute_result"
    }
   ],
   "source": [
    "Waren.withdraw(300)"
   ]
  },
  {
   "cell_type": "code",
   "execution_count": null,
   "id": "61fd7789-74c9-49ef-855e-90d945c48bd9",
   "metadata": {},
   "outputs": [],
   "source": []
  }
 ],
 "metadata": {
  "kernelspec": {
   "display_name": "Python 3 (ipykernel)",
   "language": "python",
   "name": "python3"
  },
  "language_info": {
   "codemirror_mode": {
    "name": "ipython",
    "version": 3
   },
   "file_extension": ".py",
   "mimetype": "text/x-python",
   "name": "python",
   "nbconvert_exporter": "python",
   "pygments_lexer": "ipython3",
   "version": "3.13.1"
  }
 },
 "nbformat": 4,
 "nbformat_minor": 5
}
