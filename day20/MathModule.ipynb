{
 "cells": [
  {
   "cell_type": "markdown",
   "id": "68d4d40b-71d7-4060-8972-206ac88bda30",
   "metadata": {},
   "source": [
    "***Math Module**\n",
    "--"
   ]
  },
  {
   "cell_type": "code",
   "execution_count": 111,
   "id": "b941c02e-8bbc-4954-aee7-cff7d10700e9",
   "metadata": {},
   "outputs": [],
   "source": [
    "import math"
   ]
  },
  {
   "cell_type": "code",
   "execution_count": 112,
   "id": "d343f057-d305-413e-aaea-51453ff5643a",
   "metadata": {},
   "outputs": [
    {
     "data": {
      "text/plain": [
       "2"
      ]
     },
     "execution_count": 112,
     "metadata": {},
     "output_type": "execute_result"
    }
   ],
   "source": [
    "math.floor(2.66)  #provides the lowest integer close to it"
   ]
  },
  {
   "cell_type": "code",
   "execution_count": 113,
   "id": "123d805d-fd34-4870-b888-c2556a3b558b",
   "metadata": {},
   "outputs": [
    {
     "data": {
      "text/plain": [
       "3"
      ]
     },
     "execution_count": 113,
     "metadata": {},
     "output_type": "execute_result"
    }
   ],
   "source": [
    "math.ceil(2.66) #provides higher integer close to it"
   ]
  },
  {
   "cell_type": "code",
   "execution_count": 114,
   "id": "c8e09eeb-e9a4-4e6b-86cb-e1aac9f7b88f",
   "metadata": {},
   "outputs": [
    {
     "data": {
      "text/plain": [
       "3"
      ]
     },
     "execution_count": 114,
     "metadata": {},
     "output_type": "execute_result"
    }
   ],
   "source": [
    "math.ceil(2.01) "
   ]
  },
  {
   "cell_type": "code",
   "execution_count": 115,
   "id": "2e7282a2-87ee-45c9-bfef-fe982d146d1c",
   "metadata": {},
   "outputs": [
    {
     "data": {
      "text/plain": [
       "2"
      ]
     },
     "execution_count": 115,
     "metadata": {},
     "output_type": "execute_result"
    }
   ],
   "source": [
    "math.trunc(2.35) # works similar to ceil"
   ]
  },
  {
   "cell_type": "code",
   "execution_count": 116,
   "id": "5bf9f491-937a-4378-bb7c-4e1c01a1cf84",
   "metadata": {},
   "outputs": [
    {
     "data": {
      "text/plain": [
       "3.0"
      ]
     },
     "execution_count": 116,
     "metadata": {},
     "output_type": "execute_result"
    }
   ],
   "source": [
    "math.fabs(-3) # gives the absolute value"
   ]
  },
  {
   "cell_type": "code",
   "execution_count": 117,
   "id": "230b5654-bf5a-4274-97f2-63c27d0a81bb",
   "metadata": {},
   "outputs": [
    {
     "data": {
      "text/plain": [
       "-0.3048106211022167"
      ]
     },
     "execution_count": 117,
     "metadata": {},
     "output_type": "execute_result"
    }
   ],
   "source": [
    "math.sin(60) #takes input in radians not in degree"
   ]
  },
  {
   "cell_type": "code",
   "execution_count": 118,
   "id": "2fccbbd4-0862-4db8-b311-d706c2011ea7",
   "metadata": {},
   "outputs": [
    {
     "data": {
      "text/plain": [
       "0.49999999999999994"
      ]
     },
     "execution_count": 118,
     "metadata": {},
     "output_type": "execute_result"
    }
   ],
   "source": [
    "degree = math.radians(30)\n",
    "math.sin(degree)"
   ]
  },
  {
   "cell_type": "code",
   "execution_count": 119,
   "id": "f18c6147-c0ca-436f-a030-dd64d0857bda",
   "metadata": {},
   "outputs": [
    {
     "name": "stdout",
     "output_type": "stream",
     "text": [
      "125\n"
     ]
    }
   ],
   "source": [
    "print (pow(5,3)) #returns the 3rd power of 5"
   ]
  },
  {
   "cell_type": "code",
   "execution_count": 120,
   "id": "60140fd1-db4b-4064-a43a-abba7c6c236c",
   "metadata": {},
   "outputs": [
    {
     "name": "stdout",
     "output_type": "stream",
     "text": [
      "5.830951894845301\n"
     ]
    }
   ],
   "source": [
    "print(math.sqrt(34))"
   ]
  },
  {
   "cell_type": "code",
   "execution_count": 121,
   "id": "e9e96440-e43d-47a4-b587-0a63617b9db3",
   "metadata": {},
   "outputs": [
    {
     "data": {
      "text/plain": [
       "7.38905609893065"
      ]
     },
     "execution_count": 121,
     "metadata": {},
     "output_type": "execute_result"
    }
   ],
   "source": [
    "math.exp(2)  #returns 2th power of e"
   ]
  },
  {
   "cell_type": "code",
   "execution_count": 122,
   "id": "20347a7e-b6ec-40af-b739-c9a1eee82152",
   "metadata": {},
   "outputs": [
    {
     "data": {
      "text/plain": [
       "1.3862943611198906"
      ]
     },
     "execution_count": 122,
     "metadata": {},
     "output_type": "execute_result"
    }
   ],
   "source": [
    "math.log(4)"
   ]
  },
  {
   "cell_type": "code",
   "execution_count": 123,
   "id": "3de13082-4cdf-4782-bc86-9dca6f4ca1b2",
   "metadata": {},
   "outputs": [
    {
     "data": {
      "text/plain": [
       "1.0"
      ]
     },
     "execution_count": 123,
     "metadata": {},
     "output_type": "execute_result"
    }
   ],
   "source": [
    "math.log10(10)"
   ]
  },
  {
   "cell_type": "code",
   "execution_count": 124,
   "id": "f13dc758-8b08-4f12-a31e-5d218d2cf705",
   "metadata": {},
   "outputs": [
    {
     "data": {
      "text/plain": [
       "53.652604319423"
      ]
     },
     "execution_count": 124,
     "metadata": {},
     "output_type": "execute_result"
    }
   ],
   "source": [
    "math.log(200000000000000000000000) #log provides lower value when done to very higher value"
   ]
  },
  {
   "cell_type": "markdown",
   "id": "68a8d357-7fd9-494a-b530-8c93838f08ad",
   "metadata": {},
   "source": [
    "**Constants**\n",
    "-"
   ]
  },
  {
   "cell_type": "code",
   "execution_count": 125,
   "id": "789733f1-3131-4eb1-b2b7-ff21cdb5c6b8",
   "metadata": {},
   "outputs": [
    {
     "data": {
      "text/plain": [
       "3.141592653589793"
      ]
     },
     "execution_count": 125,
     "metadata": {},
     "output_type": "execute_result"
    }
   ],
   "source": [
    "math.pi #provides value of pi"
   ]
  },
  {
   "cell_type": "code",
   "execution_count": 126,
   "id": "dad32ae3-8261-4795-9860-9d1359dd00cf",
   "metadata": {},
   "outputs": [
    {
     "data": {
      "text/plain": [
       "2.718281828459045"
      ]
     },
     "execution_count": 126,
     "metadata": {},
     "output_type": "execute_result"
    }
   ],
   "source": [
    "math.e #returns the amthematical constant e"
   ]
  },
  {
   "cell_type": "code",
   "execution_count": 127,
   "id": "a9d6231a-55b6-4b60-af5a-a1a0956243fb",
   "metadata": {},
   "outputs": [
    {
     "data": {
      "text/plain": [
       "inf"
      ]
     },
     "execution_count": 127,
     "metadata": {},
     "output_type": "execute_result"
    }
   ],
   "source": [
    "math.inf "
   ]
  },
  {
   "cell_type": "code",
   "execution_count": 128,
   "id": "c19340f4-7bd2-48c0-8355-84e4e909733a",
   "metadata": {},
   "outputs": [
    {
     "data": {
      "text/plain": [
       "6.283185307179586"
      ]
     },
     "execution_count": 128,
     "metadata": {},
     "output_type": "execute_result"
    }
   ],
   "source": [
    "math.tau #mathematial constant tau i.e. 2*pi"
   ]
  },
  {
   "cell_type": "code",
   "execution_count": 129,
   "id": "58189f9b-d176-491c-b2cc-015691223463",
   "metadata": {},
   "outputs": [
    {
     "data": {
      "text/plain": [
       "nan"
      ]
     },
     "execution_count": 129,
     "metadata": {},
     "output_type": "execute_result"
    }
   ],
   "source": [
    "math.nan "
   ]
  },
  {
   "cell_type": "code",
   "execution_count": null,
   "id": "959b520d-b695-438e-acb4-ffea3290e841",
   "metadata": {},
   "outputs": [],
   "source": []
  },
  {
   "cell_type": "markdown",
   "id": "665e19a3-aca2-4d6e-a419-e99848a0a3c7",
   "metadata": {},
   "source": [
    "**Special Functions**\n",
    "-"
   ]
  },
  {
   "cell_type": "code",
   "execution_count": 130,
   "id": "e0b903ba-6c0c-446d-b331-1875b209ad55",
   "metadata": {},
   "outputs": [
    {
     "data": {
      "text/plain": [
       "24"
      ]
     },
     "execution_count": 130,
     "metadata": {},
     "output_type": "execute_result"
    }
   ],
   "source": [
    "math.factorial(4)"
   ]
  },
  {
   "cell_type": "code",
   "execution_count": 131,
   "id": "c115f74b-202e-47f9-abb8-af9a049e17fe",
   "metadata": {},
   "outputs": [
    {
     "data": {
      "text/plain": [
       "3"
      ]
     },
     "execution_count": 131,
     "metadata": {},
     "output_type": "execute_result"
    }
   ],
   "source": [
    "math.comb(3,2)"
   ]
  },
  {
   "cell_type": "code",
   "execution_count": 132,
   "id": "408fede7-26ae-409b-bd38-f72e4826d0b6",
   "metadata": {},
   "outputs": [
    {
     "data": {
      "text/plain": [
       "5"
      ]
     },
     "execution_count": 132,
     "metadata": {},
     "output_type": "execute_result"
    }
   ],
   "source": [
    "math.isqrt(25) #integer square root"
   ]
  },
  {
   "cell_type": "code",
   "execution_count": 133,
   "id": "ec1a041c-25e6-4023-a9aa-87f9254a7862",
   "metadata": {},
   "outputs": [
    {
     "data": {
      "text/plain": [
       "6.557438524302"
      ]
     },
     "execution_count": 133,
     "metadata": {},
     "output_type": "execute_result"
    }
   ],
   "source": [
    "math.dist((2,3,4,3,4,5),(4,5,5,6,7,9)) #returns the distance between two points of any dimension"
   ]
  },
  {
   "cell_type": "code",
   "execution_count": 134,
   "id": "3fd67e16-b941-4cf1-80f4-42b84c0d6603",
   "metadata": {},
   "outputs": [
    {
     "data": {
      "text/plain": [
       "0.9999999999984626"
      ]
     },
     "execution_count": 134,
     "metadata": {},
     "output_type": "execute_result"
    }
   ],
   "source": [
    "math.erf(5) #returns the error function of x"
   ]
  },
  {
   "cell_type": "code",
   "execution_count": 135,
   "id": "aaf8cbab-ee2e-4e04-9227-2e9e25039f3f",
   "metadata": {},
   "outputs": [
    {
     "data": {
      "text/plain": [
       "24.0"
      ]
     },
     "execution_count": 135,
     "metadata": {},
     "output_type": "execute_result"
    }
   ],
   "source": [
    "math.gamma(5) #provides the gamma function"
   ]
  },
  {
   "cell_type": "code",
   "execution_count": 136,
   "id": "6b40938b-6a61-485f-b812-d18ae649b7b5",
   "metadata": {},
   "outputs": [
    {
     "data": {
      "text/plain": [
       "24"
      ]
     },
     "execution_count": 136,
     "metadata": {},
     "output_type": "execute_result"
    }
   ],
   "source": [
    "math.perm(4,3) #returns the permutation value"
   ]
  },
  {
   "cell_type": "code",
   "execution_count": 137,
   "id": "1be6ce2c-0dcd-4520-907c-3f5ab480e9c8",
   "metadata": {},
   "outputs": [
    {
     "data": {
      "text/plain": [
       "False"
      ]
     },
     "execution_count": 137,
     "metadata": {},
     "output_type": "execute_result"
    }
   ],
   "source": [
    "math.isclose(0.1,0.3)"
   ]
  },
  {
   "cell_type": "code",
   "execution_count": 138,
   "id": "a4c7eedb-4928-4e40-bfb4-4ba223e168ba",
   "metadata": {},
   "outputs": [
    {
     "data": {
      "text/plain": [
       "True"
      ]
     },
     "execution_count": 138,
     "metadata": {},
     "output_type": "execute_result"
    }
   ],
   "source": [
    "math.isclose(0.1,0.3,rel_tol=0.3, abs_tol=0.3)"
   ]
  },
  {
   "cell_type": "code",
   "execution_count": 139,
   "id": "149ce753-f5d4-4c22-a7dd-08f24e890b6c",
   "metadata": {},
   "outputs": [
    {
     "data": {
      "text/plain": [
       "0.9999999999984626"
      ]
     },
     "execution_count": 139,
     "metadata": {},
     "output_type": "execute_result"
    }
   ],
   "source": [
    "math.erf(5)"
   ]
  },
  {
   "cell_type": "code",
   "execution_count": 140,
   "id": "079c267e-a14d-42f1-a077-e07dff8d5b9f",
   "metadata": {},
   "outputs": [
    {
     "data": {
      "text/plain": [
       "9.0"
      ]
     },
     "execution_count": 140,
     "metadata": {},
     "output_type": "execute_result"
    }
   ],
   "source": [
    "math.cbrt(729)"
   ]
  },
  {
   "cell_type": "code",
   "execution_count": 141,
   "id": "5af5d5e6-d2ff-4f22-bf15-8b4cfd04bbd0",
   "metadata": {},
   "outputs": [
    {
     "name": "stdout",
     "output_type": "stream",
     "text": [
      "Python 3.13.1\n"
     ]
    }
   ],
   "source": [
    "!python --version"
   ]
  }
 ],
 "metadata": {
  "kernelspec": {
   "display_name": "Python 3 (ipykernel)",
   "language": "python",
   "name": "python3"
  },
  "language_info": {
   "codemirror_mode": {
    "name": "ipython",
    "version": 3
   },
   "file_extension": ".py",
   "mimetype": "text/x-python",
   "name": "python",
   "nbconvert_exporter": "python",
   "pygments_lexer": "ipython3",
   "version": "3.13.1"
  }
 },
 "nbformat": 4,
 "nbformat_minor": 5
}
