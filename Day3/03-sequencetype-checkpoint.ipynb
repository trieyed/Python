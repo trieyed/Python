{
 "cells": [
  {
   "cell_type": "markdown",
   "id": "93876d96-c3cf-4627-9e67-559c345879fa",
   "metadata": {},
   "source": [
    "Python Sequence Types:\n",
    "Includes two data structures--->list and tuples\n",
    "\n",
    "1.List\n",
    "collection of items of any data types.\n",
    "\n",
    "[ ] is used to define list in python.--> more preferrable\n",
    "or list( [ ] ) can be used to define list."
   ]
  },
  {
   "cell_type": "code",
   "execution_count": 1,
   "id": "410de164-eb69-4dc0-a2b5-12fe5856434c",
   "metadata": {},
   "outputs": [],
   "source": [
    "x = [1,2,3,4,5]\n",
    "y = [\"apple\", \"banana\"]\n",
    "z = [1, 'apple', True, 3.4663, -7]"
   ]
  },
  {
   "cell_type": "code",
   "execution_count": 2,
   "id": "515d8765-9941-44a4-9cde-847d91b4155e",
   "metadata": {},
   "outputs": [
    {
     "data": {
      "text/plain": [
       "list"
      ]
     },
     "execution_count": 2,
     "metadata": {},
     "output_type": "execute_result"
    }
   ],
   "source": [
    "type(x)\n"
   ]
  },
  {
   "cell_type": "code",
   "execution_count": 3,
   "id": "eddac569-0d46-4c49-bef0-97ab9135593f",
   "metadata": {},
   "outputs": [
    {
     "data": {
      "text/plain": [
       "list"
      ]
     },
     "execution_count": 3,
     "metadata": {},
     "output_type": "execute_result"
    }
   ],
   "source": [
    "type (y)\n",
    "type (z)"
   ]
  },
  {
   "cell_type": "code",
   "execution_count": 4,
   "id": "1528d034-8890-4dcb-9b9f-1b9f8b3639db",
   "metadata": {},
   "outputs": [
    {
     "name": "stdout",
     "output_type": "stream",
     "text": [
      "[1, 'apple', True, 3.4663, -7]\n"
     ]
    }
   ],
   "source": [
    "print (z)"
   ]
  },
  {
   "cell_type": "markdown",
   "id": "3a9595d3-d985-4138-af7f-64c5709d5773",
   "metadata": {},
   "source": [
    "Accessing List Items\n",
    "--> using index."
   ]
  },
  {
   "cell_type": "code",
   "execution_count": 5,
   "id": "7cf134a7-2ac5-4f66-b421-c8fb846ea12b",
   "metadata": {},
   "outputs": [
    {
     "data": {
      "text/plain": [
       "1"
      ]
     },
     "execution_count": 5,
     "metadata": {},
     "output_type": "execute_result"
    }
   ],
   "source": [
    "x[0]\n"
   ]
  },
  {
   "cell_type": "code",
   "execution_count": 6,
   "id": "4dc62551-b93c-4d12-9661-382acc913508",
   "metadata": {},
   "outputs": [
    {
     "data": {
      "text/plain": [
       "-7"
      ]
     },
     "execution_count": 6,
     "metadata": {},
     "output_type": "execute_result"
    }
   ],
   "source": [
    "#-1 index returns the last member.\n",
    "z[-1]"
   ]
  },
  {
   "cell_type": "markdown",
   "id": "100c56ca-3939-4baa-99c2-ad59500efc81",
   "metadata": {},
   "source": [
    "Slicing Lists\n",
    "Slicing--> accessing range of items using syntax start:stop:step.\n",
    "listname[start: end : steps ]\n",
    "if value of start, end and steps is not given, default value is assumed i.e.\n",
    "start=0th index\n",
    "end=-1 index\n",
    "steps=1\n"
   ]
  },
  {
   "cell_type": "code",
   "execution_count": 8,
   "id": "43c3bc71-57f1-4731-a6e3-4076f02b08a4",
   "metadata": {},
   "outputs": [],
   "source": [
    "numbers = list (range(0,51))"
   ]
  },
  {
   "cell_type": "code",
   "execution_count": 10,
   "id": "016e20d5-76ac-463a-8b49-e2177ff7617a",
   "metadata": {},
   "outputs": [
    {
     "name": "stdout",
     "output_type": "stream",
     "text": [
      "[0, 1, 2, 3, 4, 5, 6, 7, 8, 9, 10, 11, 12, 13, 14, 15, 16, 17, 18, 19, 20, 21, 22, 23, 24, 25, 26, 27, 28, 29, 30, 31, 32, 33, 34, 35, 36, 37, 38, 39, 40, 41, 42, 43, 44, 45, 46, 47, 48, 49, 50]\n"
     ]
    }
   ],
   "source": [
    "print (numbers)\n"
   ]
  },
  {
   "cell_type": "code",
   "execution_count": 11,
   "id": "a6395303-7467-4e23-930d-e031867703e0",
   "metadata": {},
   "outputs": [
    {
     "data": {
      "text/plain": [
       "[5, 6, 7, 8, 9]"
      ]
     },
     "execution_count": 11,
     "metadata": {},
     "output_type": "execute_result"
    }
   ],
   "source": [
    "numbers[5:10]"
   ]
  },
  {
   "cell_type": "code",
   "execution_count": 14,
   "id": "8cd5be42-3c2e-4a4a-8f45-85af497dd1ae",
   "metadata": {},
   "outputs": [
    {
     "name": "stdout",
     "output_type": "stream",
     "text": [
      "[0, 2, 4, 6, 8, 10, 12, 14, 16, 18, 20, 22, 24, 26, 28, 30, 32, 34, 36, 38, 40, 42, 44, 46, 48, 50]\n"
     ]
    }
   ],
   "source": [
    "#printing even numbers\n",
    "print (numbers[::2])"
   ]
  },
  {
   "cell_type": "markdown",
   "id": "72e3377f-a975-4036-a3dd-4aa63a1d591f",
   "metadata": {},
   "source": [
    "Modifying lists:\n",
    "--> By using index and assigning a new value.\n",
    "\n",
    "Adding items in list:\n",
    "\n",
    "**At end of list:\n",
    "\n",
    "---> list_name.append(value to add)\n",
    "---> append adds value at the end of the list.\n",
    "\n",
    "**At user defined position in list:\n",
    "-->list_name.insert (index, value)\n",
    "\n",
    "\n",
    "Removing item from the list:\n",
    "list_name.remove(value in list)-->removes first occurance of specified value in list.\n",
    "\n",
    "list_name.pop( )--> removes the specified item or last item (in case no parameter is given) and return the value to the user.\n",
    "\n"
   ]
  },
  {
   "cell_type": "markdown",
   "id": "b9d68ef3-5bce-4a72-9e36-6a24951acf11",
   "metadata": {},
   "source": [
    "z = [1, 'apple', True, 3.4663, -7]"
   ]
  },
  {
   "cell_type": "code",
   "execution_count": 15,
   "id": "924ca25d-8a02-443f-b843-19a9491522ea",
   "metadata": {},
   "outputs": [
    {
     "data": {
      "text/plain": [
       "'apple'"
      ]
     },
     "execution_count": 15,
     "metadata": {},
     "output_type": "execute_result"
    }
   ],
   "source": [
    "z[1]\n"
   ]
  },
  {
   "cell_type": "code",
   "execution_count": 16,
   "id": "02458432-bda4-4576-9b5c-7a7fe1648fe7",
   "metadata": {},
   "outputs": [],
   "source": [
    "z[1] = \"pineapple\"\n"
   ]
  },
  {
   "cell_type": "code",
   "execution_count": 17,
   "id": "744f6e69-3113-4274-bdb0-a1bd1122ae98",
   "metadata": {},
   "outputs": [
    {
     "data": {
      "text/plain": [
       "'pineapple'"
      ]
     },
     "execution_count": 17,
     "metadata": {},
     "output_type": "execute_result"
    }
   ],
   "source": [
    "z[1]"
   ]
  },
  {
   "cell_type": "code",
   "execution_count": 18,
   "id": "2e0f617c-b613-48bc-b2f5-5ab2ba1e25d0",
   "metadata": {},
   "outputs": [],
   "source": [
    "#adding items to list\n",
    "z.append(69)"
   ]
  },
  {
   "cell_type": "code",
   "execution_count": 19,
   "id": "8008836d-3948-4f4d-a669-4f1ac23039a0",
   "metadata": {},
   "outputs": [
    {
     "name": "stdout",
     "output_type": "stream",
     "text": [
      "[1, 'pineapple', True, 3.4663, -7, 69]\n"
     ]
    }
   ],
   "source": [
    "print(z)"
   ]
  },
  {
   "cell_type": "code",
   "execution_count": 20,
   "id": "1e59dc4d-ebf5-4c79-8bac-11e7e8442daa",
   "metadata": {},
   "outputs": [],
   "source": [
    "#adds orange to second index and move the other later member by one index.\n",
    "z.insert(2,\"orange\")"
   ]
  },
  {
   "cell_type": "code",
   "execution_count": 21,
   "id": "a565d193-daa9-408a-8138-93032d748cab",
   "metadata": {},
   "outputs": [
    {
     "data": {
      "text/plain": [
       "'orange'"
      ]
     },
     "execution_count": 21,
     "metadata": {},
     "output_type": "execute_result"
    }
   ],
   "source": [
    "z[2]"
   ]
  },
  {
   "cell_type": "code",
   "execution_count": 22,
   "id": "21876443-bf0b-417b-bac3-510680553c07",
   "metadata": {},
   "outputs": [
    {
     "name": "stdout",
     "output_type": "stream",
     "text": [
      "[1, 'pineapple', 'orange', True, 3.4663, -7, 69]\n"
     ]
    }
   ],
   "source": [
    "#orange takes third position and move true and other later member by 1 index.\n",
    "print(z)"
   ]
  },
  {
   "cell_type": "code",
   "execution_count": 26,
   "id": "2e022af1-11a9-46a7-9a26-9d63daf8d2f8",
   "metadata": {},
   "outputs": [],
   "source": [
    "z.remove(\"pineapple\")"
   ]
  },
  {
   "cell_type": "code",
   "execution_count": 27,
   "id": "6e1a0054-ea73-43fb-b94c-effa73dea252",
   "metadata": {},
   "outputs": [
    {
     "name": "stdout",
     "output_type": "stream",
     "text": [
      "[1, 'orange', True, 3.4663, -7, 69]\n"
     ]
    }
   ],
   "source": [
    "print(z)"
   ]
  },
  {
   "cell_type": "code",
   "execution_count": 28,
   "id": "0fc8206f-7f0c-4714-8ec1-550a4365d982",
   "metadata": {},
   "outputs": [
    {
     "data": {
      "text/plain": [
       "69"
      ]
     },
     "execution_count": 28,
     "metadata": {},
     "output_type": "execute_result"
    }
   ],
   "source": [
    "z.pop()"
   ]
  },
  {
   "cell_type": "markdown",
   "id": "f46bd648-63b5-40ef-bb6e-bfd281fce11d",
   "metadata": {},
   "source": [
    "List Methods\n",
    "sort ()\n",
    "reverse()\n",
    "count()\n",
    "index()"
   ]
  },
  {
   "cell_type": "code",
   "execution_count": 29,
   "id": "7da7f4ea-9101-45d4-8598-21c53295b532",
   "metadata": {},
   "outputs": [],
   "source": [
    "myList=[2, 6,4,5,8,6,3]"
   ]
  },
  {
   "cell_type": "code",
   "execution_count": 31,
   "id": "625bb9ba-1a7a-41a9-abb8-ea9931a4e82f",
   "metadata": {},
   "outputs": [],
   "source": [
    "#sort in descending order.\n",
    "myList.sort(reverse=True)"
   ]
  },
  {
   "cell_type": "code",
   "execution_count": 32,
   "id": "8ea4c2af-e9b3-4290-8148-20f944f4b7e4",
   "metadata": {},
   "outputs": [
    {
     "name": "stdout",
     "output_type": "stream",
     "text": [
      "[8, 6, 6, 5, 4, 3, 2]\n"
     ]
    }
   ],
   "source": [
    "print(myList)"
   ]
  },
  {
   "cell_type": "code",
   "execution_count": 35,
   "id": "1338062b-150a-4c72-b1e2-f316f37188ca",
   "metadata": {},
   "outputs": [],
   "source": [
    "#In ascending order\n",
    "myList.sort(reverse=False)"
   ]
  },
  {
   "cell_type": "code",
   "execution_count": 34,
   "id": "aac01a08-1fe2-4726-be8b-6fcd2cf4ffdb",
   "metadata": {},
   "outputs": [
    {
     "name": "stdout",
     "output_type": "stream",
     "text": [
      "[2, 3, 4, 5, 6, 6, 8]\n"
     ]
    }
   ],
   "source": [
    "print(myList)"
   ]
  },
  {
   "cell_type": "code",
   "execution_count": 36,
   "id": "e841f5f6-9269-42db-b2e3-52a3cfc5daf1",
   "metadata": {},
   "outputs": [
    {
     "data": {
      "text/plain": [
       "2"
      ]
     },
     "execution_count": 36,
     "metadata": {},
     "output_type": "execute_result"
    }
   ],
   "source": [
    "#counts how many times a certain value repeats in the list.\n",
    "myList.count(6)"
   ]
  },
  {
   "cell_type": "code",
   "execution_count": 37,
   "id": "50c6fb2c-9fec-4090-8d38-8aa4ce02011d",
   "metadata": {},
   "outputs": [
    {
     "data": {
      "text/plain": [
       "4"
      ]
     },
     "execution_count": 37,
     "metadata": {},
     "output_type": "execute_result"
    }
   ],
   "source": [
    "#returns first index of the given value\n",
    "myList.index(6)"
   ]
  },
  {
   "cell_type": "code",
   "execution_count": 39,
   "id": "ceb93222-7b53-40d6-ba92-fa92488097ce",
   "metadata": {},
   "outputs": [],
   "source": [
    "#reverses the whole list's member's index. i.e. starts assigning value from 0 from the last member.\n",
    "myList.reverse()"
   ]
  },
  {
   "cell_type": "code",
   "execution_count": 40,
   "id": "a50a60bb-a06a-4125-9dbf-43e1fc1f03ed",
   "metadata": {},
   "outputs": [
    {
     "name": "stdout",
     "output_type": "stream",
     "text": [
      "[8, 6, 6, 5, 4, 3, 2]\n"
     ]
    }
   ],
   "source": [
    "print(myList)"
   ]
  },
  {
   "cell_type": "code",
   "execution_count": null,
   "id": "62cf5b33-4770-49a5-8015-786624beaafe",
   "metadata": {},
   "outputs": [],
   "source": [
    "\n"
   ]
  },
  {
   "cell_type": "code",
   "execution_count": null,
   "id": "de19b2be-5b78-47c5-a1ae-c4777bdb30a9",
   "metadata": {},
   "outputs": [],
   "source": []
  },
  {
   "cell_type": "code",
   "execution_count": null,
   "id": "8c728fec-d7c0-411a-a5ab-075c71e663a5",
   "metadata": {},
   "outputs": [],
   "source": []
  },
  {
   "cell_type": "markdown",
   "id": "65596da0-df79-4047-aa26-cec23f60d421",
   "metadata": {},
   "source": [
    "TUPLE:\n",
    "Collection of ordered immutable(unmodifiable) objects.\n",
    "---> can't modify the contents of a tuple.\n",
    "\n",
    "\n",
    "Creating a tuple----> Using a small bracket.\n",
    "   -> mytuple=(1,2,3,4)"
   ]
  },
  {
   "cell_type": "code",
   "execution_count": 49,
   "id": "06bef934-88b3-4076-ae7e-16f7439fcdd1",
   "metadata": {},
   "outputs": [],
   "source": [
    "mytuple = (1,2,3,4,4,5,\"apple\", True,2.097)"
   ]
  },
  {
   "cell_type": "code",
   "execution_count": 50,
   "id": "adf502ac-53ff-4838-b329-ae4145d9dd1c",
   "metadata": {},
   "outputs": [
    {
     "data": {
      "text/plain": [
       "tuple"
      ]
     },
     "execution_count": 50,
     "metadata": {},
     "output_type": "execute_result"
    }
   ],
   "source": [
    "type(mytuple)"
   ]
  },
  {
   "cell_type": "code",
   "execution_count": 51,
   "id": "008b3072-3aec-473c-ae57-47dccfe6c6cc",
   "metadata": {},
   "outputs": [
    {
     "name": "stdout",
     "output_type": "stream",
     "text": [
      "(1, 2, 3, 4, 4, 5, 'apple', True, 2.097)\n"
     ]
    }
   ],
   "source": [
    "print(mytuple)"
   ]
  },
  {
   "cell_type": "markdown",
   "id": "9dd8f62c-7df8-4b2e-8e65-969911a7818c",
   "metadata": {},
   "source": [
    "Accessing members of the tuples:\n",
    "Similar to that of list--->Using square bracket.\n",
    "\n",
    "\n",
    "Modifying Tuples:\n",
    "Can't be modified.(immutable)\n",
    "\n",
    "Tuples Methods:\n",
    "tuple.count(value)\n",
    "tuple.index(value[ , start[ , end]])"
   ]
  },
  {
   "cell_type": "code",
   "execution_count": 48,
   "id": "a7834c71-9e66-414f-b98a-8d3d1e9c0ad0",
   "metadata": {},
   "outputs": [
    {
     "data": {
      "text/plain": [
       "1"
      ]
     },
     "execution_count": 48,
     "metadata": {},
     "output_type": "execute_result"
    }
   ],
   "source": [
    "mytuple[0]"
   ]
  },
  {
   "cell_type": "code",
   "execution_count": 53,
   "id": "b3511ac1-0596-4d5b-a3d4-d7c935ac8aee",
   "metadata": {},
   "outputs": [
    {
     "data": {
      "text/plain": [
       "2"
      ]
     },
     "execution_count": 53,
     "metadata": {},
     "output_type": "execute_result"
    }
   ],
   "source": [
    "#no of certain element in tuple\n",
    "mytuple.count(4)"
   ]
  },
  {
   "cell_type": "code",
   "execution_count": 54,
   "id": "64e8cff3-92b4-42af-a895-45bcbf47be1d",
   "metadata": {},
   "outputs": [
    {
     "data": {
      "text/plain": [
       "9"
      ]
     },
     "execution_count": 54,
     "metadata": {},
     "output_type": "execute_result"
    }
   ],
   "source": [
    "#lengthe of the tuple\n",
    "len(mytuple)"
   ]
  },
  {
   "cell_type": "code",
   "execution_count": 57,
   "id": "306458c1-528d-443d-90a1-bea6634690f5",
   "metadata": {},
   "outputs": [],
   "source": [
    "#min value\n",
    "tuple=(1,2,4,5,6,3,5)"
   ]
  },
  {
   "cell_type": "code",
   "execution_count": 58,
   "id": "08c95ee4-71bd-4f5b-bf39-965e7c1d6eeb",
   "metadata": {},
   "outputs": [
    {
     "data": {
      "text/plain": [
       "1"
      ]
     },
     "execution_count": 58,
     "metadata": {},
     "output_type": "execute_result"
    }
   ],
   "source": [
    "min(tuple)"
   ]
  },
  {
   "cell_type": "code",
   "execution_count": 61,
   "id": "f9eb0abf-c8d4-4968-8a4f-cb8237047865",
   "metadata": {},
   "outputs": [
    {
     "data": {
      "text/plain": [
       "6"
      ]
     },
     "execution_count": 61,
     "metadata": {},
     "output_type": "execute_result"
    }
   ],
   "source": [
    "#max value\n",
    "max(tuple)"
   ]
  },
  {
   "cell_type": "markdown",
   "id": "991e12c0-9833-4a09-8ce0-b82e4b733660",
   "metadata": {},
   "source": []
  }
 ],
 "metadata": {
  "kernelspec": {
   "display_name": "Python 3 (ipykernel)",
   "language": "python",
   "name": "python3"
  },
  "language_info": {
   "codemirror_mode": {
    "name": "ipython",
    "version": 3
   },
   "file_extension": ".py",
   "mimetype": "text/x-python",
   "name": "python",
   "nbconvert_exporter": "python",
   "pygments_lexer": "ipython3",
   "version": "3.13.1"
  }
 },
 "nbformat": 4,
 "nbformat_minor": 5
}
