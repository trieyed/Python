{
 "cells": [
  {
   "cell_type": "code",
   "execution_count": 42,
   "id": "eed623fe-5a06-4a40-a314-1c587c10a240",
   "metadata": {},
   "outputs": [],
   "source": [
    "import numpy as np"
   ]
  },
  {
   "cell_type": "code",
   "execution_count": 43,
   "id": "4ce1544c-3569-47af-a4f5-3606b128cd04",
   "metadata": {},
   "outputs": [],
   "source": [
    "a = np.random.randint(0,10,size = (3,5,5))"
   ]
  },
  {
   "cell_type": "code",
   "execution_count": 44,
   "id": "474a493e-c09c-4709-a398-ae24f0c8e305",
   "metadata": {},
   "outputs": [
    {
     "data": {
      "text/plain": [
       "array([[[3, 6, 2, 2, 6],\n",
       "        [7, 5, 3, 7, 6],\n",
       "        [0, 5, 5, 0, 5],\n",
       "        [0, 1, 8, 1, 8],\n",
       "        [5, 3, 8, 8, 1]],\n",
       "\n",
       "       [[9, 8, 5, 9, 2],\n",
       "        [5, 9, 6, 9, 4],\n",
       "        [4, 2, 7, 7, 9],\n",
       "        [5, 0, 3, 1, 4],\n",
       "        [6, 8, 0, 6, 9]],\n",
       "\n",
       "       [[7, 1, 3, 8, 3],\n",
       "        [8, 3, 5, 9, 1],\n",
       "        [8, 4, 3, 9, 4],\n",
       "        [0, 6, 3, 3, 7],\n",
       "        [3, 1, 4, 7, 0]]], dtype=int32)"
      ]
     },
     "execution_count": 44,
     "metadata": {},
     "output_type": "execute_result"
    }
   ],
   "source": [
    "a"
   ]
  },
  {
   "cell_type": "code",
   "execution_count": 45,
   "id": "c41ce86b-cec2-4adc-8b8f-94036da64d4d",
   "metadata": {},
   "outputs": [
    {
     "data": {
      "text/plain": [
       "array([3, 6, 2, 2, 6, 7, 5, 3, 7, 6, 0, 5, 5, 0, 5, 0, 1, 8, 1, 8, 5, 3,\n",
       "       8, 8, 1, 9, 8, 5, 9, 2, 5, 9, 6, 9, 4, 4, 2, 7, 7, 9, 5, 0, 3, 1,\n",
       "       4, 6, 8, 0, 6, 9, 7, 1, 3, 8, 3, 8, 3, 5, 9, 1, 8, 4, 3, 9, 4, 0,\n",
       "       6, 3, 3, 7, 3, 1, 4, 7, 0], dtype=int32)"
      ]
     },
     "execution_count": 45,
     "metadata": {},
     "output_type": "execute_result"
    }
   ],
   "source": [
    "a.flatten()  #converts into a single dimension array(rowwise)"
   ]
  },
  {
   "cell_type": "code",
   "execution_count": 46,
   "id": "c41a882e-24ce-4843-a2d9-7a5e172c8fad",
   "metadata": {},
   "outputs": [
    {
     "data": {
      "text/plain": [
       "array([3, 9, 7, 7, 5, 8, 0, 4, 8, 0, 5, 0, 5, 6, 3, 6, 8, 1, 5, 9, 3, 5,\n",
       "       2, 4, 1, 0, 6, 3, 8, 1, 2, 5, 3, 3, 6, 5, 5, 7, 3, 8, 3, 3, 8, 0,\n",
       "       4, 2, 9, 8, 7, 9, 9, 0, 7, 9, 1, 1, 3, 8, 6, 7, 6, 2, 3, 6, 4, 1,\n",
       "       5, 9, 4, 8, 4, 7, 1, 9, 0], dtype=int32)"
      ]
     },
     "execution_count": 46,
     "metadata": {},
     "output_type": "execute_result"
    }
   ],
   "source": [
    "a.flatten(\"F\") #converts int single dimension array column wise in order of first element of each matrix"
   ]
  },
  {
   "cell_type": "code",
   "execution_count": 47,
   "id": "82248ed2-5cc7-4138-a6d4-54bbcff008f5",
   "metadata": {},
   "outputs": [
    {
     "data": {
      "text/plain": [
       "np.int64(352)"
      ]
     },
     "execution_count": 47,
     "metadata": {},
     "output_type": "execute_result"
    }
   ],
   "source": [
    "a.sum()"
   ]
  },
  {
   "cell_type": "code",
   "execution_count": 48,
   "id": "99352a13-242a-4dbf-833f-a8aa77bcebd0",
   "metadata": {},
   "outputs": [
    {
     "data": {
      "text/plain": [
       "array([[[3, 6, 2, 2, 6],\n",
       "        [7, 5, 3, 7, 6],\n",
       "        [0, 5, 5, 0, 5],\n",
       "        [0, 1, 8, 1, 8],\n",
       "        [5, 3, 8, 8, 1]],\n",
       "\n",
       "       [[9, 8, 5, 9, 2],\n",
       "        [5, 9, 6, 9, 4],\n",
       "        [4, 2, 7, 7, 9],\n",
       "        [5, 0, 3, 1, 4],\n",
       "        [6, 8, 0, 6, 9]],\n",
       "\n",
       "       [[7, 1, 3, 8, 3],\n",
       "        [8, 3, 5, 9, 1],\n",
       "        [8, 4, 3, 9, 4],\n",
       "        [0, 6, 3, 3, 7],\n",
       "        [3, 1, 4, 7, 0]]], dtype=int32)"
      ]
     },
     "execution_count": 48,
     "metadata": {},
     "output_type": "execute_result"
    }
   ],
   "source": [
    "a"
   ]
  },
  {
   "cell_type": "code",
   "execution_count": 49,
   "id": "1f2a27ae-3307-4f83-9832-6ea5a6173674",
   "metadata": {},
   "outputs": [
    {
     "data": {
      "text/plain": [
       "array([[19, 15, 10, 19, 11],\n",
       "       [20, 17, 14, 25, 11],\n",
       "       [12, 11, 15, 16, 18],\n",
       "       [ 5,  7, 14,  5, 19],\n",
       "       [14, 12, 12, 21, 10]])"
      ]
     },
     "execution_count": 49,
     "metadata": {},
     "output_type": "execute_result"
    }
   ],
   "source": [
    "a.sum(axis = 0)"
   ]
  },
  {
   "cell_type": "code",
   "execution_count": 50,
   "id": "522e5792-26d8-4b47-9855-11517f3d5900",
   "metadata": {},
   "outputs": [
    {
     "data": {
      "text/plain": [
       "array([[15, 20, 26, 18, 26],\n",
       "       [29, 27, 21, 32, 28],\n",
       "       [26, 15, 18, 36, 15]])"
      ]
     },
     "execution_count": 50,
     "metadata": {},
     "output_type": "execute_result"
    }
   ],
   "source": [
    "a.sum(axis = 1)"
   ]
  },
  {
   "cell_type": "code",
   "execution_count": 51,
   "id": "a2ca40d9-55fd-4f34-9fe0-e6311a2eeab4",
   "metadata": {},
   "outputs": [],
   "source": [
    "b = np.random.randint(0,7,size = (2,2,2))"
   ]
  },
  {
   "cell_type": "code",
   "execution_count": 52,
   "id": "5219d0d3-599d-4443-a3bd-f70ec4efb386",
   "metadata": {},
   "outputs": [
    {
     "data": {
      "text/plain": [
       "array([[[1, 3],\n",
       "        [2, 4]],\n",
       "\n",
       "       [[0, 0],\n",
       "        [2, 1]]], dtype=int32)"
      ]
     },
     "execution_count": 52,
     "metadata": {},
     "output_type": "execute_result"
    }
   ],
   "source": [
    "b"
   ]
  },
  {
   "cell_type": "code",
   "execution_count": 53,
   "id": "9a7c159b-33ba-414e-9d55-edcbf0681d2b",
   "metadata": {},
   "outputs": [
    {
     "data": {
      "text/plain": [
       "np.float64(0.0)"
      ]
     },
     "execution_count": 53,
     "metadata": {},
     "output_type": "execute_result"
    }
   ],
   "source": [
    "b.prod(dtype =float)"
   ]
  },
  {
   "cell_type": "code",
   "execution_count": 54,
   "id": "9098cb15-e941-4883-b193-a4c755b92790",
   "metadata": {},
   "outputs": [
    {
     "data": {
      "text/plain": [
       "array([[0, 0],\n",
       "       [4, 4]])"
      ]
     },
     "execution_count": 54,
     "metadata": {},
     "output_type": "execute_result"
    }
   ],
   "source": [
    "b.prod(axis = 0)"
   ]
  },
  {
   "cell_type": "code",
   "execution_count": 55,
   "id": "2a666d82-0d30-45bb-baac-41c7b7ddeb3c",
   "metadata": {},
   "outputs": [
    {
     "data": {
      "text/plain": [
       "array([ 1,  4,  6, 10, 10, 10, 12, 13])"
      ]
     },
     "execution_count": 55,
     "metadata": {},
     "output_type": "execute_result"
    }
   ],
   "source": [
    "b.cumsum() #cumulative sum-->adds members from first with second and then sum with third and so on"
   ]
  },
  {
   "cell_type": "code",
   "execution_count": 56,
   "id": "98940190-1eda-4576-856c-b56fbabb1700",
   "metadata": {},
   "outputs": [
    {
     "data": {
      "text/plain": [
       "np.int32(4)"
      ]
     },
     "execution_count": 56,
     "metadata": {},
     "output_type": "execute_result"
    }
   ],
   "source": [
    "b.max()"
   ]
  },
  {
   "cell_type": "code",
   "execution_count": 57,
   "id": "fe713115-5ae2-48b1-bb0c-665163e7bc71",
   "metadata": {},
   "outputs": [
    {
     "data": {
      "text/plain": [
       "array([[1, 3],\n",
       "       [2, 4]], dtype=int32)"
      ]
     },
     "execution_count": 57,
     "metadata": {},
     "output_type": "execute_result"
    }
   ],
   "source": [
    "b.max(axis = 0) #max value in row"
   ]
  },
  {
   "cell_type": "code",
   "execution_count": 58,
   "id": "90c1a1fe-6e8b-4183-b25b-11c8a46f993a",
   "metadata": {},
   "outputs": [
    {
     "data": {
      "text/plain": [
       "array([[2, 4],\n",
       "       [2, 1]], dtype=int32)"
      ]
     },
     "execution_count": 58,
     "metadata": {},
     "output_type": "execute_result"
    }
   ],
   "source": [
    "b.max(axis = 1) #max value in column"
   ]
  },
  {
   "cell_type": "code",
   "execution_count": 59,
   "id": "fbacb924-bcae-451b-9626-a7593a215a8b",
   "metadata": {},
   "outputs": [
    {
     "data": {
      "text/plain": [
       "np.int64(3)"
      ]
     },
     "execution_count": 59,
     "metadata": {},
     "output_type": "execute_result"
    }
   ],
   "source": [
    "b.argmax()#gives index of maximum value"
   ]
  },
  {
   "cell_type": "code",
   "execution_count": 60,
   "id": "aba7a84f-ac32-40dc-b632-434aa0bdc6b7",
   "metadata": {},
   "outputs": [
    {
     "data": {
      "text/plain": [
       "array([[[2.5, 3. ],\n",
       "        [2.5, 4. ]],\n",
       "\n",
       "       [[2.5, 2.5],\n",
       "        [2.5, 2.5]]])"
      ]
     },
     "execution_count": 60,
     "metadata": {},
     "output_type": "execute_result"
    }
   ],
   "source": [
    "b.clip(2.5) #provides value between 2 and 5-->lower than 2 is changed to 2 and higher than 5 is changed to 5"
   ]
  },
  {
   "cell_type": "code",
   "execution_count": 61,
   "id": "6199ed54-d049-4e9d-922c-2e48455ed12d",
   "metadata": {},
   "outputs": [],
   "source": [
    "arr1= np.random.randint(low = -10,high = 10, size = (2,3))\n",
    "arr2= np.random.randint(low = -10,high = 10, size = (2,3))\n"
   ]
  },
  {
   "cell_type": "code",
   "execution_count": 62,
   "id": "15c9ca6e-f6f7-4d9b-a50b-9b8b925a1cc9",
   "metadata": {},
   "outputs": [
    {
     "data": {
      "text/plain": [
       "(array([[ -2,  -2, -10],\n",
       "        [  1,   2,   4]], dtype=int32),\n",
       " array([[ 0,  4,  5],\n",
       "        [ 1,  2, -7]], dtype=int32))"
      ]
     },
     "execution_count": 62,
     "metadata": {},
     "output_type": "execute_result"
    }
   ],
   "source": [
    "arr1, arr2 #stacks arrow "
   ]
  },
  {
   "cell_type": "code",
   "execution_count": 63,
   "id": "1946845c-f15f-431c-9838-43af86ca6824",
   "metadata": {},
   "outputs": [
    {
     "data": {
      "text/plain": [
       "array([[ -2,  -2, -10],\n",
       "       [  1,   2,   4],\n",
       "       [  0,   4,   5],\n",
       "       [  1,   2,  -7]], dtype=int32)"
      ]
     },
     "execution_count": 63,
     "metadata": {},
     "output_type": "execute_result"
    }
   ],
   "source": [
    "np.vstack((arr1,arr2)) #same column required in vertical stack-->mostly used stack"
   ]
  },
  {
   "cell_type": "code",
   "execution_count": 64,
   "id": "6f98f87f-76ea-4e95-bc22-892777d251fc",
   "metadata": {},
   "outputs": [
    {
     "data": {
      "text/plain": [
       "array([[ -2,  -2, -10,   0,   4,   5],\n",
       "       [  1,   2,   4,   1,   2,  -7]], dtype=int32)"
      ]
     },
     "execution_count": 64,
     "metadata": {},
     "output_type": "execute_result"
    }
   ],
   "source": [
    "np.hstack((arr1,arr2)) #same column required in horizontal stack"
   ]
  },
  {
   "cell_type": "code",
   "execution_count": 65,
   "id": "89b2e837-9f25-4d1b-8b80-db6c55883c38",
   "metadata": {},
   "outputs": [
    {
     "data": {
      "text/plain": [
       "array([[ -2,  -2, -10],\n",
       "       [  1,   2,   4],\n",
       "       [  0,   4,   5],\n",
       "       [  1,   2,  -7]], dtype=int32)"
      ]
     },
     "execution_count": 65,
     "metadata": {},
     "output_type": "execute_result"
    }
   ],
   "source": [
    "np.concatenate((arr1,arr2),axis = 0) #stacks vertically"
   ]
  },
  {
   "cell_type": "code",
   "execution_count": 66,
   "id": "f387c9b2-8ea2-45c2-bf5d-f9ce3324a083",
   "metadata": {},
   "outputs": [
    {
     "data": {
      "text/plain": [
       "array([[ -2,  -2, -10,   0,   4,   5],\n",
       "       [  1,   2,   4,   1,   2,  -7]], dtype=int32)"
      ]
     },
     "execution_count": 66,
     "metadata": {},
     "output_type": "execute_result"
    }
   ],
   "source": [
    "np.concatenate((arr1,arr2),axis = 1) #stacks horizontally"
   ]
  },
  {
   "cell_type": "code",
   "execution_count": 67,
   "id": "99adf946-bc7a-4b16-9393-fafcb242d668",
   "metadata": {},
   "outputs": [
    {
     "data": {
      "text/plain": [
       "array([[[3, 6, 2, 2, 6],\n",
       "        [7, 5, 3, 7, 6],\n",
       "        [0, 5, 5, 0, 5],\n",
       "        [0, 1, 8, 1, 8],\n",
       "        [5, 3, 8, 8, 1]],\n",
       "\n",
       "       [[9, 8, 5, 9, 2],\n",
       "        [5, 9, 6, 9, 4],\n",
       "        [4, 2, 7, 7, 9],\n",
       "        [5, 0, 3, 1, 4],\n",
       "        [6, 8, 0, 6, 9]],\n",
       "\n",
       "       [[7, 1, 3, 8, 3],\n",
       "        [8, 3, 5, 9, 1],\n",
       "        [8, 4, 3, 9, 4],\n",
       "        [0, 6, 3, 3, 7],\n",
       "        [3, 1, 4, 7, 0]]], dtype=int32)"
      ]
     },
     "execution_count": 67,
     "metadata": {},
     "output_type": "execute_result"
    }
   ],
   "source": [
    "np.ceil(a) #provides ceiling value(rounds of to next integer) for float elements.-->2.3=3, 2.9 = 3, 2.01 = 3"
   ]
  },
  {
   "cell_type": "code",
   "execution_count": 68,
   "id": "bfb1fa90-d9b0-4af9-a097-c5b456f1f1d5",
   "metadata": {},
   "outputs": [
    {
     "data": {
      "text/plain": [
       "array([[[ 0.14112001, -0.2794155 ,  0.90929743,  0.90929743,\n",
       "         -0.2794155 ],\n",
       "        [ 0.6569866 , -0.95892427,  0.14112001,  0.6569866 ,\n",
       "         -0.2794155 ],\n",
       "        [ 0.        , -0.95892427, -0.95892427,  0.        ,\n",
       "         -0.95892427],\n",
       "        [ 0.        ,  0.84147098,  0.98935825,  0.84147098,\n",
       "          0.98935825],\n",
       "        [-0.95892427,  0.14112001,  0.98935825,  0.98935825,\n",
       "          0.84147098]],\n",
       "\n",
       "       [[ 0.41211849,  0.98935825, -0.95892427,  0.41211849,\n",
       "          0.90929743],\n",
       "        [-0.95892427,  0.41211849, -0.2794155 ,  0.41211849,\n",
       "         -0.7568025 ],\n",
       "        [-0.7568025 ,  0.90929743,  0.6569866 ,  0.6569866 ,\n",
       "          0.41211849],\n",
       "        [-0.95892427,  0.        ,  0.14112001,  0.84147098,\n",
       "         -0.7568025 ],\n",
       "        [-0.2794155 ,  0.98935825,  0.        , -0.2794155 ,\n",
       "          0.41211849]],\n",
       "\n",
       "       [[ 0.6569866 ,  0.84147098,  0.14112001,  0.98935825,\n",
       "          0.14112001],\n",
       "        [ 0.98935825,  0.14112001, -0.95892427,  0.41211849,\n",
       "          0.84147098],\n",
       "        [ 0.98935825, -0.7568025 ,  0.14112001,  0.41211849,\n",
       "         -0.7568025 ],\n",
       "        [ 0.        , -0.2794155 ,  0.14112001,  0.14112001,\n",
       "          0.6569866 ],\n",
       "        [ 0.14112001,  0.84147098, -0.7568025 ,  0.6569866 ,\n",
       "          0.        ]]])"
      ]
     },
     "execution_count": 68,
     "metadata": {},
     "output_type": "execute_result"
    }
   ],
   "source": [
    "np.sin(a) #provides sin value of each element of matrix"
   ]
  },
  {
   "cell_type": "code",
   "execution_count": 69,
   "id": "cd38df43-6ca2-4325-bea6-2faef4ab9c80",
   "metadata": {},
   "outputs": [
    {
     "data": {
      "text/plain": [
       "array([[[3, 6, 2, 2, 6],\n",
       "        [7, 5, 3, 7, 6],\n",
       "        [0, 5, 5, 0, 5],\n",
       "        [0, 1, 8, 1, 8],\n",
       "        [5, 3, 8, 8, 1]],\n",
       "\n",
       "       [[9, 8, 5, 9, 2],\n",
       "        [5, 9, 6, 9, 4],\n",
       "        [4, 2, 7, 7, 9],\n",
       "        [5, 0, 3, 1, 4],\n",
       "        [6, 8, 0, 6, 9]],\n",
       "\n",
       "       [[7, 1, 3, 8, 3],\n",
       "        [8, 3, 5, 9, 1],\n",
       "        [8, 4, 3, 9, 4],\n",
       "        [0, 6, 3, 3, 7],\n",
       "        [3, 1, 4, 7, 0]]], dtype=int32)"
      ]
     },
     "execution_count": 69,
     "metadata": {},
     "output_type": "execute_result"
    }
   ],
   "source": [
    "np.round(a,decimals = 3) #rounds off each elements to 3 decimal places"
   ]
  },
  {
   "cell_type": "code",
   "execution_count": 70,
   "id": "1225b4d1-0b35-420b-a9c0-faa444ceae3b",
   "metadata": {},
   "outputs": [
    {
     "data": {
      "text/plain": [
       "array([[[ 0.,  0., -0., -0., -0.],\n",
       "        [ 0.,  0., -0.,  0., -0.],\n",
       "        [ 0.,  0.,  0.,  0.,  0.],\n",
       "        [-0.,  0.,  0.,  0.,  0.],\n",
       "        [ 0.,  0.,  0., -0., -0.]],\n",
       "\n",
       "       [[ 0.,  0.,  0.,  0.,  0.],\n",
       "        [ 0.,  0.,  0.,  0.,  0.],\n",
       "        [ 0., -0.,  0.,  0.,  0.],\n",
       "        [ 0.,  0.,  0.,  0., -0.],\n",
       "        [ 0.,  0.,  0.,  0.,  0.]],\n",
       "\n",
       "       [[ 0.,  0., -0.,  0.,  0.],\n",
       "        [ 0.,  0.,  0.,  0.,  0.],\n",
       "        [ 0.,  0., -0.,  0.,  0.],\n",
       "        [ 0.,  0., -0.,  0.,  0.],\n",
       "        [-0., -0.,  0., -0., -0.]]])"
      ]
     },
     "execution_count": 70,
     "metadata": {},
     "output_type": "execute_result"
    }
   ],
   "source": [
    "np.fix(c)"
   ]
  },
  {
   "cell_type": "markdown",
   "id": "5899700a-e82a-429f-b377-5646c65da347",
   "metadata": {},
   "source": [
    "## Matrix Operation\n",
    "\n",
    "Includes:  \n",
    "            >Dot Product  \n",
    "            >Inverse  "
   ]
  },
  {
   "cell_type": "code",
   "execution_count": 75,
   "id": "d68f680d-859c-4fba-81a9-92706e12baa7",
   "metadata": {},
   "outputs": [],
   "source": [
    "d=np.dot(a,c) #must match no of column of first matrix with no of row of second matrix"
   ]
  },
  {
   "cell_type": "code",
   "execution_count": 76,
   "id": "3a344e0f-7722-4f37-82de-3a2df834e27d",
   "metadata": {},
   "outputs": [
    {
     "name": "stdout",
     "output_type": "stream",
     "text": [
      "[[[[  9.17326042   4.03627254  -3.32167059   1.70950769  -9.87844375]\n",
      "   [  9.20556908   7.66248748  14.95573541  15.5729055    7.19591334]\n",
      "   [  4.92788928   5.40456453   3.527102     5.39965616   5.50174741]]\n",
      "\n",
      "  [[ 12.23079486   7.74533891  -0.63347245   3.54902812  -7.15143875]\n",
      "   [ 16.78030671   9.11863895  22.38258577  23.30834091   5.71877503]\n",
      "   [  8.74268407   9.40822207  -2.39720657  14.01237821  12.99642422]]\n",
      "\n",
      "  [[  8.66767199   2.11680012  -1.01782001   4.69865699  -5.29370086]\n",
      "   [  6.56986599   2.82306708  11.69964284  10.47530227   9.49327837]\n",
      "   [  1.8683788    4.96982958   4.87086986   3.85500968   4.04740765]]\n",
      "\n",
      "  [[ 10.70403028   2.81115862   4.57840288   1.58170171  -0.7680932 ]\n",
      "   [  6.90223764   2.04419642  14.77750895  11.71165773   7.98432216]\n",
      "   [ -3.79498164   1.72776535   4.62914688   6.02164642   2.53393265]]\n",
      "\n",
      "  [[ 11.6343206    7.0509804    4.65802734  13.41438338   4.74256207]\n",
      "   [ 18.42665155   0.09378084  19.74688268  18.34139093   8.00713017]\n",
      "   [  9.41598361  14.03917265  -7.1874429   18.69657895  18.69122074]]]\n",
      "\n",
      "\n",
      " [[[ 15.05715672   9.53493286  -2.33913314  12.63650632  -5.62616045]\n",
      "   [ 23.35792939   6.3106767   25.96329329  26.95276536   9.94661362]\n",
      "   [ 17.28116531  18.81144828  -7.5622456   20.87353191  23.10587854]]\n",
      "\n",
      "  [[ 13.24537662   8.45093895   0.62563285  15.64452342  -3.60600601]\n",
      "   [ 22.04395619   7.22010751  25.18725986  25.93186381  11.8452693 ]\n",
      "   [ 12.94060559  15.68272777  -1.91090354  17.72792864  19.20112459]]\n",
      "\n",
      "  [[ 12.89990982   7.07346348   5.97917649   3.61177775  -1.04035419]\n",
      "   [ 15.46633351   7.15960577  23.33384813  21.98874011   6.38788999]\n",
      "   [  1.10060713   5.25139329   0.64996176  13.66006912   9.4241719 ]]\n",
      "\n",
      "  [[  9.04374196   3.46055097  -1.07387956  -3.90245905  -4.86151331]\n",
      "   [  6.24525104   2.48450075  11.49407473  10.39050161   2.44847678]\n",
      "   [  2.48406128   3.84567791  -2.54639943   6.99818841   5.30446013]]\n",
      "\n",
      "  [[ 11.26567074   7.34446196  -3.8693703    0.67988201 -14.30001282]\n",
      "   [ 15.13396186  14.80005568  22.70720073  25.28998213   6.23837298]\n",
      "   [  7.88651304   6.35870291   3.44014811   9.11883105   8.3227394 ]]]\n",
      "\n",
      "\n",
      " [[[  9.06654996   7.16961734   2.87967493   3.45772621  -0.05597591]\n",
      "   [ 15.14171856   5.15439122  17.88721302  18.259515     1.48192654]\n",
      "   [  7.19677858   8.18255985  -6.84950896  15.12761566  13.29587191]]\n",
      "\n",
      "  [[ 11.59508756   8.27609432   2.06056183   9.40544186   0.8841877 ]\n",
      "   [ 19.4160098    3.19966684  20.84753107  20.9145812    4.99982239]\n",
      "   [ 12.10181833  14.18029266  -9.50538473  19.53804994  19.5883898 ]]\n",
      "\n",
      "  [[ 11.42496665   8.55833434   0.90288239   5.69943243  -3.65911726]\n",
      "   [ 18.7590232    7.85328259  22.34598865  23.45622817   4.17058578]\n",
      "   [ 10.53852907  11.13624063  -6.0100223   17.0223286   16.15637406]]\n",
      "\n",
      "  [[  7.24718609   3.49427558   0.41127282   4.91964658  -6.11212858]\n",
      "   [  8.88095413   7.80374087  14.32758924  14.69989121   7.82579527]\n",
      "   [  1.48525206   3.10594007   6.68651482   4.1431168    3.3431542 ]]\n",
      "\n",
      "  [[  5.06147445   4.82678489   4.98634595   9.28164819   5.71775702]\n",
      "   [ 12.18140052   0.69309792  11.58985147  11.34831656   2.67063947]\n",
      "   [  5.50975308   7.78743438  -5.53822482  12.39649889  11.86115724]]]]\n"
     ]
    }
   ],
   "source": [
    "print(d)"
   ]
  },
  {
   "cell_type": "code",
   "execution_count": 78,
   "id": "e7fab5b6-e0f9-4fbc-8186-b30969600359",
   "metadata": {},
   "outputs": [
    {
     "data": {
      "text/plain": [
       "array([[[[  9.17326042,  15.05715672,   9.06654996],\n",
       "         [ 12.23079486,  13.24537662,  11.59508756],\n",
       "         [  8.66767199,  12.89990982,  11.42496665],\n",
       "         [ 10.70403028,   9.04374196,   7.24718609],\n",
       "         [ 11.6343206 ,  11.26567074,   5.06147445]],\n",
       "\n",
       "        [[  9.20556908,  23.35792939,  15.14171856],\n",
       "         [ 16.78030671,  22.04395619,  19.4160098 ],\n",
       "         [  6.56986599,  15.46633351,  18.7590232 ],\n",
       "         [  6.90223764,   6.24525104,   8.88095413],\n",
       "         [ 18.42665155,  15.13396186,  12.18140052]],\n",
       "\n",
       "        [[  4.92788928,  17.28116531,   7.19677858],\n",
       "         [  8.74268407,  12.94060559,  12.10181833],\n",
       "         [  1.8683788 ,   1.10060713,  10.53852907],\n",
       "         [ -3.79498164,   2.48406128,   1.48525206],\n",
       "         [  9.41598361,   7.88651304,   5.50975308]]],\n",
       "\n",
       "\n",
       "       [[[  4.03627254,   9.53493286,   7.16961734],\n",
       "         [  7.74533891,   8.45093895,   8.27609432],\n",
       "         [  2.11680012,   7.07346348,   8.55833434],\n",
       "         [  2.81115862,   3.46055097,   3.49427558],\n",
       "         [  7.0509804 ,   7.34446196,   4.82678489]],\n",
       "\n",
       "        [[  7.66248748,   6.3106767 ,   5.15439122],\n",
       "         [  9.11863895,   7.22010751,   3.19966684],\n",
       "         [  2.82306708,   7.15960577,   7.85328259],\n",
       "         [  2.04419642,   2.48450075,   7.80374087],\n",
       "         [  0.09378084,  14.80005568,   0.69309792]],\n",
       "\n",
       "        [[  5.40456453,  18.81144828,   8.18255985],\n",
       "         [  9.40822207,  15.68272777,  14.18029266],\n",
       "         [  4.96982958,   5.25139329,  11.13624063],\n",
       "         [  1.72776535,   3.84567791,   3.10594007],\n",
       "         [ 14.03917265,   6.35870291,   7.78743438]]],\n",
       "\n",
       "\n",
       "       [[[ -3.32167059,  -2.33913314,   2.87967493],\n",
       "         [ -0.63347245,   0.62563285,   2.06056183],\n",
       "         [ -1.01782001,   5.97917649,   0.90288239],\n",
       "         [  4.57840288,  -1.07387956,   0.41127282],\n",
       "         [  4.65802734,  -3.8693703 ,   4.98634595]],\n",
       "\n",
       "        [[ 14.95573541,  25.96329329,  17.88721302],\n",
       "         [ 22.38258577,  25.18725986,  20.84753107],\n",
       "         [ 11.69964284,  23.33384813,  22.34598865],\n",
       "         [ 14.77750895,  11.49407473,  14.32758924],\n",
       "         [ 19.74688268,  22.70720073,  11.58985147]],\n",
       "\n",
       "        [[  3.527102  ,  -7.5622456 ,  -6.84950896],\n",
       "         [ -2.39720657,  -1.91090354,  -9.50538473],\n",
       "         [  4.87086986,   0.64996176,  -6.0100223 ],\n",
       "         [  4.62914688,  -2.54639943,   6.68651482],\n",
       "         [ -7.1874429 ,   3.44014811,  -5.53822482]]],\n",
       "\n",
       "\n",
       "       [[[  1.70950769,  12.63650632,   3.45772621],\n",
       "         [  3.54902812,  15.64452342,   9.40544186],\n",
       "         [  4.69865699,   3.61177775,   5.69943243],\n",
       "         [  1.58170171,  -3.90245905,   4.91964658],\n",
       "         [ 13.41438338,   0.67988201,   9.28164819]],\n",
       "\n",
       "        [[ 15.5729055 ,  26.95276536,  18.259515  ],\n",
       "         [ 23.30834091,  25.93186381,  20.9145812 ],\n",
       "         [ 10.47530227,  21.98874011,  23.45622817],\n",
       "         [ 11.71165773,  10.39050161,  14.69989121],\n",
       "         [ 18.34139093,  25.28998213,  11.34831656]],\n",
       "\n",
       "        [[  5.39965616,  20.87353191,  15.12761566],\n",
       "         [ 14.01237821,  17.72792864,  19.53804994],\n",
       "         [  3.85500968,  13.66006912,  17.0223286 ],\n",
       "         [  6.02164642,   6.99818841,   4.1431168 ],\n",
       "         [ 18.69657895,   9.11883105,  12.39649889]]],\n",
       "\n",
       "\n",
       "       [[[ -9.87844375,  -5.62616045,  -0.05597591],\n",
       "         [ -7.15143875,  -3.60600601,   0.8841877 ],\n",
       "         [ -5.29370086,  -1.04035419,  -3.65911726],\n",
       "         [ -0.7680932 ,  -4.86151331,  -6.11212858],\n",
       "         [  4.74256207, -14.30001282,   5.71775702]],\n",
       "\n",
       "        [[  7.19591334,   9.94661362,   1.48192654],\n",
       "         [  5.71877503,  11.8452693 ,   4.99982239],\n",
       "         [  9.49327837,   6.38788999,   4.17058578],\n",
       "         [  7.98432216,   2.44847678,   7.82579527],\n",
       "         [  8.00713017,   6.23837298,   2.67063947]],\n",
       "\n",
       "        [[  5.50174741,  23.10587854,  13.29587191],\n",
       "         [ 12.99642422,  19.20112459,  19.5883898 ],\n",
       "         [  4.04740765,   9.4241719 ,  16.15637406],\n",
       "         [  2.53393265,   5.30446013,   3.3431542 ],\n",
       "         [ 18.69122074,   8.3227394 ,  11.86115724]]]])"
      ]
     },
     "execution_count": 78,
     "metadata": {},
     "output_type": "execute_result"
    }
   ],
   "source": [
    "np.transpose(d) #changes row to column and vice versa"
   ]
  },
  {
   "cell_type": "code",
   "execution_count": 81,
   "id": "0dedc05b-ae75-48d3-bce0-9eaf5280f748",
   "metadata": {},
   "outputs": [
    {
     "data": {
      "text/plain": [
       "array([3, 4])"
      ]
     },
     "execution_count": 81,
     "metadata": {},
     "output_type": "execute_result"
    }
   ],
   "source": [
    "np.trace(b) #sum of elements in main diagonal"
   ]
  },
  {
   "cell_type": "code",
   "execution_count": null,
   "id": "5d85cd0c-b408-4797-9617-ea4afe58201e",
   "metadata": {},
   "outputs": [],
   "source": []
  },
  {
   "cell_type": "code",
   "execution_count": 89,
   "id": "58fb6f39-2875-47ac-a7ac-608ee7ca7fe3",
   "metadata": {},
   "outputs": [],
   "source": [
    "#solving equations: x+2y = 1, 3x+5y = 2\n",
    "arrx = np.array([[1,2],\n",
    "             [3,5]])\n",
    "arry = np.array([1,2])\n"
   ]
  },
  {
   "cell_type": "code",
   "execution_count": 91,
   "id": "0f073277-2445-4fd5-8ea2-4fdc5a4d5fc5",
   "metadata": {},
   "outputs": [
    {
     "data": {
      "text/plain": [
       "array([-1.,  1.])"
      ]
     },
     "execution_count": 91,
     "metadata": {},
     "output_type": "execute_result"
    }
   ],
   "source": [
    "#solves the linear equations and give value of x and y\n",
    "np.linalg.solve(arrx,arry)"
   ]
  },
  {
   "cell_type": "code",
   "execution_count": null,
   "id": "f41db5bf-cc34-40a8-b982-469c74f80d93",
   "metadata": {},
   "outputs": [],
   "source": []
  }
 ],
 "metadata": {
  "kernelspec": {
   "display_name": "Python 3 (ipykernel)",
   "language": "python",
   "name": "python3"
  },
  "language_info": {
   "codemirror_mode": {
    "name": "ipython",
    "version": 3
   },
   "file_extension": ".py",
   "mimetype": "text/x-python",
   "name": "python",
   "nbconvert_exporter": "python",
   "pygments_lexer": "ipython3",
   "version": "3.13.1"
  }
 },
 "nbformat": 4,
 "nbformat_minor": 5
}
